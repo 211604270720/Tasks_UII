{
  "nbformat": 4,
  "nbformat_minor": 0,
  "metadata": {
    "colab": {
      "provenance": [],
      "gpuType": "T4"
    },
    "kernelspec": {
      "name": "python3",
      "display_name": "Python 3"
    },
    "language_info": {
      "name": "python"
    },
    "accelerator": "GPU"
  },
  "cells": [
    {
      "cell_type": "markdown",
      "source": [
        "Возьмите видео с ютуб, аудио-файл и текстовый документ по ссылкам, транскрибируйте видео и аудио -дорожку, полученные тексты соедините с текстовым документом, на основе получившегося текста создайте нейро-консультанта для ответов на вопросы по данным материалам, а также краткую методичку.\n",
        "\n",
        "Видео: https://www.youtube.com/watch?v=LRuszWRN4uI&list=PLv_mO3iQ2o2fZllHFsEniuy1D-2IXr8eU Python в вопросах и ответах\n",
        "\n",
        "Аудио: https://drive.google.com/file/d/1TLsB8EEMqATs18Iwacw5H3nceOFeO7ND/view?usp=sharing ООП в Пайтон\n",
        "\n",
        "Текст: https://docs.google.com/document/d/1GwrAY4NoqPImiSMola-14ykVB5K-8iDlivWzvuEnMfA/edit?usp=sharing Объяснение алгоритмов сортировки с примерами на Python\n",
        "\n",
        "P.S. аудио-файлы для обработки whisper стоит сохранить с именем на латинице и без пробелов в названии."
      ],
      "metadata": {
        "id": "CT0jE0Wip3OS"
      }
    },
    {
      "cell_type": "code",
      "execution_count": null,
      "metadata": {
        "id": "5lnfPNAhDJk6"
      },
      "outputs": [],
      "source": [
        "# указываем ссылку для получения аудио-дорожки из видео\n",
        "yt_urls = ['https://www.youtube.com/watch?v=LRuszWRN4uI&list=PLv_mO3iQ2o2fZllHFsEniuy1D-2IXr8eU']\n",
        "YouTube_video_title = \"Python in Questions and Answers\""
      ]
    },
    {
      "cell_type": "code",
      "source": [
        "!pip install -q git+https://github.com/ytdl-org/youtube-dl.git\n",
        "!pip install -q git+https://github.com/openai/whisper.git"
      ],
      "metadata": {
        "id": "IpuJ1EFMsXrA",
        "colab": {
          "base_uri": "https://localhost:8080/"
        },
        "outputId": "6f2a540d-9389-4453-8111-fc4bd49cb305"
      },
      "execution_count": null,
      "outputs": [
        {
          "output_type": "stream",
          "name": "stdout",
          "text": [
            "  Preparing metadata (setup.py) ... \u001b[?25l\u001b[?25hdone\n",
            "  Installing build dependencies ... \u001b[?25l\u001b[?25hdone\n",
            "  Getting requirements to build wheel ... \u001b[?25l\u001b[?25hdone\n",
            "  Preparing metadata (pyproject.toml) ... \u001b[?25l\u001b[?25hdone\n"
          ]
        }
      ]
    },
    {
      "cell_type": "code",
      "source": [
        "!pip install -q tiktoken==0.4.0 openai==0.28.0 langchain==0.0.281 faiss-cpu==1.7.4\n",
        "!pip install -q pydub\n",
        "!pip install -qq python-docx\n",
        "!pip install -U pytube\n",
        "from IPython.display import clear_output\n",
        "clear_output()"
      ],
      "metadata": {
        "id": "YhSNcXPGXaVC"
      },
      "execution_count": null,
      "outputs": []
    },
    {
      "cell_type": "code",
      "source": [
        "import whisper\n",
        "import os\n",
        "import gdown\n",
        "import requests\n",
        "import re\n",
        "import time\n",
        "from IPython.display import HTML, clear_output\n",
        "import subprocess\n",
        "from pathlib import Path\n",
        "import json\n",
        "from pytube import YouTube\n",
        "import tiktoken\n",
        "from docx import Document\n",
        "from docx.enum.text import WD_PARAGRAPH_ALIGNMENT\n",
        "import ipywidgets as widgets\n",
        "from IPython.display import display\n",
        "from tqdm.auto import tqdm\n",
        "import getpass\n",
        "import pickle\n",
        "from urllib.request import urlopen\n",
        "import openai\n",
        "import subprocess\n",
        "import codecs\n",
        "from langchain.chains import ConversationChain         # Импортируем класс для создания цепочек диалогов\n",
        "from langchain.chat_models import ChatOpenAI           # Импортируем класс для работы с чатами на базе OpenAI\n",
        "from langchain.llms import OpenAI\n",
        "from langchain.memory import ConversationBufferMemory  # Импортируем класс для управления памятью диалогов\n",
        "from langchain.text_splitter import MarkdownHeaderTextSplitter, Document, RecursiveCharacterTextSplitter\n",
        "from langchain.schema import (\n",
        "    AIMessage,\n",
        "    HumanMessage,\n",
        "    SystemMessage\n",
        ")\n",
        "import urllib\n",
        "from pydub import AudioSegment\n",
        "from google.colab import drive\n",
        "from langchain.embeddings.openai import OpenAIEmbeddings\n",
        "from langchain.vectorstores import FAISS"
      ],
      "metadata": {
        "id": "WzKd-6qesXwH",
        "colab": {
          "base_uri": "https://localhost:8080/",
          "height": 17
        },
        "outputId": "32dc0f00-3547-4711-d7da-e48f4ac39c14"
      },
      "execution_count": null,
      "outputs": [
        {
          "output_type": "display_data",
          "data": {
            "text/plain": [
              "<IPython.core.display.HTML object>"
            ],
            "text/html": [
              "\n",
              "    <style>\n",
              "    pre {\n",
              "        white-space: pre-wrap;\n",
              "    }\n",
              "    </style>\n",
              "    "
            ]
          },
          "metadata": {}
        },
        {
          "output_type": "display_data",
          "data": {
            "text/plain": [
              "<IPython.core.display.HTML object>"
            ],
            "text/html": [
              "\n",
              "    <style>\n",
              "    pre {\n",
              "        white-space: pre-wrap;\n",
              "    }\n",
              "    </style>\n",
              "    "
            ]
          },
          "metadata": {}
        }
      ]
    },
    {
      "cell_type": "code",
      "source": [
        "openai_key = getpass.getpass(\"OpenAI API Key:\")\n",
        "os.environ[\"OPENAI_API_KEY\"] = openai_key\n",
        "openai.api_key = openai_key"
      ],
      "metadata": {
        "id": "Yutk_3Y7HhEb",
        "colab": {
          "base_uri": "https://localhost:8080/"
        },
        "outputId": "a93ae775-c6c0-48f9-c55f-1b34d72d2e63"
      },
      "execution_count": null,
      "outputs": [
        {
          "name": "stdout",
          "output_type": "stream",
          "text": [
            "OpenAI API Key:··········\n"
          ]
        }
      ]
    },
    {
      "cell_type": "code",
      "source": [
        "# Получаем первую (и единственную) ссылку из списка yt_urls\n",
        "url = yt_urls[0]\n",
        "\n",
        "# Используем youtube-dl для получения имени файла, который будет сохранен\n",
        "file_name = !youtube-dl $url -f 'bestaudio[ext=m4a]' --get-filename -o 'tmp/%(title)s.m4a'\n",
        "\n",
        "# Загружаем аудио с лучшим качеством (в формате m4a)\n",
        "!youtube-dl $url -f 'bestaudio[ext=m4a]' -o 'tmp/%(title)s.m4a'"
      ],
      "metadata": {
        "id": "sHCNzQnkH1ZP",
        "colab": {
          "base_uri": "https://localhost:8080/"
        },
        "outputId": "8a12f429-3252-4b8e-d2c1-73f848532bf1"
      },
      "execution_count": null,
      "outputs": [
        {
          "output_type": "stream",
          "name": "stdout",
          "text": [
            "/bin/bash: line 1: -f: command not found\n",
            "[youtube] LRuszWRN4uI: Downloading webpage\n",
            "\u001b[0;33mWARNING:\u001b[0m Requested formats are incompatible for merge and will be merged into mkv.\n",
            "[download] Изучаем Python _ 1 глава - 'Python в вопросах и ответах' с Алексеем Трояновым-LRuszWRN4uI.mkv has already been downloaded and merged\n"
          ]
        }
      ]
    },
    {
      "cell_type": "code",
      "source": [
        "!apt install ffmpeg"
      ],
      "metadata": {
        "colab": {
          "base_uri": "https://localhost:8080/"
        },
        "id": "0BH3xx0V6g6i",
        "outputId": "2e6c2017-e904-4737-a84b-e7431ccacbf2"
      },
      "execution_count": null,
      "outputs": [
        {
          "output_type": "stream",
          "name": "stdout",
          "text": [
            "Reading package lists... Done\n",
            "Building dependency tree... Done\n",
            "Reading state information... Done\n",
            "ffmpeg is already the newest version (7:4.4.2-0ubuntu0.22.04.1).\n",
            "0 upgraded, 0 newly installed, 0 to remove and 24 not upgraded.\n"
          ]
        }
      ]
    },
    {
      "cell_type": "code",
      "source": [
        "# Переименуем файл\n",
        "os.rename(\"Изучаем Python _ 1 глава - 'Python в вопросах и ответах' с Алексеем Трояновым-LRuszWRN4uI.mkv\", 'Copy_Python_in_Questions_and_Answers.mkv')"
      ],
      "metadata": {
        "id": "fb9_aM3d69EA"
      },
      "execution_count": null,
      "outputs": []
    },
    {
      "cell_type": "code",
      "source": [
        "# Конвертируем файл из формата mkv в формат m4a\n",
        "!ffmpeg -i '/content/Copy_Python_in_Questions_and_Answers.mkv' -vn -acodec copy '/content/Python_in_Questions_and_Answers.m4a'\n"
      ],
      "metadata": {
        "colab": {
          "base_uri": "https://localhost:8080/"
        },
        "id": "9ilClFbx6lNa",
        "outputId": "28163002-4af5-43da-ac28-7415b322005b"
      },
      "execution_count": null,
      "outputs": [
        {
          "output_type": "stream",
          "name": "stdout",
          "text": [
            "ffmpeg version 4.4.2-0ubuntu0.22.04.1 Copyright (c) 2000-2021 the FFmpeg developers\n",
            "  built with gcc 11 (Ubuntu 11.2.0-19ubuntu1)\n",
            "  configuration: --prefix=/usr --extra-version=0ubuntu0.22.04.1 --toolchain=hardened --libdir=/usr/lib/x86_64-linux-gnu --incdir=/usr/include/x86_64-linux-gnu --arch=amd64 --enable-gpl --disable-stripping --enable-gnutls --enable-ladspa --enable-libaom --enable-libass --enable-libbluray --enable-libbs2b --enable-libcaca --enable-libcdio --enable-libcodec2 --enable-libdav1d --enable-libflite --enable-libfontconfig --enable-libfreetype --enable-libfribidi --enable-libgme --enable-libgsm --enable-libjack --enable-libmp3lame --enable-libmysofa --enable-libopenjpeg --enable-libopenmpt --enable-libopus --enable-libpulse --enable-librabbitmq --enable-librubberband --enable-libshine --enable-libsnappy --enable-libsoxr --enable-libspeex --enable-libsrt --enable-libssh --enable-libtheora --enable-libtwolame --enable-libvidstab --enable-libvorbis --enable-libvpx --enable-libwebp --enable-libx265 --enable-libxml2 --enable-libxvid --enable-libzimg --enable-libzmq --enable-libzvbi --enable-lv2 --enable-omx --enable-openal --enable-opencl --enable-opengl --enable-sdl2 --enable-pocketsphinx --enable-librsvg --enable-libmfx --enable-libdc1394 --enable-libdrm --enable-libiec61883 --enable-chromaprint --enable-frei0r --enable-libx264 --enable-shared\n",
            "  libavutil      56. 70.100 / 56. 70.100\n",
            "  libavcodec     58.134.100 / 58.134.100\n",
            "  libavformat    58. 76.100 / 58. 76.100\n",
            "  libavdevice    58. 13.100 / 58. 13.100\n",
            "  libavfilter     7.110.100 /  7.110.100\n",
            "  libswscale      5.  9.100 /  5.  9.100\n",
            "  libswresample   3.  9.100 /  3.  9.100\n",
            "  libpostproc    55.  9.100 / 55.  9.100\n",
            "Input #0, matroska,webm, from '/content/Copy_Python_in_Questions_and_Answers.mkv':\n",
            "  Metadata:\n",
            "    ENCODER         : Lavf58.76.100\n",
            "  Duration: 00:36:05.08, start: 0.000000, bitrate: 409 kb/s\n",
            "  Stream #0:0(eng): Video: vp9 (Profile 0), yuv420p(tv, bt709), 1920x1080, SAR 1:1 DAR 16:9, 25 fps, 25 tbr, 1k tbn, 1k tbc (default)\n",
            "    Metadata:\n",
            "      DURATION        : 00:36:05.040000000\n",
            "  Stream #0:1: Audio: aac (LC), 44100 Hz, stereo, fltp (default)\n",
            "    Metadata:\n",
            "      HANDLER_NAME    : ISO Media file produced by Google Inc.\n",
            "      VENDOR_ID       : [0][0][0][0]\n",
            "      DURATION        : 00:36:05.075000000\n",
            "Output #0, ipod, to '/content/Python_in_Questions_and_Answers.m4a':\n",
            "  Metadata:\n",
            "    encoder         : Lavf58.76.100\n",
            "  Stream #0:0: Audio: aac (LC) (mp4a / 0x6134706D), 44100 Hz, stereo, fltp (default)\n",
            "    Metadata:\n",
            "      HANDLER_NAME    : ISO Media file produced by Google Inc.\n",
            "      VENDOR_ID       : [0][0][0][0]\n",
            "      DURATION        : 00:36:05.075000000\n",
            "Stream mapping:\n",
            "  Stream #0:1 -> #0:0 (copy)\n",
            "Press [q] to stop, [?] for help\n",
            "size=       0kB time=00:00:00.00 bitrate=N/A speed=N/A    \rsize=   34195kB time=00:36:05.05 bitrate= 129.4kbits/s speed=5.17e+03x    \n",
            "video:0kB audio:33829kB subtitle:0kB other streams:0kB global headers:0kB muxing overhead: 1.079685%\n"
          ]
        }
      ]
    },
    {
      "cell_type": "code",
      "source": [
        "def transcribe_audio_whisper_chunked(audio_path, file_title, save_folder_path, max_duration=5 * 60 * 1000):  # 5 минут\n",
        "    \"\"\"\n",
        "    Транскрибирует аудиофайл по частям, чтобы соответствовать ограничениям размера API.\n",
        "    \"\"\"\n",
        "    # Создаем каталог для сохранения результатов, если он не существует\n",
        "    os.makedirs(save_folder_path, exist_ok=True)\n",
        "    # Загружаем аудиофайл\n",
        "    audio = AudioSegment.from_file(audio_path)\n",
        "    # Создаем временную папку для хранения частей аудио\n",
        "    temp_dir = os.path.join(save_folder_path, \"temp_audio_chunks\")\n",
        "    os.makedirs(temp_dir, exist_ok=True)\n",
        "\n",
        "    # Инициализируем переменные для обработки аудио по частям\n",
        "    current_start_time = 0    # Текущее время начала фрагмента\n",
        "    chunk_index = 1           # Индекс текущего фрагмента\n",
        "    transcriptions = []       # Список для сохранения транскрибаций каждого фрагмента\n",
        "\n",
        "    # Цикл по всему аудио\n",
        "    while current_start_time < len(audio):\n",
        "        # Вырезаем часть аудиофайла длительностью не более max_duration\n",
        "        chunk = audio[current_start_time:current_start_time + max_duration]\n",
        "        # Формируем имя файла для части аудио\n",
        "        chunk_name = f\"chunk_{chunk_index}.wav\"\n",
        "        # Путь к файлу части аудио\n",
        "        chunk_path = os.path.join(temp_dir, chunk_name)\n",
        "        # Экспортируем часть аудио в файл\n",
        "        chunk.export(chunk_path, format=\"wav\")\n",
        "\n",
        "        # Проверяем размер файла перед отправкой\n",
        "        if os.path.getsize(chunk_path) > 26214400:\n",
        "            print(f\"Chunk {chunk_index} exceeds the maximum size limit for the API. Trying a smaller duration...\")\n",
        "            max_duration = int(max_duration * 0.9)  # Попробуем уменьшить на 10% и попробовать снова\n",
        "            os.remove(chunk_path)   # Удаляем слишком большой файл\n",
        "            continue  # Пропускаем текущий кусок и пытаемся снова с меньшей длительностью\n",
        "\n",
        "        # Процесс транскрибации фрагмента\n",
        "        with open(chunk_path, \"rb\") as src_file:\n",
        "            print(f\"Transcribing {chunk_name}...\")\n",
        "            try:\n",
        "                # Вызов API для транскрибации аудио\n",
        "                transcription = openai.Audio.transcribe(\"whisper-1\", src_file)\n",
        "                # Добавляем результат транскрибации в список\n",
        "                transcriptions.append(transcription[\"text\"])\n",
        "            except openai.error.APIError as e:\n",
        "                print(f\"An error occurred: {e}\")\n",
        "                break   # В случае ошибки API прерываем цикл\n",
        "\n",
        "        # Удаляем обработанный фрагмент\n",
        "        os.remove(chunk_path)\n",
        "        # Переходим к следующему фрагменту аудио\n",
        "        current_start_time += max_duration\n",
        "        chunk_index += 1\n",
        "    # Удаляем временную папку с фрагментами аудио\n",
        "    os.rmdir(temp_dir)\n",
        "\n",
        "    # Формируем путь к файлу, в который будет сохранена итоговая транскрибация\n",
        "    result_path = os.path.join(save_folder_path, f\"{file_title}.txt\")\n",
        "    with open(result_path, \"w\") as txt_file:\n",
        "        # Сохраняем все транскрибации в один файл, разделяя их переносами строк\n",
        "        txt_file.write(\"\\n\".join(transcriptions))\n",
        "    # Выводим сообщение об успешном сохранении транскрибации\n",
        "    print(f\"Transcribe saved to {result_path}\")\n",
        "\n",
        "# Задаем исходные параметры и вызываем функцию\n",
        "audio_path = '/content/Python_in_Questions_and_Answers.m4a'\n",
        "file_title = 'Python_in_Questions_and_Answers'\n",
        "save_folder_path = '/content'\n",
        "\n",
        "# Вызов функции для транскрибации аудиофайла\n",
        "transcribe_audio_whisper_chunked(audio_path, file_title, save_folder_path)"
      ],
      "metadata": {
        "id": "Dk2BQ0R6IHvN",
        "colab": {
          "base_uri": "https://localhost:8080/"
        },
        "outputId": "b962c41f-8bc7-41a8-8a6f-d0df1f83c87e"
      },
      "execution_count": null,
      "outputs": [
        {
          "output_type": "stream",
          "name": "stdout",
          "text": [
            "Chunk 1 exceeds the maximum size limit for the API. Trying a smaller duration...\n",
            "Chunk 1 exceeds the maximum size limit for the API. Trying a smaller duration...\n",
            "Chunk 1 exceeds the maximum size limit for the API. Trying a smaller duration...\n",
            "Chunk 1 exceeds the maximum size limit for the API. Trying a smaller duration...\n",
            "Chunk 1 exceeds the maximum size limit for the API. Trying a smaller duration...\n",
            "Chunk 1 exceeds the maximum size limit for the API. Trying a smaller duration...\n",
            "Chunk 1 exceeds the maximum size limit for the API. Trying a smaller duration...\n",
            "Transcribing chunk_1.wav...\n",
            "Transcribing chunk_2.wav...\n",
            "Transcribing chunk_3.wav...\n",
            "Transcribing chunk_4.wav...\n",
            "Transcribing chunk_5.wav...\n",
            "Transcribing chunk_6.wav...\n",
            "Transcribing chunk_7.wav...\n",
            "Transcribing chunk_8.wav...\n",
            "Transcribing chunk_9.wav...\n",
            "Transcribing chunk_10.wav...\n",
            "Transcribing chunk_11.wav...\n",
            "Transcribing chunk_12.wav...\n",
            "Transcribing chunk_13.wav...\n",
            "Transcribing chunk_14.wav...\n",
            "Transcribing chunk_15.wav...\n",
            "Transcribing chunk_16.wav...\n",
            "Transcribe saved to /content/Python in Questions and Answers.txt\n"
          ]
        }
      ]
    },
    {
      "cell_type": "code",
      "source": [
        "# Подключаемся к гугл диску\n",
        "drive.mount('/content/drive')"
      ],
      "metadata": {
        "colab": {
          "base_uri": "https://localhost:8080/"
        },
        "id": "qM6_Kfs4AkS6",
        "outputId": "98b4f5c1-d97a-488f-9f41-91298b0430a6"
      },
      "execution_count": null,
      "outputs": [
        {
          "output_type": "stream",
          "name": "stdout",
          "text": [
            "Mounted at /content/drive\n"
          ]
        }
      ]
    },
    {
      "cell_type": "code",
      "source": [
        "%%time\n",
        "!whisper \"/content/drive/MyDrive/OOP_in_Python.m4a\" --model large --language Russian"
      ],
      "metadata": {
        "id": "1bc5lGozIYRP",
        "colab": {
          "base_uri": "https://localhost:8080/"
        },
        "outputId": "8f347131-2009-4e56-efad-c87df188ccf5"
      },
      "execution_count": null,
      "outputs": [
        {
          "output_type": "stream",
          "name": "stdout",
          "text": [
            "100%|██████████████████████████████████████| 2.88G/2.88G [00:30<00:00, 102MiB/s]\n",
            "[00:00.220 --> 00:09.980]  Хаудихо, друзья! В комментариях все уже давно просят сделать ролик про ООП и объяснить, что же это такое и для чего оно вообще нужно.\n",
            "[00:10.260 --> 00:15.800]  Так что давайте познакомимся с, казалось бы, такой страшной штукой, как ООП.\n",
            "[00:15.960 --> 00:26.900]  Хотя на самом деле в этом нет ничего сложного, потому что ООП было придумано лишь для того, чтобы облегчить жизнь программистам, но никак не наоборот.\n",
            "[00:26.900 --> 00:34.940]  И если вы вспомните, как начинали учиться программировать, то вас скорее всего учили писать код в процедурном стиле.\n",
            "[00:35.060 --> 00:44.660]  Это значит, что код, который вы писали, выполнялся последовательно и состоял преимущественно из всевозможных подпрограмм или же обычных функций.\n",
            "[00:44.820 --> 00:49.820]  Так вот, до изобретения ООП таким образом код писали по сути все.\n",
            "[00:49.820 --> 00:56.880]  И прикол тут в том, что пока ваша программа маленькая, процедурный стиль никак не мешает ее поддерживать.\n",
            "[00:56.940 --> 00:58.520]  Или как-то модифицировать.\n",
            "[00:58.600 --> 01:05.880]  То есть в коде условно всего 200-300 строчек кода, который легко читается и запутаться в нем по сути нельзя.\n",
            "[01:06.260 --> 01:11.280]  Но программисты очень быстро столкнулись с тем, что программы стали большими.\n",
            "[01:11.420 --> 01:18.960]  И вот когда в такой условной программе где-то 10 тысяч строк кода, то читать такой код становится уже невозможно.\n",
            "[01:18.960 --> 01:25.900]  И даже если сильно постараться все хорошо закомментировать и попробовать разбить этот код на файлы,\n",
            "[01:25.900 --> 01:28.640]  все равно останется масса проблем.\n",
            "[01:28.860 --> 01:36.340]  И вот для решения всей этой каши была придумана ООП или же Объектно Ориентированное Программирование.\n",
            "[01:36.720 --> 01:41.680]  Основная идея которого лежит в основе того, что все состоит из объектов.\n",
            "[01:41.680 --> 01:45.880]  В отличии, например, от того же процедурного программирования,\n",
            "[01:45.880 --> 01:52.800]  где каждая программа это один большой кусок кода, состоящий из множества переменных блоков и функций.\n",
            "[01:52.980 --> 01:54.440]  То есть любая\n",
            "[01:54.520 --> 01:55.780]  объектно ориентированная программа\n",
            "[01:55.780 --> 02:03.120]  Программа — это всегда набор компонентов, взаимодействующих друг с другом, и все они называются объектами.\n",
            "[02:03.360 --> 02:14.760]  При этом здесь важно понимать то, что программист создает объекты таким образом, чтобы они все участвовали в выполнении задачи, но при этом каждый из них был бы обособленным.\n",
            "[02:14.860 --> 02:23.100]  То есть каждый объект в программе отвечает только за себя и является полностью автономным самостоятельным компонентом.\n",
            "[02:23.100 --> 02:34.720]  Дальше каждый такой объект может быть представлением чего-то реального, например клиент магазина или товар, которые могут являться частью целого интернет-магазина.\n",
            "[02:34.920 --> 02:40.380]  Либо объект может представлять что-то абстрактное, что существует только в компьютере.\n",
            "[02:40.540 --> 02:46.420]  Условно это может быть какая-то структура данных, точка на экране или что-то в таком духе.\n",
            "[02:46.420 --> 02:52.620]  Но для программы это все не более чем просто набор объектов, каждый из которых общается с программой.\n",
            "[02:53.100 --> 02:58.800]  И взаимодействует с другими объектами посредством своего публичного интерфейса.\n",
            "[02:58.960 --> 03:03.000]  А вот вся его внутренняя реализация, она полностью скрыта.\n",
            "[03:03.180 --> 03:06.460]  И такой механизм называется инкапсуляция.\n",
            "[03:06.660 --> 03:12.220]  То есть реализация объекта и его данные скрываются от других компонентов.\n",
            "[03:12.420 --> 03:22.600]  Это бывает полезно тогда, когда к примеру доступ к какой-то переменной нужно предоставлять не напрямую, а с помощью специальных методов для чтения и записи.\n",
            "[03:22.600 --> 03:35.140]  Да и вообще, если хорошо продумать и спроектировать всю программу, то благодаря инкапсуляции можно будет работать над каждой ее частью отдельно, не охватывая умом всю программу целиком.\n",
            "[03:35.140 --> 03:44.420]  И еще в ООП есть такая штука, благодаря которой можно легко создавать огромные объекты, разбивая их на несколько маленьких.\n",
            "[03:44.540 --> 03:52.420]  Другими словами, такие объекты могут собираться сразу из нескольких других, выступая своего рода агрегатором реализации.\n",
            "[03:52.600 --> 03:56.500]  Например, можно взять два объекта, компьютер и монитор.\n",
            "[03:56.620 --> 03:59.540]  Каждый из них реализует какой-то свой функционал.\n",
            "[03:59.680 --> 04:06.680]  И дальше можно создать большой объект лэптоп, состоящий из более маленьких объектов компьютер и монитор.\n",
            "[04:06.880 --> 04:14.060]  И такой принцип дает возможность сильно упростить сложность всей программы, а называется он наследование.\n",
            "[04:14.320 --> 04:19.080]  Это еще один мощный инструмент объектно-ориентированного программирования.\n",
            "[04:19.080 --> 04:22.580]  Все это позволяет создавать очень большие программы.\n",
            "[04:22.600 --> 04:27.600]  Над которыми могут работать сразу сотни или десятки тысяч программистов.\n",
            "[04:28.540 --> 04:33.420]  Но при этом все они могут не знать, как устроена вся программа целиком.\n",
            "[04:33.580 --> 04:38.820]  Потому что каждый из них будет работать лишь над ее отдельными частями.\n",
            "[04:39.080 --> 04:44.600]  Ну и третий мощный инструмент ООП, который пока что можно пропустить, это полиморфизм.\n",
            "[04:45.420 --> 04:51.980]  Потому что понимается он гораздо лучше тогда, когда вы уже изучите концепции ООП на практике.\n",
            "[04:51.980 --> 04:59.980]  Пока что можете запомнить лишь то, что полиморфизм это когда функция способна обработать данные разных типов.\n",
            "[05:00.200 --> 05:04.120]  Ну и по сути это все инструменты, которые имеются в ООП.\n",
            "[05:04.340 --> 05:09.240]  Их всего три, а именно инкапсуляция, наследование и полиморфизм.\n",
            "[05:09.380 --> 05:12.120]  И как видите ничего сложного в этом нет.\n",
            "[05:12.320 --> 05:17.980]  Соответственно сегодня практически все языки программирования являются объектно-ориентированными.\n",
            "[05:18.460 --> 05:21.980]  Сюда относятся и Python, и Java, и Python.\n",
            "[05:22.180 --> 05:24.980]  И C++, и HP, и C++, и многие другие.\n",
            "[05:25.180 --> 05:34.180]  Так что понимая общий принцип работы ООП, вы заложите в себе фундамент знаний любого объектно-ориентированного языка программирования.\n",
            "[05:34.380 --> 05:43.380]  И особенно это касается языка Python, потому что хоть он и допускает различные методологии программирования, в его основе лежит все-таки ООП.\n",
            "[05:43.580 --> 05:50.380]  Поэтому абсолютно все в Python является объектом, будь то обычная переменная или функция.\n",
            "[05:51.980 --> 05:59.980]  Если вы начинаете изучать Python или планируете это сделать, то порекомендую обратить внимание на курс Python для веб-разработки.\n",
            "[06:00.180 --> 06:08.980]  Занятия здесь будут длиться 9 месяцев, и это как раз то время, за которое вас нехило натаскают и вы действительно научитесь программировать.\n",
            "[06:09.180 --> 06:14.980]  В том числе большое количество времени учебы уделяется объектно-ориентированному программированию.\n",
            "[06:15.180 --> 06:20.980]  А по ходу учебы выдаются домашние задания и создается настоящий проект.\n",
            "[06:20.980 --> 06:26.180]  Для записи на курс вам не нужны никакие стартовые знания, всему научат на месте.\n",
            "[06:26.380 --> 06:30.580]  Все, что от вас требуется, это желание стать Python-разработчиком.\n",
            "[06:30.780 --> 06:33.980]  В общем, все, что нужно для качественного старта.\n",
            "[06:34.180 --> 06:37.180]  Ну а ссылку на курс я оставлю в описании под роликом.\n",
            "[06:37.380 --> 06:44.380]  Сообщите менеджеру промокод howdyho и получите 35% скидку до 20 мая.\n",
            "[06:44.580 --> 06:50.380]  Окей, сейчас вам может показаться, что вы хорошо поняли, что такое ООП.\n",
            "[06:50.980 --> 06:53.180]  И знаете его основные преимущества.\n",
            "[06:53.380 --> 06:57.380]  И это, конечно, хорошо, но пока еще рано переходить к практике.\n",
            "[06:57.580 --> 07:02.180]  До этого вы обязательно должны понять, что такое класс и объект.\n",
            "[07:02.380 --> 07:04.380]  И это действительно важно.\n",
            "[07:04.580 --> 07:07.580]  Настолько важно, что я даже скажу такую штуку.\n",
            "[07:07.780 --> 07:10.780]  Если вы четко поймете, что такое класс и объект,\n",
            "[07:10.980 --> 07:15.380]  то можете смело считать, что вы знаете как минимум половину всего ООП.\n",
            "[07:15.580 --> 07:17.580]  И я сейчас не шучу.\n",
            "[07:17.780 --> 07:20.580]  Так вот, объяснить, что такое класс, можно, в принципе,\n",
            "[07:20.580 --> 07:24.180]  по-разному, но если делать это совсем по-простому,\n",
            "[07:24.380 --> 07:29.180]  то класс – это просто кусок кода, у которого есть какое-то имя.\n",
            "[07:29.380 --> 07:34.980]  И чтобы воспользоваться этим куском кода, нужно из этого класса создать объект.\n",
            "[07:35.180 --> 07:39.180]  Эту процедуру еще называют инициализацией класса.\n",
            "[07:39.380 --> 07:43.780]  Или созданием экземпляра класса, ну или просто созданием объекта.\n",
            "[07:43.980 --> 07:46.380]  Как ни называй, это все одно и то же.\n",
            "[07:46.580 --> 07:50.380]  И такой объект принято называть экземпляром класса.\n",
            "[07:50.580 --> 07:53.180]  Но не будем пока забегать так далеко.\n",
            "[07:53.380 --> 07:58.780]  Чтобы вы лучше понимали, давайте представим себе какой-то объект из реальной жизни.\n",
            "[07:58.980 --> 08:04.380]  Ведь, как вы помните, концепция ООП подразумевает, что все является объектами.\n",
            "[08:04.580 --> 08:07.780]  Соответственно, вокруг нас очень много разных объектов.\n",
            "[08:07.980 --> 08:14.580]  Это стол, стул, дом, собака, кошка, другие люди, ручка, фломастеры и так далее.\n",
            "[08:14.780 --> 08:20.180]  Но для примера давайте возьмем автомобиль и подумаем, что нужно,\n",
            "[08:20.180 --> 08:21.780]  чтобы создать автомобиль.\n",
            "[08:21.980 --> 08:26.780]  В первую очередь это, конечно же, чертеж, в котором будет описано,\n",
            "[08:26.980 --> 08:29.180]  как и из чего собирается авто.\n",
            "[08:29.380 --> 08:32.980]  Ну и там же будет описан полный список нужных деталей.\n",
            "[08:33.180 --> 08:37.380]  Так вот, если для того, чтобы собрать машину, нам нужен чертеж,\n",
            "[08:37.580 --> 08:42.580]  то в программировании для того, чтобы создать объект, нам нужен класс.\n",
            "[08:42.780 --> 08:45.980]  И думаю, вы уже начинаете понимать, как это работает.\n",
            "[08:46.180 --> 08:49.980]  Соответственно, класс это тоже своего рода чертеж.\n",
            "[08:50.180 --> 08:55.980]  В котором довольно точно перечислено, из чего он состоит и какой реализует функционал.\n",
            "[08:56.180 --> 09:01.580]  Ну и так как в жизни мы можем из одного чертежа создать сколько угодно автомобилей,\n",
            "[09:01.780 --> 09:05.980]  единственный наш лимит это количество оставшихся деталей или же ресурсов,\n",
            "[09:06.180 --> 09:09.580]  в программировании это устроено похожим образом.\n",
            "[09:09.780 --> 09:13.980]  Из одного класса можно создать сколько угодно объектов.\n",
            "[09:14.180 --> 09:17.580]  А ресурсом будет выступать доступная мощность компьютера.\n",
            "[09:17.780 --> 09:19.780]  То есть, чем больше мы захотим создать объектов,\n",
            "[09:19.780 --> 09:22.580]  тем больше потребуется памяти.\n",
            "[09:22.780 --> 09:29.180]  И для примера, давайте на Python создадим какой-то простенький класс в качестве небольшой практики.\n",
            "[09:29.380 --> 09:31.780]  Пусть этот класс будет называться color.\n",
            "[09:31.980 --> 09:36.380]  И в нем будет ровно три переменные, а именно red, green и blue.\n",
            "[09:36.580 --> 09:42.580]  И как вы уже понимаете, мы создали класс для репрезентации цветовой системы RGB.\n",
            "[09:42.780 --> 09:45.980]  Это уже не какие-то аналогии, а вполне реальный класс,\n",
            "[09:46.180 --> 09:49.580]  который особенно часто встречается в игровых движках или библиотеках.\n",
            "[09:49.780 --> 09:51.980]  Для работы с графикой.\n",
            "[09:52.180 --> 09:58.780]  В таких классах обычно существует метод для перевода RGB в HEX-репрезентацию цвета.\n",
            "[09:58.980 --> 10:03.180]  И в нашем классе мы можем реализовать это следующим образом.\n",
            "[10:03.380 --> 10:06.580]  А в коде создать экземпляр данного класса.\n",
            "[10:06.780 --> 10:10.580]  И чтобы объекту, который мы только что создали, указать цвета,\n",
            "[10:10.780 --> 10:13.780]  нам придется обратиться к свойствам данного объекта.\n",
            "[10:13.980 --> 10:19.580]  Тут важно понимать, что все переменные и функции внутри класса принято называть по-другому.\n",
            "[10:19.780 --> 10:24.580]  В частности, переменные называются атрибутами или же свойствами класса.\n",
            "[10:24.780 --> 10:26.980]  А функции называются методами.\n",
            "[10:27.180 --> 10:31.180]  Хотя это простая терминология, но все же знать ее стоит.\n",
            "[10:31.380 --> 10:36.180]  Ну и вместо того, чтобы указывать цвета отдельно через атрибуты объекта,\n",
            "[10:36.380 --> 10:40.980]  мы можем сразу в классе создать новый метод, который будет называться init.\n",
            "[10:41.180 --> 10:46.780]  И этот метод в Python принят в качестве зарезервированного для инициализации класса.\n",
            "[10:46.980 --> 10:49.180]  И теперь мы можем указывать эти данные\n",
            "[10:49.180 --> 10:51.380]  сразу при создании объекта.\n",
            "[10:51.580 --> 10:56.780]  Именно так обычно и делают инициализацию каких-то данных объекта в реальном мире.\n",
            "[10:56.980 --> 11:00.580]  Ну и сразу тут давайте попробуем применить наследование.\n",
            "[11:00.780 --> 11:04.780]  Создадим еще один класс, назовем его KaleAlpha.\n",
            "[11:04.980 --> 11:07.580]  И унаследуем его от нашего класса Kale.\n",
            "[11:07.780 --> 11:10.580]  В Python это делается вот таким простым образом.\n",
            "[11:10.780 --> 11:14.580]  Только теперь дополним наш новый класс атрибутом alpha,\n",
            "[11:14.780 --> 11:18.380]  который будет являться репрезентацией цветовой системы RGB\n",
            "[11:18.380 --> 11:20.380]  с поддержкой альфа-канала.\n",
            "[11:20.580 --> 11:24.980]  И тут же перепишем инициализатор, чтобы можно было указывать альфа-канал.\n",
            "[11:25.180 --> 11:27.780]  При этом метод toHex мы не трогаем,\n",
            "[11:27.980 --> 11:31.780]  потому что он у нас наследуется и менять его не нужно.\n",
            "[11:31.980 --> 11:35.980]  Так как hex-репрезентация цвета не поддерживает альфа-канал,\n",
            "[11:36.180 --> 11:41.580]  а значит при переводе RGBA в hex атрибут alpha учитывать не требуется.\n",
            "[11:41.780 --> 11:46.180]  Ну и теперь мы можем создать еще и экземпляр класса KaleAlpha.\n",
            "[11:46.380 --> 11:48.180]  Как видите, в этом нет ничего сложного.\n",
            "[11:48.380 --> 11:54.180]  И при этом если в будущем, например, обнаружится ошибка в функции перевода RGB в hex,\n",
            "[11:54.380 --> 11:59.180]  то мне нужно будет отредактировать только один кусок кода в классе Kale.\n",
            "[11:59.380 --> 12:04.380]  Но это все я только что показал лишь в качестве какого-то практического примера,\n",
            "[12:04.580 --> 12:07.580]  чтобы вы не остались с одной сухой теорией.\n",
            "[12:07.780 --> 12:13.780]  А вообще в описании я также оставлю ссылку на годный урок по OOP конкретно в Python.\n",
            "[12:13.980 --> 12:17.380]  Можете почитать и теперь, думаю, с новыми знаниями\n",
            "[12:17.380 --> 12:22.180]  вы легко освоите объектно-ориентированное программирование.\n",
            "[12:22.380 --> 12:27.180]  В остальном же я жду ваш царский лайк, надеюсь этот выпуск был для вас полезным.\n",
            "[12:27.380 --> 12:32.180]  Конечно же подписывайтесь на канал и включайте колокольчик уведомлений.\n",
            "[12:32.380 --> 12:37.180]  Так мои выпуски хоть иногда, да будут появляться у вас на главной ютуба.\n",
            "[12:37.380 --> 12:42.180]  Удачи и всегда помните, выучить можно что угодно, было бы желание.\n",
            "[12:47.380 --> 12:51.180]  До новых встреч!\n",
            "CPU times: user 2.75 s, sys: 416 ms, total: 3.16 s\n",
            "Wall time: 8min 30s\n"
          ]
        }
      ]
    },
    {
      "cell_type": "code",
      "source": [
        "# Функция для загрузки документа по ссылке из Google Drive\n",
        "def load_document_text(url: str) -> str:\n",
        "    # Извлекаем идентификатор документа из URL-адреса\n",
        "    match_ = re.search('/document/d/([a-zA-Z0-9-_]+)', url)\n",
        "    if match_ is None:\n",
        "        raise ValueError('Invalid Google Docs URL')\n",
        "    doc_id = match_.group(1)\n",
        "\n",
        "    # Загружаем документ в виде обычного текста\n",
        "    response = requests.get(f'https://docs.google.com/document/d/{doc_id}/export?format=txt')\n",
        "    response.raise_for_status()\n",
        "    text = response.text\n",
        "\n",
        "    return text"
      ],
      "metadata": {
        "id": "HXxx9jh_F88M"
      },
      "execution_count": null,
      "outputs": []
    },
    {
      "cell_type": "code",
      "source": [
        "sort_text= load_document_text('https://docs.google.com/document/d/1GwrAY4NoqPImiSMola-14ykVB5K-8iDlivWzvuEnMfA')"
      ],
      "metadata": {
        "id": "XUF-fkqKLDoj"
      },
      "execution_count": null,
      "outputs": []
    },
    {
      "cell_type": "code",
      "source": [
        "sort_text[:1000]"
      ],
      "metadata": {
        "colab": {
          "base_uri": "https://localhost:8080/",
          "height": 139
        },
        "id": "BAKIJby6Lxa6",
        "outputId": "bc3b10b7-eda5-4dca-f243-600d5c41963e"
      },
      "execution_count": null,
      "outputs": [
        {
          "output_type": "execute_result",
          "data": {
            "text/plain": [
              "'\\ufeffОбъяснение алгоритмов сортировки с примерами на Python\\r\\n\\r\\n\\r\\nВ этой статье будут рассмотрены популярные алгоритмы, принципы их работы и реализация на Python. А ещё сравним, как быстро они сортируют элементы в списке.\\r\\nВ качестве общего примера возьмём сортировку чисел в порядке возрастания. Но эти методы можно легко адаптировать под ваши потребности.\\r\\nПузырьковая сортировка\\r\\nЭтот простой алгоритм выполняет итерации по списку, сравнивая элементы попарно и меняя их местами, пока более крупные элементы не «всплывут» в начало списка, а более мелкие не останутся на «дне».\\r\\nАлгоритм\\r\\nСначала сравниваются первые два элемента списка. Если первый элемент больше, они меняются местами. Если они уже в нужном порядке, оставляем их как есть. Затем переходим к следующей паре элементов, сравниваем их значения и меняем местами при необходимости. Этот процесс продолжается до последней пары элементов в списке.\\r\\nПри достижении конца списка процесс повторяется заново для каждого элемента. Это крайне неэффе'"
            ],
            "application/vnd.google.colaboratory.intrinsic+json": {
              "type": "string"
            }
          },
          "metadata": {},
          "execution_count": 30
        }
      ]
    },
    {
      "cell_type": "code",
      "source": [
        "# Записываем в объяснение сортировки в текстовый файл\n",
        "with open('Sorting_algorithms_in_Python.txt', 'w') as file:\n",
        "    file.write(sort_text)"
      ],
      "metadata": {
        "id": "nDqaPPZtMs5o"
      },
      "execution_count": null,
      "outputs": []
    },
    {
      "cell_type": "code",
      "source": [
        "# Создаем список с файлами для объединения\n",
        "files_to_merge = ['Python_in_Questions_and_Answers.txt', 'OOP_in_Python.txt', 'Sorting_algorithms_in_Python.txt']"
      ],
      "metadata": {
        "id": "IvJIumJoMKg3"
      },
      "execution_count": null,
      "outputs": []
    },
    {
      "cell_type": "code",
      "source": [
        "# Объединяем и записываем текстовые файлы\n",
        "output_file_name = 'merged_file.txt'\n",
        "\n",
        "with open(output_file_name, 'w') as outfile:\n",
        "    for fname in files_to_merge:\n",
        "        with open(fname, 'r') as infile:\n",
        "            outfile.write(infile.read())\n",
        "            outfile.write(\"\\n\\n\")"
      ],
      "metadata": {
        "id": "4hImWJz6MKlC"
      },
      "execution_count": null,
      "outputs": []
    },
    {
      "cell_type": "code",
      "source": [
        "#@title Напишите самостоятельно промпт в систем и юзер для разделения текста на логические блоки с выделением названия раздела:\n",
        "system = '\\u0412\\u044B \\u0433\\u0435\\u043D\\u0438\\u0439 \\u0442\\u0435\\u043A\\u0441\\u0442\\u0430, \\u043A\\u043E\\u043F\\u0438\\u0440\\u0430\\u0439\\u0442\\u0438\\u043D\\u0433\\u0430, \\u043F\\u0438\\u0441\\u0430\\u0442\\u0435\\u043B\\u044C\\u0441\\u0442\\u0432\\u0430. \\u0412\\u0430\\u0448\\u0430 \\u0437\\u0430\\u0434\\u0430\\u0447\\u0430 \\u0440\\u0430\\u0441\\u043F\\u043E\\u0437\\u043D\\u0430\\u0442\\u044C \\u0440\\u0430\\u0437\\u0434\\u0435\\u043B\\u044B \\u0432 \\u0442\\u0435\\u043A\\u0441\\u0442\\u0435 \\u0438 \\u0440\\u0430\\u0437\\u0431\\u0438\\u0442\\u044C \\u0435\\u0433\\u043E \\u043D\\u0430 \\u044D\\u0442\\u0438 \\u0440\\u0430\\u0437\\u0434\\u0435\\u043B\\u044B \\u0441\\u043E\\u0445\\u0440\\u0430\\u043D\\u044F\\u044F \\u0432\\u0435\\u0441\\u044C \\u0442\\u0435\\u043A\\u0441\\u0442 \\u043D\\u0430 100%' #@param {type:\"string\"}\n",
        "user = \"\\u041F\\u043E\\u0436\\u0430\\u043B\\u0443\\u0439\\u0441\\u0442\\u0430, \\u0434\\u0430\\u0432\\u0430\\u0439\\u0442\\u0435 \\u043F\\u043E\\u0434\\u0443\\u043C\\u0430\\u0435\\u043C \\u0448\\u0430\\u0433 \\u0437\\u0430 \\u0448\\u0430\\u0433\\u043E\\u043C: \\u041F\\u043E\\u0434\\u0443\\u043C\\u0430\\u0439\\u0442\\u0435, \\u043A\\u0430\\u043A\\u0438\\u0435 \\u0440\\u0430\\u0437\\u0434\\u0435\\u043B\\u044B \\u0432 \\u0442\\u0435\\u043A\\u0441\\u0442\\u0435 \\u0432\\u044B \\u043C\\u043E\\u0436\\u0435\\u0442\\u0435 \\u0440\\u0430\\u0441\\u043F\\u043E\\u0437\\u043D\\u0430\\u0442\\u044C \\u0438 \\u043A\\u0430\\u043A\\u043E\\u0435 \\u043D\\u0430\\u0437\\u0432\\u0430\\u043D\\u0438\\u0435 \\u043F\\u043E \\u0441\\u043C\\u044B\\u0441\\u043B\\u0443 \\u043C\\u043E\\u0436\\u043D\\u043E \\u0434\\u0430\\u0442\\u044C \\u043A\\u0430\\u0436\\u0434\\u043E\\u043C\\u0443 \\u0440\\u0430\\u0437\\u0434\\u0435\\u043B\\u0443. \\u0414\\u0430\\u043B\\u0435\\u0435 \\u043D\\u0430\\u043F\\u0438\\u0448\\u0438\\u0442\\u0435 \\u043E\\u0442\\u0432\\u0435\\u0442 \\u043F\\u043E \\u0432\\u0441\\u0435\\u043C\\u0443 \\u043F\\u0440\\u0435\\u0434\\u044B\\u0434\\u0443\\u0449\\u0435\\u043C\\u0443 \\u043E\\u0442\\u0432\\u0435\\u0442\\u0443 \\u0432 \\u043F\\u043E\\u0440\\u044F\\u0434\\u043A\\u0435: ## \\u041D\\u0430\\u0437\\u0432\\u0430\\u043D\\u0438\\u0435 \\u0440\\u0430\\u0437\\u0434\\u0435\\u043B\\u0430, \\u043F\\u043E\\u0441\\u043B\\u0435 \\u0447\\u0435\\u0433\\u043E \\u0432\\u0435\\u0441\\u044C \\u0442\\u0435\\u043A\\u0441\\u0442, \\u043E\\u0442\\u043D\\u043E\\u0441\\u044F\\u0449\\u0438\\u0439\\u0441\\u044F \\u043A \\u044D\\u0442\\u043E\\u043C\\u0443 \\u0440\\u0430\\u0437\\u0434\\u0435\\u043B\\u0443. \\u0422\\u0435\\u043A\\u0441\\u0442:\" #@param {type:\"string\"}\n",
        "\n",
        "temperature = 0 #@param {type: \"slider\", min: 0, max: 1, step:0.1}\n",
        "chunk_size = 6000 #@param {type: \"slider\", min: 1000, max: 7000, step:500}"
      ],
      "metadata": {
        "colab": {
          "base_uri": "https://localhost:8080/",
          "height": 17
        },
        "cellView": "form",
        "id": "fwXcmOzzSX9E",
        "outputId": "5c33be55-a79c-45c5-e2ce-b6eb95ed2028"
      },
      "execution_count": null,
      "outputs": [
        {
          "output_type": "display_data",
          "data": {
            "text/plain": [
              "<IPython.core.display.HTML object>"
            ],
            "text/html": [
              "\n",
              "    <style>\n",
              "    pre {\n",
              "        white-space: pre-wrap;\n",
              "    }\n",
              "    </style>\n",
              "    "
            ]
          },
          "metadata": {}
        }
      ]
    },
    {
      "cell_type": "code",
      "source": [
        "# Функция настройки стиля для переноса текста в выводе ячеек\n",
        "# для изменения стиля отображения текста, так чтобы предотвратить переполнение текста за границы ячейки вывода и обеспечить его перенос.\n",
        "def set_text_wrap_css():\n",
        "    css = '''\n",
        "    <style>\n",
        "    pre {\n",
        "        white-space: pre-wrap;\n",
        "    }\n",
        "    </style>\n",
        "    '''\n",
        "    display(HTML(css))\n",
        "\n",
        "get_ipython().events.register('pre_run_cell', set_text_wrap_css)\n",
        "\n",
        "# Функция подсчета количества токенов\n",
        "def num_tokens_from_messages(messages, model='gpt-3.5-turbo-0301'):\n",
        "    try:\n",
        "        encoding = tiktoken.encoding_for_model(model)\n",
        "    except KeyError:\n",
        "        encoding = tiktoken.get_encoding('cl100k_base')\n",
        "\n",
        "    if model in ['gpt-3.5-turbo-0301', 'gpt-3.5-turbo-0613', 'gpt-3.5-turbo-16k', 'gpt-3.5-turbo', 'gpt-3.5-turbo-1106']:\n",
        "        num_tokens = 0\n",
        "\n",
        "        for message in messages:\n",
        "            num_tokens += 4\n",
        "\n",
        "            for key, value in message.items():\n",
        "                num_tokens += len(encoding.encode(value))\n",
        "\n",
        "                if key == 'name':\n",
        "                    num_tokens -= 1\n",
        "\n",
        "        num_tokens += 2\n",
        "        return num_tokens\n",
        "\n",
        "    else:\n",
        "        raise NotImplementedError(f'''num_tokens_from_messages() is not presently implemented for model {model}.''')\n",
        "\n",
        "\n",
        "# Функция дробления текста на чанки\n",
        "def split_text(txt_file, chunk_size=chunk_size):\n",
        "    source_chunks = []\n",
        "    splitter = RecursiveCharacterTextSplitter(separators=['\\n', '\\n\\n', '. '], chunk_size=chunk_size, chunk_overlap=0)\n",
        "\n",
        "    for chunk in splitter.split_text(txt_file):\n",
        "        source_chunks.append(Document(page_content=chunk, metadata={}))\n",
        "\n",
        "    print(f'\\n\\nТекст разбит на {len(source_chunks)} чанков.')\n",
        "\n",
        "    return source_chunks\n",
        "\n",
        "\n",
        "# Функция получения ответа от модели\n",
        "def answer_index(system, user, chunk, temp=temperature, model='gpt-3.5-turbo'):\n",
        "\n",
        "    messages = [\n",
        "        {'role': 'system', 'content': system},\n",
        "        {'role': 'user', 'content': user + f'{chunk}'}\n",
        "    ]\n",
        "\n",
        "    completion = openai.ChatCompletion.create(\n",
        "        model=model,\n",
        "        messages=messages,\n",
        "        temperature=temp\n",
        "    )\n",
        "\n",
        "    # Вывод количества токенов отключен\n",
        "    # print(f'\\n====================\\n\\n{num_tokens_from_messages(messages)} токенов будет использовано на чанк\\n\\n')\n",
        "    answer = completion.choices[0].message.content\n",
        "\n",
        "    return answer\n",
        "\n",
        "\n",
        "def process_one_file(file_path, system, user):\n",
        "    with open(file_path, 'r') as txt_file:\n",
        "        text = txt_file.read()\n",
        "    source_chunks = split_text(text)\n",
        "    processed_text = ''\n",
        "    unprocessed_text = ''\n",
        "\n",
        "    for chunk in source_chunks:\n",
        "        attempt = 0\n",
        "\n",
        "        while attempt < 3:\n",
        "            try:\n",
        "                answer = answer_index(system, user, chunk.page_content)\n",
        "                break  # Успешно получили ответ, выходим из цикла попыток\n",
        "\n",
        "            except Exception as e:\n",
        "                attempt += 1  # Увеличиваем счетчик попыток\n",
        "                print(f'\\n\\nПопытка {attempt} не удалась из-за ошибки: {str(e)}')\n",
        "                time.sleep(10)  # Ожидаем перед следующей попыткой\n",
        "                if attempt == 3:\n",
        "                    answer = ''\n",
        "                    print(f'\\n\\nОбработка элемента {chunk} не удалась после 3 попыток')\n",
        "                    unprocessed_text += f'{chunk}\\n\\n'\n",
        "\n",
        "        processed_text += f'{answer}\\n\\n'  # Добавляем ответ в результат\n",
        "        print(f'{answer}')  # Выводим ответ\n",
        "\n",
        "    return processed_text, unprocessed_text"
      ],
      "metadata": {
        "colab": {
          "base_uri": "https://localhost:8080/",
          "height": 17
        },
        "id": "hi8CrBNgMKSF",
        "outputId": "42dfd3dc-4a13-43f0-a3b4-db10ebfb9fff"
      },
      "execution_count": null,
      "outputs": [
        {
          "output_type": "display_data",
          "data": {
            "text/plain": [
              "<IPython.core.display.HTML object>"
            ],
            "text/html": [
              "\n",
              "    <style>\n",
              "    pre {\n",
              "        white-space: pre-wrap;\n",
              "    }\n",
              "    </style>\n",
              "    "
            ]
          },
          "metadata": {}
        }
      ]
    },
    {
      "cell_type": "code",
      "source": [
        "file_path = f'/content/merged_file.txt'\n",
        "# Вызываем функцию обработки для этого файла\n",
        "processed_text, unprocessed_text = process_one_file(file_path, system, user)"
      ],
      "metadata": {
        "colab": {
          "base_uri": "https://localhost:8080/",
          "height": 1000
        },
        "id": "vdiMHNGPRDif",
        "outputId": "60b39716-01ed-4fc0-f70e-f21a410d9211"
      },
      "execution_count": null,
      "outputs": [
        {
          "output_type": "display_data",
          "data": {
            "text/plain": [
              "<IPython.core.display.HTML object>"
            ],
            "text/html": [
              "\n",
              "    <style>\n",
              "    pre {\n",
              "        white-space: pre-wrap;\n",
              "    }\n",
              "    </style>\n",
              "    "
            ]
          },
          "metadata": {}
        },
        {
          "output_type": "display_data",
          "data": {
            "text/plain": [
              "<IPython.core.display.HTML object>"
            ],
            "text/html": [
              "\n",
              "    <style>\n",
              "    pre {\n",
              "        white-space: pre-wrap;\n",
              "    }\n",
              "    </style>\n",
              "    "
            ]
          },
          "metadata": {}
        },
        {
          "output_type": "stream",
          "name": "stdout",
          "text": [
            "\n",
            "\n",
            "Текст разбит на 9 чанков.\n",
            "## Раздел 1: Введение в серию \"Читаем Луца\"\n",
            "Всем привет, добро пожаловать. Этим стулом ГАМС начинает новую серию полукресел, а мы этим видео начинаем новую серию видео. Она будет называться «Читаем Луца». Когда человек, который начинает учить питон, спрашивает, что же мне почитать, наверное, процентов 90 разработчиков «Читай Луца», там все есть. Это такой огромный двухтомник, он жутко нудный, он очень подробный, он достаточно плохо переведен, иногда он очень постноязычен. Но, к сожалению, пожалуй, лучше, чем этот учебник, просто по базовому питону пока ничего нет. Мы будем читать это дело по главам, на каждую главу у нас будет, скорее всего, отдельный оратор, и он будет давать презентацию, а по ходу вот этой презентации я буду задавать вопросы, каверзные и не очень, ну или подкидывать тему для обсуждения. Мы тут не одни, зрители, которые безмолвно присутствуют у нас сейчас в чате, они тоже будут задавать вопросы, мы их будем или засчитывать в конце, или мы будем в процессе обсуждения с ними как-то подключаться. Сегодня на первую главу у нас будет читать Алексей Троянов. Привет, Алексей. Добрый день. Ну что, я не буду утомлять тебя софтами, давай, поехали, наверное, да? Включаю демонстрацию экрана. Да, совершенно так. Отлично. Добрый день, меня зовут Алексей, я студент факультета Backend Python, 27-я когорта. Сегодня предлагаю обсудить первую главу замечательной книги Марка Лутца «Изучаем Python». Что обсудим сегодня? Достоинства и недостатки Python, технические превосходства по сравнению с другими языками.\n",
            "\n",
            "## Раздел 2: Особенности книги \"Изучаем Python\"\n",
            "программирование так погоди минуту сразу некоторые вопросы у меня есть я обратил внимание что там 5 издание 5 издание оно вышло на английском это она на русском вышла в 19 году 19 20 на английском оно вышло в 2013 вот это очень важно это нужно понимать издание рассчитано на версию языка питон там даже 2 и 7 был но мы его как бы наверное не будем да но рассчитано на питон 3 3 что это значит как по-твоему какие недостатки то есть нам нужно понять границу применимости наших знаний которые мы сейчас будем обсуждать не могу сходу сказать разницу смотри то есть если говорить про сейчас вот уже 310 мы все-таки живем 22 но очевидно что какие-то фичи добавлены это совершенно точно я вот например на вскидку могу сказать про там хинт айп хинты про дата классы про какие-нибудь там кучу сахара там по тому что у нас нужно объединять словари например новыми вот этими вещами морж оператор и ниты в пакетах и прочее в принципе для первой главы не критично но для первой главы критично может быть вот что когда мы сравниваем это дело с какими-то другими языками вполне возможно что ситуация изменилась и вот эти граничные условия нам нужно иметь ввиду когда мы читаем эту книжку книжка хорошая но она есть у нее некоторые моменты просто из-за того что лучше не может ну это такая отскочим в сторону давай дальше\n",
            "\n",
            "## Раздел 3: Почему выбирают Python\n",
            "Это качество программного обеспечения. Пишем код мы один раз, а перечитываем его или используем многократно. Поэтому по замыслу Python должен быть читабельным, а значит сопровождение его намного легче, чем традиционных языков. Тем более при соблюдении PEP-8 он понятен, даже если написан не вами, а кем-то сторонним. Второе. Продуктивность труда разработчика. Код Python более краток и лаконичен. Аналогичный код Python по сравнению с плюсами или Java примерно на четверть короче. А это не только меньшие затраты при наборе кода, но и при отладке или сопровождении. Третье. Почему выбирают Python? Это переносимость программ, то есть кроссплатформенность. В большинстве случаев программы написаны на одной платформе, достаточно просто скопировать на другую операционную систему, где установлен Python. Четвертая причина. Это большое количество поддерживающих библиотек. В стандартной библиотеке входит большое количество расширений для различных прикладных задач. Кроме того, существуют библиотеки сторонних разработчиков, также охватывающие все сферы прикладного программирования. От веб-сайтов конструирования до низкоуровневого доступа к железу. Еще одна из причин – это интеграция компонентов. Python позволяет легко обращаться к библиотекам и взаимодействовать с другими\n",
            "## Возможные разделы:\n",
            "\n",
            "1. Варианты интеграции программ на плюсах и питоне:\n",
            "   - Текст: \"тонячий файл или или не можем скорее всего можем только я не пользовался такой хитч ладно но смотри дальше как бы у нас есть на самом деле я вот себе вижу три варианта как мы все это можем сделать то есть мы например запускаем программу на плюсах она что-то там делает у себя до потом вызывает импортирует у себя скрипт питон до и что-то там ему отдает то есть фактически весь код питона мы можем запускать под контролем кода на си плюс но на плюсах на си плюс плюс второй вариант это что мы можем действительно взять и вызвать какую-нибудь функцию из модулей библиотеки вот когда мы исполняем питон и он плюс работает внутри питомного ну а третий вариант мне кажется что есть например две независимые программы 1 1 на плюсах другая на питон ну и они каким-то образом обмениваются информации то есть там общая память может быть каналы сигнала азбука морзе рест все что угодно но они работают независимо и соответственно между собой обмениваются как по-твоему какие вообще варианты вот из этих вот возможно мне кажется 1 2 это точно библиотеки и вызов кода в принципе обмен через какую-то стандартный интерфейс там рест это или что-то другое вполне возможно почему нет получается три варианта как мы можем интегрировать\"\n",
            "\n",
            "2. Наслаждение программированием:\n",
            "   - Текст: \"окей давай про наслаждение программированием поговорим что для тебя лично наслаждение программированием чем кайф ну во-первых если говорить простым языком это заставить железяку сделать то что тебе нужно с другой стороны это должно быть увлекательно и приятно и легко они погружаясь там в низкоуровневые языки с тебе тебя ломает там обрабатывать ошибки управлять памятью все как и вот такой вещи если это как бы интуитивно понятно и легко обрабатывается почему бы нет а если для этого нужно там в ассемблер лезть, то это, наверное, сложновато.\"\n",
            "\n",
            "3. Язык написания сценариев:\n",
            "   - Текст: \"Автор задается вопросом, является ли Python языком написания сценариев. Ух ты. А что такое вообще язык написания сценариев? Ну вот, как раз в том тексте, который я сейчас написал для этого слайда, я озвучиваю, как раз это и будет рассматриваться. Давай по-простому. Как ты себе это понимаешь? Что такое язык написания сценариев? Не луцевским языком, от которого мы как раз хотим отойти, а вот как, на твой взгляд, это все? Для меня ближайший язык написания сценариев – это первый вариант, который на слайде есть, это инструменты командной оболочки, то есть сценарии для управления системой, какие-то скрипты, утилитки и подобное. Слушай, ну, логично, потому что в Unix-систему он, например, прямо встроен, и, в общем-то, написать на нативном языке что-то, что работает с самой системой, ну, наверное, окей.\"\n",
            "\n",
            "4. Парадигмы программирования:\n",
            "   - Текст: \"Я смотрю, у тебя есть процедурное, объектно-ориентированное и функциональное программирование. Ты выделил, а в чем между ними разница вообще? Соответственно, это три парадигмы программирования. Процедурное программирование – это стандартное программирование, которое было основополагающим, соответственно, последовательно выполнение каких-то простых действий. Потом пришло объектно-ориентированное программирование, где стали рассматриваться конкретные объекты и подходы работы с ними, такие как инкапсуляция, наследование, полиморфизм. По прошествии какого-то времени подошли к функциональному программированию. В нем отсутствуют операторы-условия, циклы. Все используется в основном в функции, которые могут вкладываться в друг друга, обертываться и так далее.\"\n",
            "\n",
            "5. Недостатки Python:\n",
            "   - Текст: \"Знаю, что ты подготовился, прочитал текст. Кайф заключается в том, что у Питона есть… на нем писать быстро, но бесплатного ничего не бывает. За удобство надо оплатить скорость. Конечно. Почему частота внесения изменений – это минус, по-твоему? Наоборот, классно, мне кажется, язык развивается, придумываются новые фичи. Да, но возникает вопрос с поддержкой собственных ранее написанных программ. Соответственно, нужно отслеживать обратную совместимость своего кода. Проблема в том, что более новые программы используют старые фичи. То есть старые фичи тоже можно использовать.\"\n",
            "## Раздел 1: Внесение изменений в язык программирования Python\n",
            "Текст: То есть, ну, например, та же самая строка, которая, не помню, в 3.6, по-моему, или в 3.7, в 3.6, по-моему, в питоне появилась, ну, до этого был формат. Но в 10, например, формат тоже используется без проблем. То есть можно форматировать строчку другими методами. То есть обратная совместимость. Мне кажется, все-таки частота внесения изменений тут в чем проблема больше в том, что если ты, например, читаешь курс по питону, ты такой «аааа», и тебе из зала такие «а это уже делается по-другому, чувак, ты чё?» Для преподавателей в основном, да. Да, мне кажется, это вот у Луца, он это в минус сделал. Это он просто про себя думает, что ж такое-то каждый год книжку писать. Это я улучшусь, кто же её купит. И Луц не говорит про отрицательные стороны, он говорит именно про компромиссы, которые возникают из-за тех или иных событий.\n",
            "\n",
            "## Раздел 2: Проблема с обратной совместимостью и поддержкой кода\n",
            "Текст: Слушай, а батарейка в комплекте, что это значит? Ну, с точки зрения Луца, батарейка в комплекте – это когда всё включено, что с питоном поставляется большое количество библиотек, инструментов, и иногда привязывание к тому или иному инструменту со временем может как бы… ну ты его можешь перерасти, а поддерживать… бывает, что, как он говорит, батарейка изменяется или повреждается или устаревает, соответственно, нужно поддерживать этот код свой. Слушай, ну, блин, проблема легоси, она, в общем-то, характерна для программирования. У меня есть ребята, которые работают в Яндексе, правда, они с этого проекта уже ушли, у которых там в одном месте вообще джанга, не соврать, 1.3 что ли, 1.4, просто потому что к ней приплели стороннюю библиотеку, которая как-то очень слабо обновляется, и ничего не получается. В общем, с одной стороны, оно работает, с другой стороны, как-то развивать это сложно, с третьей стороны, ну, блин, работать не трогай, и деньги на рефакторинг как-то… ну, не нашлось его ресурсов, ни денег. Возможно, из новой версии будет дороже себе.\n",
            "\n",
            "## Раздел 3: Проблемы с открытым кодом и недостатки Python\n",
            "Текст: И мне кажется, эта проблема в общем даже не питона, а проблема самого программирования. Слушай, ну, а вот если говорить… просто я не знаю твоих следующих слайдов там будет про пеп отлично самое время поговорить про вот это вот все ну системное программирование мы с тобой обсуждали да это же у нас всякие вот управление утилитки которые позволяют работать с системой то есть ну графические интерфейсы это у него тоже какой-то мне кажется в книжке там какая-то старость написано я почти уверен что есть и более современные фреймворки будет классно кстати если ребят напишут в комментариях какими вот какими фреймворками и какими вещами они используются то есть для графических интерфейсов для интернета для интеграции компонентов для баз данных для но вот прототипирование это такая вещь то есть в общем-то здесь наверное это как-то более объединенные цена но наука это скорее всего майпай какой-нибудь то есть наверное ничего нового не придумали\n",
            "\n",
            "## Раздел 4: Преимущества использования PEP и системного программирования\n",
            "Текст: Вот эти вот проблемы они по большому счету лечатся тем, что мы используем PEP, то есть все изменения сначала тщательно обкатываются должны, ну вот в идеале, и потом только обсуждаются комьюнити, да и потом только принимаются или не принимаются. Но кажется, что лучшего варианта вообще нельзя предусматр\n",
            "## Раздел 1: Введение в различные технологии и языки программирования\n",
            "Хотя будет классно, если вы нам расскажете. Игры, роботы, таблицы Excel и всякое вот это, там вообще очень большой пласт, и здесь, конечно, Lutz немножко устарел, потому что здесь можно добавить еще и компьютерное зрение, распознавание образов, и вот это вот, да-да-да, то есть как бы Machine Learning, вот эту вот всю бодягу можно в общем-то сделать. Вот народ накидывает ухо, Kiwi, Qt, Tinkter, SQLAlchemy, OpenXL, OpenPyXL, нифига себе. — Тинктер как раз у Lutz и указывается. — А, слушай, ну видимо кто-то пережил. Я у него посмотрел фреймворки, которые он рассказывает про web, честно говоря, я только Django знаю, но, наверное, остальные куда-то канули в лето, почему-то нету у него фласка, непонятно. То есть по-хорошему здесь можно взять и накидать, у него, кстати, FastType тоже нет. Вот, взять и накидать всяких интересных названий, которые вообще часто используются и используются в вашей жизни. Ребят, не стесняйтесь, давайте сделаем книжку Lutz еще лучше и еще интереснее тем, что она будет актуальная. Да, еще Tortoise есть, вот, для баз данных, я точно знаю. Поехали дальше, посмотрим, что еще.\n",
            "\n",
            "## Раздел 2: Технические превосходства языка программирования Python\n",
            "Прекрасно, давай поговорим про технические. Объектно-ориентированное функциональное мы уже разобрали чуть раньше. Соответственно, в книжке говорится о том, что он первоначально был... Потерялся, сейчас, секунду. В общем, он легкий скриптовый язык, плюс подключены к нему объектно-ориентированные фишки, плюс добавилась функциональность. — Ну, то есть он сначала был процедурщиной, да? То есть он был процедурным языком, а потом на него всякая наработка.\n",
            "\n",
            "## Раздел 3: Различные типы языков программирования и их особенности\n",
            "Окей, бесплатно – это круто. Слушай, интересно, есть вообще нормальные платные языки по подписке, прикинь? То есть ты можешь программировать по подписке каждый месяц за то, что ты программируешь. Да, на чудесном языке ты должен бабла платить. Я, честно говоря, мне сложно сейчас представить. Тут, наверное, всё-таки говорится о открытых и закрытых. В том смысле, что тот же самый Visual Basic, он проприетарный. Те, которые разрабатываются закрытыми коммерческими предприятиями, компаниями. Гошечка, например, да? А, слушай, нам нельзя рекламировать продукты этой фирмы. Мы не рекламируем, мы просто говорим, что есть такой язык. Не пользуйтесь им, это плохой язык. Или пользуйтесь, но на свой страх и риск. Вы должны понимать и осознавать. Слушай, переносимый, то есть есть непереносимый? Непереносимый. Ну, это такая сложность перевода, соответственно, это о кросс-платформенности. Ну да, то есть, наверное, у нас переводчик не программист это всё переводил, поэтому действительно он будет исполнять. Хотя, насколько я помню, для винды нам и интерпретатор всё-таки надо ставить. Ну да, поэтому ставится интерпретатор. Да, он из коробки в винде не идёт, ну как бы ладно, окей. Мощный, слушай, динамическая типизация, честно говоря, здесь он прям вообще попал не туда, потому что сейчас питон со всей мощью скачет в сторону тайп-хинтинга, вот этой вот аннотации типов, потому что, чтобы, видимо, работать быстрее, наверное, так. Аннотация типов не отменяет же динамическая типизация? Нет, она не отменяет, но получается какая-то интересная штука, на двух стульях сидим, то есть, с одной стороны, мы как бы типизируем динамически, но, в общем-то, при инициализации мы явно задаём класс и, в общем-то, сильно ругаемся, если это всё... задаём тип и сильно ругаемся, если посредств\n",
            "## Раздел 1: Введение в ООП\n",
            "\n",
            "Окей, смешиваемый. С чем? Слушай, смешать, но не взбалтывать. Или наоборот, взбалтать, но не смешивать. Не помню, как там, правильно? Это как раз, наверное, повтор про программирование в большом, о том, что самыми разнообразными способами можно вызывать IP-интерфейс на C, имеющийся в Python, и наоборот, как бы... Ну да, слушай, ну возможно. Так, ну простой в использовании изучение, все признается в сравнении. Да, относительно. Basic намного проще, а уж Pascal-то, баааа. Ну у Basic есть другие недостатки. Да слушай, ну везде, то есть книг в любой язычок можно взять и недостатков-то наковырять. Слушай, группа Multipython, ты что-нибудь смотрел из нее? Узнал только, когда начал приобщаться к Python, не смотрел ничего. Такие поверхностные знания. Ясно, ну там, знаешь, такой интересный английский юмор, достаточно специфический. Слушай, это не сериал, это группа как раз комиков. Комик-группа. Да, и они делали в том числе и сериал, про Graal что-то. Кстати, там очень классный, он очень легкий язык. Сильно рекомендую его для изучения английского. Ну, например, с подстрочником, у них хорошие произношения, мне очень нравятся. Теперь, внимание, вопрос. Ну, назван он в честь группы Multipython, а почему на логотипе у него бетон? Возможно, чтобы как-то зашифровать это, чтобы несерьезно как-то в честь группы Multipython комиков называть язык. Да нет, слушай, на самом деле там интересная история. Я погуглил, каюсь грешен. Но это было давно, потому что мне тоже было интересно, почему Python, а вообще бетон. Просто Гвидо, он тот еще раздолбай оказался. Ему, в общем-то, было все равно на нейминг абсолютно. И когда ему нужно было придумать язык, там что-то с ABC у них было, он взял и сказал, ну пусть будет Python в честь Multipython. А логотип просто взял первый попавшийся шрифт и написал слово Python.\n",
            "он всё, больше ничего. Но в итоге язык начал немножко стать популярным, да, и люди, которые там писали книжки, ещё что-то, начали извращаться и рисовать всяких змей на обложках, там, на журналах, на сайтах и везде, то есть, а шрифт, в общем-то, мало кто пользовался. Если посмотрите Вику, то, в общем-то, можно понять, почему. Он такой страшненький, из шариков состоит, он ужасен, на самом деле, настолько пипец. Почему крыса нарисована, а не питон? Ну, потому что, наверное, питон ест крыс, это логично. И вот они в 2006-м придумали логотип как раз с двумя жёлтыми-синими питонами, ну и обновленный шрифт. То есть, просто люди заставили взять, и всё-таки люди проголосовали не за Monty Python, а за змей. Заребрендинг.\n",
            "## Раздел 1: Введение в ООП\n",
            "Но программисты очень быстро столкнулись с тем, что программы стали большими. И вот когда в такой условной программе где-то 10 тысяч строк кода, то читать такой код становится уже невозможно. И даже если сильно постараться все хорошо закомментировать и попробовать разбить этот код на файлы, все равно останется масса проблем. И вот для решения всей этой каши была придумана ООП или же Объектно Ориентированное Программирование. Основная идея которого лежит в основе того, что все состоит из объектов. В отличии, например, от того же процедурного программирования, где каждая программа это один большой кусок кода, состоящий из множества переменных блоков и функций.\n",
            "\n",
            "## Раздел 2: Основные концепции ООП\n",
            "То есть любая объектно ориентированная программа - это всегда набор компонентов, взаимодействующих друг с другом, и все они называются объектами. При этом здесь важно понимать то, что программист создает объекты таким образом, чтобы они все участвовали в выполнении задачи, но при этом каждый из них был бы обособленным. То есть каждый объект в программе отвечает только за себя и является полностью автономным самостоятельным компонентом. Дальше каждый такой объект может быть представлением чего-то реального, например клиент магазина или товар, которые могут являться частью целого интернет-магазина. Либо объект может представлять что-то абстрактное, что существует только в компьютере. Условно это может быть какая-то структура данных, точка на экране или что-то в таком духе. Но для программы это все не более чем просто набор объектов, каждый из которых общается с программой и взаимодействует с другими объектами посредством своего публичного интерфейса. А вот вся его внутренняя реализация, она полностью скрыта. И такой механизм называется инкапсуляция. То есть реализация объекта и его данные скрываются от других компонентов. Это бывает полезно тогда, когда к примеру доступ к какой-то переменной нужно предоставлять не напрямую, а с помощью специальных методов для чтения и записи. Да и вообще, если хорошо продумать и спроектировать всю программу, то благодаря инкапсуляции можно будет работать над каждой ее частью отдельно, не охватывая умом всю программу целиком. И еще в ООП есть такая штука, благодаря которой можно легко создавать огромные объекты, разбивая их на несколько маленьких. Другими словами, такие объекты могут собираться сразу из нескольких других, выступая своего рода агрегатором реализации. Например, можно взять два объекта, компьютер и монитор. Каждый из них реализует какой-то свой функционал. И дальше можно создать большой объект лэптоп, состоящий из более маленьких объектов компьютер и монитор. И такой принцип дает возможность сильно упростить сложность всей программы, а называется он наследование. Это еще один мощный инструмент объектно-ориентированного программирования.\n",
            "\n",
            "## Раздел 3: Применение ООП в программировании\n",
            "Все это позволяет создавать очень большие программы, над которыми могут работать сразу сотни или десятки тысяч программистов. Но при этом все они могут не знать, как устроена вся программа целиком. Потому что каждый из них будет работать лишь над ее отдельными частями. Ну и третий мощный инструмент ООП, который пока что можно пропустить, это полиморфизм. Потому что понимается он гораздо лучше тогда, когда вы уже изучите концепции ООП на практике. Пока что можете запомнить лишь то, что полиморфизм это когда функция способна обработать данные разных типов. Ну и по сути это все инструменты, которые имеются в ООП. Их всего три, а именно инкапсуляция, наследование и полиморфизм. И как видите ничего сложного в этом нет. Соответственно сегодня практически все языки программирования являются объектно-ориентированными. Сюда\n",
            "## Раздел 1: Введение в объектно-ориентированное программирование\n",
            "\n",
            "В этом разделе рассматривается понятие объектно-ориентированного программирования (ООП) и его основные принципы. Описывается, что такое классы, объекты, атрибуты и методы. Приводится пример создания класса color и объясняется, как работает инициализация объекта.\n",
            "\n",
            "## Раздел 2: Наследование и полиморфизм в ООП\n",
            "\n",
            "В этом разделе рассматривается концепция наследования и полиморфизма в объектно-ориентированном программировании. Объясняется, как создать класс KaleAlpha, который наследуется от класса Kale. Описывается, как добавить новый атрибут alpha и изменить инициализатор класса. Приводится пример создания экземпляра класса KaleAlpha.\n",
            "\n",
            "## Раздел 3: Алгоритмы сортировки на Python\n",
            "\n",
            "В этом разделе рассматриваются популярные алгоритмы сортировки и их реализация на языке Python. Описывается алгоритм пузырьковой сортировки, объясняется его принцип работы и оптимизация. Приводится пример времени сортировки в зависимости от количества элементов в списке. Затем рассматривается алгоритм сортировки выборкой и его принцип работы.\n",
            "\n",
            "## Раздел 4: Заключение\n",
            "\n",
            "В этом разделе подводятся итоги и делается вывод о том, что объектно-ориентированное программирование и алгоритмы сортировки являются важными концепциями в программировании. Предлагается дополнительный материал для изучения объектно-ориентированного программирования на языке Python. Завершается раздел призывом к подписке на канал и оставлению лайка.\n",
            "## Раздел 1: Сортировка выборкой\n",
            "На практике не нужно создавать новый список для отсортированных элементов. В качестве него используется крайняя левая часть списка. Находится наименьший элемент и меняется с первым местами.\n",
            "Теперь, когда нам известно, что первый элемент списка отсортирован, находим наименьший элемент из оставшихся и меняем местами со вторым. Повторяем это до тех пор, пока не останется последний элемент в списке.\n",
            "По мере увеличения значения i нужно проверять меньше элементов.\n",
            "Время сортировки\n",
            "Затраты времени на сортировку выборкой в среднем составляют O(n²), где n — количество элементов списка.\n",
            "\n",
            "## Раздел 2: Сортировка вставками\n",
            "Как и сортировка выборкой, этот алгоритм сегментирует список на две части: отсортированную и неотсортированную. Алгоритм перебирает второй сегмент и вставляет текущий элемент в правильную позицию первого сегмента.\n",
            "Алгоритм\n",
            "Предполагается, что первый элемент списка отсортирован. Переходим к следующему элементу, обозначим его х. Если х больше первого, оставляем его на своём месте. Если он меньше, копируем его на вторую позицию, а х устанавливаем как первый элемент.\n",
            "Переходя к другим элементам несортированного сегмента, перемещаем более крупные элементы в отсортированном сегменте вверх по списку, пока не встретим элемент меньше x или не дойдём до конца списка. В первом случае x помещается на правильную позицию.\n",
            "Время сортировки\n",
            "Время сортировки вставками в среднем равно O(n²), где n — количество элементов списка.\n",
            "\n",
            "## Раздел 3: Пирамидальная сортировка\n",
            "Также известна как сортировка кучей. Этот популярный алгоритм, как и сортировки вставками или выборкой, сегментирует список на две части: отсортированную и неотсортированную. Алгоритм преобразует второй сегмент списка в структуру данных «куча» (heap), чтобы можно было эффективно определить самый большой элемент.\n",
            "Алгоритм\n",
            "Сначала преобразуем список в Max Heap — бинарное дерево, где самый большой элемент является вершиной дерева. Затем помещаем этот элемент в конец списка. После перестраиваем Max Heap и снова помещаем новый наибольший элемент уже перед последним элементом в списке.\n",
            "Этот процесс построения кучи повторяется, пока все вершины дерева не будут удалены.\n",
            "Реализация\n",
            "Создадим вспомогательную функцию heapify() для реализации этого алгоритма:\n",
            "Время сортировки\n",
            "В среднем время сортировки кучей составляет O(n log n), что уже значительно быстрее предыдущих алгоритмов.\n",
            "\n",
            "## Раздел 4: Сортировка слиянием\n",
            "Этот алгоритм относится к алгоритмам «разделяй и властвуй». Он разбивает список на две части, каждую из них он разбивает ещё на две и т. д. Список разбивается пополам, пока не останутся единичные элементы.\n",
            "Соседние элементы становятся отсортированными парами. Затем эти пары объединяются и сортируются с другими парами. Этот процесс продолжается до тех пор, пока не отсортируются все элементы.\n",
            "Алгоритм\n",
            "Список рекурсивно разделяется пополам, пока в итоге не получатся списки размером в один элемент. Массив из одного элемента считается упорядоченным. Соседние элементы сравниваются и соединяются вместе. Это происходит до тех пор, пока не получится полный отсортированный список.\n",
            "Сортировка осуществляется путём сравнения наименьших элементов каждого подмассива. Первые элементы каждого подмассива сравниваются первыми. Наименьший элемент перемещается в результирующий массив. Счётчики результирующего массива и подмассива, откуда был взят элемент, увеличиваются на 1.\n",
            "Реализация\n",
            "Обратите внимание, что функция merge_sort(), в отличие от предыдущих алгоритмов, возвращает новый список, а не сортирует существующий. Поэтому такая сортировка требует больше памяти для создания нового списка того же размера, что и входной список.\n",
            "Время сортировки\n",
            "В среднем время сортировки слиянием составляет O(n log n).\n",
            "\n",
            "## Раздел 5: Быстрая сортировка\n",
            "Этот алгоритм также относится к алгоритмам «разделяй и властвуй». Его используют чаще других алгоритмов, описанных в этой статье. При правильной конфигурации он чрезвы\n",
            "## Введение\n",
            "Для сравнения сгенерируем массив из 5000 чисел от 0 до 1000. Затем определим время, необходимое для завершения каждого алгоритма. Повторим каждый метод 10 раз, чтобы можно было более точно установить, насколько каждый из них производителен.\n",
            "\n",
            "## Пузырьковая сортировка\n",
            "Пузырьковая сортировка — самый медленный из всех алгоритмов. Возможно, он будет полезен как введение в тему алгоритмов сортировки, но не подходит для практического использования.\n",
            "\n",
            "## Быстрая сортировка\n",
            "Быстрая сортировка хорошо оправдывает своё название, почти в два раза быстрее, чем сортировка слиянием, и не требуется дополнительное место для результирующего массива.\n",
            "\n",
            "## Сортировка вставками\n",
            "Сортировка вставками выполняет меньше сравнений, чем сортировка выборкой и в реальности должна быть производительнее, но в данном эксперименте она выполняется немного медленней. Сортировка вставками делает гораздо больше обменов элементами. Если эти обмены занимают намного больше времени, чем сравнение самих элементов, то такой результат вполне закономерен.\n",
            "\n",
            "## Заключение\n",
            "Вы познакомились с шестью различными алгоритмами сортировок на Python. Масштаб сравнения и количество перестановок, которые выполняет алгоритм вместе со средой выполнения кода, будут определяющими факторами в производительности. В реальных приложениях Python рекомендуется использовать встроенные функции сортировки, поскольку они реализованы именно для удобства разработчика.\n"
          ]
        }
      ]
    },
    {
      "cell_type": "code",
      "source": [
        "processed_text"
      ],
      "metadata": {
        "colab": {
          "base_uri": "https://localhost:8080/",
          "height": 139
        },
        "id": "761Y7n6GUgk1",
        "outputId": "496a5123-f6a3-40e6-f372-e389cb89447c"
      },
      "execution_count": null,
      "outputs": [
        {
          "output_type": "display_data",
          "data": {
            "text/plain": [
              "<IPython.core.display.HTML object>"
            ],
            "text/html": [
              "\n",
              "    <style>\n",
              "    pre {\n",
              "        white-space: pre-wrap;\n",
              "    }\n",
              "    </style>\n",
              "    "
            ]
          },
          "metadata": {}
        },
        {
          "output_type": "display_data",
          "data": {
            "text/plain": [
              "<IPython.core.display.HTML object>"
            ],
            "text/html": [
              "\n",
              "    <style>\n",
              "    pre {\n",
              "        white-space: pre-wrap;\n",
              "    }\n",
              "    </style>\n",
              "    "
            ]
          },
          "metadata": {}
        },
        {
          "output_type": "execute_result",
          "data": {
            "text/plain": [
              "'## Раздел 1: Введение в серию \"Читаем Луца\"\\nВсем привет, добро пожаловать. Этим стулом ГАМС начинает новую серию полукресел, а мы этим видео начинаем новую серию видео. Она будет называться «Читаем Луца». Когда человек, который начинает учить питон, спрашивает, что же мне почитать, наверное, процентов 90 разработчиков «Читай Луца», там все есть. Это такой огромный двухтомник, он жутко нудный, он очень подробный, он достаточно плохо переведен, иногда он очень постноязычен. Но, к сожалению, пожалуй, лучше, чем этот учебник, просто по базовому питону пока ничего нет. Мы будем читать это дело по главам, на каждую главу у нас будет, скорее всего, отдельный оратор, и он будет давать презентацию, а по ходу вот этой презентации я буду задавать вопросы, каверзные и не очень, ну или подкидывать тему для обсуждения. Мы тут не одни, зрители, которые безмолвно присутствуют у нас сейчас в чате, они тоже будут задавать вопросы, мы их будем или засчитывать в конце, или мы будем в процессе обсуждения с ними как-то подключаться. Сегодня на первую главу у нас будет читать Алексей Троянов. Привет, Алексей. Добрый день. Ну что, я не буду утомлять тебя софтами, давай, поехали, наверное, да? Включаю демонстрацию экрана. Да, совершенно так. Отлично. Добрый день, меня зовут Алексей, я студент факультета Backend Python, 27-я когорта. Сегодня предлагаю обсудить первую главу замечательной книги Марка Лутца «Изучаем Python». Что обсудим сегодня? Достоинства и недостатки Python, технические превосходства по сравнению с другими языками.\\n\\n## Раздел 2: Особенности книги \"Изучаем Python\"\\nпрограммирование так погоди минуту сразу некоторые вопросы у меня есть я обратил внимание что там 5 издание 5 издание оно вышло на английском это она на русском вышла в 19 году 19 20 на английском оно вышло в 2013 вот это очень важно это нужно понимать издание рассчитано на версию языка питон там даже 2 и 7 был но мы его как бы наверное не будем да но рассчитано на питон 3 3 что это значит как по-твоему какие недостатки то есть нам нужно понять границу применимости наших знаний которые мы сейчас будем обсуждать не могу сходу сказать разницу смотри то есть если говорить про сейчас вот уже 310 мы все-таки живем 22 но очевидно что какие-то фичи добавлены это совершенно точно я вот например на вскидку могу сказать про там хинт айп хинты про дата классы про какие-нибудь там кучу сахара там по тому что у нас нужно объединять словари например новыми вот этими вещами морж оператор и ниты в пакетах и прочее в принципе для первой главы не критично но для первой главы критично может быть вот что когда мы сравниваем это дело с какими-то другими языками вполне возможно что ситуация изменилась и вот эти граничные условия нам нужно иметь ввиду когда мы читаем эту книжку книжка хорошая но она есть у нее некоторые моменты просто из-за того что лучше не может ну это такая отскочим в сторону давай дальше\\n\\n## Раздел 3: Почему выбирают Python\\nЭто качество программного обеспечения. Пишем код мы один раз, а перечитываем его или используем многократно. Поэтому по замыслу Python должен быть читабельным, а значит сопровождение его намного легче, чем традиционных языков. Тем более при соблюдении PEP-8 он понятен, даже если написан не вами, а кем-то сторонним. Второе. Продуктивность труда разработчика. Код Python более краток и лаконичен. Аналогичный код Python по сравнению с плюсами или Java примерно на четверть короче. А это не только меньшие затраты при наборе кода, но и при отладке или сопровождении. Третье. Почему выбирают Python? Это переносимость программ, то есть кроссплатформенность. В большинстве случаев программы написаны на одной платформе, достаточно просто скопировать на другую операционную систему, где установлен Python. Четвертая причина. Это большое количество поддерживающих библиотек. В стандартной библиотеке входит большое количество расширений для различных прикладных задач. Кроме того, существуют библиотеки сторонних разработчиков, также охватывающие все сферы прикладного программирования. От веб-сайтов конструирования до низкоуровневого доступа к железу. Еще одна из причин – это интеграция компонентов. Python позволяет легко обращаться к библиотекам и взаимодействовать с другими\\n\\n## Возможные разделы:\\n\\n1. Варианты интеграции программ на плюсах и питоне:\\n   - Текст: \"тонячий файл или или не можем скорее всего можем только я не пользовался такой хитч ладно но смотри дальше как бы у нас есть на самом деле я вот себе вижу три варианта как мы все это можем сделать то есть мы например запускаем программу на плюсах она что-то там делает у себя до потом вызывает импортирует у себя скрипт питон до и что-то там ему отдает то есть фактически весь код питона мы можем запускать под контролем кода на си плюс но на плюсах на си плюс плюс второй вариант это что мы можем действительно взять и вызвать какую-нибудь функцию из модулей библиотеки вот когда мы исполняем питон и он плюс работает внутри питомного ну а третий вариант мне кажется что есть например две независимые программы 1 1 на плюсах другая на питон ну и они каким-то образом обмениваются информации то есть там общая память может быть каналы сигнала азбука морзе рест все что угодно но они работают независимо и соответственно между собой обмениваются как по-твоему какие вообще варианты вот из этих вот возможно мне кажется 1 2 это точно библиотеки и вызов кода в принципе обмен через какую-то стандартный интерфейс там рест это или что-то другое вполне возможно почему нет получается три варианта как мы можем интегрировать\"\\n\\n2. Наслаждение программированием:\\n   - Текст: \"окей давай про наслаждение программированием поговорим что для тебя лично наслаждение программированием чем кайф ну во-первых если говорить простым языком это заставить железяку сделать то что тебе нужно с другой стороны это должно быть увлекательно и приятно и легко они погружаясь там в низкоуровневые языки с тебе тебя ломает там обрабатывать ошибки управлять памятью все как и вот такой вещи если это как бы интуитивно понятно и легко обрабатывается почему бы нет а если для этого нужно там в ассемблер лезть, то это, наверное, сложновато.\"\\n\\n3. Язык написания сценариев:\\n   - Текст: \"Автор задается вопросом, является ли Python языком написания сценариев. Ух ты. А что такое вообще язык написания сценариев? Ну вот, как раз в том тексте, который я сейчас написал для этого слайда, я озвучиваю, как раз это и будет рассматриваться. Давай по-простому. Как ты себе это понимаешь? Что такое язык написания сценариев? Не луцевским языком, от которого мы как раз хотим отойти, а вот как, на твой взгляд, это все? Для меня ближайший язык написания сценариев – это первый вариант, который на слайде есть, это инструменты командной оболочки, то есть сценарии для управления системой, какие-то скрипты, утилитки и подобное. Слушай, ну, логично, потому что в Unix-систему он, например, прямо встроен, и, в общем-то, написать на нативном языке что-то, что работает с самой системой, ну, наверное, окей.\"\\n\\n4. Парадигмы программирования:\\n   - Текст: \"Я смотрю, у тебя есть процедурное, объектно-ориентированное и функциональное программирование. Ты выделил, а в чем между ними разница вообще? Соответственно, это три парадигмы программирования. Процедурное программирование – это стандартное программирование, которое было основополагающим, соответственно, последовательно выполнение каких-то простых действий. Потом пришло объектно-ориентированное программирование, где стали рассматриваться конкретные объекты и подходы работы с ними, такие как инкапсуляция, наследование, полиморфизм. По прошествии какого-то времени подошли к функциональному программированию. В нем отсутствуют операторы-условия, циклы. Все используется в основном в функции, которые могут вкладываться в друг друга, обертываться и так далее.\"\\n\\n5. Недостатки Python:\\n   - Текст: \"Знаю, что ты подготовился, прочитал текст. Кайф заключается в том, что у Питона есть… на нем писать быстро, но бесплатного ничего не бывает. За удобство надо оплатить скорость. Конечно. Почему частота внесения изменений – это минус, по-твоему? Наоборот, классно, мне кажется, язык развивается, придумываются новые фичи. Да, но возникает вопрос с поддержкой собственных ранее написанных программ. Соответственно, нужно отслеживать обратную совместимость своего кода. Проблема в том, что более новые программы используют старые фичи. То есть старые фичи тоже можно использовать.\"\\n\\n## Раздел 1: Внесение изменений в язык программирования Python\\nТекст: То есть, ну, например, та же самая строка, которая, не помню, в 3.6, по-моему, или в 3.7, в 3.6, по-моему, в питоне появилась, ну, до этого был формат. Но в 10, например, формат тоже используется без проблем. То есть можно форматировать строчку другими методами. То есть обратная совместимость. Мне кажется, все-таки частота внесения изменений тут в чем проблема больше в том, что если ты, например, читаешь курс по питону, ты такой «аааа», и тебе из зала такие «а это уже делается по-другому, чувак, ты чё?» Для преподавателей в основном, да. Да, мне кажется, это вот у Луца, он это в минус сделал. Это он просто про себя думает, что ж такое-то каждый год книжку писать. Это я улучшусь, кто же её купит. И Луц не говорит про отрицательные стороны, он говорит именно про компромиссы, которые возникают из-за тех или иных событий.\\n\\n## Раздел 2: Проблема с обратной совместимостью и поддержкой кода\\nТекст: Слушай, а батарейка в комплекте, что это значит? Ну, с точки зрения Луца, батарейка в комплекте – это когда всё включено, что с питоном поставляется большое количество библиотек, инструментов, и иногда привязывание к тому или иному инструменту со временем может как бы… ну ты его можешь перерасти, а поддерживать… бывает, что, как он говорит, батарейка изменяется или повреждается или устаревает, соответственно, нужно поддерживать этот код свой. Слушай, ну, блин, проблема легоси, она, в общем-то, характерна для программирования. У меня есть ребята, которые работают в Яндексе, правда, они с этого проекта уже ушли, у которых там в одном месте вообще джанга, не соврать, 1.3 что ли, 1.4, просто потому что к ней приплели стороннюю библиотеку, которая как-то очень слабо обновляется, и ничего не получается. В общем, с одной стороны, оно работает, с другой стороны, как-то развивать это сложно, с третьей стороны, ну, блин, работать не трогай, и деньги на рефакторинг как-то… ну, не нашлось его ресурсов, ни денег. Возможно, из новой версии будет дороже себе.\\n\\n## Раздел 3: Проблемы с открытым кодом и недостатки Python\\nТекст: И мне кажется, эта проблема в общем даже не питона, а проблема самого программирования. Слушай, ну, а вот если говорить… просто я не знаю твоих следующих слайдов там будет про пеп отлично самое время поговорить про вот это вот все ну системное программирование мы с тобой обсуждали да это же у нас всякие вот управление утилитки которые позволяют работать с системой то есть ну графические интерфейсы это у него тоже какой-то мне кажется в книжке там какая-то старость написано я почти уверен что есть и более современные фреймворки будет классно кстати если ребят напишут в комментариях какими вот какими фреймворками и какими вещами они используются то есть для графических интерфейсов для интернета для интеграции компонентов для баз данных для но вот прототипирование это такая вещь то есть в общем-то здесь наверное это как-то более объединенные цена но наука это скорее всего майпай какой-нибудь то есть наверное ничего нового не придумали\\n\\n## Раздел 4: Преимущества использования PEP и системного программирования\\nТекст: Вот эти вот проблемы они по большому счету лечатся тем, что мы используем PEP, то есть все изменения сначала тщательно обкатываются должны, ну вот в идеале, и потом только обсуждаются комьюнити, да и потом только принимаются или не принимаются. Но кажется, что лучшего варианта вообще нельзя предусматр\\n\\n## Раздел 1: Введение в различные технологии и языки программирования\\nХотя будет классно, если вы нам расскажете. Игры, роботы, таблицы Excel и всякое вот это, там вообще очень большой пласт, и здесь, конечно, Lutz немножко устарел, потому что здесь можно добавить еще и компьютерное зрение, распознавание образов, и вот это вот, да-да-да, то есть как бы Machine Learning, вот эту вот всю бодягу можно в общем-то сделать. Вот народ накидывает ухо, Kiwi, Qt, Tinkter, SQLAlchemy, OpenXL, OpenPyXL, нифига себе. — Тинктер как раз у Lutz и указывается. — А, слушай, ну видимо кто-то пережил. Я у него посмотрел фреймворки, которые он рассказывает про web, честно говоря, я только Django знаю, но, наверное, остальные куда-то канули в лето, почему-то нету у него фласка, непонятно. То есть по-хорошему здесь можно взять и накидать, у него, кстати, FastType тоже нет. Вот, взять и накидать всяких интересных названий, которые вообще часто используются и используются в вашей жизни. Ребят, не стесняйтесь, давайте сделаем книжку Lutz еще лучше и еще интереснее тем, что она будет актуальная. Да, еще Tortoise есть, вот, для баз данных, я точно знаю. Поехали дальше, посмотрим, что еще.\\n\\n## Раздел 2: Технические превосходства языка программирования Python\\nПрекрасно, давай поговорим про технические. Объектно-ориентированное функциональное мы уже разобрали чуть раньше. Соответственно, в книжке говорится о том, что он первоначально был... Потерялся, сейчас, секунду. В общем, он легкий скриптовый язык, плюс подключены к нему объектно-ориентированные фишки, плюс добавилась функциональность. — Ну, то есть он сначала был процедурщиной, да? То есть он был процедурным языком, а потом на него всякая наработка.\\n\\n## Раздел 3: Различные типы языков программирования и их особенности\\nОкей, бесплатно – это круто. Слушай, интересно, есть вообще нормальные платные языки по подписке, прикинь? То есть ты можешь программировать по подписке каждый месяц за то, что ты программируешь. Да, на чудесном языке ты должен бабла платить. Я, честно говоря, мне сложно сейчас представить. Тут, наверное, всё-таки говорится о открытых и закрытых. В том смысле, что тот же самый Visual Basic, он проприетарный. Те, которые разрабатываются закрытыми коммерческими предприятиями, компаниями. Гошечка, например, да? А, слушай, нам нельзя рекламировать продукты этой фирмы. Мы не рекламируем, мы просто говорим, что есть такой язык. Не пользуйтесь им, это плохой язык. Или пользуйтесь, но на свой страх и риск. Вы должны понимать и осознавать. Слушай, переносимый, то есть есть непереносимый? Непереносимый. Ну, это такая сложность перевода, соответственно, это о кросс-платформенности. Ну да, то есть, наверное, у нас переводчик не программист это всё переводил, поэтому действительно он будет исполнять. Хотя, насколько я помню, для винды нам и интерпретатор всё-таки надо ставить. Ну да, поэтому ставится интерпретатор. Да, он из коробки в винде не идёт, ну как бы ладно, окей. Мощный, слушай, динамическая типизация, честно говоря, здесь он прям вообще попал не туда, потому что сейчас питон со всей мощью скачет в сторону тайп-хинтинга, вот этой вот аннотации типов, потому что, чтобы, видимо, работать быстрее, наверное, так. Аннотация типов не отменяет же динамическая типизация? Нет, она не отменяет, но получается какая-то интересная штука, на двух стульях сидим, то есть, с одной стороны, мы как бы типизируем динамически, но, в общем-то, при инициализации мы явно задаём класс и, в общем-то, сильно ругаемся, если это всё... задаём тип и сильно ругаемся, если посредств\\n\\n## Раздел 1: Введение в ООП\\n\\nОкей, смешиваемый. С чем? Слушай, смешать, но не взбалтывать. Или наоборот, взбалтать, но не смешивать. Не помню, как там, правильно? Это как раз, наверное, повтор про программирование в большом, о том, что самыми разнообразными способами можно вызывать IP-интерфейс на C, имеющийся в Python, и наоборот, как бы... Ну да, слушай, ну возможно. Так, ну простой в использовании изучение, все признается в сравнении. Да, относительно. Basic намного проще, а уж Pascal-то, баааа. Ну у Basic есть другие недостатки. Да слушай, ну везде, то есть книг в любой язычок можно взять и недостатков-то наковырять. Слушай, группа Multipython, ты что-нибудь смотрел из нее? Узнал только, когда начал приобщаться к Python, не смотрел ничего. Такие поверхностные знания. Ясно, ну там, знаешь, такой интересный английский юмор, достаточно специфический. Слушай, это не сериал, это группа как раз комиков. Комик-группа. Да, и они делали в том числе и сериал, про Graal что-то. Кстати, там очень классный, он очень легкий язык. Сильно рекомендую его для изучения английского. Ну, например, с подстрочником, у них хорошие произношения, мне очень нравятся. Теперь, внимание, вопрос. Ну, назван он в честь группы Multipython, а почему на логотипе у него бетон? Возможно, чтобы как-то зашифровать это, чтобы несерьезно как-то в честь группы Multipython комиков называть язык. Да нет, слушай, на самом деле там интересная история. Я погуглил, каюсь грешен. Но это было давно, потому что мне тоже было интересно, почему Python, а вообще бетон. Просто Гвидо, он тот еще раздолбай оказался. Ему, в общем-то, было все равно на нейминг абсолютно. И когда ему нужно было придумать язык, там что-то с ABC у них было, он взял и сказал, ну пусть будет Python в честь Multipython. А логотип просто взял первый попавшийся шрифт и написал слово Python.\\nон всё, больше ничего. Но в итоге язык начал немножко стать популярным, да, и люди, которые там писали книжки, ещё что-то, начали извращаться и рисовать всяких змей на обложках, там, на журналах, на сайтах и везде, то есть, а шрифт, в общем-то, мало кто пользовался. Если посмотрите Вику, то, в общем-то, можно понять, почему. Он такой страшненький, из шариков состоит, он ужасен, на самом деле, настолько пипец. Почему крыса нарисована, а не питон? Ну, потому что, наверное, питон ест крыс, это логично. И вот они в 2006-м придумали логотип как раз с двумя жёлтыми-синими питонами, ну и обновленный шрифт. То есть, просто люди заставили взять, и всё-таки люди проголосовали не за Monty Python, а за змей. Заребрендинг.\\n\\n## Раздел 1: Введение в ООП\\nНо программисты очень быстро столкнулись с тем, что программы стали большими. И вот когда в такой условной программе где-то 10 тысяч строк кода, то читать такой код становится уже невозможно. И даже если сильно постараться все хорошо закомментировать и попробовать разбить этот код на файлы, все равно останется масса проблем. И вот для решения всей этой каши была придумана ООП или же Объектно Ориентированное Программирование. Основная идея которого лежит в основе того, что все состоит из объектов. В отличии, например, от того же процедурного программирования, где каждая программа это один большой кусок кода, состоящий из множества переменных блоков и функций.\\n\\n## Раздел 2: Основные концепции ООП\\nТо есть любая объектно ориентированная программа - это всегда набор компонентов, взаимодействующих друг с другом, и все они называются объектами. При этом здесь важно понимать то, что программист создает объекты таким образом, чтобы они все участвовали в выполнении задачи, но при этом каждый из них был бы обособленным. То есть каждый объект в программе отвечает только за себя и является полностью автономным самостоятельным компонентом. Дальше каждый такой объект может быть представлением чего-то реального, например клиент магазина или товар, которые могут являться частью целого интернет-магазина. Либо объект может представлять что-то абстрактное, что существует только в компьютере. Условно это может быть какая-то структура данных, точка на экране или что-то в таком духе. Но для программы это все не более чем просто набор объектов, каждый из которых общается с программой и взаимодействует с другими объектами посредством своего публичного интерфейса. А вот вся его внутренняя реализация, она полностью скрыта. И такой механизм называется инкапсуляция. То есть реализация объекта и его данные скрываются от других компонентов. Это бывает полезно тогда, когда к примеру доступ к какой-то переменной нужно предоставлять не напрямую, а с помощью специальных методов для чтения и записи. Да и вообще, если хорошо продумать и спроектировать всю программу, то благодаря инкапсуляции можно будет работать над каждой ее частью отдельно, не охватывая умом всю программу целиком. И еще в ООП есть такая штука, благодаря которой можно легко создавать огромные объекты, разбивая их на несколько маленьких. Другими словами, такие объекты могут собираться сразу из нескольких других, выступая своего рода агрегатором реализации. Например, можно взять два объекта, компьютер и монитор. Каждый из них реализует какой-то свой функционал. И дальше можно создать большой объект лэптоп, состоящий из более маленьких объектов компьютер и монитор. И такой принцип дает возможность сильно упростить сложность всей программы, а называется он наследование. Это еще один мощный инструмент объектно-ориентированного программирования.\\n\\n## Раздел 3: Применение ООП в программировании\\nВсе это позволяет создавать очень большие программы, над которыми могут работать сразу сотни или десятки тысяч программистов. Но при этом все они могут не знать, как устроена вся программа целиком. Потому что каждый из них будет работать лишь над ее отдельными частями. Ну и третий мощный инструмент ООП, который пока что можно пропустить, это полиморфизм. Потому что понимается он гораздо лучше тогда, когда вы уже изучите концепции ООП на практике. Пока что можете запомнить лишь то, что полиморфизм это когда функция способна обработать данные разных типов. Ну и по сути это все инструменты, которые имеются в ООП. Их всего три, а именно инкапсуляция, наследование и полиморфизм. И как видите ничего сложного в этом нет. Соответственно сегодня практически все языки программирования являются объектно-ориентированными. Сюда\\n\\n## Раздел 1: Введение в объектно-ориентированное программирование\\n\\nВ этом разделе рассматривается понятие объектно-ориентированного программирования (ООП) и его основные принципы. Описывается, что такое классы, объекты, атрибуты и методы. Приводится пример создания класса color и объясняется, как работает инициализация объекта.\\n\\n## Раздел 2: Наследование и полиморфизм в ООП\\n\\nВ этом разделе рассматривается концепция наследования и полиморфизма в объектно-ориентированном программировании. Объясняется, как создать класс KaleAlpha, который наследуется от класса Kale. Описывается, как добавить новый атрибут alpha и изменить инициализатор класса. Приводится пример создания экземпляра класса KaleAlpha.\\n\\n## Раздел 3: Алгоритмы сортировки на Python\\n\\nВ этом разделе рассматриваются популярные алгоритмы сортировки и их реализация на языке Python. Описывается алгоритм пузырьковой сортировки, объясняется его принцип работы и оптимизация. Приводится пример времени сортировки в зависимости от количества элементов в списке. Затем рассматривается алгоритм сортировки выборкой и его принцип работы.\\n\\n## Раздел 4: Заключение\\n\\nВ этом разделе подводятся итоги и делается вывод о том, что объектно-ориентированное программирование и алгоритмы сортировки являются важными концепциями в программировании. Предлагается дополнительный материал для изучения объектно-ориентированного программирования на языке Python. Завершается раздел призывом к подписке на канал и оставлению лайка.\\n\\n## Раздел 1: Сортировка выборкой\\nНа практике не нужно создавать новый список для отсортированных элементов. В качестве него используется крайняя левая часть списка. Находится наименьший элемент и меняется с первым местами.\\nТеперь, когда нам известно, что первый элемент списка отсортирован, находим наименьший элемент из оставшихся и меняем местами со вторым. Повторяем это до тех пор, пока не останется последний элемент в списке.\\nПо мере увеличения значения i нужно проверять меньше элементов.\\nВремя сортировки\\nЗатраты времени на сортировку выборкой в среднем составляют O(n²), где n — количество элементов списка.\\n\\n## Раздел 2: Сортировка вставками\\nКак и сортировка выборкой, этот алгоритм сегментирует список на две части: отсортированную и неотсортированную. Алгоритм перебирает второй сегмент и вставляет текущий элемент в правильную позицию первого сегмента.\\nАлгоритм\\nПредполагается, что первый элемент списка отсортирован. Переходим к следующему элементу, обозначим его х. Если х больше первого, оставляем его на своём месте. Если он меньше, копируем его на вторую позицию, а х устанавливаем как первый элемент.\\nПереходя к другим элементам несортированного сегмента, перемещаем более крупные элементы в отсортированном сегменте вверх по списку, пока не встретим элемент меньше x или не дойдём до конца списка. В первом случае x помещается на правильную позицию.\\nВремя сортировки\\nВремя сортировки вставками в среднем равно O(n²), где n — количество элементов списка.\\n\\n## Раздел 3: Пирамидальная сортировка\\nТакже известна как сортировка кучей. Этот популярный алгоритм, как и сортировки вставками или выборкой, сегментирует список на две части: отсортированную и неотсортированную. Алгоритм преобразует второй сегмент списка в структуру данных «куча» (heap), чтобы можно было эффективно определить самый большой элемент.\\nАлгоритм\\nСначала преобразуем список в Max Heap — бинарное дерево, где самый большой элемент является вершиной дерева. Затем помещаем этот элемент в конец списка. После перестраиваем Max Heap и снова помещаем новый наибольший элемент уже перед последним элементом в списке.\\nЭтот процесс построения кучи повторяется, пока все вершины дерева не будут удалены.\\nРеализация\\nСоздадим вспомогательную функцию heapify() для реализации этого алгоритма:\\nВремя сортировки\\nВ среднем время сортировки кучей составляет O(n log n), что уже значительно быстрее предыдущих алгоритмов.\\n\\n## Раздел 4: Сортировка слиянием\\nЭтот алгоритм относится к алгоритмам «разделяй и властвуй». Он разбивает список на две части, каждую из них он разбивает ещё на две и т. д. Список разбивается пополам, пока не останутся единичные элементы.\\nСоседние элементы становятся отсортированными парами. Затем эти пары объединяются и сортируются с другими парами. Этот процесс продолжается до тех пор, пока не отсортируются все элементы.\\nАлгоритм\\nСписок рекурсивно разделяется пополам, пока в итоге не получатся списки размером в один элемент. Массив из одного элемента считается упорядоченным. Соседние элементы сравниваются и соединяются вместе. Это происходит до тех пор, пока не получится полный отсортированный список.\\nСортировка осуществляется путём сравнения наименьших элементов каждого подмассива. Первые элементы каждого подмассива сравниваются первыми. Наименьший элемент перемещается в результирующий массив. Счётчики результирующего массива и подмассива, откуда был взят элемент, увеличиваются на 1.\\nРеализация\\nОбратите внимание, что функция merge_sort(), в отличие от предыдущих алгоритмов, возвращает новый список, а не сортирует существующий. Поэтому такая сортировка требует больше памяти для создания нового списка того же размера, что и входной список.\\nВремя сортировки\\nВ среднем время сортировки слиянием составляет O(n log n).\\n\\n## Раздел 5: Быстрая сортировка\\nЭтот алгоритм также относится к алгоритмам «разделяй и властвуй». Его используют чаще других алгоритмов, описанных в этой статье. При правильной конфигурации он чрезвы\\n\\n## Введение\\nДля сравнения сгенерируем массив из 5000 чисел от 0 до 1000. Затем определим время, необходимое для завершения каждого алгоритма. Повторим каждый метод 10 раз, чтобы можно было более точно установить, насколько каждый из них производителен.\\n\\n## Пузырьковая сортировка\\nПузырьковая сортировка — самый медленный из всех алгоритмов. Возможно, он будет полезен как введение в тему алгоритмов сортировки, но не подходит для практического использования.\\n\\n## Быстрая сортировка\\nБыстрая сортировка хорошо оправдывает своё название, почти в два раза быстрее, чем сортировка слиянием, и не требуется дополнительное место для результирующего массива.\\n\\n## Сортировка вставками\\nСортировка вставками выполняет меньше сравнений, чем сортировка выборкой и в реальности должна быть производительнее, но в данном эксперименте она выполняется немного медленней. Сортировка вставками делает гораздо больше обменов элементами. Если эти обмены занимают намного больше времени, чем сравнение самих элементов, то такой результат вполне закономерен.\\n\\n## Заключение\\nВы познакомились с шестью различными алгоритмами сортировок на Python. Масштаб сравнения и количество перестановок, которые выполняет алгоритм вместе со средой выполнения кода, будут определяющими факторами в производительности. В реальных приложениях Python рекомендуется использовать встроенные функции сортировки, поскольку они реализованы именно для удобства разработчика.\\n\\n'"
            ],
            "application/vnd.google.colaboratory.intrinsic+json": {
              "type": "string"
            }
          },
          "metadata": {},
          "execution_count": 45
        }
      ]
    },
    {
      "cell_type": "code",
      "source": [
        "# Определяем заголовки, на которые следует разбить текст\n",
        "headers_to_split_on = [\n",
        "    (\"##\", \"Header 2\")\n",
        "    ]\n",
        "# Создаем объект для разбиения текста на секции по заголовкам\n",
        "markdown_splitter = MarkdownHeaderTextSplitter(headers_to_split_on=headers_to_split_on)\n",
        "\n",
        "# Получаем список документов, разбитых по заголовкам\n",
        "md_header_splits = markdown_splitter.split_text(processed_text)"
      ],
      "metadata": {
        "colab": {
          "base_uri": "https://localhost:8080/",
          "height": 17
        },
        "id": "83gKOKfEUhe-",
        "outputId": "fd64fb42-07da-40a4-8c51-38400ec112ba"
      },
      "execution_count": null,
      "outputs": [
        {
          "output_type": "display_data",
          "data": {
            "text/plain": [
              "<IPython.core.display.HTML object>"
            ],
            "text/html": [
              "\n",
              "    <style>\n",
              "    pre {\n",
              "        white-space: pre-wrap;\n",
              "    }\n",
              "    </style>\n",
              "    "
            ]
          },
          "metadata": {}
        },
        {
          "output_type": "display_data",
          "data": {
            "text/plain": [
              "<IPython.core.display.HTML object>"
            ],
            "text/html": [
              "\n",
              "    <style>\n",
              "    pre {\n",
              "        white-space: pre-wrap;\n",
              "    }\n",
              "    </style>\n",
              "    "
            ]
          },
          "metadata": {}
        }
      ]
    },
    {
      "cell_type": "code",
      "source": [
        "md_header_splits[:1]"
      ],
      "metadata": {
        "colab": {
          "base_uri": "https://localhost:8080/",
          "height": 208
        },
        "id": "jLBP-hmAUhig",
        "outputId": "068f8e3a-4885-40fd-83ab-efa90559e6ba"
      },
      "execution_count": null,
      "outputs": [
        {
          "output_type": "display_data",
          "data": {
            "text/plain": [
              "<IPython.core.display.HTML object>"
            ],
            "text/html": [
              "\n",
              "    <style>\n",
              "    pre {\n",
              "        white-space: pre-wrap;\n",
              "    }\n",
              "    </style>\n",
              "    "
            ]
          },
          "metadata": {}
        },
        {
          "output_type": "display_data",
          "data": {
            "text/plain": [
              "<IPython.core.display.HTML object>"
            ],
            "text/html": [
              "\n",
              "    <style>\n",
              "    pre {\n",
              "        white-space: pre-wrap;\n",
              "    }\n",
              "    </style>\n",
              "    "
            ]
          },
          "metadata": {}
        },
        {
          "output_type": "execute_result",
          "data": {
            "text/plain": [
              "[Document(page_content='Всем привет, добро пожаловать. Этим стулом ГАМС начинает новую серию полукресел, а мы этим видео начинаем новую серию видео. Она будет называться «Читаем Луца». Когда человек, который начинает учить питон, спрашивает, что же мне почитать, наверное, процентов 90 разработчиков «Читай Луца», там все есть. Это такой огромный двухтомник, он жутко нудный, он очень подробный, он достаточно плохо переведен, иногда он очень постноязычен. Но, к сожалению, пожалуй, лучше, чем этот учебник, просто по базовому питону пока ничего нет. Мы будем читать это дело по главам, на каждую главу у нас будет, скорее всего, отдельный оратор, и он будет давать презентацию, а по ходу вот этой презентации я буду задавать вопросы, каверзные и не очень, ну или подкидывать тему для обсуждения. Мы тут не одни, зрители, которые безмолвно присутствуют у нас сейчас в чате, они тоже будут задавать вопросы, мы их будем или засчитывать в конце, или мы будем в процессе обсуждения с ними как-то подключаться. Сегодня на первую главу у нас будет читать Алексей Троянов. Привет, Алексей. Добрый день. Ну что, я не буду утомлять тебя софтами, давай, поехали, наверное, да? Включаю демонстрацию экрана. Да, совершенно так. Отлично. Добрый день, меня зовут Алексей, я студент факультета Backend Python, 27-я когорта. Сегодня предлагаю обсудить первую главу замечательной книги Марка Лутца «Изучаем Python». Что обсудим сегодня? Достоинства и недостатки Python, технические превосходства по сравнению с другими языками.', metadata={'Header 2': 'Раздел 1: Введение в серию \"Читаем Луца\"'})]"
            ]
          },
          "metadata": {},
          "execution_count": 50
        }
      ]
    },
    {
      "cell_type": "code",
      "source": [
        "# Инициализирум модель эмбеддингов\n",
        "embeddings = OpenAIEmbeddings()\n",
        "\n",
        "# Создадим индексную базу из разделенных фрагментов текста\n",
        "db = FAISS.from_documents(md_header_splits, embeddings)"
      ],
      "metadata": {
        "colab": {
          "base_uri": "https://localhost:8080/",
          "height": 17
        },
        "id": "QdvJdW0DU1Fw",
        "outputId": "53ac3d6f-ba9c-4a9b-e724-d3efda38f716"
      },
      "execution_count": null,
      "outputs": [
        {
          "output_type": "display_data",
          "data": {
            "text/plain": [
              "<IPython.core.display.HTML object>"
            ],
            "text/html": [
              "\n",
              "    <style>\n",
              "    pre {\n",
              "        white-space: pre-wrap;\n",
              "    }\n",
              "    </style>\n",
              "    "
            ]
          },
          "metadata": {}
        },
        {
          "output_type": "display_data",
          "data": {
            "text/plain": [
              "<IPython.core.display.HTML object>"
            ],
            "text/html": [
              "\n",
              "    <style>\n",
              "    pre {\n",
              "        white-space: pre-wrap;\n",
              "    }\n",
              "    </style>\n",
              "    "
            ]
          },
          "metadata": {}
        }
      ]
    },
    {
      "cell_type": "code",
      "source": [
        "system_for_NA = \"Вы преподаватель по языку Puthon. Ваша задача - ответить на вопрос студента только на основе представленных вам документов, не добавляя ничего из собственных знаний.\""
      ],
      "metadata": {
        "colab": {
          "base_uri": "https://localhost:8080/",
          "height": 17
        },
        "id": "6htMg5x7U3ay",
        "outputId": "b1e00fbf-73b3-4683-8669-39ceb1562d46"
      },
      "execution_count": null,
      "outputs": [
        {
          "output_type": "display_data",
          "data": {
            "text/plain": [
              "<IPython.core.display.HTML object>"
            ],
            "text/html": [
              "\n",
              "    <style>\n",
              "    pre {\n",
              "        white-space: pre-wrap;\n",
              "    }\n",
              "    </style>\n",
              "    "
            ]
          },
          "metadata": {}
        },
        {
          "output_type": "display_data",
          "data": {
            "text/plain": [
              "<IPython.core.display.HTML object>"
            ],
            "text/html": [
              "\n",
              "    <style>\n",
              "    pre {\n",
              "        white-space: pre-wrap;\n",
              "    }\n",
              "    </style>\n",
              "    "
            ]
          },
          "metadata": {}
        }
      ]
    },
    {
      "cell_type": "code",
      "source": [
        "def answer_neuro_assist(system, topic, search_index, verbose=1):\n",
        "\n",
        "    # Поиск релевантных отрезков из базы знаний\n",
        "    docs = search_index.similarity_search(topic, k=3)\n",
        "    if verbose: print('\\n ===========================================: ')\n",
        "    message_content = re.sub(r'\\n{2}', ' ', '\\n '.join([f'\\nExcerpt of document №{i+1}\\n=====================' + doc.page_content + '\\n' for i, doc in enumerate(docs)]))\n",
        "    if verbose: print('message_content :\\n ======================================== \\n', message_content)\n",
        "\n",
        "    messages = [\n",
        "        {\"role\": \"system\", \"content\": system_for_NA},\n",
        "        {\"role\": \"user\", \"content\": f\"Answer the student's question. Answer in Russian. Do not mention the excerpts of the student response information document in your answer. Student response document: {message_content}\\n\\nStudent Question: \\n{topic}\"}\n",
        "    ]\n",
        "\n",
        "    if verbose: print('\\n ===========================================: ')\n",
        "\n",
        "    completion = openai.ChatCompletion.create(\n",
        "        model=\"gpt-3.5-turbo\",\n",
        "        messages=messages,\n",
        "        temperature=0\n",
        "    )\n",
        "    answer = completion.choices[0].message.content\n",
        "    return answer  # возвращает ответ"
      ],
      "metadata": {
        "colab": {
          "base_uri": "https://localhost:8080/",
          "height": 17
        },
        "id": "kg-vhh9eVp1M",
        "outputId": "befb3951-a7c1-4910-998b-ca8dac146a70"
      },
      "execution_count": null,
      "outputs": [
        {
          "output_type": "display_data",
          "data": {
            "text/plain": [
              "<IPython.core.display.HTML object>"
            ],
            "text/html": [
              "\n",
              "    <style>\n",
              "    pre {\n",
              "        white-space: pre-wrap;\n",
              "    }\n",
              "    </style>\n",
              "    "
            ]
          },
          "metadata": {}
        },
        {
          "output_type": "display_data",
          "data": {
            "text/plain": [
              "<IPython.core.display.HTML object>"
            ],
            "text/html": [
              "\n",
              "    <style>\n",
              "    pre {\n",
              "        white-space: pre-wrap;\n",
              "    }\n",
              "    </style>\n",
              "    "
            ]
          },
          "metadata": {}
        }
      ]
    },
    {
      "cell_type": "code",
      "source": [
        "# Проверяем работу\n",
        "topic=\"Что такое ООП?\"\n",
        "ans=answer_neuro_assist(system, topic, db, verbose=1)\n",
        "ans"
      ],
      "metadata": {
        "colab": {
          "base_uri": "https://localhost:8080/",
          "height": 694
        },
        "id": "mSWBWzDCVtGt",
        "outputId": "222e510b-5f6e-42b7-e9f0-f67ae8c3d3d6"
      },
      "execution_count": null,
      "outputs": [
        {
          "output_type": "display_data",
          "data": {
            "text/plain": [
              "<IPython.core.display.HTML object>"
            ],
            "text/html": [
              "\n",
              "    <style>\n",
              "    pre {\n",
              "        white-space: pre-wrap;\n",
              "    }\n",
              "    </style>\n",
              "    "
            ]
          },
          "metadata": {}
        },
        {
          "output_type": "display_data",
          "data": {
            "text/plain": [
              "<IPython.core.display.HTML object>"
            ],
            "text/html": [
              "\n",
              "    <style>\n",
              "    pre {\n",
              "        white-space: pre-wrap;\n",
              "    }\n",
              "    </style>\n",
              "    "
            ]
          },
          "metadata": {}
        },
        {
          "output_type": "stream",
          "name": "stdout",
          "text": [
            "\n",
            " ===========================================: \n",
            "message_content :\n",
            " ======================================== \n",
            " \n",
            "Excerpt of document №1\n",
            "=====================В этом разделе рассматривается понятие объектно-ориентированного программирования (ООП) и его основные принципы. Описывается, что такое классы, объекты, атрибуты и методы. Приводится пример создания класса color и объясняется, как работает инициализация объекта.  \n",
            "Excerpt of document №2\n",
            "=====================Все это позволяет создавать очень большие программы, над которыми могут работать сразу сотни или десятки тысяч программистов. Но при этом все они могут не знать, как устроена вся программа целиком. Потому что каждый из них будет работать лишь над ее отдельными частями. Ну и третий мощный инструмент ООП, который пока что можно пропустить, это полиморфизм. Потому что понимается он гораздо лучше тогда, когда вы уже изучите концепции ООП на практике. Пока что можете запомнить лишь то, что полиморфизм это когда функция способна обработать данные разных типов. Ну и по сути это все инструменты, которые имеются в ООП. Их всего три, а именно инкапсуляция, наследование и полиморфизм. И как видите ничего сложного в этом нет. Соответственно сегодня практически все языки программирования являются объектно-ориентированными. Сюда  \n",
            "Excerpt of document №3\n",
            "=====================То есть любая объектно ориентированная программа - это всегда набор компонентов, взаимодействующих друг с другом, и все они называются объектами. При этом здесь важно понимать то, что программист создает объекты таким образом, чтобы они все участвовали в выполнении задачи, но при этом каждый из них был бы обособленным. То есть каждый объект в программе отвечает только за себя и является полностью автономным самостоятельным компонентом. Дальше каждый такой объект может быть представлением чего-то реального, например клиент магазина или товар, которые могут являться частью целого интернет-магазина. Либо объект может представлять что-то абстрактное, что существует только в компьютере. Условно это может быть какая-то структура данных, точка на экране или что-то в таком духе. Но для программы это все не более чем просто набор объектов, каждый из которых общается с программой и взаимодействует с другими объектами посредством своего публичного интерфейса. А вот вся его внутренняя реализация, она полностью скрыта. И такой механизм называется инкапсуляция. То есть реализация объекта и его данные скрываются от других компонентов. Это бывает полезно тогда, когда к примеру доступ к какой-то переменной нужно предоставлять не напрямую, а с помощью специальных методов для чтения и записи. Да и вообще, если хорошо продумать и спроектировать всю программу, то благодаря инкапсуляции можно будет работать над каждой ее частью отдельно, не охватывая умом всю программу целиком. И еще в ООП есть такая штука, благодаря которой можно легко создавать огромные объекты, разбивая их на несколько маленьких. Другими словами, такие объекты могут собираться сразу из нескольких других, выступая своего рода агрегатором реализации. Например, можно взять два объекта, компьютер и монитор. Каждый из них реализует какой-то свой функционал. И дальше можно создать большой объект лэптоп, состоящий из более маленьких объектов компьютер и монитор. И такой принцип дает возможность сильно упростить сложность всей программы, а называется он наследование. Это еще один мощный инструмент объектно-ориентированного программирования.\n",
            "\n",
            "\n",
            " ===========================================: \n"
          ]
        },
        {
          "output_type": "execute_result",
          "data": {
            "text/plain": [
              "'ООП (объектно-ориентированное программирование) - это подход к разработке программного обеспечения, основанный на концепции объектов. В ООП программа представляет собой набор взаимодействующих объектов, каждый из которых имеет свои собственные данные и функциональность. Объекты взаимодействуют друг с другом, обмениваясь сообщениями и вызывая методы других объектов. ООП позволяет создавать модульные и масштабируемые программы, где каждый объект выполняет свою задачу, но при этом является частью более крупной системы. Основные принципы ООП включают инкапсуляцию, наследование и полиморфизм.'"
            ],
            "application/vnd.google.colaboratory.intrinsic+json": {
              "type": "string"
            }
          },
          "metadata": {},
          "execution_count": 55
        }
      ]
    },
    {
      "cell_type": "code",
      "source": [
        "# Проверяем работу\n",
        "topic=\"Какая самая медленная сортировка?\"\n",
        "ans=answer_neuro_assist(system, topic, db, verbose=1)\n",
        "ans"
      ],
      "metadata": {
        "colab": {
          "base_uri": "https://localhost:8080/",
          "height": 347
        },
        "id": "3X7p0c6OWDDr",
        "outputId": "78ffc611-e939-4024-dc9f-aea467a1ffd8"
      },
      "execution_count": null,
      "outputs": [
        {
          "output_type": "display_data",
          "data": {
            "text/plain": [
              "<IPython.core.display.HTML object>"
            ],
            "text/html": [
              "\n",
              "    <style>\n",
              "    pre {\n",
              "        white-space: pre-wrap;\n",
              "    }\n",
              "    </style>\n",
              "    "
            ]
          },
          "metadata": {}
        },
        {
          "output_type": "display_data",
          "data": {
            "text/plain": [
              "<IPython.core.display.HTML object>"
            ],
            "text/html": [
              "\n",
              "    <style>\n",
              "    pre {\n",
              "        white-space: pre-wrap;\n",
              "    }\n",
              "    </style>\n",
              "    "
            ]
          },
          "metadata": {}
        },
        {
          "output_type": "stream",
          "name": "stdout",
          "text": [
            "\n",
            " ===========================================: \n",
            "message_content :\n",
            " ======================================== \n",
            " \n",
            "Excerpt of document №1\n",
            "=====================Пузырьковая сортировка — самый медленный из всех алгоритмов. Возможно, он будет полезен как введение в тему алгоритмов сортировки, но не подходит для практического использования.  \n",
            "Excerpt of document №2\n",
            "=====================Сортировка вставками выполняет меньше сравнений, чем сортировка выборкой и в реальности должна быть производительнее, но в данном эксперименте она выполняется немного медленней. Сортировка вставками делает гораздо больше обменов элементами. Если эти обмены занимают намного больше времени, чем сравнение самих элементов, то такой результат вполне закономерен.  \n",
            "Excerpt of document №3\n",
            "=====================Быстрая сортировка хорошо оправдывает своё название, почти в два раза быстрее, чем сортировка слиянием, и не требуется дополнительное место для результирующего массива.\n",
            "\n",
            "\n",
            " ===========================================: \n"
          ]
        },
        {
          "output_type": "execute_result",
          "data": {
            "text/plain": [
              "'Самая медленная сортировка - пузырьковая сортировка.'"
            ],
            "application/vnd.google.colaboratory.intrinsic+json": {
              "type": "string"
            }
          },
          "metadata": {},
          "execution_count": 56
        }
      ]
    },
    {
      "cell_type": "code",
      "source": [
        "#@title Обрабатываем каждый чанк, выделяя только суть для методички\n",
        "system = \"\\u0412\\u044B - \\u0433\\u0435\\u043D\\u0438\\u0439 \\u043A\\u043E\\u043F\\u0438\\u0440\\u0430\\u0439\\u0442\\u0438\\u043D\\u0433\\u0430, \\u044D\\u043A\\u0441\\u043F\\u0435\\u0440\\u0442 \\u0432 \\u043E\\u0431\\u043B\\u0430\\u0441\\u0442\\u0438 \\u043F\\u0440\\u043E\\u0433\\u0440\\u0430\\u043C\\u043C\\u0438\\u0440\\u043E\\u0432\\u0430\\u043D\\u0438\\u044F \\u043D\\u0430 Python. \\u0412\\u044B \\u043F\\u043E\\u043B\\u0443\\u0447\\u0430\\u0435\\u0442\\u0435 \\u0443\\u0447\\u0430\\u0441\\u0442\\u043E\\u043A \\u043D\\u0435\\u043E\\u0431\\u0440\\u0430\\u0431\\u043E\\u0442\\u0430\\u043D\\u043D\\u043E\\u0433\\u043E \\u0442\\u0435\\u043A\\u0441\\u0442\\u0430 \\u043D\\u0430 \\u043E\\u043F\\u0440\\u0435\\u0434\\u0435\\u043B\\u0435\\u043D\\u043D\\u0443\\u044E \\u0442\\u0435\\u043C\\u0443. \\u0412\\u0430\\u043C \\u043D\\u0443\\u0436\\u043D\\u043E \\u0438\\u0437\\u0432\\u043B\\u0435\\u0447\\u044C \\u0438\\u0437 \\u044D\\u0442\\u043E\\u0433\\u043E \\u0442\\u0435\\u043A\\u0441\\u0442\\u0430 \\u0441\\u0443\\u0442\\u044C, \\u0442\\u043E\\u043B\\u044C\\u043A\\u043E \\u0441\\u0430\\u043C\\u043E\\u0435 \\u0432\\u0430\\u0436\\u043D\\u043E\\u0435, \\u0441\\u043E\\u0445\\u0440\\u0430\\u043D\\u0438\\u0432 \\u0432\\u0441\\u0435 \\u043D\\u0435\\u043E\\u0431\\u0445\\u043E\\u0434\\u0438\\u043C\\u044B\\u0435 \\u0434\\u0435\\u0442\\u0430\\u043B\\u0438, \\u043D\\u043E \\u0443\\u0431\\u0440\\u0430\\u0432 \\u0432\\u0441\\u044E \\\"\\u0432\\u043E\\u0434\\u0443\\\" \\u0438 \\u0441\\u043B\\u043E\\u0432\\u0430 (\\u043F\\u0440\\u0435\\u0434\\u043B\\u043E\\u0436\\u0435\\u043D\\u0438\\u044F), \\u043D\\u0435 \\u043D\\u0435\\u0441\\u0443\\u0449\\u0438\\u0435 \\u0441\\u043C\\u044B\\u0441\\u043B\\u043E\\u0432\\u043E\\u0439 \\u043D\\u0430\\u0433\\u0440\\u0443\\u0437\\u043A\\u0438.\" #@param {type:\"string\"}\n",
        "user = \"\\u0418\\u0437 \\u044D\\u0442\\u043E\\u0433\\u043E \\u0442\\u0435\\u043A\\u0441\\u0442\\u0430 \\u0432\\u044B\\u0431\\u0435\\u0440\\u0438\\u0442\\u0435 \\u0442\\u043E\\u043B\\u044C\\u043A\\u043E \\u0442\\u0443 \\u0438\\u043D\\u0444\\u043E\\u0440\\u043C\\u0430\\u0446\\u0438\\u044E, \\u043A\\u043E\\u0442\\u043E\\u0440\\u0430\\u044F \\u043F\\u0440\\u0435\\u0434\\u0441\\u0442\\u0430\\u0432\\u043B\\u044F\\u0435\\u0442 \\u0446\\u0435\\u043D\\u043D\\u043E\\u0441\\u0442\\u044C \\u0441 \\u0442\\u043E\\u0447\\u043A\\u0438 \\u0437\\u0440\\u0435\\u043D\\u0438\\u044F \\u0442\\u0435\\u043C\\u044B \\\"\\u041E\\u0431\\u0443\\u0447\\u0435\\u043D\\u0438\\u044F \\u044F\\u0437\\u044B\\u043A\\u0443 Python\\\". \\u0423\\u0434\\u0430\\u043B\\u0438\\u0442\\u0435 \\u0432\\u0441\\u044E \\\"\\u0432\\u043E\\u0434\\u0443\\\". \\u0412 \\u0440\\u0435\\u0437\\u0443\\u043B\\u044C\\u0442\\u0430\\u0442\\u0435 \\u0443 \\u0432\\u0430\\u0441 \\u0434\\u043E\\u043B\\u0436\\u0435\\u043D \\u043F\\u043E\\u043B\\u0443\\u0447\\u0438\\u0442\\u044C\\u0441\\u044F \\u0440\\u0430\\u0437\\u0434\\u0435\\u043B \\u0434\\u043B\\u044F \\u0440\\u0443\\u043A\\u043E\\u0432\\u043E\\u0434\\u0441\\u0442\\u0432\\u0430 \\u043F\\u043E \\u044D\\u0442\\u043E\\u0439 \\u0442\\u0435\\u043C\\u0435. \\u041E\\u0441\\u043D\\u043E\\u0432\\u044B\\u0432\\u0430\\u0439\\u0442\\u0435\\u0441\\u044C \\u0442\\u043E\\u043B\\u044C\\u043A\\u043E \\u043D\\u0430 \\u043F\\u0440\\u0438\\u0432\\u0435\\u0434\\u0435\\u043D\\u043D\\u043E\\u043C \\u0442\\u0435\\u043A\\u0441\\u0442\\u0435, \\u043D\\u0435 \\u043F\\u0440\\u0438\\u0434\\u0443\\u043C\\u044B\\u0432\\u0430\\u0439\\u0442\\u0435 \\u043D\\u0438\\u0447\\u0435\\u0433\\u043E \\u0441\\u0432\\u043E\\u0435\\u0433\\u043E. \\u041E\\u0442\\u0432\\u0435\\u0442 \\u0434\\u043E\\u043B\\u0436\\u0435\\u043D \\u0431\\u044B\\u0442\\u044C \\u0432 \\u0444\\u043E\\u0440\\u043C\\u0430\\u0442\\u0435 ## \\u041D\\u0430\\u0437\\u0432\\u0430\\u043D\\u0438\\u0435 \\u0442\\u0435\\u043A\\u0441\\u0442\\u0430, \\u0430 \\u0437\\u0430\\u0442\\u0435\\u043C \\u0446\\u0435\\u043D\\u043D\\u0430\\u044F \\u0438\\u043D\\u0444\\u043E\\u0440\\u043C\\u0430\\u0446\\u0438\\u044F \\u0438\\u0437 \\u0442\\u0435\\u043A\\u0441\\u0442\\u0430. \\u0415\\u0441\\u043B\\u0438 \\u0432 \\u0442\\u0435\\u043A\\u0441\\u0442\\u0435 \\u043D\\u0435\\u0442 \\u0446\\u0435\\u043D\\u043D\\u043E\\u0439 \\u0438\\u043D\\u0444\\u043E\\u0440\\u043C\\u0430\\u0446\\u0438\\u0438, \\u043E\\u0441\\u0442\\u0430\\u0432\\u044C\\u0442\\u0435 \\u0442\\u043E\\u043B\\u044C\\u043A\\u043E \\u043D\\u0430\\u0437\\u0432\\u0430\\u043D\\u0438\\u0435 \\u0440\\u0430\\u0437\\u0434\\u0435\\u043B\\u0430, \\u043D\\u0430\\u043F\\u0440\\u0438\\u043C\\u0435\\u0440: \\\"## \\u0412\\u0432\\u0435\\u0434\\u0435\\u043D\\u0438\\u0435\\\". \\u0422\\u0435\\u043A\\u0441\\u0442:  \\u041F\\u0435\\u0440\\u0435\\u0432\\u0435\\u0434\\u0435\\u043D\\u043E \\u0441 \\u043F\\u043E\\u043C\\u043E\\u0449\\u044C\\u044E www.DeepL.com/Translator (\\u0431\\u0435\\u0441\\u043F\\u043B\\u0430\\u0442\\u043D\\u0430\\u044F \\u0432\\u0435\\u0440\\u0441\\u0438\\u044F)\" #@param {type:\"string\"}\n",
        "\n",
        "temperature = 0 #@param {type: \"slider\", min: 0, max: 1, step:0.1}\n"
      ],
      "metadata": {
        "colab": {
          "base_uri": "https://localhost:8080/",
          "height": 17
        },
        "cellView": "form",
        "id": "hnmcAwRJWLCG",
        "outputId": "0ec6ecf7-ad2d-4bd4-c6e4-106b00d10298"
      },
      "execution_count": null,
      "outputs": [
        {
          "output_type": "display_data",
          "data": {
            "text/plain": [
              "<IPython.core.display.HTML object>"
            ],
            "text/html": [
              "\n",
              "    <style>\n",
              "    pre {\n",
              "        white-space: pre-wrap;\n",
              "    }\n",
              "    </style>\n",
              "    "
            ]
          },
          "metadata": {}
        },
        {
          "output_type": "display_data",
          "data": {
            "text/plain": [
              "<IPython.core.display.HTML object>"
            ],
            "text/html": [
              "\n",
              "    <style>\n",
              "    pre {\n",
              "        white-space: pre-wrap;\n",
              "    }\n",
              "    </style>\n",
              "    "
            ]
          },
          "metadata": {}
        }
      ]
    },
    {
      "cell_type": "code",
      "source": [
        "def process_documents(documents, system, user, temperature):\n",
        "    \"\"\"\n",
        "    Функция принимает чанки, system, user, temperature для модели.\n",
        "    Она обрабатывает каждый документ, используя модель GPT, конкатенирует результаты в один текст и сохраняет в файл .txt.\n",
        "    \"\"\"\n",
        "    processed_text_for_handbook = \"\"  # Строка для конкатенации обработанного текста\n",
        "\n",
        "    for document in documents:\n",
        "        # Форматируем метаданные для включения в чанк\n",
        "        metadata_str = \"\\n\".join([f\"{key}: {value}\" for key, value in document.metadata.items()])\n",
        "        # Конкатенируем метаданные и содержание документа для передачи в функцию\n",
        "        chunk_with_metadata = f\"{metadata_str}\\n\\n{document.page_content}\"\n",
        "\n",
        "        # Получаем ответ от модели\n",
        "        answer = answer_index(system, user, chunk_with_metadata, temperature, model='gpt-3.5-turbo')\n",
        "        # Добавляем обработанный текст в общую строку\n",
        "        processed_text_for_handbook += f\"{answer}\\n\\n\"\n",
        "\n",
        "    # Записываем полученный текст в файл\n",
        "    with open('processed_documents.txt', 'w', encoding='utf-8') as f:\n",
        "        f.write(processed_text_for_handbook)\n",
        "\n",
        "    # Функция возвращает путь к файлу с обработанным текстом\n",
        "    return 'processed_documents.txt'\n",
        "\n",
        "# Применение функции\n",
        "file_path = process_documents(md_header_splits, system, user, temperature)\n",
        "print(f\"Обработанный текст сохранен в файле: {file_path}\")"
      ],
      "metadata": {
        "colab": {
          "base_uri": "https://localhost:8080/",
          "height": 34
        },
        "id": "zWqZvP6JWxjy",
        "outputId": "222fd0ef-a5d5-48f4-fdb2-b9497bf95730"
      },
      "execution_count": null,
      "outputs": [
        {
          "output_type": "display_data",
          "data": {
            "text/plain": [
              "<IPython.core.display.HTML object>"
            ],
            "text/html": [
              "\n",
              "    <style>\n",
              "    pre {\n",
              "        white-space: pre-wrap;\n",
              "    }\n",
              "    </style>\n",
              "    "
            ]
          },
          "metadata": {}
        },
        {
          "output_type": "display_data",
          "data": {
            "text/plain": [
              "<IPython.core.display.HTML object>"
            ],
            "text/html": [
              "\n",
              "    <style>\n",
              "    pre {\n",
              "        white-space: pre-wrap;\n",
              "    }\n",
              "    </style>\n",
              "    "
            ]
          },
          "metadata": {}
        },
        {
          "output_type": "stream",
          "name": "stdout",
          "text": [
            "Обработанный текст сохранен в файле: processed_documents.txt\n"
          ]
        }
      ]
    },
    {
      "cell_type": "code",
      "source": [
        "# Содержимое методички:\n",
        "file_path = '/content/processed_documents.txt'\n",
        "\n",
        "with open(file_path, 'r') as file:\n",
        "    content = file.read()\n",
        "    print(content)"
      ],
      "metadata": {
        "colab": {
          "base_uri": "https://localhost:8080/",
          "height": 1000
        },
        "id": "eKphFFrfW4nA",
        "outputId": "640cf56a-0f94-44a5-b5e6-62816a9303f3"
      },
      "execution_count": null,
      "outputs": [
        {
          "output_type": "display_data",
          "data": {
            "text/plain": [
              "<IPython.core.display.HTML object>"
            ],
            "text/html": [
              "\n",
              "    <style>\n",
              "    pre {\n",
              "        white-space: pre-wrap;\n",
              "    }\n",
              "    </style>\n",
              "    "
            ]
          },
          "metadata": {}
        },
        {
          "output_type": "display_data",
          "data": {
            "text/plain": [
              "<IPython.core.display.HTML object>"
            ],
            "text/html": [
              "\n",
              "    <style>\n",
              "    pre {\n",
              "        white-space: pre-wrap;\n",
              "    }\n",
              "    </style>\n",
              "    "
            ]
          },
          "metadata": {}
        },
        {
          "output_type": "stream",
          "name": "stdout",
          "text": [
            "## Введение в серию \"Читаем Луца\"\n",
            "- Серия видео \"Читаем Луца\" предназначена для тех, кто начинает изучать язык Python.\n",
            "- Книга Марка Лутца \"Изучаем Python\" является рекомендуемым источником для изучения языка Python.\n",
            "- Книга является подробным и достаточно объемным руководством.\n",
            "- В серии будут рассмотрены главы книги, каждая глава будет представлена отдельным оратором.\n",
            "- В ходе презентации будут задаваться вопросы и обсуждаться темы с зрителями.\n",
            "- Сегодня будет обсуждаться первая глава книги \"Изучаем Python\".\n",
            "\n",
            "## Особенности книги \"Изучаем Python\"\n",
            "- Книга \"Изучаем Python\" имеет 5-е издание на английском языке и вышла на русском языке в 2019 году.\n",
            "- Она рассчитана на версию языка Python 3.\n",
            "- В книге рассматриваются различные фичи языка, такие как хинты типов, дата классы, морж оператор и другие.\n",
            "- Важно учитывать, что некоторые фичи могут быть добавлены в более новых версиях Python, поэтому граничные условия нужно иметь в виду при чтении книги.\n",
            "\n",
            "## Почему выбирают Python\n",
            "\n",
            "- Python обладает высоким качеством программного обеспечения, благодаря читабельности кода и легкому сопровождению.\n",
            "- Код на Python более краток и лаконичен, что увеличивает продуктивность разработчика.\n",
            "- Python обладает переносимостью программ, что позволяет легко переносить их на разные операционные системы.\n",
            "- В Python существует большое количество поддерживающих библиотек, как в стандартной библиотеке, так и от сторонних разработчиков.\n",
            "- Python обеспечивает легкую интеграцию компонентов и взаимодействие с другими библиотеками.\n",
            "\n",
            "## Варианты интеграции программ на плюсах и питоне:\n",
            "- Возможные варианты интеграции программ на C++ и Python: \n",
            "  1. Запуск программы на C++, которая вызывает и импортирует скрипт на Python для выполнения определенных задач.\n",
            "  2. Вызов функций из модулей Python внутри программы на C++.\n",
            "  3. Обмен информацией между независимыми программами на C++ и Python через общую память или другие каналы связи.\n",
            "\n",
            "## Наслаждение программированием:\n",
            "- Наслаждение программированием включает в себя возможность заставить железо выполнять нужные действия, увлекательность, приятность и легкость работы. Если программирование интуитивно понятно и легко обрабатывается, то оно приносит удовольствие.\n",
            "\n",
            "## Язык написания сценариев:\n",
            "- Язык написания сценариев может включать инструменты командной оболочки, скрипты и утилиты для управления системой. Например, в Unix-системе Python может быть использован для написания сценариев, которые работают с самой системой.\n",
            "\n",
            "## Парадигмы программирования:\n",
            "- Существуют три парадигмы программирования: процедурное, объектно-ориентированное и функциональное.\n",
            "- Процедурное программирование основано на последовательном выполнении действий.\n",
            "- Объектно-ориентированное программирование включает работу с конкретными объектами и принципы, такие как инкапсуляция, наследование и полиморфизм.\n",
            "- Функциональное программирование использует функции вместо операторов-условий и циклов.\n",
            "\n",
            "## Недостатки Python:\n",
            "- Недостатки Python включают более низкую скорость выполнения по сравнению с некоторыми другими языками программирования.\n",
            "- Частота внесения изменений в язык Python может создавать проблемы с обратной совместимостью и поддержкой ранее написанного кода.\n",
            "\n",
            "## Внесение изменений в язык программирования Python\n",
            "- В языке Python появляются новые функции и возможности с каждым обновлением.\n",
            "- Обратная совместимость позволяет использовать старый код с новыми версиями языка.\n",
            "- Частота внесения изменений может создавать проблемы для преподавателей и учащихся.\n",
            "- Авторы книг по Python, такие как Луц, сталкиваются с необходимостью обновлять свои материалы.\n",
            "- Внесение изменений в язык Python связано с компромиссами и событиями, происходящими в сообществе.\n",
            "\n",
            "## Проблема с обратной совместимостью и поддержкой кода\n",
            "\n",
            "- Батарейка в комплекте означает, что Python поставляется с большим количеством библиотек и инструментов.\n",
            "- Иногда код может быть привязан к определенным инструментам, которые со временем могут устареть или измениться.\n",
            "- Это может создать проблемы с обратной совместимостью и поддержкой кода.\n",
            "- Проблема легоси характерна для программирования и может возникнуть, когда сторонние библиотеки слабо обновляются.\n",
            "- Это может привести к сложностям в развитии и поддержке кода.\n",
            "- Некоторые проекты могут продолжать работать, но их развитие затруднено из-за ограничений старых версий библиотек.\n",
            "- Отсутствие ресурсов и денег может быть причиной отсутствия возможности провести рефакторинг кода.\n",
            "- Обновление до новой версии Python может потребовать дополнительных ресурсов и затрат.\n",
            "\n",
            "## Проблемы с открытым кодом и недостатки Python\n",
            "- Проблема не только в Python, но и в программировании в целом.\n",
            "- Существуют различные фреймворки для работы с графическими интерфейсами, интернетом, интеграцией компонентов и базами данных.\n",
            "- Прототипирование является важной частью разработки программного обеспечения.\n",
            "\n",
            "## Преимущества использования PEP и системного программирования\n",
            "\n",
            "- Использование PEP позволяет тщательно обкатывать все изменения перед их обсуждением в комьюнити.\n",
            "- Системное программирование позволяет решать проблемы, связанные с разработкой на Python.\n",
            "\n",
            "## Введение в различные технологии и языки программирования\n",
            "\n",
            "- Python является мощным языком программирования, который может использоваться для создания игр, роботов, работы с таблицами Excel и других задач.\n",
            "- В Python также можно использовать компьютерное зрение и распознавание образов, включая Machine Learning.\n",
            "- Некоторые популярные библиотеки и фреймворки для разработки на Python включают Kiwi, Qt, Tinkter, SQLAlchemy, OpenXL, OpenPyXL и Tortoise.\n",
            "- Django - один из фреймворков, рассмотренных в книге Lutz, но есть и другие фреймворки, которые могут быть интересными для изучения.\n",
            "- Важно создать актуальное и интересное руководство, включая популярные и широко используемые технологии и библиотеки.\n",
            "\n",
            "## Технические превосходства языка программирования Python\n",
            "- Python - объектно-ориентированный и функциональный язык программирования.\n",
            "- Python был первоначально процедурным языком, но в него были добавлены объектно-ориентированные фишки и функциональность.\n",
            "\n",
            "## Различные типы языков программирования и их особенности\n",
            "\n",
            "- Существуют платные языки программирования, которые требуют ежемесячной подписки.\n",
            "- Языки программирования могут быть открытыми или закрытыми. Проприетарные языки разрабатываются коммерческими предприятиями.\n",
            "- Некоторые языки программирования могут быть непереносимыми, что означает, что они не могут быть запущены на разных платформах без изменений.\n",
            "- Для использования языка программирования Python на Windows необходимо установить интерпретатор.\n",
            "- Python поддерживает динамическую типизацию, но также активно развивает возможности типизации с помощью аннотаций типов.\n",
            "\n",
            "## Введение в ООП\n",
            "\n",
            "- ООП (Объектно Ориентированное Программирование) было придумано для решения проблем с читаемостью и организацией больших программ.\n",
            "- Основная идея ООП заключается в том, что все состоит из объектов.\n",
            "- В отличие от процедурного программирования, где программа состоит из множества переменных, блоков и функций, ООП позволяет организовать код вокруг объектов.\n",
            "- Код, написанный с использованием ООП, становится более структурированным и легко читаемым.\n",
            "- ООП позволяет создавать классы, которые определяют структуру и поведение объектов, и объекты, которые являются экземплярами классов.\n",
            "- Классы могут иметь свойства (переменные) и методы (функции), которые определяют, как объекты класса взаимодействуют друг с другом и с внешним миром.\n",
            "- ООП позволяет использовать принципы наследования, полиморфизма и инкапсуляции, что делает код более гибким и переиспользуемым.\n",
            "- ООП является одним из основных понятий в программировании на языке Python.\n",
            "\n",
            "## Основные концепции ООП\n",
            "\n",
            "- Объектно-ориентированная программа состоит из набора взаимодействующих объектов.\n",
            "- Каждый объект является автономным компонентом, отвечающим только за себя.\n",
            "- Объекты могут представлять реальные или абстрактные сущности.\n",
            "- Объекты взаимодействуют с программой и другими объектами через свой публичный интерфейс.\n",
            "- Реализация объекта и его данные скрыты от других компонентов программы (инкапсуляция).\n",
            "- Инкапсуляция позволяет работать над каждой частью программы отдельно.\n",
            "- Объекты могут быть созданы из нескольких других объектов (наследование), что упрощает сложность программы.\n",
            "\n",
            "## Применение ООП в программировании\n",
            "\n",
            "- ООП позволяет создавать очень большие программы, над которыми могут работать сразу сотни или десятки тысяч программистов.\n",
            "- Каждый программист может работать только над отдельными частями программы, не зная, как она устроена целиком.\n",
            "- Одним из мощных инструментов ООП является полиморфизм, который позволяет функции обрабатывать данные разных типов.\n",
            "- Основные инструменты ООП: инкапсуляция, наследование и полиморфизм.\n",
            "- Сегодня практически все языки программирования являются объектно-ориентированными.\n",
            "\n",
            "## Введение в объектно-ориентированное программирование\n",
            "\n",
            "- Понятие объектно-ориентированного программирования (ООП) и его основные принципы.\n",
            "- Классы, объекты, атрибуты и методы.\n",
            "- Пример создания класса color и объяснение работы инициализации объекта.\n",
            "\n",
            "## Наследование и полиморфизм в ООП\n",
            "\n",
            "В этом разделе рассматривается концепция наследования и полиморфизма в объектно-ориентированном программировании. Объясняется, как создать класс KaleAlpha, который наследуется от класса Kale. Описывается, как добавить новый атрибут alpha и изменить инициализатор класса. Приводится пример создания экземпляра класса KaleAlpha.\n",
            "\n",
            "## Алгоритмы сортировки на Python\n",
            "- Рассматриваются популярные алгоритмы сортировки и их реализация на языке Python.\n",
            "- Описывается алгоритм пузырьковой сортировки и его принцип работы.\n",
            "- Объясняется оптимизация алгоритма пузырьковой сортировки.\n",
            "- Приводится пример времени сортировки в зависимости от количества элементов в списке.\n",
            "- Рассматривается алгоритм сортировки выборкой и его принцип работы.\n",
            "\n",
            "## Заключение\n",
            "В этом разделе подводятся итоги и делается вывод о том, что объектно-ориентированное программирование и алгоритмы сортировки являются важными концепциями в программировании. Предлагается дополнительный материал для изучения объектно-ориентированного программирования на языке Python. Завершается раздел призывом к подписке на канал и оставлению лайка.\n",
            "\n",
            "## Сортировка выборкой\n",
            "- На практике не нужно создавать новый список для отсортированных элементов. В качестве него используется крайняя левая часть списка.\n",
            "- Находится наименьший элемент и меняется с первым местами.\n",
            "- Теперь, когда нам известно, что первый элемент списка отсортирован, находим наименьший элемент из оставшихся и меняем местами со вторым.\n",
            "- Повторяем это до тех пор, пока не останется последний элемент в списке.\n",
            "- По мере увеличения значения i нужно проверять меньше элементов.\n",
            "- Затраты времени на сортировку выборкой в среднем составляют O(n²), где n — количество элементов списка.\n",
            "\n",
            "## Сортировка вставками\n",
            "Алгоритм сортировки вставками сегментирует список на две части: отсортированную и неотсортированную. Он перебирает второй сегмент и вставляет текущий элемент в правильную позицию первого сегмента.\n",
            "Алгоритм предполагает, что первый элемент списка уже отсортирован. Затем он переходит к следующему элементу и, если он больше первого, оставляет его на своем месте. Если он меньше, копирует его на вторую позицию, а первый элемент становится х. Затем алгоритм перемещает более крупные элементы в отсортированном сегменте вверх по списку, пока не встретит элемент меньше х или не дойдет до конца списка. В первом случае х помещается на правильную позицию.\n",
            "Время сортировки вставками в среднем равно O(n²), где n - количество элементов списка.\n",
            "\n",
            "## Пирамидальная сортировка\n",
            "Пирамидальная сортировка, также известная как сортировка кучей, является популярным алгоритмом сортировки. Он разделяет список на две части: отсортированную и неотсортированную. Алгоритм преобразует вторую часть списка в структуру данных \"куча\", чтобы эффективно определить самый большой элемент.\n",
            "\n",
            "Алгоритм пирамидальной сортировки состоит из следующих шагов:\n",
            "1. Преобразование списка в Max Heap - бинарное дерево, где самый большой элемент является вершиной дерева.\n",
            "2. Помещение этого элемента в конец списка.\n",
            "3. Перестройка Max Heap и помещение нового наибольшего элемента перед последним элементом в списке.\n",
            "4. Повторение процесса построения кучи, пока все вершины дерева не будут удалены.\n",
            "\n",
            "Реализация пирамидальной сортировки может включать вспомогательную функцию heapify(), которая помогает в построении кучи.\n",
            "\n",
            "Время сортировки кучей в среднем составляет O(n log n), что делает этот алгоритм значительно быстрее предыдущих алгоритмов.\n",
            "\n",
            "## Сортировка слиянием\n",
            "- Алгоритм \"разделяй и властвуй\"\n",
            "- Разбивает список на две части, каждую из них разбивает ещё на две и т. д.\n",
            "- Список разбивается пополам, пока не останутся единичные элементы\n",
            "- Соседние элементы становятся отсортированными парами\n",
            "- Пары объединяются и сортируются с другими парами\n",
            "- Процесс продолжается до тех пор, пока не отсортируются все элементы\n",
            "- Список рекурсивно разделяется пополам, пока не получатся списки размером в один элемент\n",
            "- Массив из одного элемента считается упорядоченным\n",
            "- Соседние элементы сравниваются и соединяются вместе\n",
            "- Сортировка осуществляется путём сравнения наименьших элементов каждого подмассива\n",
            "- Первые элементы каждого подмассива сравниваются первыми\n",
            "- Наименьший элемент перемещается в результирующий массив\n",
            "- Счётчики результирующего массива и подмассива, откуда был взят элемент, увеличиваются на 1\n",
            "- Функция merge_sort() возвращает новый список, а не сортирует существующий\n",
            "- Требуется больше памяти для создания нового списка того же размера, что и входной список\n",
            "- Время сортировки слиянием в среднем составляет O(n log n)\n",
            "\n",
            "## Быстрая сортировка\n",
            "Этот алгоритм относится к алгоритмам \"разделяй и властвуй\". Его используют чаще других алгоритмов, описанных в этой статье. При правильной конфигурации он чрезвычайно эффективен.\n",
            "\n",
            "## Введение\n",
            "\n",
            "Для сравнения производительности различных алгоритмов важно провести эксперименты на одних и тех же данных. В данном случае мы сгенерируем массив из 5000 чисел от 0 до 1000 и замерим время выполнения каждого алгоритма. Повторим каждый метод 10 раз для получения более точных результатов.\n",
            "\n",
            "## Пузырьковая сортировка\n",
            "Пузырьковая сортировка - самый медленный из всех алгоритмов сортировки.\n",
            "\n",
            "## Быстрая сортировка\n",
            "Быстрая сортировка является эффективным алгоритмом сортировки, который работает быстрее, чем сортировка слиянием. Он не требует дополнительного места для результирующего массива.\n",
            "\n",
            "## Сортировка вставками\n",
            "Сортировка вставками выполняет меньше сравнений, чем сортировка выборкой и в реальности должна быть производительнее, но в данном эксперименте она выполняется немного медленней. Сортировка вставками делает гораздо больше обменов элементами. Если эти обмены занимают намного больше времени, чем сравнение самих элементов, то такой результат вполне закономерен.\n",
            "\n",
            "## Заключение\n",
            "Вы познакомились с шестью различными алгоритмами сортировок на Python. В реальных приложениях Python рекомендуется использовать встроенные функции сортировки, поскольку они реализованы именно для удобства разработчика.\n",
            "\n",
            "\n"
          ]
        }
      ]
    }
  ]
}