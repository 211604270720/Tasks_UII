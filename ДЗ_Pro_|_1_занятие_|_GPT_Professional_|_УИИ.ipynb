{
  "nbformat": 4,
  "nbformat_minor": 0,
  "metadata": {
    "colab": {
      "provenance": []
    },
    "kernelspec": {
      "name": "python3",
      "display_name": "Python 3"
    },
    "language_info": {
      "name": "python"
    }
  },
  "cells": [
    {
      "cell_type": "markdown",
      "source": [
        "Напишите функцию, которая принимает ввод от пользователя и возвращает ответ от модели GPT, а также подсчитывает количество токенов. Ваша функция должна быть способна обрабатывать любой ввод пользователя."
      ],
      "metadata": {
        "id": "aNvTIUSvMAWr"
      }
    },
    {
      "cell_type": "code",
      "source": [
        "!pip install openai tiktoken langchain"
      ],
      "metadata": {
        "id": "4FYrjea8VtIW",
        "colab": {
          "base_uri": "https://localhost:8080/"
        },
        "outputId": "d4f9391e-7ffa-4dca-a3ee-c8b647641bac"
      },
      "execution_count": null,
      "outputs": [
        {
          "output_type": "stream",
          "name": "stdout",
          "text": [
            "Collecting openai\n",
            "  Downloading openai-0.28.0-py3-none-any.whl (76 kB)\n",
            "\u001b[2K     \u001b[90m━━━━━━━━━━━━━━━━━━━━━━━━━━━━━━━━━━━━━━━━\u001b[0m \u001b[32m76.5/76.5 kB\u001b[0m \u001b[31m1.8 MB/s\u001b[0m eta \u001b[36m0:00:00\u001b[0m\n",
            "\u001b[?25hCollecting tiktoken\n",
            "  Downloading tiktoken-0.5.1-cp310-cp310-manylinux_2_17_x86_64.manylinux2014_x86_64.whl (2.0 MB)\n",
            "\u001b[2K     \u001b[90m━━━━━━━━━━━━━━━━━━━━━━━━━━━━━━━━━━━━━━━━\u001b[0m \u001b[32m2.0/2.0 MB\u001b[0m \u001b[31m35.2 MB/s\u001b[0m eta \u001b[36m0:00:00\u001b[0m\n",
            "\u001b[?25hCollecting langchain\n",
            "  Downloading langchain-0.0.292-py3-none-any.whl (1.7 MB)\n",
            "\u001b[2K     \u001b[90m━━━━━━━━━━━━━━━━━━━━━━━━━━━━━━━━━━━━━━━━\u001b[0m \u001b[32m1.7/1.7 MB\u001b[0m \u001b[31m33.4 MB/s\u001b[0m eta \u001b[36m0:00:00\u001b[0m\n",
            "\u001b[?25hRequirement already satisfied: requests>=2.20 in /usr/local/lib/python3.10/dist-packages (from openai) (2.31.0)\n",
            "Requirement already satisfied: tqdm in /usr/local/lib/python3.10/dist-packages (from openai) (4.66.1)\n",
            "Requirement already satisfied: aiohttp in /usr/local/lib/python3.10/dist-packages (from openai) (3.8.5)\n",
            "Requirement already satisfied: regex>=2022.1.18 in /usr/local/lib/python3.10/dist-packages (from tiktoken) (2023.6.3)\n",
            "Requirement already satisfied: PyYAML>=5.3 in /usr/local/lib/python3.10/dist-packages (from langchain) (6.0.1)\n",
            "Requirement already satisfied: SQLAlchemy<3,>=1.4 in /usr/local/lib/python3.10/dist-packages (from langchain) (2.0.20)\n",
            "Requirement already satisfied: async-timeout<5.0.0,>=4.0.0 in /usr/local/lib/python3.10/dist-packages (from langchain) (4.0.3)\n",
            "Collecting dataclasses-json<0.6.0,>=0.5.7 (from langchain)\n",
            "  Downloading dataclasses_json-0.5.14-py3-none-any.whl (26 kB)\n",
            "Collecting langsmith<0.1.0,>=0.0.21 (from langchain)\n",
            "  Downloading langsmith-0.0.38-py3-none-any.whl (38 kB)\n",
            "Requirement already satisfied: numexpr<3.0.0,>=2.8.4 in /usr/local/lib/python3.10/dist-packages (from langchain) (2.8.5)\n",
            "Requirement already satisfied: numpy<2,>=1 in /usr/local/lib/python3.10/dist-packages (from langchain) (1.23.5)\n",
            "Requirement already satisfied: pydantic<3,>=1 in /usr/local/lib/python3.10/dist-packages (from langchain) (1.10.12)\n",
            "Requirement already satisfied: tenacity<9.0.0,>=8.1.0 in /usr/local/lib/python3.10/dist-packages (from langchain) (8.2.3)\n",
            "Requirement already satisfied: attrs>=17.3.0 in /usr/local/lib/python3.10/dist-packages (from aiohttp->openai) (23.1.0)\n",
            "Requirement already satisfied: charset-normalizer<4.0,>=2.0 in /usr/local/lib/python3.10/dist-packages (from aiohttp->openai) (3.2.0)\n",
            "Requirement already satisfied: multidict<7.0,>=4.5 in /usr/local/lib/python3.10/dist-packages (from aiohttp->openai) (6.0.4)\n",
            "Requirement already satisfied: yarl<2.0,>=1.0 in /usr/local/lib/python3.10/dist-packages (from aiohttp->openai) (1.9.2)\n",
            "Requirement already satisfied: frozenlist>=1.1.1 in /usr/local/lib/python3.10/dist-packages (from aiohttp->openai) (1.4.0)\n",
            "Requirement already satisfied: aiosignal>=1.1.2 in /usr/local/lib/python3.10/dist-packages (from aiohttp->openai) (1.3.1)\n",
            "Collecting marshmallow<4.0.0,>=3.18.0 (from dataclasses-json<0.6.0,>=0.5.7->langchain)\n",
            "  Downloading marshmallow-3.20.1-py3-none-any.whl (49 kB)\n",
            "\u001b[2K     \u001b[90m━━━━━━━━━━━━━━━━━━━━━━━━━━━━━━━━━━━━━━━━\u001b[0m \u001b[32m49.4/49.4 kB\u001b[0m \u001b[31m5.6 MB/s\u001b[0m eta \u001b[36m0:00:00\u001b[0m\n",
            "\u001b[?25hCollecting typing-inspect<1,>=0.4.0 (from dataclasses-json<0.6.0,>=0.5.7->langchain)\n",
            "  Downloading typing_inspect-0.9.0-py3-none-any.whl (8.8 kB)\n",
            "Requirement already satisfied: typing-extensions>=4.2.0 in /usr/local/lib/python3.10/dist-packages (from pydantic<3,>=1->langchain) (4.5.0)\n",
            "Requirement already satisfied: idna<4,>=2.5 in /usr/local/lib/python3.10/dist-packages (from requests>=2.20->openai) (3.4)\n",
            "Requirement already satisfied: urllib3<3,>=1.21.1 in /usr/local/lib/python3.10/dist-packages (from requests>=2.20->openai) (2.0.4)\n",
            "Requirement already satisfied: certifi>=2017.4.17 in /usr/local/lib/python3.10/dist-packages (from requests>=2.20->openai) (2023.7.22)\n",
            "Requirement already satisfied: greenlet!=0.4.17 in /usr/local/lib/python3.10/dist-packages (from SQLAlchemy<3,>=1.4->langchain) (2.0.2)\n",
            "Requirement already satisfied: packaging>=17.0 in /usr/local/lib/python3.10/dist-packages (from marshmallow<4.0.0,>=3.18.0->dataclasses-json<0.6.0,>=0.5.7->langchain) (23.1)\n",
            "Collecting mypy-extensions>=0.3.0 (from typing-inspect<1,>=0.4.0->dataclasses-json<0.6.0,>=0.5.7->langchain)\n",
            "  Downloading mypy_extensions-1.0.0-py3-none-any.whl (4.7 kB)\n",
            "Installing collected packages: mypy-extensions, marshmallow, typing-inspect, tiktoken, langsmith, openai, dataclasses-json, langchain\n",
            "Successfully installed dataclasses-json-0.5.14 langchain-0.0.292 langsmith-0.0.38 marshmallow-3.20.1 mypy-extensions-1.0.0 openai-0.28.0 tiktoken-0.5.1 typing-inspect-0.9.0\n"
          ]
        }
      ]
    },
    {
      "cell_type": "code",
      "execution_count": null,
      "metadata": {
        "id": "04jIGftjJy_y"
      },
      "outputs": [],
      "source": [
        "import openai\n",
        "import os\n",
        "from getpass import getpass\n",
        "from langchain.chat_models import ChatOpenAI\n",
        "from langchain.schema import HumanMessage, SystemMessage, AIMessage\n",
        "import textwrap\n",
        "\n",
        "# Заводим глобальные заголовки для всех запросов в OpenAI\n",
        "openai.api_headers = {\n",
        "    'Content-Type': 'application/json; charset=UTF-8',\n",
        "    'Accept': 'application/json; charset=UTF-8'\n",
        "}"
      ]
    },
    {
      "cell_type": "code",
      "source": [
        "# Разбиваем текст на строки заданной длины без разбиения слов.\n",
        "def w_text(text, line_length=80):\n",
        "    return '\\n'.join(textwrap.wrap(text, line_length))\n",
        "\n",
        "# Основная функция\n",
        "def chat_with_gpt(user_input):\n",
        "    openai_key = getpass(\"OpenAI API Key:\")\n",
        "    os.environ[\"OPENAI_API_KEY\"] = openai_key\n",
        "    openai.api_key = openai_key\n",
        "\n",
        "    system = \"Ты- помощник на любые темы.\"\n",
        "\n",
        "    result = openai.ChatCompletion.create(\n",
        "      model=\"gpt-3.5-turbo\",\n",
        "      messages=[\n",
        "          {\"role\": \"system\", \"content\": system},\n",
        "          {\"role\": \"user\", \"content\": user_input}\n",
        "      ],\n",
        "      temperature=0.5\n",
        "      )\n",
        "    response = result['choices'][0]['message']['content']\n",
        "    # Подсчет токенов\n",
        "    messages = [\n",
        "        SystemMessage(content=system),\n",
        "        HumanMessage(content=user_input),\n",
        "        AIMessage(content=response)\n",
        "    ]\n",
        "    chat = ChatOpenAI(temperature=0)\n",
        "    total_tokens = chat.get_num_tokens_from_messages(messages)\n",
        "    return response, total_tokens\n",
        "\n",
        "user_input = input(\"Введите ваш вопрос - \")\n",
        "response, tokens_count = chat_with_gpt(user_input)\n",
        "wrapped_response = w_text(response, 80)  # Оборачиваем текст для переноса строки\n",
        "print('')\n",
        "print(f\"Ответ от модели:\\n{wrapped_response}\")\n",
        "print('')\n",
        "print(f\"Общее количество токенов: {tokens_count}\")\n"
      ],
      "metadata": {
        "colab": {
          "base_uri": "https://localhost:8080/"
        },
        "id": "OnxlynxFT2WJ",
        "outputId": "d63a43cf-e996-4d02-be91-5711b383d2f6"
      },
      "execution_count": null,
      "outputs": [
        {
          "output_type": "stream",
          "name": "stdout",
          "text": [
            "Введите ваш вопрос - Кто такой А.С. Пушкин и Лев Толстой и как они взаимодействовали с AI?\n",
            "OpenAI API Key:··········\n",
            "\n",
            "Ответ от модели:\n",
            "Александр Сергеевич Пушкин (1799-1837) и Лев Николаевич Толстой (1828-1910) -\n",
            "это два известных русских писателя и литературные гении.  Александр Сергеевич\n",
            "Пушкин считается одним из самых великих поэтов не только в русской, но и в\n",
            "мировой литературе. Он является автором таких известных произведений, как\n",
            "\"Евгений Онегин\", \"Руслан и Людмила\", \"Пиковая дама\" и многих других. Пушкин в\n",
            "своих произведениях изображал различные аспекты жизни и человеческих отношений,\n",
            "а также затрагивал вопросы идеологии и политики.  Лев Николаевич Толстой - один\n",
            "из величайших романистов и мыслителей в истории литературы. Его самыми\n",
            "известными произведениями являются \"Война и мир\" и \"Анна Каренина\". Толстой\n",
            "затрагивал широкий спектр тем, включая войну, любовь, моральные и философские\n",
            "вопросы. Он также был известен своими социальными и политическими взглядами,\n",
            "включая идеи общественного равенства и ненасилия.  Что касается взаимодействия с\n",
            "искусственным интеллектом (AI), то, конечно, ни Пушкин, ни Толстой не имели\n",
            "возможности взаимодействовать с AI в привычном смысле. Они жили в эпоху, когда\n",
            "искусственный интеллект еще не был разработан и не существовал в современном\n",
            "понимании. Однако, их работы и идеи продолжают влиять на развитие искусственного\n",
            "интеллекта и его применение в литературе и других областях. Некоторые\n",
            "исследователи используют AI для анализа и моделирования литературных\n",
            "произведений, включая работы Пушкина и Толстого, чтобы лучше понять структуру,\n",
            "стиль и смысл этих произведений.\n",
            "\n",
            "Общее количество токенов: 778\n"
          ]
        }
      ]
    }
  ]
}