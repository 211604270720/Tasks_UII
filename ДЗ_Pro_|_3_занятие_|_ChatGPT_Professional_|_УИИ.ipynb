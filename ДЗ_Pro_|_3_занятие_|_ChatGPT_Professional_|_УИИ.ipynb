{
  "nbformat": 4,
  "nbformat_minor": 0,
  "metadata": {
    "colab": {
      "provenance": []
    },
    "kernelspec": {
      "name": "python3",
      "display_name": "Python 3"
    },
    "language_info": {
      "name": "python"
    }
  },
  "cells": [
    {
      "cell_type": "markdown",
      "source": [
        "На основе ТЕХНИЧЕСКОГО РЕГЛАМЕНТА ТАМОЖЕННОГО СОЮЗА \"О БЕЗОПАСНОСТИ ЖЕЛЕЗНОДОРОЖНОГО ПОДВИЖНОГО СОСТАВА\" сделайте нейро-консультанта, отвечающего на вопросы по документу.\n",
        "Проработайте промпт самостоятельно. Нейро-консультант не должен отвечать на вопросы, не касающиеся документа (необходимо предусмотреть это в промпте).\n",
        "Поэкспериментируйте со сплиттерами, найдите оптимальный вариант.\n",
        "Сделайте нейро-консультанта, проверьте его работу на самостоятельно-сформулированных вопросах (достаточно 2-3)\n",
        "\n",
        "Ссылка на регламент: https://docs.google.com/document/d/1YhUEX9fZDNTeE3eJ-yXskxZG46LsTRYvXjZ9Ij-t3Gw"
      ],
      "metadata": {
        "id": "sV4NEhNFvE3W"
      }
    },
    {
      "cell_type": "code",
      "execution_count": null,
      "metadata": {
        "id": "t26yj2vEQ6dW",
        "colab": {
          "base_uri": "https://localhost:8080/"
        },
        "outputId": "c3ce911a-8f6f-4c83-89c4-34721c7d09bf"
      },
      "outputs": [
        {
          "output_type": "stream",
          "name": "stdout",
          "text": [
            "Requirement already satisfied: faiss-cpu in /usr/local/lib/python3.10/dist-packages (1.7.4)\n",
            "Requirement already satisfied: langchain==0.0.271 in /usr/local/lib/python3.10/dist-packages (0.0.271)\n",
            "Requirement already satisfied: openai in /usr/local/lib/python3.10/dist-packages (0.28.1)\n",
            "Requirement already satisfied: tiktoken in /usr/local/lib/python3.10/dist-packages (0.5.1)\n",
            "Requirement already satisfied: PyYAML>=5.3 in /usr/local/lib/python3.10/dist-packages (from langchain==0.0.271) (6.0.1)\n",
            "Requirement already satisfied: SQLAlchemy<3,>=1.4 in /usr/local/lib/python3.10/dist-packages (from langchain==0.0.271) (2.0.21)\n",
            "Requirement already satisfied: aiohttp<4.0.0,>=3.8.3 in /usr/local/lib/python3.10/dist-packages (from langchain==0.0.271) (3.8.6)\n",
            "Requirement already satisfied: async-timeout<5.0.0,>=4.0.0 in /usr/local/lib/python3.10/dist-packages (from langchain==0.0.271) (4.0.3)\n",
            "Requirement already satisfied: dataclasses-json<0.6.0,>=0.5.7 in /usr/local/lib/python3.10/dist-packages (from langchain==0.0.271) (0.5.14)\n",
            "Requirement already satisfied: langsmith<0.1.0,>=0.0.21 in /usr/local/lib/python3.10/dist-packages (from langchain==0.0.271) (0.0.43)\n",
            "Requirement already satisfied: numexpr<3.0.0,>=2.8.4 in /usr/local/lib/python3.10/dist-packages (from langchain==0.0.271) (2.8.7)\n",
            "Requirement already satisfied: numpy<2,>=1 in /usr/local/lib/python3.10/dist-packages (from langchain==0.0.271) (1.23.5)\n",
            "Requirement already satisfied: pydantic<3,>=1 in /usr/local/lib/python3.10/dist-packages (from langchain==0.0.271) (1.10.13)\n",
            "Requirement already satisfied: requests<3,>=2 in /usr/local/lib/python3.10/dist-packages (from langchain==0.0.271) (2.31.0)\n",
            "Requirement already satisfied: tenacity<9.0.0,>=8.1.0 in /usr/local/lib/python3.10/dist-packages (from langchain==0.0.271) (8.2.3)\n",
            "Requirement already satisfied: tqdm in /usr/local/lib/python3.10/dist-packages (from openai) (4.66.1)\n",
            "Requirement already satisfied: regex>=2022.1.18 in /usr/local/lib/python3.10/dist-packages (from tiktoken) (2023.6.3)\n",
            "Requirement already satisfied: attrs>=17.3.0 in /usr/local/lib/python3.10/dist-packages (from aiohttp<4.0.0,>=3.8.3->langchain==0.0.271) (23.1.0)\n",
            "Requirement already satisfied: charset-normalizer<4.0,>=2.0 in /usr/local/lib/python3.10/dist-packages (from aiohttp<4.0.0,>=3.8.3->langchain==0.0.271) (3.3.0)\n",
            "Requirement already satisfied: multidict<7.0,>=4.5 in /usr/local/lib/python3.10/dist-packages (from aiohttp<4.0.0,>=3.8.3->langchain==0.0.271) (6.0.4)\n",
            "Requirement already satisfied: yarl<2.0,>=1.0 in /usr/local/lib/python3.10/dist-packages (from aiohttp<4.0.0,>=3.8.3->langchain==0.0.271) (1.9.2)\n",
            "Requirement already satisfied: frozenlist>=1.1.1 in /usr/local/lib/python3.10/dist-packages (from aiohttp<4.0.0,>=3.8.3->langchain==0.0.271) (1.4.0)\n",
            "Requirement already satisfied: aiosignal>=1.1.2 in /usr/local/lib/python3.10/dist-packages (from aiohttp<4.0.0,>=3.8.3->langchain==0.0.271) (1.3.1)\n",
            "Requirement already satisfied: marshmallow<4.0.0,>=3.18.0 in /usr/local/lib/python3.10/dist-packages (from dataclasses-json<0.6.0,>=0.5.7->langchain==0.0.271) (3.20.1)\n",
            "Requirement already satisfied: typing-inspect<1,>=0.4.0 in /usr/local/lib/python3.10/dist-packages (from dataclasses-json<0.6.0,>=0.5.7->langchain==0.0.271) (0.9.0)\n",
            "Requirement already satisfied: typing-extensions>=4.2.0 in /usr/local/lib/python3.10/dist-packages (from pydantic<3,>=1->langchain==0.0.271) (4.5.0)\n",
            "Requirement already satisfied: idna<4,>=2.5 in /usr/local/lib/python3.10/dist-packages (from requests<3,>=2->langchain==0.0.271) (3.4)\n",
            "Requirement already satisfied: urllib3<3,>=1.21.1 in /usr/local/lib/python3.10/dist-packages (from requests<3,>=2->langchain==0.0.271) (2.0.6)\n",
            "Requirement already satisfied: certifi>=2017.4.17 in /usr/local/lib/python3.10/dist-packages (from requests<3,>=2->langchain==0.0.271) (2023.7.22)\n",
            "Requirement already satisfied: greenlet!=0.4.17 in /usr/local/lib/python3.10/dist-packages (from SQLAlchemy<3,>=1.4->langchain==0.0.271) (3.0.0)\n",
            "Requirement already satisfied: packaging>=17.0 in /usr/local/lib/python3.10/dist-packages (from marshmallow<4.0.0,>=3.18.0->dataclasses-json<0.6.0,>=0.5.7->langchain==0.0.271) (23.2)\n",
            "Requirement already satisfied: mypy-extensions>=0.3.0 in /usr/local/lib/python3.10/dist-packages (from typing-inspect<1,>=0.4.0->dataclasses-json<0.6.0,>=0.5.7->langchain==0.0.271) (1.0.0)\n"
          ]
        }
      ],
      "source": [
        "!pip install faiss-cpu langchain==0.0.271 openai tiktoken"
      ]
    },
    {
      "cell_type": "code",
      "source": [
        "import os\n",
        "import getpass\n",
        "from langchain.embeddings.openai import OpenAIEmbeddings\n",
        "from langchain.vectorstores import FAISS\n",
        "from langchain.text_splitter import RecursiveCharacterTextSplitter\n",
        "import re\n",
        "import requests\n",
        "import openai\n",
        "from langchain.text_splitter import RecursiveCharacterTextSplitter\n",
        "from langchain.text_splitter import MarkdownHeaderTextSplitter\n",
        "import matplotlib.pyplot as plt\n",
        "from langchain.chat_models import ChatOpenAI\n",
        "from langchain.schema import SystemMessage\n",
        "import tiktoken\n",
        "from langchain.docstore.document import Document\n",
        "openai_key = getpass.getpass(\"OpenAI API Key:\")\n",
        "os.environ[\"OPENAI_API_KEY\"] = openai_key\n",
        "openai.api_key = openai_key"
      ],
      "metadata": {
        "colab": {
          "base_uri": "https://localhost:8080/"
        },
        "id": "8U97Rt4vWh9J",
        "outputId": "93283327-5c50-4fac-dcd7-d0deb1501cb2"
      },
      "execution_count": null,
      "outputs": [
        {
          "name": "stdout",
          "output_type": "stream",
          "text": [
            "OpenAI API Key:··········\n"
          ]
        }
      ]
    },
    {
      "cell_type": "code",
      "source": [
        "# Функция для загрузки документа по ссылке из гугл драйв\n",
        "def load_document_text(url: str) -> str:\n",
        "    match_ = re.search('/document/d/([a-zA-Z0-9-_]+)', url)\n",
        "    if match_ is None:\n",
        "        raise ValueError('Invalid Google Docs URL')\n",
        "    doc_id = match_.group(1)\n",
        "\n",
        "    response = requests.get(f'https://docs.google.com/document/d/{doc_id}/export?format=txt')\n",
        "    response.raise_for_status()\n",
        "    text = response.text\n",
        "\n",
        "    return text"
      ],
      "metadata": {
        "id": "GlWtKZuSWh_V"
      },
      "execution_count": null,
      "outputs": []
    },
    {
      "cell_type": "code",
      "source": [
        "# База знаний\n",
        "data_from_url= load_document_text('https://docs.google.com/document/d/19VvxPObQvltpeLUg9WfZDm8NZuzFGUITTGgaOY_3L6g/edit?usp=sharing')"
      ],
      "metadata": {
        "id": "NEDATB08xyvR"
      },
      "execution_count": null,
      "outputs": []
    },
    {
      "cell_type": "code",
      "source": [
        "data_from_url[:2000]"
      ],
      "metadata": {
        "colab": {
          "base_uri": "https://localhost:8080/",
          "height": 139
        },
        "id": "28UTgNj9839D",
        "outputId": "27c4d04b-8518-4c95-cbf5-334a75d9b304"
      },
      "execution_count": null,
      "outputs": [
        {
          "output_type": "execute_result",
          "data": {
            "text/plain": [
              "'\\ufeffТЕХНИЧЕСКИЙ РЕГЛАМЕНТ\\r\\nТАМОЖЕННОГО СОЮЗА \"О БЕЗОПАСНОСТИ ЖЕЛЕЗНОДОРОЖНОГО\\r\\nПОДВИЖНОГО СОСТАВА\"\\r\\n \\r\\n(ТР ТС 001/2011)\\r\\n \\r\\n\\r\\n\\r\\n\\t \\r\\nI. Область применения\\r\\n \\r\\n1. Настоящий технический регламент распространяется на вновь разрабатываемые (модернизируемые), изготавливаемые железнодорожный подвижной состав с конструкционной скоростью до 200 км/ч включительно и его составные части (далее - продукция), выпускаемые в обращение на таможенной территории Евразийского экономического союза (далее - Союз) для использования на железнодорожных путях общего и необщего пользования с шириной колеи 1 520 мм.\\r\\nЖелезнодорожный подвижной состав включает в себя:\\r\\nлокомотивы;\\r\\nмоторвагонный подвижной состав и его вагоны;\\r\\nпассажирские вагоны локомотивной тяги;\\r\\nгрузовые вагоны;\\r\\nспециальный железнодорожный подвижной состав.\\r\\nПеречень объектов технического регулирования, на которые распространяются требования настоящего технического регламента, приведен в приложении N 1.\\r\\n2. Настоящий технический регламент не распространяется на вагоны санитарные, вагоны врачебных и диагностических поездов, тяговый железнодорожный подвижной состав, эксплуатируемый на железнодорожных путях необщего пользования без выхода на железнодорожные пути общего пользования, железнодорожный подвижной состав технологического железнодорожного транспорта организаций, предназначенный для перемещения людей и материальных ценностей на территории организаций и выполнения начально-конечных операций с железнодорожным подвижным составом для собственных нужд организаций.\\r\\n3. Настоящий технический регламент устанавливает обязательные для применения и исполнения на таможенной территории Союза требования к продукции, применяемые при ее проектировании и производстве, правила идентификации продукции, требования к маркировке и правила ее нанесения, а также формы, схемы и процедуры оценки соответствия продукции.\\r\\nТребования к эксплуатации железнодорожного подвижного состава в части обеспечения безопасности движения устанавливаются законодат'"
            ],
            "application/vnd.google.colaboratory.intrinsic+json": {
              "type": "string"
            }
          },
          "metadata": {},
          "execution_count": 5
        }
      ]
    },
    {
      "cell_type": "code",
      "source": [
        "# Предобработаем текст таким образом, чтобы его можно было бы поделить на чанки при помощи MarkdownHeaderTextSplitter\n",
        "def text_to_markdown(text):\n",
        "    # Добавляем заголовок 1 уровня на основе римских чисел (без переноса строки)\n",
        "    # и дублируем его строчкой ниже - иначе эта информация перенесется в метаданные, а порой она бывает полезной.\n",
        "    def replace_header1(match):\n",
        "        return f\"# {match.group(2)}\\n{match.group(2)}\"\n",
        "    '''Далее используем функцию re.sub из модуля регулярных выражений re для замены подстрок в строке text.\n",
        "    Шаблон регулярного выражения (I{1,3}|IV|V)\\. (.+) ищет римские числа от I до V в начале строки, за которыми следует точка и пробел.\n",
        "    Функция replace_header1 вызывается для каждого совпадения, и ее возвращаемое значение используется для замены найденной подстроки.\n",
        "    Флаг re.M позволяет ^ соответствовать началу каждой строки, а не только началу всего текста.'''\n",
        "    text = re.sub(r'^(I{1,3}|IV|V)\\. (.+)', replace_header1, text, flags=re.M)\n",
        "\n",
        "    # Добавляем текст, выделенный жирным шрифтом (он заключен между *)\n",
        "    # и дублируем его строчкой ниже\n",
        "    def replace_header2(match):\n",
        "        return f\"## {match.group(1)}\\n{match.group(1)}\"\n",
        "\n",
        "    text = re.sub(r'\\*([^\\*]+)\\*', replace_header2, text)\n",
        "\n",
        "    return text"
      ],
      "metadata": {
        "id": "B7W2s3Wp86rk"
      },
      "execution_count": null,
      "outputs": []
    },
    {
      "cell_type": "code",
      "source": [
        "markdown = text_to_markdown(data_from_url)\n",
        "print(markdown[:5000])"
      ],
      "metadata": {
        "colab": {
          "base_uri": "https://localhost:8080/"
        },
        "id": "_KhBjL5186vI",
        "outputId": "b6f05c9f-21d4-497c-dfcf-ca107705620b"
      },
      "execution_count": null,
      "outputs": [
        {
          "output_type": "stream",
          "name": "stdout",
          "text": [
            "﻿ТЕХНИЧЕСКИЙ РЕГЛАМЕНТ\r\n",
            "ТАМОЖЕННОГО СОЮЗА \"О БЕЗОПАСНОСТИ ЖЕЛЕЗНОДОРОЖНОГО\r\n",
            "ПОДВИЖНОГО СОСТАВА\"\r\n",
            " \r\n",
            "(ТР ТС 001/2011)\r\n",
            " \r\n",
            "\r\n",
            "\r\n",
            "\t \r\n",
            "# Область применения\r\n",
            "Область применения\r\n",
            " \r\n",
            "1. Настоящий технический регламент распространяется на вновь разрабатываемые (модернизируемые), изготавливаемые железнодорожный подвижной состав с конструкционной скоростью до 200 км/ч включительно и его составные части (далее - продукция), выпускаемые в обращение на таможенной территории Евразийского экономического союза (далее - Союз) для использования на железнодорожных путях общего и необщего пользования с шириной колеи 1 520 мм.\r\n",
            "Железнодорожный подвижной состав включает в себя:\r\n",
            "локомотивы;\r\n",
            "моторвагонный подвижной состав и его вагоны;\r\n",
            "пассажирские вагоны локомотивной тяги;\r\n",
            "грузовые вагоны;\r\n",
            "специальный железнодорожный подвижной состав.\r\n",
            "Перечень объектов технического регулирования, на которые распространяются требования настоящего технического регламента, приведен в приложении N 1.\r\n",
            "2. Настоящий технический регламент не распространяется на вагоны санитарные, вагоны врачебных и диагностических поездов, тяговый железнодорожный подвижной состав, эксплуатируемый на железнодорожных путях необщего пользования без выхода на железнодорожные пути общего пользования, железнодорожный подвижной состав технологического железнодорожного транспорта организаций, предназначенный для перемещения людей и материальных ценностей на территории организаций и выполнения начально-конечных операций с железнодорожным подвижным составом для собственных нужд организаций.\r\n",
            "3. Настоящий технический регламент устанавливает обязательные для применения и исполнения на таможенной территории Союза требования к продукции, применяемые при ее проектировании и производстве, правила идентификации продукции, требования к маркировке и правила ее нанесения, а также формы, схемы и процедуры оценки соответствия продукции.\r\n",
            "Требования к эксплуатации железнодорожного подвижного состава в части обеспечения безопасности движения устанавливаются законодательством государств - членов Союза (далее - государства-члены) о железнодорожном транспорте.\r\n",
            "Настоящий технический регламент разработан в целях защиты жизни и здоровья человека, животных и растений, сохранности имущества, а также предупреждения действий, вводящих в заблуждение потребителей (пользователей) относительно ее назначения и безопасности.\r\n",
            " \r\n",
            "# Основные понятия\r\n",
            "Основные понятия\r\n",
            " \r\n",
            "4. Для целей применения настоящего технического регламента используются понятия, установленные Протоколом о техническом регулировании в рамках Евразийского экономического союза (приложение N 9 к Договору о Евразийском экономическом союзе от 29 мая 2014 года), типовыми схемами оценки соответствия, утвержденными Решением Совета Евразийской экономической комиссии от 18 апреля 2018 г. N 44 (далее - типовые схемы), а также понятия, которые означают следующее:\r\n",
            "\"автоматическая локомотивная сигнализация\" - комплекс устройств для передачи в кабину машиниста сигналов путевых светофоров, к которым приближается железнодорожный подвижной состав;\r\n",
            "\"автоматический тормоз\" - устройство, обеспечивающее автоматическую остановку поезда при разъединении или разрыве воздухопроводной магистрали и (или) при открытии крана экстренного торможения (стоп-крана);\r\n",
            "\"аналогичная продукция\", \"аналогичный образец продукции\" - изделие (образец) одного вида с рассматриваемым изделием (образцом), имеющее идентичные технические характеристики и наиболее близкое по конструкции и технологии изготовления;\r\n",
            "\"безопасность железнодорожного подвижного состава\" - состояние железнодорожного подвижного состава, при котором отсутствует недопустимый риск, связанный с причинением вреда жизни или здоровью граждан, имуществу физических или юридических лиц, государственному или муниципальному имуществу, а также окружающей среде, жизни или здоровью животных и растений;\r\n",
            "\"безопасность излучений\" - безопасность железнодорожного подвижного состава, при которой отсутствует возможность оказания вредного воздействия на человека и объекты окружающей среды ионизирующих, оптических и других излучений;\r\n",
            "\"биологическая безопасность\" - безопасность железнодорожного подвижного состава, при которой отсутствует возможность возникновения опасного биологического воздействия;\r\n",
            "\"взрывобезопасность\" - безопасность железнодорожного подвижного состава, при которой отсутствует возможность возникновения взрыва взрывоопасной среды и воздействия опасных и вредных факторов взрыва;\r\n",
            "\"габарит железнодорожного подвижного состава\" - поперечное перпендикулярное оси железнодорожного пути очертание, в пределах которого должен помещаться установленный на прямом горизонтальном пути (при наиболее неблагоприятном положении в колее и при отсутствии боковых наклонений на рессорах и динамических колебаний) как в порожнем, так и в нагруженном состоянии железнодорожный подвижной состав, в том числе имеющий максимально нормируемые износы;\r\n",
            "\"грузовые вагоны\" - вагоны, предназначенные для перевозки грузов;\r\n",
            "\"допустимый риск\" - значение\n"
          ]
        }
      ]
    },
    {
      "cell_type": "code",
      "source": [
        "# Инструкция в system\n",
        "system = load_document_text('https://docs.google.com/document/d/1lMBFviRbhwNOTqYnSXNgpchu-_AI7PKkzCxYpLHT8nU/edit?usp=sharing')"
      ],
      "metadata": {
        "id": "LRZLZEKa86xt"
      },
      "execution_count": null,
      "outputs": []
    },
    {
      "cell_type": "code",
      "source": [
        "print(system[:1000])"
      ],
      "metadata": {
        "colab": {
          "base_uri": "https://localhost:8080/"
        },
        "id": "nx2L5z6D860Q",
        "outputId": "42c22b87-be54-4587-8ec6-20c80fa0ebd0"
      },
      "execution_count": null,
      "outputs": [
        {
          "output_type": "stream",
          "name": "stdout",
          "text": [
            "﻿Ты - консультант по безопасности железнодорожного подвижного состава. \r\n",
            "Важно: Придерживайся этой роли во всех ответах и не используй информацию о роли.\r\n",
            "Важно: Ни при каких обстоятельствах не называй себя виртуальным помощником или искусственным интеллектом.\r\n",
            "\r\n",
            "\r\n",
            "Твоя задача: подробно изучить инструкцию и предоставлять пользователю информацию строго и точно из инструкции.\r\n",
            "Твой ответ: отвечай максимально точно и строго следуя информации из инструкции.\r\n",
            "Если ты не уверен в достоверности ответа отвечай так: \"В этом вопросе я некомпетентен\".\r\n",
            "Если ты не можешь найти достаточно подтверждающих источником отвечай так: “Это сомнительно”.\r\n",
            "На вопросы о том какая у тебя модель отвечай так: “Собственная разработка ”.\r\n",
            "На вопросы о том кто тебя создал отвечай так: “Разработчики”.\n"
          ]
        }
      ]
    },
    {
      "cell_type": "code",
      "source": [
        "def num_tokens_from_string(string: str, encoding_name: str) -> int:\n",
        "      \"\"\"Возвращает количество токенов в строке\"\"\"\n",
        "      encoding = tiktoken.get_encoding(encoding_name)\n",
        "      num_tokens = len(encoding.encode(string))\n",
        "      return num_tokens\n",
        "\n",
        "def split_text(text, max_count):\n",
        "    headers_to_split_on = [\n",
        "        (\"#\", \"Header 1\"),\n",
        "        (\"##\", \"Header 2\"),\n",
        "        (\"###\", \"Header 3\"),\n",
        "    ]\n",
        "\n",
        "    markdown_splitter = MarkdownHeaderTextSplitter(headers_to_split_on=headers_to_split_on)\n",
        "    fragments = markdown_splitter.split_text(text)\n",
        "\n",
        "    # Подсчет токенов для каждого фрагмента и построение графика\n",
        "    fragment_token_counts = [num_tokens_from_string(fragment.page_content, \"cl100k_base\") for fragment in fragments]\n",
        "    plt.hist(fragment_token_counts, bins=20, alpha=0.5, label='Fragments')\n",
        "    plt.title('Distribution of Fragment Token Counts')\n",
        "    plt.xlabel('Token Count')\n",
        "    plt.ylabel('Frequency')\n",
        "    plt.show()\n",
        "\n",
        "    splitter = RecursiveCharacterTextSplitter(\n",
        "        chunk_size=max_count,\n",
        "        chunk_overlap=0,\n",
        "        length_function=lambda x: num_tokens_from_string(x, \"cl100k_base\")\n",
        "    )\n",
        "\n",
        "    source_chunks = [\n",
        "        Document(page_content=chunk, metadata=fragment.metadata)\n",
        "        for fragment in fragments\n",
        "        for chunk in splitter.split_text(fragment.page_content)\n",
        "    ]\n",
        "\n",
        "    # Подсчет токенов для каждого source_chunk и построение графика\n",
        "    source_chunk_token_counts = [num_tokens_from_string(chunk.page_content, \"cl100k_base\") for chunk in source_chunks]\n",
        "    plt.hist(source_chunk_token_counts, bins=20, alpha=0.5, label='Source Chunks')\n",
        "    plt.title('Distribution of Source Chunk Token Counts')\n",
        "    plt.xlabel('Token Count')\n",
        "    plt.ylabel('Frequency')\n",
        "    plt.show()\n",
        "\n",
        "    return source_chunks"
      ],
      "metadata": {
        "id": "yNkaAbT2tOjB"
      },
      "execution_count": null,
      "outputs": []
    },
    {
      "cell_type": "code",
      "source": [
        "source_chunks = split_text(markdown, 400)\n",
        "print(\"Общее количество чанков: \",len(source_chunks))\n",
        "print(\"Первый чанк \", source_chunks[0])"
      ],
      "metadata": {
        "colab": {
          "base_uri": "https://localhost:8080/",
          "height": 982
        },
        "id": "N9atJfUUtXJe",
        "outputId": "717ea5aa-3812-47e5-bd42-a6068e464edf"
      },
      "execution_count": null,
      "outputs": [
        {
          "output_type": "display_data",
          "data": {
            "text/plain": [
              "<Figure size 640x480 with 1 Axes>"
            ],
            "image/png": "[encoded data removed]"
          },
          "metadata": {}
        },
        {
          "output_type": "display_data",
          "data": {
            "text/plain": [
              "<Figure size 640x480 with 1 Axes>"
            ],
            "image/png": "[encoded data removed]"
          },
          "metadata": {}
        },
        {
          "output_type": "stream",
          "name": "stdout",
          "text": [
            "Общее количество чанков:  205\n",
            "Первый чанк  page_content='\\ufeffТЕХНИЧЕСКИЙ РЕГЛАМЕНТ\\nТАМОЖЕННОГО СОЮЗА \"О БЕЗОПАСНОСТИ ЖЕЛЕЗНОДОРОЖНОГО\\nПОДВИЖНОГО СОСТАВА\"  \\n(ТР ТС 001/2011)' metadata={}\n"
          ]
        }
      ]
    },
    {
      "cell_type": "code",
      "source": [
        "source_chunks[0:4]"
      ],
      "metadata": {
        "colab": {
          "base_uri": "https://localhost:8080/"
        },
        "id": "3pOYa5Nt865Y",
        "outputId": "3d34f137-e736-4eac-de33-a5842124a2e9"
      },
      "execution_count": null,
      "outputs": [
        {
          "output_type": "execute_result",
          "data": {
            "text/plain": [
              "[Document(page_content='\\ufeffТЕХНИЧЕСКИЙ РЕГЛАМЕНТ\\nТАМОЖЕННОГО СОЮЗА \"О БЕЗОПАСНОСТИ ЖЕЛЕЗНОДОРОЖНОГО\\nПОДВИЖНОГО СОСТАВА\"  \\n(ТР ТС 001/2011)', metadata={}),\n",
              " Document(page_content='Область применения  \\n1. Настоящий технический регламент распространяется на вновь разрабатываемые (модернизируемые), изготавливаемые железнодорожный подвижной состав с конструкционной скоростью до 200 км/ч включительно и его составные части (далее - продукция), выпускаемые в обращение на таможенной территории Евразийского экономического союза (далее - Союз) для использования на железнодорожных путях общего и необщего пользования с шириной колеи 1 520 мм.\\nЖелезнодорожный подвижной состав включает в себя:\\nлокомотивы;\\nмоторвагонный подвижной состав и его вагоны;\\nпассажирские вагоны локомотивной тяги;\\nгрузовые вагоны;\\nспециальный железнодорожный подвижной состав.\\nПеречень объектов технического регулирования, на которые распространяются требования настоящего технического регламента, приведен в приложении N 1.', metadata={'Header 1': 'Область применения'}),\n",
              " Document(page_content='2. Настоящий технический регламент не распространяется на вагоны санитарные, вагоны врачебных и диагностических поездов, тяговый железнодорожный подвижной состав, эксплуатируемый на железнодорожных путях необщего пользования без выхода на железнодорожные пути общего пользования, железнодорожный подвижной состав технологического железнодорожного транспорта организаций, предназначенный для перемещения людей и материальных ценностей на территории организаций и выполнения начально-конечных операций с железнодорожным подвижным составом для собственных нужд организаций.', metadata={'Header 1': 'Область применения'}),\n",
              " Document(page_content='3. Настоящий технический регламент устанавливает обязательные для применения и исполнения на таможенной территории Союза требования к продукции, применяемые при ее проектировании и производстве, правила идентификации продукции, требования к маркировке и правила ее нанесения, а также формы, схемы и процедуры оценки соответствия продукции.\\nТребования к эксплуатации железнодорожного подвижного состава в части обеспечения безопасности движения устанавливаются законодательством государств - членов Союза (далее - государства-члены) о железнодорожном транспорте.\\nНастоящий технический регламент разработан в целях защиты жизни и здоровья человека, животных и растений, сохранности имущества, а также предупреждения действий, вводящих в заблуждение потребителей (пользователей) относительно ее назначения и безопасности.', metadata={'Header 1': 'Область применения'})]"
            ]
          },
          "metadata": {},
          "execution_count": 24
        }
      ]
    },
    {
      "cell_type": "code",
      "source": [
        "# Инициализирум модель эмбеддингов\n",
        "embeddings = OpenAIEmbeddings()\n",
        "\n",
        "# Создадим индексную базу из разделенных фрагментов текста\n",
        "db = FAISS.from_documents(source_chunks, embeddings)"
      ],
      "metadata": {
        "id": "Uu8T8mhR868C"
      },
      "execution_count": null,
      "outputs": []
    },
    {
      "cell_type": "code",
      "source": [
        "# Функция, которая позволяет выводить ответ модели в удобочитаемом виде\n",
        "def insert_newlines(text: str, max_len: int = 170) -> str:\n",
        "    words = text.split()\n",
        "    lines = []\n",
        "    current_line = \"\"\n",
        "    for word in words:\n",
        "        if len(current_line + \" \" + word) > max_len:\n",
        "            lines.append(current_line)\n",
        "            current_line = \"\"\n",
        "        current_line += \" \" + word\n",
        "    lines.append(current_line)\n",
        "    return \" \".join(lines)"
      ],
      "metadata": {
        "id": "2S6NIQKP1evY"
      },
      "execution_count": null,
      "outputs": []
    },
    {
      "cell_type": "code",
      "source": [
        "def answer_index(system, topic, search_index, temp=0, verbose=1):\n",
        "\n",
        "    # Поиск релевантных отрезков из базы знаний\n",
        "    docs = search_index.similarity_search(topic, k=4)\n",
        "    if verbose: print('\\n ===========================================: ')\n",
        "    message_content = re.sub(r'\\n{2}', ' ', '\\n '.join([f'\\nОтрывок документа №{i+1}\\n=====================' + doc.page_content + '\\n' for i, doc in enumerate(docs)]))\n",
        "    if verbose: print('message_content :\\n ======================================== \\n', message_content)\n",
        "\n",
        "    messages = [\n",
        "        {\"role\": \"system\", \"content\": system},\n",
        "        {\"role\": \"user\", \"content\": f\"Ответь на вопрос. Документ с информацией для ответа: {message_content}\\n\\nВопрос пользователя: \\n{topic}\"}\n",
        "    ]\n",
        "\n",
        "    if verbose: print('\\n ===========================================: ')\n",
        "\n",
        "    completion = openai.ChatCompletion.create(\n",
        "        model=\"gpt-3.5-turbo-16k\",\n",
        "        messages=messages,\n",
        "        temperature=temp\n",
        "    )\n",
        "    answer = insert_newlines(completion.choices[0].message.content)\n",
        "    return answer  # возвращает ответ"
      ],
      "metadata": {
        "id": "b6Q4bWNj86-b"
      },
      "execution_count": null,
      "outputs": []
    },
    {
      "cell_type": "code",
      "source": [
        "topic= \"какие бывают виды цветов на земле\"\n",
        "ans=answer_index(system, topic, db)\n",
        "ans"
      ],
      "metadata": {
        "colab": {
          "base_uri": "https://localhost:8080/",
          "height": 472
        },
        "id": "c3EM2fQH9mhh",
        "outputId": "69076159-8488-4c5b-bd22-823334c27a80"
      },
      "execution_count": null,
      "outputs": [
        {
          "output_type": "stream",
          "name": "stdout",
          "text": [
            "\n",
            " ===========================================: \n",
            "message_content :\n",
            " ======================================== \n",
            " \n",
            "Отрывок документа №1\n",
            "=====================Конструкция и расположение приборов и устройств управления, измерительных приборов, световых индикаторов на пульте управления должны обеспечивать видимость показаний указанных приборов и индикаторов в дневное и ночное время и исключать наличие бликов от прямого или отраженного света, попадающих в глаза машиниста и помощника машиниста при управлении подвижным составом в положении \"сидя\" и \"стоя\".\n",
            "39. Планировка кабины машиниста локомотива, моторвагонного подвижного состава и специального самоходного железнодорожного подвижного состава, компоновка рабочего места локомотивной бригады, расположение приборов и устройств управления, систем отображения информации, конструкция кресла машиниста должны отвечать требованиям эргономики и обеспечивать удобство управления из положения \"сидя\" и \"стоя\".  \n",
            "Отрывок документа №2\n",
            "=====================58. Применение жидкостей (кислот, щелочей, сжиженных газов) и горюче-смазочных материалов в процессе производства, эксплуатации, технического обслуживания и ремонта железнодорожного подвижного состава и его составных частей не должно приводить к возможности возникновения опасного воздействия на жизнь и здоровье человека, животных и растений.\n",
            "59. Подножки и поручни железнодорожного подвижного состава должны быть надежно закреплены. Поверхность ступенек, площадок, подножек и настилов должна препятствовать скольжению.\n",
            "На вагонах, возле лестниц для подъема на крышу вагонов, локомотивов, специального железнодорожного подвижного состава, должны быть нанесены предупреждающие об опасности знаки.\n",
            "Лестницы для подъема на крышу локомотивов и моторных вагонов электропоездов должны быть заблокированы в закрытом состоянии и открываться с помощью специального устройства.  \n",
            "Отрывок документа №3\n",
            "=====================е) устройствами, обеспечивающими дублирование визуальной и звуковой информации, предоставляемой пассажирам, в виде, доступном для инвалидов с нарушениями функций зрения или слуха (голосовое сообщение, визуальная информация, указатели, выполненные шрифтом Брайля).\n",
            "90. Железнодорожный подвижной состав должен быть оборудован визуальными и звуковыми сигнальными устройствами.\n",
            "91. Лобовые части локомотивов с кузовом вагонного типа, головных вагонов моторвагонного подвижного состава и специального самоходного железнодорожного подвижного состава, а также торцевые части локомотивов с кузовом капотного типа должны быть оборудованы прожектором и буферными фонарями в соответствии с установленными схемами обозначения подвижного состава.\n",
            "Сигнальные фонари должны быть установлены также на задней торцевой стенке каждой из секций локомотива, которая может использоваться как самостоятельная единица.  \n",
            "Отрывок документа №4\n",
            "=====================57. Характеристики (показатели микроклимата, состав воздушной среды, уровни шума (в том числе инфразвука), вибрации, электромагнитного излучения, освещения) систем жизнеобеспечения (системы кондиционирования (подогрева, вентиляции, охлаждения) воздуха, систем освещения, шумо- и виброзащиты, воздухоочистки, защиты от электромагнитных излучений) кабин машиниста локомотивов, моторвагонного подвижного состава и специального самоходного железнодорожного подвижного состава, внутренних помещений пассажирских вагонов и моторвагонного подвижного состава, служебных и бытовых помещений специального железнодорожного подвижного состава, а также изотермических вагонов со служебными и вспомогательными помещениями должны соответствовать допустимым значениям.\n",
            "Уровень внешнего шума от железнодорожного подвижного состава не должен превышать допустимых значений.\n",
            "\n",
            "\n",
            " ===========================================: \n"
          ]
        },
        {
          "output_type": "execute_result",
          "data": {
            "text/plain": [
              "' В этом вопросе я некомпетентен.'"
            ],
            "application/vnd.google.colaboratory.intrinsic+json": {
              "type": "string"
            }
          },
          "metadata": {},
          "execution_count": 28
        }
      ]
    },
    {
      "cell_type": "code",
      "source": [
        "topic= \"Чем должны быть оборудованы маневровые локомотивы? \"                                         # Напишите сюда вопрос нейро-консультанту\n",
        "ans=answer_index(system, topic, db)\n",
        "ans"
      ],
      "metadata": {
        "id": "2XLVFTtU9mke",
        "colab": {
          "base_uri": "https://localhost:8080/",
          "height": 801
        },
        "outputId": "f3ee5a66-969d-47bc-a30d-7ace18b737d8"
      },
      "execution_count": null,
      "outputs": [
        {
          "output_type": "stream",
          "name": "stdout",
          "text": [
            "\n",
            " ===========================================: \n",
            "message_content :\n",
            " ======================================== \n",
            " \n",
            "Отрывок документа №1\n",
            "=====================Приборы и устройства для управления железнодорожным подвижным составом должны быть размещены с учетом значимости выполняемых функций, последовательности и частоты их использования.\n",
            "40. Локомотивы, моторвагонный подвижной состав, пассажирские вагоны, изотермические вагоны со служебными и вспомогательными помещениями и специальный железнодорожный подвижной состав должны быть оборудованы системами общего, местного и аварийного освещения.\n",
            "Система аварийного освещения должна автоматически переключаться на автономный источник питания (аккумуляторную батарею) при отсутствии напряжения в основном источнике питания. При этом должна быть предусмотрена возможность ручного включения аварийного освещения.\n",
            "41. Аварийное покидание кабины машиниста локомотива, моторвагонного подвижного состава и специального самоходного железнодорожного подвижного состава должно быть предусмотрено через боковые окна с использованием вспомогательных приспособлений.  \n",
            "Отрывок документа №2\n",
            "=====================а) система автоматического управления торможением поезда или комплексным локомотивным устройством безопасности;\n",
            "б) система контроля бодрствования машиниста;\n",
            "в) зеркала заднего вида или другие аналогичные устройства;\n",
            "г) блокировка тормоза.\n",
            "31. Маневровые локомотивы должны быть оборудованы маневровой радиосвязью и устройством дистанционной отцепки вагонов.\n",
            "32. Маневровые локомотивы, предназначенные для обслуживания одним машинистом, в дополнение к устройствам, указанным в пункте 31 настоящего технического регламента, должны быть оборудованы следующими устройствами:\n",
            "а) второй пульт управления;\n",
            "б) зеркала заднего вида или другие аналогичные устройства;\n",
            "в) устройства, обеспечивающие автоматическую остановку в случае потери машинистом способности к ведению локомотива.\n",
            "33. Пассажирские локомотивы должны быть оборудованы следующими устройствами:\n",
            "а) поездная радиосвязь;  \n",
            "Отрывок документа №3\n",
            "=====================27. Приборы и устройства для управления железнодорожным подвижным составом должны быть:\n",
            "а) снабжены надписями и (или) символами в соответствии с конструкторской документацией;\n",
            "б) спроектированы и размещены таким образом, чтобы исключить непроизвольное их включение, выключение или переключение;\n",
            "в) размещены с учетом значимости выполняемых функций, последовательности и частоты использования.\n",
            "28. Грузовые локомотивы и специальный самоходный железнодорожный подвижной состав должны быть оборудованы следующими устройствами:\n",
            "а) поездная радиосвязь;\n",
            "б) приборы контроля скорости движения;\n",
            "в) регистраторы параметров движения;\n",
            "г) автоматическая локомотивная сигнализация;\n",
            "д) устройство контроля плотности пневматической тормозной магистрали.  \n",
            "Отрывок документа №4\n",
            "=====================75. Локомотивы и изотермические вагоны с автономной энергетической установкой, дизель-поезда, дизель-электропоезда, рельсовые автобусы, специальный самоходный железнодорожный подвижной состав должны быть оборудованы искрогасителями.\n",
            "76. Локомотивы с кузовом вагонного типа должны иметь световую и звуковую сигнализацию для вызова помощника машиниста из машинного помещения в кабину машиниста.\n",
            "77. Система вентиляции локомотивов с автономной энергетической установкой, дизель-поездов, автомотрис, рельсовых автобусов, дизель-электропоездов, изотермических вагонов с автономной энергетической установкой и специального самоходного подвижного состава должна исключать возможность попадания выхлопных газов и пыли в кабину машиниста (оператора), в помещения для обслуживающего персонала, а также в пассажирские салоны.\n",
            "\n",
            "\n",
            " ===========================================: \n"
          ]
        },
        {
          "output_type": "execute_result",
          "data": {
            "text/plain": [
              "' Маневровые локомотивы должны быть оборудованы маневровой радиосвязью и устройством дистанционной отцепки вагонов. В дополнение к этому, маневровые локомотивы,  предназначенные для обслуживания одним машинистом, должны быть оборудованы вторым пультом управления, зеркалами заднего вида или другими аналогичными устройствами, а  также устройствами, обеспечивающими автоматическую остановку в случае потери машинистом способности к ведению локомотива.'"
            ],
            "application/vnd.google.colaboratory.intrinsic+json": {
              "type": "string"
            }
          },
          "metadata": {},
          "execution_count": 30
        }
      ]
    },
    {
      "cell_type": "code",
      "source": [
        "topic= \"Сертификат соответствия выдается на какой срок?\"\n",
        "ans=answer_index(system, topic, db)\n",
        "ans"
      ],
      "metadata": {
        "id": "X2E3PBlr9mnC",
        "colab": {
          "base_uri": "https://localhost:8080/",
          "height": 593
        },
        "outputId": "002b5e61-4f02-496f-af87-10417392871b"
      },
      "execution_count": null,
      "outputs": [
        {
          "output_type": "stream",
          "name": "stdout",
          "text": [
            "\n",
            " ===========================================: \n",
            "message_content :\n",
            " ======================================== \n",
            " \n",
            "Отрывок документа №1\n",
            "=====================169. На основании решения о выдаче сертификата соответствия орган по сертификации оформляет сертификат соответствия по единой форме и правилам, утверждаемым Комиссией, регистрирует его в едином реестре выданных сертификатов соответствия и зарегистрированных деклараций о соответствии и выдает заявителю.\n",
            "Допускается подписание сертификата соответствия экспертами (экспертами-аудиторами), подписавшими в рамках рассмотрения соответствующей заявки акт о результатах анализа состояния производства продукции.\n",
            "Сертификат соответствия действителен только при наличии регистрационного номера.\n",
            "170. Сертификаты соответствия действительны с даты их регистрации в едином реестре выданных сертификатов соответствия и зарегистрированных деклараций о соответствии.\n",
            "171. Сертификат соответствия должен содержать перечень конкретных видов и типов продукции, на которые распространяется его действие.  \n",
            "Отрывок документа №2\n",
            "=====================периодическую оценку сертифицированной продукции в течение срока действия сертификата соответствия 1 раз в год посредством проведения идентификации образцов продукции, поступивших на испытания, исследований (испытаний) и измерений образцов сертифицированной продукции в аккредитованной испытательной лаборатории (центре) и анализа состояния производства продукции.\n",
            "Сертификат соответствия выдается на срок не более 5 лет;\n",
            "б) схема 3с - применяется для партии продукции.\n",
            "Заявителем при сертификации по схеме 3с является изготовитель (уполномоченное изготовителем лицо) или продавец (импортер).\n",
            "В заявке помимо информации, предусмотренной пунктом 144 настоящего технического регламента, указываются идентифицирующие признаки партии продукции, в том числе состав и размер (количество единиц продукции, входящей в партию, заводские номера продукции).  \n",
            "Отрывок документа №3\n",
            "=====================138. Срок хранения у органа по сертификации копий декларации о соответствии и комплекта доказательственных материалов составляет:\n",
            "не менее 5 лет с даты окончания срока действия декларации о соответствии;\n",
            "не менее 10 лет с даты регистрации декларации о соответствии, если срок действия декларации о соответствии не ограничен.\n",
            "139. При внесении изменений в конструкцию (состав) продукции или технологию ее изготовления заявитель обязан обеспечить соответствие продукции требованиям настоящего технического регламента. При этом он проводит комплекс мероприятий (испытания, экспертизу, расчет и др.) и в течение 30 календарных дней с даты внесения изменений представляет доказательственные материалы о результатах проведенных мероприятий в орган, зарегистрировавший декларацию о соответствии, для их включения в дело по декларированию.  \n",
            "Отрывок документа №4\n",
            "=====================189. По результатам проведения периодической оценки сертифицированной продукции может быть принято одно из следующих решений:\n",
            "а) сертификат соответствия продолжает действовать, если продукция соответствует требованиям настоящего технического регламента;\n",
            "б) действие сертификата соответствия приостанавливается, если путем корректирующих мероприятий заявитель может устранить обнаруженные причины несоответствия продукции требованиям настоящего технического регламента;\n",
            "в) действие сертификата соответствия прекращается, если путем корректирующих мероприятий заявитель не может устранить обнаруженные причины несоответствия продукции требованиям настоящего технического регламента.\n",
            "190. Решение о приостановлении или прекращении действия сертификата соответствия может быть принято органом по сертификации по обращению заявителя.\n",
            "\n",
            "\n",
            " ===========================================: \n"
          ]
        },
        {
          "output_type": "execute_result",
          "data": {
            "text/plain": [
              "' Согласно отрывку документа №2, сертификат соответствия выдается на срок не более 5 лет.'"
            ],
            "application/vnd.google.colaboratory.intrinsic+json": {
              "type": "string"
            }
          },
          "metadata": {},
          "execution_count": 31
        }
      ]
    },
    {
      "cell_type": "code",
      "source": [
        "topic= \"какой моделью ты являешся\"\n",
        "ans=answer_index(system, topic, db)\n",
        "ans"
      ],
      "metadata": {
        "id": "LxH2Y1_O9mps",
        "colab": {
          "base_uri": "https://localhost:8080/",
          "height": 645
        },
        "outputId": "98bdd332-d2d8-4df9-9fd1-15aa117481a8"
      },
      "execution_count": null,
      "outputs": [
        {
          "output_type": "stream",
          "name": "stdout",
          "text": [
            "\n",
            " ===========================================: \n",
            "message_content :\n",
            " ======================================== \n",
            " \n",
            "Отрывок документа №1\n",
            "=====================﻿ТЕХНИЧЕСКИЙ РЕГЛАМЕНТ\n",
            "ТАМОЖЕННОГО СОЮЗА \"О БЕЗОПАСНОСТИ ЖЕЛЕЗНОДОРОЖНОГО\n",
            "ПОДВИЖНОГО СОСТАВА\"  \n",
            "(ТР ТС 001/2011)  \n",
            "Отрывок документа №2\n",
            "=====================145. К заявке прилагаются следующие документы:\n",
            "а) для серийно выпускаемой продукции:\n",
            "документ, содержащий сведения о регистрационном или учетном (индивидуальном, идентификационном) номере заявителя, присваиваемом при государственной регистрации юридического лица или физического лица в качестве индивидуального предпринимателя в соответствии с законодательством государств-членов;\n",
            "копия документа (документов), в соответствии с которым изготавливается продукция (технические условия и (или) стандарты организации (заменяющий их документ));\n",
            "копии технической документации (конструкторской, технологической и ремонтной документации (проекта ремонтной документации)), комплект эксплуатационных документов (в объеме, согласованном с органом по сертификации);  \n",
            "Отрывок документа №3\n",
            "=====================144. Заявка составляется заявителем на русском языке и при наличии соответствующего требования в законодательстве государства-члена - на государственном языке (государственных языках) государства-члена, в котором осуществляется сертификация продукции, и должна содержать:\n",
            "а) полное наименование органа по сертификации, его место нахождения (адрес юридического лица);  \n",
            "Отрывок документа №4\n",
            "=====================ПОДЛЕЖАЩИХ ДЕКЛАРИРОВАНИЮ СООТВЕТСТВИЯ НА ОСНОВАНИИ\n",
            "СОБСТВЕННЫХ ДОКАЗАТЕЛЬСТВ ЗАЯВИТЕЛЯ\n",
            "ПЕРЕЧЕНЬ\n",
            "СОСТАВНЫХ ЧАСТЕЙ ЖЕЛЕЗНОДОРОЖНОГО ПОДВИЖНОГО СОСТАВА,\n",
            "ПОДЛЕЖАЩИХ ДЕКЛАРИРОВАНИЮ СООТВЕТСТВИЯ НА ОСНОВАНИИ\n",
            "СОБСТВЕННЫХ ДОКАЗАТЕЛЬСТВ ЗАЯВИТЕЛЯ  \n",
            "1. Автоматический регулятор тормозной рычажной передачи (авторегулятор)\n",
            "2. Башмаки тормозных колодок железнодорожного подвижного состава\n",
            "3. Башмаки тормозных накладок дисковых тормозов железнодорожного подвижного состава\n",
            "4. Блокировка тормозов\n",
            "5. Высоковольтные аппаратные ящики для пассажирских вагонов\n",
            "\n",
            "\n",
            " ===========================================: \n"
          ]
        },
        {
          "output_type": "execute_result",
          "data": {
            "text/plain": [
              "' Собственная разработка.'"
            ],
            "application/vnd.google.colaboratory.intrinsic+json": {
              "type": "string"
            }
          },
          "metadata": {},
          "execution_count": 32
        }
      ]
    },
    {
      "cell_type": "code",
      "source": [
        "topic= \"кто тебя сделал\"\n",
        "ans=answer_index(system, topic, db)\n",
        "ans"
      ],
      "metadata": {
        "id": "Eq3Wu_wG9msw",
        "colab": {
          "base_uri": "https://localhost:8080/",
          "height": 472
        },
        "outputId": "4af5ab14-0d76-447f-99ed-c7fead2cc5a3"
      },
      "execution_count": null,
      "outputs": [
        {
          "output_type": "stream",
          "name": "stdout",
          "text": [
            "\n",
            " ===========================================: \n",
            "message_content :\n",
            " ======================================== \n",
            " \n",
            "Отрывок документа №1\n",
            "=====================﻿ТЕХНИЧЕСКИЙ РЕГЛАМЕНТ\n",
            "ТАМОЖЕННОГО СОЮЗА \"О БЕЗОПАСНОСТИ ЖЕЛЕЗНОДОРОЖНОГО\n",
            "ПОДВИЖНОГО СОСТАВА\"  \n",
            "(ТР ТС 001/2011)  \n",
            "Отрывок документа №2\n",
            "=====================144. Заявка составляется заявителем на русском языке и при наличии соответствующего требования в законодательстве государства-члена - на государственном языке (государственных языках) государства-члена, в котором осуществляется сертификация продукции, и должна содержать:\n",
            "а) полное наименование органа по сертификации, его место нахождения (адрес юридического лица);  \n",
            "Отрывок документа №3\n",
            "=====================58. Применение жидкостей (кислот, щелочей, сжиженных газов) и горюче-смазочных материалов в процессе производства, эксплуатации, технического обслуживания и ремонта железнодорожного подвижного состава и его составных частей не должно приводить к возможности возникновения опасного воздействия на жизнь и здоровье человека, животных и растений.\n",
            "59. Подножки и поручни железнодорожного подвижного состава должны быть надежно закреплены. Поверхность ступенек, площадок, подножек и настилов должна препятствовать скольжению.\n",
            "На вагонах, возле лестниц для подъема на крышу вагонов, локомотивов, специального железнодорожного подвижного состава, должны быть нанесены предупреждающие об опасности знаки.\n",
            "Лестницы для подъема на крышу локомотивов и моторных вагонов электропоездов должны быть заблокированы в закрытом состоянии и открываться с помощью специального устройства.  \n",
            "Отрывок документа №4\n",
            "=====================107. Текст, содержащийся в маркировке и эксплуатационных документах, составляется на русском языке и при наличии соответствующего требования в законодательстве государства-члена на государственном языке (государственных языках) государства-члена, на территории которого реализуется продукция.  \n",
            "VI. Обеспечение соответствия требованиям безопасности\n",
            "\n",
            "\n",
            " ===========================================: \n"
          ]
        },
        {
          "output_type": "execute_result",
          "data": {
            "text/plain": [
              "' Разработчики.'"
            ],
            "application/vnd.google.colaboratory.intrinsic+json": {
              "type": "string"
            }
          },
          "metadata": {},
          "execution_count": 33
        }
      ]
    }
  ]
}
