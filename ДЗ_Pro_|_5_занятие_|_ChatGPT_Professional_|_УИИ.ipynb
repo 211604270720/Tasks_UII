{
  "nbformat": 4,
  "nbformat_minor": 0,
  "metadata": {
    "colab": {
      "provenance": []
    },
    "kernelspec": {
      "name": "python3",
      "display_name": "Python 3"
    },
    "language_info": {
      "name": "python"
    }
  },
  "cells": [
    {
      "cell_type": "markdown",
      "source": [
        "На основании нормативов по качеству питьевой воды и прайс листа с ценами бутилированной воды создайте нейро-консультанта, который бы отвечал на вопросы по данной информации.\n",
        "Для этого скачайте pdf файлы по ссылкам:\n",
        "\n",
        "**Нормативы**: https://files.stroyinf.ru/Data2/1/4294850/4294850590.pdf\n",
        "\n",
        "https://files.stroyinf.ru/Data2/1/4294846/4294846957.pdf\n",
        "\n",
        "**Прайс-лист**: https://xn---56-5cdablc8cp7g.xn--p1ai/ckfinder/userfiles/files/price%20ot%202019-01-01.pdf\n",
        "\n",
        "Документы с нормативами объедините в 1 БЗ, а из прайс-листа сделайте вторую БЗ.\n",
        "\n",
        "Нейро-консультант должен на основании вопроса пользователя динамически выбирать соответствующую базу знаний и отвечать на онове нее на вопрос.\n",
        "\n",
        "Проверьте работу нейро-консультанта на самостоятельно-сформулированных вопросах."
      ],
      "metadata": {
        "id": "AWaujLqSymnt"
      }
    },
    {
      "cell_type": "code",
      "execution_count": null,
      "metadata": {
        "id": "ceDwj6_Uyg4s",
        "colab": {
          "base_uri": "https://localhost:8080/"
        },
        "outputId": "69f50aa3-09c1-4127-abbd-d7a2e4a8154b"
      },
      "outputs": [
        {
          "output_type": "stream",
          "name": "stdout",
          "text": [
            "Collecting tiktoken==0.4.0\n",
            "  Downloading tiktoken-0.4.0-cp310-cp310-manylinux_2_17_x86_64.manylinux2014_x86_64.whl (1.7 MB)\n",
            "\u001b[2K     \u001b[90m━━━━━━━━━━━━━━━━━━━━━━━━━━━━━━━━━━━━━━━━\u001b[0m \u001b[32m1.7/1.7 MB\u001b[0m \u001b[31m9.5 MB/s\u001b[0m eta \u001b[36m0:00:00\u001b[0m\n",
            "\u001b[?25hCollecting openai==0.28.0\n",
            "  Downloading openai-0.28.0-py3-none-any.whl (76 kB)\n",
            "\u001b[2K     \u001b[90m━━━━━━━━━━━━━━━━━━━━━━━━━━━━━━━━━━━━━━━━\u001b[0m \u001b[32m76.5/76.5 kB\u001b[0m \u001b[31m7.5 MB/s\u001b[0m eta \u001b[36m0:00:00\u001b[0m\n",
            "\u001b[?25hCollecting langchain==0.0.281\n",
            "  Downloading langchain-0.0.281-py3-none-any.whl (1.6 MB)\n",
            "\u001b[2K     \u001b[90m━━━━━━━━━━━━━━━━━━━━━━━━━━━━━━━━━━━━━━━━\u001b[0m \u001b[32m1.6/1.6 MB\u001b[0m \u001b[31m16.8 MB/s\u001b[0m eta \u001b[36m0:00:00\u001b[0m\n",
            "\u001b[?25hCollecting unstructured\n",
            "  Downloading unstructured-0.10.27-py3-none-any.whl (1.7 MB)\n",
            "\u001b[2K     \u001b[90m━━━━━━━━━━━━━━━━━━━━━━━━━━━━━━━━━━━━━━━━\u001b[0m \u001b[32m1.7/1.7 MB\u001b[0m \u001b[31m20.4 MB/s\u001b[0m eta \u001b[36m0:00:00\u001b[0m\n",
            "\u001b[?25hCollecting pdf2image\n",
            "  Downloading pdf2image-1.16.3-py3-none-any.whl (11 kB)\n",
            "Collecting pdfminer.six\n",
            "  Downloading pdfminer.six-20221105-py3-none-any.whl (5.6 MB)\n",
            "\u001b[2K     \u001b[90m━━━━━━━━━━━━━━━━━━━━━━━━━━━━━━━━━━━━━━━━\u001b[0m \u001b[32m5.6/5.6 MB\u001b[0m \u001b[31m31.0 MB/s\u001b[0m eta \u001b[36m0:00:00\u001b[0m\n",
            "\u001b[?25hCollecting faiss-cpu==1.7.4\n",
            "  Downloading faiss_cpu-1.7.4-cp310-cp310-manylinux_2_17_x86_64.manylinux2014_x86_64.whl (17.6 MB)\n",
            "\u001b[2K     \u001b[90m━━━━━━━━━━━━━━━━━━━━━━━━━━━━━━━━━━━━━━━━\u001b[0m \u001b[32m17.6/17.6 MB\u001b[0m \u001b[31m29.4 MB/s\u001b[0m eta \u001b[36m0:00:00\u001b[0m\n",
            "\u001b[?25hRequirement already satisfied: regex>=2022.1.18 in /usr/local/lib/python3.10/dist-packages (from tiktoken==0.4.0) (2023.6.3)\n",
            "Requirement already satisfied: requests>=2.26.0 in /usr/local/lib/python3.10/dist-packages (from tiktoken==0.4.0) (2.31.0)\n",
            "Requirement already satisfied: tqdm in /usr/local/lib/python3.10/dist-packages (from openai==0.28.0) (4.66.1)\n",
            "Requirement already satisfied: aiohttp in /usr/local/lib/python3.10/dist-packages (from openai==0.28.0) (3.8.6)\n",
            "Requirement already satisfied: PyYAML>=5.3 in /usr/local/lib/python3.10/dist-packages (from langchain==0.0.281) (6.0.1)\n",
            "Requirement already satisfied: SQLAlchemy<3,>=1.4 in /usr/local/lib/python3.10/dist-packages (from langchain==0.0.281) (2.0.22)\n",
            "Requirement already satisfied: async-timeout<5.0.0,>=4.0.0 in /usr/local/lib/python3.10/dist-packages (from langchain==0.0.281) (4.0.3)\n",
            "Collecting dataclasses-json<0.6.0,>=0.5.7 (from langchain==0.0.281)\n",
            "  Downloading dataclasses_json-0.5.14-py3-none-any.whl (26 kB)\n",
            "Collecting langsmith<0.1.0,>=0.0.21 (from langchain==0.0.281)\n",
            "  Downloading langsmith-0.0.52-py3-none-any.whl (43 kB)\n",
            "\u001b[2K     \u001b[90m━━━━━━━━━━━━━━━━━━━━━━━━━━━━━━━━━━━━━━━━\u001b[0m \u001b[32m43.3/43.3 kB\u001b[0m \u001b[31m3.8 MB/s\u001b[0m eta \u001b[36m0:00:00\u001b[0m\n",
            "\u001b[?25hRequirement already satisfied: numexpr<3.0.0,>=2.8.4 in /usr/local/lib/python3.10/dist-packages (from langchain==0.0.281) (2.8.7)\n",
            "Requirement already satisfied: numpy<2,>=1 in /usr/local/lib/python3.10/dist-packages (from langchain==0.0.281) (1.23.5)\n",
            "Requirement already satisfied: pydantic<3,>=1 in /usr/local/lib/python3.10/dist-packages (from langchain==0.0.281) (1.10.13)\n",
            "Requirement already satisfied: tenacity<9.0.0,>=8.1.0 in /usr/local/lib/python3.10/dist-packages (from langchain==0.0.281) (8.2.3)\n",
            "Requirement already satisfied: chardet in /usr/local/lib/python3.10/dist-packages (from unstructured) (5.2.0)\n",
            "Collecting filetype (from unstructured)\n",
            "  Downloading filetype-1.2.0-py2.py3-none-any.whl (19 kB)\n",
            "Collecting python-magic (from unstructured)\n",
            "  Downloading python_magic-0.4.27-py2.py3-none-any.whl (13 kB)\n",
            "Requirement already satisfied: lxml in /usr/local/lib/python3.10/dist-packages (from unstructured) (4.9.3)\n",
            "Requirement already satisfied: nltk in /usr/local/lib/python3.10/dist-packages (from unstructured) (3.8.1)\n",
            "Requirement already satisfied: tabulate in /usr/local/lib/python3.10/dist-packages (from unstructured) (0.9.0)\n",
            "Requirement already satisfied: beautifulsoup4 in /usr/local/lib/python3.10/dist-packages (from unstructured) (4.11.2)\n",
            "Collecting emoji (from unstructured)\n",
            "  Downloading emoji-2.8.0-py2.py3-none-any.whl (358 kB)\n",
            "\u001b[2K     \u001b[90m━━━━━━━━━━━━━━━━━━━━━━━━━━━━━━━━━━━━━━━━\u001b[0m \u001b[32m358.9/358.9 kB\u001b[0m \u001b[31m30.3 MB/s\u001b[0m eta \u001b[36m0:00:00\u001b[0m\n",
            "\u001b[?25hCollecting python-iso639 (from unstructured)\n",
            "  Downloading python_iso639-2023.6.15-py3-none-any.whl (275 kB)\n",
            "\u001b[2K     \u001b[90m━━━━━━━━━━━━━━━━━━━━━━━━━━━━━━━━━━━━━━━━\u001b[0m \u001b[32m275.1/275.1 kB\u001b[0m \u001b[31m17.1 MB/s\u001b[0m eta \u001b[36m0:00:00\u001b[0m\n",
            "\u001b[?25hCollecting langdetect (from unstructured)\n",
            "  Downloading langdetect-1.0.9.tar.gz (981 kB)\n",
            "\u001b[2K     \u001b[90m━━━━━━━━━━━━━━━━━━━━━━━━━━━━━━━━━━━━━━━━\u001b[0m \u001b[32m981.5/981.5 kB\u001b[0m \u001b[31m34.4 MB/s\u001b[0m eta \u001b[36m0:00:00\u001b[0m\n",
            "\u001b[?25h  Preparing metadata (setup.py) ... \u001b[?25l\u001b[?25hdone\n",
            "Collecting rapidfuzz (from unstructured)\n",
            "  Downloading rapidfuzz-3.4.0-cp310-cp310-manylinux_2_17_x86_64.manylinux2014_x86_64.whl (3.2 MB)\n",
            "\u001b[2K     \u001b[90m━━━━━━━━━━━━━━━━━━━━━━━━━━━━━━━━━━━━━━━━\u001b[0m \u001b[32m3.2/3.2 MB\u001b[0m \u001b[31m67.9 MB/s\u001b[0m eta \u001b[36m0:00:00\u001b[0m\n",
            "\u001b[?25hCollecting backoff (from unstructured)\n",
            "  Downloading backoff-2.2.1-py3-none-any.whl (15 kB)\n",
            "Requirement already satisfied: typing-extensions in /usr/local/lib/python3.10/dist-packages (from unstructured) (4.5.0)\n",
            "Requirement already satisfied: pillow in /usr/local/lib/python3.10/dist-packages (from pdf2image) (9.4.0)\n",
            "Requirement already satisfied: charset-normalizer>=2.0.0 in /usr/local/lib/python3.10/dist-packages (from pdfminer.six) (3.3.1)\n",
            "Requirement already satisfied: cryptography>=36.0.0 in /usr/local/lib/python3.10/dist-packages (from pdfminer.six) (41.0.5)\n",
            "Requirement already satisfied: attrs>=17.3.0 in /usr/local/lib/python3.10/dist-packages (from aiohttp->openai==0.28.0) (23.1.0)\n",
            "Requirement already satisfied: multidict<7.0,>=4.5 in /usr/local/lib/python3.10/dist-packages (from aiohttp->openai==0.28.0) (6.0.4)\n",
            "Requirement already satisfied: yarl<2.0,>=1.0 in /usr/local/lib/python3.10/dist-packages (from aiohttp->openai==0.28.0) (1.9.2)\n",
            "Requirement already satisfied: frozenlist>=1.1.1 in /usr/local/lib/python3.10/dist-packages (from aiohttp->openai==0.28.0) (1.4.0)\n",
            "Requirement already satisfied: aiosignal>=1.1.2 in /usr/local/lib/python3.10/dist-packages (from aiohttp->openai==0.28.0) (1.3.1)\n",
            "Requirement already satisfied: cffi>=1.12 in /usr/local/lib/python3.10/dist-packages (from cryptography>=36.0.0->pdfminer.six) (1.16.0)\n",
            "Collecting marshmallow<4.0.0,>=3.18.0 (from dataclasses-json<0.6.0,>=0.5.7->langchain==0.0.281)\n",
            "  Downloading marshmallow-3.20.1-py3-none-any.whl (49 kB)\n",
            "\u001b[2K     \u001b[90m━━━━━━━━━━━━━━━━━━━━━━━━━━━━━━━━━━━━━━━━\u001b[0m \u001b[32m49.4/49.4 kB\u001b[0m \u001b[31m5.0 MB/s\u001b[0m eta \u001b[36m0:00:00\u001b[0m\n",
            "\u001b[?25hCollecting typing-inspect<1,>=0.4.0 (from dataclasses-json<0.6.0,>=0.5.7->langchain==0.0.281)\n",
            "  Downloading typing_inspect-0.9.0-py3-none-any.whl (8.8 kB)\n",
            "Requirement already satisfied: idna<4,>=2.5 in /usr/local/lib/python3.10/dist-packages (from requests>=2.26.0->tiktoken==0.4.0) (3.4)\n",
            "Requirement already satisfied: urllib3<3,>=1.21.1 in /usr/local/lib/python3.10/dist-packages (from requests>=2.26.0->tiktoken==0.4.0) (2.0.7)\n",
            "Requirement already satisfied: certifi>=2017.4.17 in /usr/local/lib/python3.10/dist-packages (from requests>=2.26.0->tiktoken==0.4.0) (2023.7.22)\n",
            "Requirement already satisfied: greenlet!=0.4.17 in /usr/local/lib/python3.10/dist-packages (from SQLAlchemy<3,>=1.4->langchain==0.0.281) (3.0.0)\n",
            "Requirement already satisfied: soupsieve>1.2 in /usr/local/lib/python3.10/dist-packages (from beautifulsoup4->unstructured) (2.5)\n",
            "Requirement already satisfied: six in /usr/local/lib/python3.10/dist-packages (from langdetect->unstructured) (1.16.0)\n",
            "Requirement already satisfied: click in /usr/local/lib/python3.10/dist-packages (from nltk->unstructured) (8.1.7)\n",
            "Requirement already satisfied: joblib in /usr/local/lib/python3.10/dist-packages (from nltk->unstructured) (1.3.2)\n",
            "Requirement already satisfied: pycparser in /usr/local/lib/python3.10/dist-packages (from cffi>=1.12->cryptography>=36.0.0->pdfminer.six) (2.21)\n",
            "Requirement already satisfied: packaging>=17.0 in /usr/local/lib/python3.10/dist-packages (from marshmallow<4.0.0,>=3.18.0->dataclasses-json<0.6.0,>=0.5.7->langchain==0.0.281) (23.2)\n",
            "Collecting mypy-extensions>=0.3.0 (from typing-inspect<1,>=0.4.0->dataclasses-json<0.6.0,>=0.5.7->langchain==0.0.281)\n",
            "  Downloading mypy_extensions-1.0.0-py3-none-any.whl (4.7 kB)\n",
            "Building wheels for collected packages: langdetect\n",
            "  Building wheel for langdetect (setup.py) ... \u001b[?25l\u001b[?25hdone\n",
            "  Created wheel for langdetect: filename=langdetect-1.0.9-py3-none-any.whl size=993224 sha256=cf8a121f4688860442a571385b83274de8942d5d9de0708856447e0da4a6040b\n",
            "  Stored in directory: /root/.cache/pip/wheels/95/03/7d/59ea870c70ce4e5a370638b5462a7711ab78fba2f655d05106\n",
            "Successfully built langdetect\n",
            "Installing collected packages: filetype, faiss-cpu, rapidfuzz, python-magic, python-iso639, pdf2image, mypy-extensions, marshmallow, langdetect, emoji, backoff, typing-inspect, tiktoken, langsmith, pdfminer.six, openai, dataclasses-json, unstructured, langchain\n",
            "\u001b[31mERROR: pip's dependency resolver does not currently take into account all the packages that are installed. This behaviour is the source of the following dependency conflicts.\n",
            "llmx 0.0.15a0 requires cohere, which is not installed.\u001b[0m\u001b[31m\n",
            "\u001b[0mSuccessfully installed backoff-2.2.1 dataclasses-json-0.5.14 emoji-2.8.0 faiss-cpu-1.7.4 filetype-1.2.0 langchain-0.0.281 langdetect-1.0.9 langsmith-0.0.52 marshmallow-3.20.1 mypy-extensions-1.0.0 openai-0.28.0 pdf2image-1.16.3 pdfminer.six-20221105 python-iso639-2023.6.15 python-magic-0.4.27 rapidfuzz-3.4.0 tiktoken-0.4.0 typing-inspect-0.9.0 unstructured-0.10.27\n"
          ]
        }
      ],
      "source": [
        "!pip install tiktoken==0.4.0 openai==0.28.0 langchain==0.0.281 unstructured pdf2image pdfminer.six faiss-cpu==1.7.4"
      ]
    },
    {
      "cell_type": "code",
      "source": [
        "import tiktoken\n",
        "import getpass\n",
        "import openai\n",
        "import tiktoken\n",
        "from openai.embeddings_utils import distances_from_embeddings\n",
        "import pandas as pd\n",
        "import numpy as np\n",
        "from ast import literal_eval\n",
        "from langchain.chains.router import MultiRetrievalQAChain\n",
        "from langchain.llms import OpenAI\n",
        "from langchain.chat_models import ChatOpenAI\n",
        "from langchain.embeddings import OpenAIEmbeddings\n",
        "from langchain.document_loaders import TextLoader\n",
        "from langchain.vectorstores import FAISS\n",
        "from langchain.document_loaders import UnstructuredPDFLoader\n",
        "from langchain.text_splitter import RecursiveCharacterTextSplitter\n",
        "import re\n",
        "import requests\n",
        "import os\n",
        "from openai.embeddings_utils import distances_from_embeddings, cosine_similarity\n",
        "openai_key = getpass.getpass(\"OpenAI API Key:\")\n",
        "os.environ[\"OPENAI_API_KEY\"] = openai_key\n",
        "openai.api_key = openai_key"
      ],
      "metadata": {
        "id": "vra2OJR0ynYV",
        "colab": {
          "base_uri": "https://localhost:8080/"
        },
        "outputId": "fefc4198-0eaf-4372-a5e1-da5ced513919"
      },
      "execution_count": null,
      "outputs": [
        {
          "name": "stdout",
          "output_type": "stream",
          "text": [
            "OpenAI API Key:··········\n"
          ]
        }
      ]
    },
    {
      "cell_type": "code",
      "source": [
        "def download_pdf_from_url(url, save_path):\n",
        "    response = requests.get(url)\n",
        "\n",
        "    if response.status_code == 200:\n",
        "        with open(save_path, 'wb') as f:\n",
        "            f.write(response.content)\n",
        "        print(f\"PDF downloaded and saved as {save_path}\")\n",
        "    else:\n",
        "        print(f\"Failed to download PDF. HTTP Status Code: {response.status_code}\")\n",
        "\n",
        "url_1 = \"https://files.stroyinf.ru/Data2/1/4294850/4294850590.pdf\"\n",
        "save_path_1 = \"/content/water_control.pdf\"\n",
        "download_pdf_from_url(url_1, save_path_1)\n",
        "\n",
        "url_2 = \"https://files.stroyinf.ru/Data2/1/4294846/4294846957.pdf\"\n",
        "save_path_2 = \"/content/sanpin.pdf\"\n",
        "download_pdf_from_url(url_2, save_path_2)\n",
        "\n",
        "url_3 = \"https://xn---56-5cdablc8cp7g.xn--p1ai/ckfinder/userfiles/files/price%20ot%202019-01-01.pdf\"\n",
        "save_path_3 = \"/content/price.pdf\"\n",
        "download_pdf_from_url(url_3, save_path_3)"
      ],
      "metadata": {
        "colab": {
          "base_uri": "https://localhost:8080/"
        },
        "id": "NENxWb7p_ZMe",
        "outputId": "311d8289-be56-4030-e016-529e0078540a"
      },
      "execution_count": null,
      "outputs": [
        {
          "output_type": "stream",
          "name": "stdout",
          "text": [
            "PDF downloaded and saved as /content/water_control.pdf\n",
            "PDF downloaded and saved as /content/sanpin.pdf\n",
            "PDF downloaded and saved as /content/price.pdf\n"
          ]
        }
      ]
    },
    {
      "cell_type": "code",
      "source": [
        "# функция, которая принимает список названий PDF-файлов и возвращает базу знаний FAISS\n",
        "def create_faiss_vectorstore(pdf_names):\n",
        "    pdf_folder_path = \"/content/\"\n",
        "\n",
        "    # Фильтрация файлов: загрузка только файлов с определенными именами и расширением .pdf\n",
        "    all_files = os.listdir(pdf_folder_path)\n",
        "    pdf_files = [fn for fn in all_files if fn in pdf_names and fn.endswith('.pdf')]\n",
        "\n",
        "    # Создание объектов UnstructuredPDFLoader для каждого PDF-файла\n",
        "    loaders = [UnstructuredPDFLoader(os.path.join(pdf_folder_path, fn)) for fn in pdf_files]\n",
        "\n",
        "    all_documents = []\n",
        "    text_splitter = RecursiveCharacterTextSplitter(chunk_size=800, chunk_overlap=100, length_function=len)\n",
        "\n",
        "    for loader in loaders:\n",
        "        # Загрузка и разделение текста\n",
        "        raw_documents = loader.load()\n",
        "        documents = text_splitter.split_documents(raw_documents)\n",
        "        all_documents.extend(documents)\n",
        "\n",
        "    # Создание FAISS vectorstore\n",
        "    embeddings = OpenAIEmbeddings()\n",
        "    vectorstore = FAISS.from_documents(all_documents, OpenAIEmbeddings()).as_retriever()\n",
        "\n",
        "    return vectorstore"
      ],
      "metadata": {
        "id": "5wvtg6IACElK"
      },
      "execution_count": null,
      "outputs": []
    },
    {
      "cell_type": "code",
      "source": [
        "# Создаем БЗ по каждой спецификации (pdf)\n",
        "pdf_name_norms = ['sanpin.pdf', 'water_control.pdf']\n",
        "db_norms = create_faiss_vectorstore(pdf_name_norms)\n",
        "pdf_name_price = ['price.pdf']\n",
        "db_price = create_faiss_vectorstore(pdf_name_price)"
      ],
      "metadata": {
        "colab": {
          "base_uri": "https://localhost:8080/"
        },
        "id": "7R4ihhOACIwY",
        "outputId": "d4e08848-0e65-4689-e408-512a1a3d2e1e"
      },
      "execution_count": null,
      "outputs": [
        {
          "output_type": "stream",
          "name": "stderr",
          "text": [
            "[nltk_data] Downloading package punkt to /root/nltk_data...\n",
            "[nltk_data]   Unzipping tokenizers/punkt.zip.\n",
            "[nltk_data] Downloading package averaged_perceptron_tagger to\n",
            "[nltk_data]     /root/nltk_data...\n",
            "[nltk_data]   Unzipping taggers/averaged_perceptron_tagger.zip.\n"
          ]
        }
      ]
    },
    {
      "cell_type": "code",
      "source": [
        "# Добавляем информацию и описание для наших векторных хранилищ (баз знаний)\n",
        "retriever_infos = [\n",
        "    {\n",
        "        \"name\": \"Normativi\",\n",
        "        \"description\": \"Применяется для ответов на вопросы по гигиенические требованиям к качеству воды централизованных систем питьевого водоснабжения и по требованиям к организации и методам контроля качествакачества питьевой воды\",\n",
        "       \"retriever\": db_norms\n",
        "    },\n",
        "    {\n",
        "        \"name\": \"Price-List\",\n",
        "        \"description\": \"Применяется для ответов на вопросы о стоимости питьевой воды и аксесуаров для воды\",\n",
        "        \"retriever\": db_price\n",
        "    }\n",
        "]"
      ],
      "metadata": {
        "id": "RAyVY-M1CLhB"
      },
      "execution_count": null,
      "outputs": []
    },
    {
      "cell_type": "code",
      "source": [
        "chain = MultiRetrievalQAChain.from_retrievers(ChatOpenAI(temperature=0), retriever_infos, verbose=True)"
      ],
      "metadata": {
        "id": "ETaPwbn4CPv5"
      },
      "execution_count": null,
      "outputs": []
    },
    {
      "cell_type": "code",
      "source": [
        "print(chain.run(\"Сколько стоит ручной насос для воды?\"))"
      ],
      "metadata": {
        "colab": {
          "base_uri": "https://localhost:8080/"
        },
        "id": "pfrIA1fhCTYl",
        "outputId": "3b0cf396-aa5b-4571-e2bf-fb5d610b4419"
      },
      "execution_count": null,
      "outputs": [
        {
          "output_type": "stream",
          "name": "stdout",
          "text": [
            "\n",
            "\n",
            "\u001b[1m> Entering new MultiRetrievalQAChain chain...\u001b[0m\n",
            "Price-List: {'query': 'Сколько стоит ручной насос для воды?'}\n",
            "\u001b[1m> Finished chain.\u001b[0m\n",
            "Ручной насос для воды стоит 400 рублей.\n"
          ]
        }
      ]
    },
    {
      "cell_type": "code",
      "source": [
        "print(chain.run(\"Какие бывают методы определения обобщенных показателей качества питьевой воды?\"))"
      ],
      "metadata": {
        "colab": {
          "base_uri": "https://localhost:8080/"
        },
        "id": "bsCRS7e7CUKm",
        "outputId": "68ff394b-b76c-4f79-ad3a-fda247ad776c"
      },
      "execution_count": null,
      "outputs": [
        {
          "output_type": "stream",
          "name": "stdout",
          "text": [
            "\n",
            "\n",
            "\u001b[1m> Entering new MultiRetrievalQAChain chain...\u001b[0m\n",
            "Normativi: {'query': 'Какие методы используются для определения обобщенных показателей качества питьевой воды?'}\n",
            "\u001b[1m> Finished chain.\u001b[0m\n",
            "Для определения обобщенных показателей качества питьевой воды используются методы, указанные в таблице 2 ГОСТ Р 51232-98. Однако, конкретные методы определения не указаны в предоставленном контексте.\n"
          ]
        }
      ]
    },
    {
      "cell_type": "code",
      "source": [
        "print(chain.run(\"Опиши кратко порядок составления рабочей программы производственного контроля качества питьевой воды?\"))"
      ],
      "metadata": {
        "colab": {
          "base_uri": "https://localhost:8080/"
        },
        "id": "zRDCi6teCVxt",
        "outputId": "235089c9-6ec6-4596-c47b-2e165886a896"
      },
      "execution_count": null,
      "outputs": [
        {
          "output_type": "stream",
          "name": "stdout",
          "text": [
            "\n",
            "\n",
            "\u001b[1m> Entering new MultiRetrievalQAChain chain...\u001b[0m\n",
            "Normativi: {'query': 'Опиши порядок составления рабочей программы производственного контроля качества питьевой воды'}\n",
            "\u001b[1m> Finished chain.\u001b[0m\n",
            "Порядок составления рабочей программы производственного контроля качества питьевой воды определяется в соответствии с санитарными правилами и нормами, утвержденными в установленном порядке.\n",
            "\n",
            "Индивидуальные предприниматели и юридические лица, осуществляющие эксплуатацию системы водоснабжения, должны разработать рабочую программу на основе этих санитарных правил.\n",
            "\n",
            "Рабочая программа должна включать в себя следующие элементы:\n",
            "\n",
            "1. Определение контролируемых показателей: в рамках программы должны быть указаны показатели, которые будут контролироваться для обеспечения качества питьевой воды.\n",
            "\n",
            "2. Определение количества и периодичности отбора проб: программа должна указывать, сколько проб питьевой воды будет отбираться для контроля и с какой периодичностью.\n",
            "\n",
            "3. Организация производственного контроля: программа должна определить, какая организация или лаборатория будет осуществлять производственный контроль качества питьевой воды. Это может быть лаборатория, принадлежащая индивидуальному предпринимателю или юридическому лицу, эксплуатирующему систему водоснабжения, или лаборатория, с которой заключен договор на проведение исследований.\n",
            "\n",
            "4. Государственный санитарно-эпидемиологический надзор: программа должна учитывать, что государственный санитарно-эпидемиологический надзор будет осуществляться органами и учреждениями государственной санитарно-эпидемиологической службы в соответствии с нормативными и методическими документами.\n",
            "\n",
            "Таким образом, порядок составления рабочей программы производственного контроля качества питьевой воды включает определение контролируемых показателей, количества и периодичности отбора проб, организацию производственного контроля и учет государственного санитарно-эпидемиологического надзора.\n"
          ]
        }
      ]
    }
  ]
}