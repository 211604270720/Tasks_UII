{
  "nbformat": 4,
  "nbformat_minor": 0,
  "metadata": {
    "colab": {
      "provenance": []
    },
    "kernelspec": {
      "name": "python3",
      "display_name": "Python 3"
    },
    "language_info": {
      "name": "python"
    }
  },
  "cells": [
    {
      "cell_type": "markdown",
      "source": [
        "Проведите парсинг сайта https://structura.app/. Получите название каждой статьи. Создайте пары: название статьи и ее содержимое, проанализируйте длины получившихся чанков в токенах, при необходимости поделите чанки на более короткие любым подходящим сплиттером, в итоге у всех чанков должно быть название как в метаданных, так и в тексте самого чанка. Сделайте на основе получившихся документов нейро-консультанта. Проработайте промпт в system и user самостоятельно. По возможности примените методы экономии токенов."
      ],
      "metadata": {
        "id": "j3yrhymCHeSv"
      }
    },
    {
      "cell_type": "code",
      "execution_count": null,
      "metadata": {
        "id": "_clH_t0eHa0a",
        "colab": {
          "base_uri": "https://localhost:8080/"
        },
        "outputId": "5a549d31-4b80-4259-ad5d-5fa82cbd160e"
      },
      "outputs": [
        {
          "output_type": "stream",
          "name": "stdout",
          "text": [
            "Requirement already satisfied: nest_asyncio in /usr/local/lib/python3.10/dist-packages (1.5.8)\n",
            "Requirement already satisfied: xmltodict in /usr/local/lib/python3.10/dist-packages (0.13.0)\n",
            "Requirement already satisfied: openai==0.28.0 in /usr/local/lib/python3.10/dist-packages (0.28.0)\n",
            "Requirement already satisfied: langchain==0.0.281 in /usr/local/lib/python3.10/dist-packages (0.0.281)\n",
            "Requirement already satisfied: tiktoken in /usr/local/lib/python3.10/dist-packages (0.5.1)\n",
            "Requirement already satisfied: faiss-cpu in /usr/local/lib/python3.10/dist-packages (1.7.4)\n",
            "Requirement already satisfied: lxml in /usr/local/lib/python3.10/dist-packages (4.9.3)\n",
            "Requirement already satisfied: bs4 in /usr/local/lib/python3.10/dist-packages (0.0.1)\n",
            "Requirement already satisfied: html5lib in /usr/local/lib/python3.10/dist-packages (1.1)\n",
            "Requirement already satisfied: requests>=2.20 in /usr/local/lib/python3.10/dist-packages (from openai==0.28.0) (2.31.0)\n",
            "Requirement already satisfied: tqdm in /usr/local/lib/python3.10/dist-packages (from openai==0.28.0) (4.66.1)\n",
            "Requirement already satisfied: aiohttp in /usr/local/lib/python3.10/dist-packages (from openai==0.28.0) (3.8.6)\n",
            "Requirement already satisfied: PyYAML>=5.3 in /usr/local/lib/python3.10/dist-packages (from langchain==0.0.281) (6.0.1)\n",
            "Requirement already satisfied: SQLAlchemy<3,>=1.4 in /usr/local/lib/python3.10/dist-packages (from langchain==0.0.281) (2.0.23)\n",
            "Requirement already satisfied: async-timeout<5.0.0,>=4.0.0 in /usr/local/lib/python3.10/dist-packages (from langchain==0.0.281) (4.0.3)\n",
            "Requirement already satisfied: dataclasses-json<0.6.0,>=0.5.7 in /usr/local/lib/python3.10/dist-packages (from langchain==0.0.281) (0.5.14)\n",
            "Requirement already satisfied: langsmith<0.1.0,>=0.0.21 in /usr/local/lib/python3.10/dist-packages (from langchain==0.0.281) (0.0.60)\n",
            "Requirement already satisfied: numexpr<3.0.0,>=2.8.4 in /usr/local/lib/python3.10/dist-packages (from langchain==0.0.281) (2.8.7)\n",
            "Requirement already satisfied: numpy<2,>=1 in /usr/local/lib/python3.10/dist-packages (from langchain==0.0.281) (1.23.5)\n",
            "Requirement already satisfied: pydantic<3,>=1 in /usr/local/lib/python3.10/dist-packages (from langchain==0.0.281) (1.10.13)\n",
            "Requirement already satisfied: tenacity<9.0.0,>=8.1.0 in /usr/local/lib/python3.10/dist-packages (from langchain==0.0.281) (8.2.3)\n",
            "Requirement already satisfied: regex>=2022.1.18 in /usr/local/lib/python3.10/dist-packages (from tiktoken) (2023.6.3)\n",
            "Requirement already satisfied: beautifulsoup4 in /usr/local/lib/python3.10/dist-packages (from bs4) (4.11.2)\n",
            "Requirement already satisfied: six>=1.9 in /usr/local/lib/python3.10/dist-packages (from html5lib) (1.16.0)\n",
            "Requirement already satisfied: webencodings in /usr/local/lib/python3.10/dist-packages (from html5lib) (0.5.1)\n",
            "Requirement already satisfied: attrs>=17.3.0 in /usr/local/lib/python3.10/dist-packages (from aiohttp->openai==0.28.0) (23.1.0)\n",
            "Requirement already satisfied: charset-normalizer<4.0,>=2.0 in /usr/local/lib/python3.10/dist-packages (from aiohttp->openai==0.28.0) (3.3.2)\n",
            "Requirement already satisfied: multidict<7.0,>=4.5 in /usr/local/lib/python3.10/dist-packages (from aiohttp->openai==0.28.0) (6.0.4)\n",
            "Requirement already satisfied: yarl<2.0,>=1.0 in /usr/local/lib/python3.10/dist-packages (from aiohttp->openai==0.28.0) (1.9.2)\n",
            "Requirement already satisfied: frozenlist>=1.1.1 in /usr/local/lib/python3.10/dist-packages (from aiohttp->openai==0.28.0) (1.4.0)\n",
            "Requirement already satisfied: aiosignal>=1.1.2 in /usr/local/lib/python3.10/dist-packages (from aiohttp->openai==0.28.0) (1.3.1)\n",
            "Requirement already satisfied: marshmallow<4.0.0,>=3.18.0 in /usr/local/lib/python3.10/dist-packages (from dataclasses-json<0.6.0,>=0.5.7->langchain==0.0.281) (3.20.1)\n",
            "Requirement already satisfied: typing-inspect<1,>=0.4.0 in /usr/local/lib/python3.10/dist-packages (from dataclasses-json<0.6.0,>=0.5.7->langchain==0.0.281) (0.9.0)\n",
            "Requirement already satisfied: typing-extensions>=4.2.0 in /usr/local/lib/python3.10/dist-packages (from pydantic<3,>=1->langchain==0.0.281) (4.5.0)\n",
            "Requirement already satisfied: idna<4,>=2.5 in /usr/local/lib/python3.10/dist-packages (from requests>=2.20->openai==0.28.0) (3.4)\n",
            "Requirement already satisfied: urllib3<3,>=1.21.1 in /usr/local/lib/python3.10/dist-packages (from requests>=2.20->openai==0.28.0) (2.0.7)\n",
            "Requirement already satisfied: certifi>=2017.4.17 in /usr/local/lib/python3.10/dist-packages (from requests>=2.20->openai==0.28.0) (2023.7.22)\n",
            "Requirement already satisfied: greenlet!=0.4.17 in /usr/local/lib/python3.10/dist-packages (from SQLAlchemy<3,>=1.4->langchain==0.0.281) (3.0.1)\n",
            "Requirement already satisfied: soupsieve>1.2 in /usr/local/lib/python3.10/dist-packages (from beautifulsoup4->bs4) (2.5)\n",
            "Requirement already satisfied: packaging>=17.0 in /usr/local/lib/python3.10/dist-packages (from marshmallow<4.0.0,>=3.18.0->dataclasses-json<0.6.0,>=0.5.7->langchain==0.0.281) (23.2)\n",
            "Requirement already satisfied: mypy-extensions>=0.3.0 in /usr/local/lib/python3.10/dist-packages (from typing-inspect<1,>=0.4.0->dataclasses-json<0.6.0,>=0.5.7->langchain==0.0.281) (1.0.0)\n"
          ]
        }
      ],
      "source": [
        "!pip install nest_asyncio xmltodict openai==0.28.0 langchain==0.0.281 tiktoken faiss-cpu lxml bs4 html5lib"
      ]
    },
    {
      "cell_type": "code",
      "source": [
        "import nest_asyncio\n",
        "nest_asyncio.apply()\n",
        "import xmltodict\n",
        "from langchain.document_loaders.sitemap import SitemapLoader\n",
        "import requests\n",
        "from langchain.vectorstores import FAISS\n",
        "from langchain.embeddings import OpenAIEmbeddings\n",
        "from langchain.text_splitter import RecursiveCharacterTextSplitter\n",
        "import tiktoken\n",
        "import matplotlib.pyplot as plt\n",
        "import getpass\n",
        "import os\n",
        "import openai\n",
        "from langchain.vectorstores import FAISS\n",
        "import re\n",
        "from bs4 import BeautifulSoup\n",
        "from langchain.chat_models import ChatOpenAI\n",
        "from langchain.chains import create_extraction_chain\n",
        "import pickle\n",
        "from langchain.schema import Document"
      ],
      "metadata": {
        "id": "7ZQYlNKIJbug"
      },
      "execution_count": null,
      "outputs": []
    },
    {
      "cell_type": "code",
      "source": [
        "openai_key = getpass.getpass(\"OpenAI API Key:\")\n",
        "os.environ[\"OPENAI_API_KEY\"] = openai_key\n",
        "openai.api_key = openai_key"
      ],
      "metadata": {
        "id": "58P3w_JtKZO7",
        "colab": {
          "base_uri": "https://localhost:8080/"
        },
        "outputId": "bc82ba51-be0b-4e7c-cd56-cee5e331869d"
      },
      "execution_count": null,
      "outputs": [
        {
          "name": "stdout",
          "output_type": "stream",
          "text": [
            "OpenAI API Key:··········\n"
          ]
        }
      ]
    },
    {
      "cell_type": "code",
      "source": [
        "# производим парсинг сайта при помощи SitemapLoader\n",
        "url = \"https://structura.app/\"\n",
        "url_site_map = f\"{url}/sitemap.xml\"\n",
        "\n",
        "sitemap_loader = SitemapLoader(web_path=url_site_map)\n",
        "url_site_map"
      ],
      "metadata": {
        "id": "2mvyZhapJbw_",
        "colab": {
          "base_uri": "https://localhost:8080/",
          "height": 35
        },
        "outputId": "666186c3-e851-480e-bf11-2b3ce19ba742"
      },
      "execution_count": null,
      "outputs": [
        {
          "output_type": "execute_result",
          "data": {
            "text/plain": [
              "'https://structura.app//sitemap.xml'"
            ],
            "application/vnd.google.colaboratory.intrinsic+json": {
              "type": "string"
            }
          },
          "metadata": {},
          "execution_count": 4
        }
      ]
    },
    {
      "cell_type": "code",
      "source": [
        "# Получаем список docs - по одному документу на страничку сайта\n",
        "docs = sitemap_loader.load()"
      ],
      "metadata": {
        "id": "W3aj3jfRJbzv",
        "colab": {
          "base_uri": "https://localhost:8080/"
        },
        "outputId": "ecbf0d4d-dd97-47de-c023-327c08a189dc"
      },
      "execution_count": null,
      "outputs": [
        {
          "output_type": "stream",
          "name": "stderr",
          "text": [
            "Fetching pages: 100%|##########| 50/50 [00:11<00:00,  4.19it/s]\n"
          ]
        }
      ]
    },
    {
      "cell_type": "code",
      "source": [
        "# Общее количество страниц\n",
        "len(docs)"
      ],
      "metadata": {
        "id": "bY1QwpSMJb2P",
        "colab": {
          "base_uri": "https://localhost:8080/"
        },
        "outputId": "dbc10786-44f0-40fd-f95a-1c378448e55d"
      },
      "execution_count": null,
      "outputs": [
        {
          "output_type": "execute_result",
          "data": {
            "text/plain": [
              "50"
            ]
          },
          "metadata": {},
          "execution_count": 6
        }
      ]
    },
    {
      "cell_type": "code",
      "source": [
        "# Посмотрим на первые несколько чанков\n",
        "docs[:2]"
      ],
      "metadata": {
        "id": "okH7_66zJb4W",
        "colab": {
          "base_uri": "https://localhost:8080/"
        },
        "outputId": "bc750773-8283-408a-a46b-e2aac5a87695"
      },
      "execution_count": null,
      "outputs": [
        {
          "output_type": "execute_result",
          "data": {
            "text/plain": [
              "[Document(page_content='Structura — онлайн конструктор прототипов, схем и макетов для вашего сайтаГлавнаяКак работает краулерТарифыБлогКак работает краулерТарифыБлогНачать бесплатноСоздай прототип сайтаза 10 минутМощный онлайн инструмент проектирования ускорит работу на этапе предпроекта на 80%ПопробоватьБесплатно и навсегда, привязывать карту не нужноДизайнерМенеджерВладелец продуктаКак работает сервис Structura.appПродуманная структура — основа лучшего UXРассказ о сервисе за 4 минуты|При разработке сайта, важно уметь смотреть глазами пользователя. Именно поэтому начинать нужно с грамотной структуры посадочных страниц и анализа своих конкурентов.Плохая проработка на этапе предпроекта приводит к большим временным и финансовым вложениям, бесконечным согласованиям и доработкам.Мы скомпилировали опыт всей веб-индустрии, чтобы вы могли создавать лучшие сайты!Попробовать бесплатноУзнать больше о насТри способа создать прототип сайта с помощью Structura.appВыбирай любой 😁На основе сайтаПринцип работы алгоритма краулераСамый быстрый способ понять как устроена ваша ниша — посмотреть как сделано у соседей 👀Визуализировать структуруРезультат станет доступен после регистрации, это быстро 😉Примерыsitemaps.orgstructura.appПринцип работы краулераБолее 50 готовых шаблоновНе обязательно быть бизнес аналитиком или иметь большой опыт в разработке сайтов, чтобы продумать UX.  Мы создали библиотеку шаблонов именно для того, чтобы максимально упростить и ускорить вашу работу.Каждый из шаблонов гармоничен, и оставляет простор для творчества. Digital агенствоВеб-студия, интеграторПортфолио фрилансераВизитка, резюмеКорпоративный сайтВизитная карточка компанииПромо страницаАкция, скидка, лид-генераторИнтернет магазинE-commerce, маркетплейсПрочие шаблоныСалон красоты, автомойка, кинотеатр, школаСоздать прототип из шаблонаДемонстрация за минуту|И с чистого листа 🎶Если у вас уже есть представление о структуре будущего сайта, вы можете придумать прототип “с нуля”.Создайте страницы и наполните их блоками, опишите контент и добавьте комментарии.Максимальная свобода действий в интуитивно-понятном, простом и удобном интерфейсе.Создать прототип с нуляПримеры проектовПосмотрите, какие прототипы собрали наши пользователиСоздать свою структуруО нас говорятТарифыСервис ориентирован на работу с ноутбуков и планшетов. Подробно изучить тарифы вы можете в версии для ПКГодМесяцПробныйИдеальный вариант  чтобы попробоватьБесплатноНавсегдаПопробоватьБез привязки картыБез ограниченийЕдиный удобный тариф290 ₽/ мес790 ₽ПодключитьПосмотреть тарифыО нас пишутТарифыПринцип работы краулераБлогКейсыinfo@structura.appПомогаем работать над сайтами с 2021 годаРуководство пользователяПолитика конфиденциальностиПользовательское соглашение', metadata={'source': 'https://structura.app', 'loc': 'https://structura.app', 'lastmod': '2023-11-02T07:11:03+03:00', 'priority': '1.0'}),\n",
              " Document(page_content='ГлавнаяКак работает краулерТарифыБлогКак работает краулерТарифыБлогНачать бесплатноВсеКейсыСтатьиТарифыПринцип работы краулераБлогКейсыinfo@structura.appПомогаем работать над сайтами с 2021 годаРуководство пользователяПолитика конфиденциальностиПользовательское соглашение', metadata={'source': 'https://structura.app/blog', 'loc': 'https://structura.app/blog', 'lastmod': '2023-11-02T07:11:03+03:00', 'priority': '1.0'})]"
            ]
          },
          "metadata": {},
          "execution_count": 7
        }
      ]
    },
    {
      "cell_type": "markdown",
      "source": [
        "Мы получили текстовое содержимое всех страниц сайта. Давайте проведем эксперимент. Попробуем при помощи create_extraction_chain извлечь пару: название статьи и ее содержимое. Таким образом, у нас получатся более структурированные и логичные чанки. К тому же, на некоторых страничках содержатся несколько статей, таким образом, мы разделим текст со странички на логические блоки."
      ],
      "metadata": {
        "id": "0szf6a5tOQQM"
      }
    },
    {
      "cell_type": "code",
      "source": [
        "# инициализируем модель\n",
        "llm = ChatOpenAI(temperature=0, model=\"gpt-3.5-turbo-16k-0613\")"
      ],
      "metadata": {
        "id": "XRatb9f9jYcC"
      },
      "execution_count": null,
      "outputs": []
    },
    {
      "cell_type": "code",
      "source": [
        "#  Применяем create_extraction_chain для извлечения названия статьи и ее содержимого в формате строки\n",
        "schema = {\n",
        "    \"properties\": {\n",
        "        \"article_title\": {\"type\": \"string\"},\n",
        "        \"article_content\": {\"type\": \"string\"}\n",
        "    },\n",
        "    \"required\": [\"article_title\", \"article_content\"]\n",
        "}\n",
        "\n",
        "def extract(content: str, schema: dict):\n",
        "    return create_extraction_chain(schema=schema, llm=llm).run(content)"
      ],
      "metadata": {
        "id": "pDcdPkkUjYeu"
      },
      "execution_count": null,
      "outputs": []
    },
    {
      "cell_type": "code",
      "source": [
        "%%time\n",
        "# Применяем функцию extract ко всем документам\n",
        "extracted_data_all = []\n",
        "\n",
        "for doc in docs:\n",
        "    content = doc.page_content\n",
        "\n",
        "    # Применяем функцию extract\n",
        "    extracted_content = extract(content=content, schema=schema)\n",
        "\n",
        "    # Добавляем извлеченные данные в список (если нужно)\n",
        "    extracted_data_all.append(extracted_content)"
      ],
      "metadata": {
        "id": "X2TDJS9MjYhf"
      },
      "execution_count": null,
      "outputs": []
    },
    {
      "cell_type": "code",
      "source": [
        "j = -1\n",
        "extracted_data_all_1 = []\n",
        "err_docs = []"
      ],
      "metadata": {
        "id": "nNvHGR_vlB0q"
      },
      "execution_count": null,
      "outputs": []
    },
    {
      "cell_type": "code",
      "source": [
        "# Обработчик ошибок\n",
        "for i, doc in enumerate(docs):\n",
        "    if i > j:\n",
        "      content = doc.page_content\n",
        "      try:\n",
        "        extracted_content = extract(content=content, schema=schema)\n",
        "        extracted_data_all_1.append(extracted_content)\n",
        "        j = i\n",
        "        print('Обработана страница', i)\n",
        "      except:\n",
        "        print('Ошибка обработки страницы', i)\n",
        "        err_docs.append(i)"
      ],
      "metadata": {
        "colab": {
          "base_uri": "https://localhost:8080/"
        },
        "id": "v4wPYKZ-kZ8t",
        "outputId": "1d698be0-f439-4f74-cb89-f3cfbe59c4a2"
      },
      "execution_count": null,
      "outputs": [
        {
          "output_type": "stream",
          "name": "stdout",
          "text": [
            "Обработана страница 0\n",
            "Обработана страница 1\n",
            "Обработана страница 2\n",
            "Обработана страница 3\n",
            "Обработана страница 4\n",
            "Обработана страница 5\n",
            "Обработана страница 6\n",
            "Обработана страница 7\n",
            "Обработана страница 8\n",
            "Обработана страница 9\n",
            "Обработана страница 10\n",
            "Обработана страница 11\n",
            "Обработана страница 12\n",
            "Обработана страница 13\n",
            "Обработана страница 14\n",
            "Ошибка обработки страницы 15\n",
            "Обработана страница 16\n",
            "Обработана страница 17\n",
            "Обработана страница 18\n",
            "Обработана страница 19\n",
            "Обработана страница 20\n",
            "Обработана страница 21\n",
            "Ошибка обработки страницы 22\n",
            "Ошибка обработки страницы 23\n",
            "Обработана страница 24\n",
            "Ошибка обработки страницы 25\n",
            "Ошибка обработки страницы 26\n"
          ]
        }
      ]
    },
    {
      "cell_type": "code",
      "source": [
        "# Загрузим файл предоставленный Светланой\n",
        "from google.colab import files\n",
        "uploaded = files.upload()\n",
        "\n",
        "# читаем файл\n",
        "import io\n",
        "import pickle\n",
        "\n",
        "file_name = \"my_list.pkl\"\n",
        "extracted_data_all = pickle.load(io.BytesIO(uploaded[file_name]))"
      ],
      "metadata": {
        "colab": {
          "base_uri": "https://localhost:8080/",
          "height": 73
        },
        "id": "8IFdY24TH8YH",
        "outputId": "c2159ad8-eae4-4ad9-eca0-a22f5a248437"
      },
      "execution_count": null,
      "outputs": [
        {
          "output_type": "display_data",
          "data": {
            "text/plain": [
              "<IPython.core.display.HTML object>"
            ],
            "text/html": [
              "\n",
              "     <input type=\"file\" id=\"files-909ab70e-f6a5-44e5-87db-4135aa112494\" name=\"files[]\" multiple disabled\n",
              "        style=\"border:none\" />\n",
              "     <output id=\"result-909ab70e-f6a5-44e5-87db-4135aa112494\">\n",
              "      Upload widget is only available when the cell has been executed in the\n",
              "      current browser session. Please rerun this cell to enable.\n",
              "      </output>\n",
              "      <script>// Copyright 2017 Google LLC\n",
              "//\n",
              "// Licensed under the Apache License, Version 2.0 (the \"License\");\n",
              "// you may not use this file except in compliance with the License.\n",
              "// You may obtain a copy of the License at\n",
              "//\n",
              "//      http://www.apache.org/licenses/LICENSE-2.0\n",
              "//\n",
              "// Unless required by applicable law or agreed to in writing, software\n",
              "// distributed under the License is distributed on an \"AS IS\" BASIS,\n",
              "// WITHOUT WARRANTIES OR CONDITIONS OF ANY KIND, either express or implied.\n",
              "// See the License for the specific language governing permissions and\n",
              "// limitations under the License.\n",
              "\n",
              "/**\n",
              " * @fileoverview Helpers for google.colab Python module.\n",
              " */\n",
              "(function(scope) {\n",
              "function span(text, styleAttributes = {}) {\n",
              "  const element = document.createElement('span');\n",
              "  element.textContent = text;\n",
              "  for (const key of Object.keys(styleAttributes)) {\n",
              "    element.style[key] = styleAttributes[key];\n",
              "  }\n",
              "  return element;\n",
              "}\n",
              "\n",
              "// Max number of bytes which will be uploaded at a time.\n",
              "const MAX_PAYLOAD_SIZE = 100 * 1024;\n",
              "\n",
              "function _uploadFiles(inputId, outputId) {\n",
              "  const steps = uploadFilesStep(inputId, outputId);\n",
              "  const outputElement = document.getElementById(outputId);\n",
              "  // Cache steps on the outputElement to make it available for the next call\n",
              "  // to uploadFilesContinue from Python.\n",
              "  outputElement.steps = steps;\n",
              "\n",
              "  return _uploadFilesContinue(outputId);\n",
              "}\n",
              "\n",
              "// This is roughly an async generator (not supported in the browser yet),\n",
              "// where there are multiple asynchronous steps and the Python side is going\n",
              "// to poll for completion of each step.\n",
              "// This uses a Promise to block the python side on completion of each step,\n",
              "// then passes the result of the previous step as the input to the next step.\n",
              "function _uploadFilesContinue(outputId) {\n",
              "  const outputElement = document.getElementById(outputId);\n",
              "  const steps = outputElement.steps;\n",
              "\n",
              "  const next = steps.next(outputElement.lastPromiseValue);\n",
              "  return Promise.resolve(next.value.promise).then((value) => {\n",
              "    // Cache the last promise value to make it available to the next\n",
              "    // step of the generator.\n",
              "    outputElement.lastPromiseValue = value;\n",
              "    return next.value.response;\n",
              "  });\n",
              "}\n",
              "\n",
              "/**\n",
              " * Generator function which is called between each async step of the upload\n",
              " * process.\n",
              " * @param {string} inputId Element ID of the input file picker element.\n",
              " * @param {string} outputId Element ID of the output display.\n",
              " * @return {!Iterable<!Object>} Iterable of next steps.\n",
              " */\n",
              "function* uploadFilesStep(inputId, outputId) {\n",
              "  const inputElement = document.getElementById(inputId);\n",
              "  inputElement.disabled = false;\n",
              "\n",
              "  const outputElement = document.getElementById(outputId);\n",
              "  outputElement.innerHTML = '';\n",
              "\n",
              "  const pickedPromise = new Promise((resolve) => {\n",
              "    inputElement.addEventListener('change', (e) => {\n",
              "      resolve(e.target.files);\n",
              "    });\n",
              "  });\n",
              "\n",
              "  const cancel = document.createElement('button');\n",
              "  inputElement.parentElement.appendChild(cancel);\n",
              "  cancel.textContent = 'Cancel upload';\n",
              "  const cancelPromise = new Promise((resolve) => {\n",
              "    cancel.onclick = () => {\n",
              "      resolve(null);\n",
              "    };\n",
              "  });\n",
              "\n",
              "  // Wait for the user to pick the files.\n",
              "  const files = yield {\n",
              "    promise: Promise.race([pickedPromise, cancelPromise]),\n",
              "    response: {\n",
              "      action: 'starting',\n",
              "    }\n",
              "  };\n",
              "\n",
              "  cancel.remove();\n",
              "\n",
              "  // Disable the input element since further picks are not allowed.\n",
              "  inputElement.disabled = true;\n",
              "\n",
              "  if (!files) {\n",
              "    return {\n",
              "      response: {\n",
              "        action: 'complete',\n",
              "      }\n",
              "    };\n",
              "  }\n",
              "\n",
              "  for (const file of files) {\n",
              "    const li = document.createElement('li');\n",
              "    li.append(span(file.name, {fontWeight: 'bold'}));\n",
              "    li.append(span(\n",
              "        `(${file.type || 'n/a'}) - ${file.size} bytes, ` +\n",
              "        `last modified: ${\n",
              "            file.lastModifiedDate ? file.lastModifiedDate.toLocaleDateString() :\n",
              "                                    'n/a'} - `));\n",
              "    const percent = span('0% done');\n",
              "    li.appendChild(percent);\n",
              "\n",
              "    outputElement.appendChild(li);\n",
              "\n",
              "    const fileDataPromise = new Promise((resolve) => {\n",
              "      const reader = new FileReader();\n",
              "      reader.onload = (e) => {\n",
              "        resolve(e.target.result);\n",
              "      };\n",
              "      reader.readAsArrayBuffer(file);\n",
              "    });\n",
              "    // Wait for the data to be ready.\n",
              "    let fileData = yield {\n",
              "      promise: fileDataPromise,\n",
              "      response: {\n",
              "        action: 'continue',\n",
              "      }\n",
              "    };\n",
              "\n",
              "    // Use a chunked sending to avoid message size limits. See b/62115660.\n",
              "    let position = 0;\n",
              "    do {\n",
              "      const length = Math.min(fileData.byteLength - position, MAX_PAYLOAD_SIZE);\n",
              "      const chunk = new Uint8Array(fileData, position, length);\n",
              "      position += length;\n",
              "\n",
              "      const base64 = btoa(String.fromCharCode.apply(null, chunk));\n",
              "      yield {\n",
              "        response: {\n",
              "          action: 'append',\n",
              "          file: file.name,\n",
              "          data: base64,\n",
              "        },\n",
              "      };\n",
              "\n",
              "      let percentDone = fileData.byteLength === 0 ?\n",
              "          100 :\n",
              "          Math.round((position / fileData.byteLength) * 100);\n",
              "      percent.textContent = `${percentDone}% done`;\n",
              "\n",
              "    } while (position < fileData.byteLength);\n",
              "  }\n",
              "\n",
              "  // All done.\n",
              "  yield {\n",
              "    response: {\n",
              "      action: 'complete',\n",
              "    }\n",
              "  };\n",
              "}\n",
              "\n",
              "scope.google = scope.google || {};\n",
              "scope.google.colab = scope.google.colab || {};\n",
              "scope.google.colab._files = {\n",
              "  _uploadFiles,\n",
              "  _uploadFilesContinue,\n",
              "};\n",
              "})(self);\n",
              "</script> "
            ]
          },
          "metadata": {}
        },
        {
          "output_type": "stream",
          "name": "stdout",
          "text": [
            "Saving my_list.pkl to my_list.pkl\n"
          ]
        }
      ]
    },
    {
      "cell_type": "code",
      "source": [
        "# Вся база знаний, состоящая из названий статей и их текстов\n",
        "extracted_data_all[:2]"
      ],
      "metadata": {
        "id": "dSr0_T-FN9Jn",
        "colab": {
          "base_uri": "https://localhost:8080/"
        },
        "outputId": "65c3ea78-8b31-45f8-88ce-b4c91fd188b5"
      },
      "execution_count": null,
      "outputs": [
        {
          "output_type": "execute_result",
          "data": {
            "text/plain": [
              "[[{'article_title': 'Structura — онлайн конструктор прототипов, схем и макетов для вашего сайта',\n",
              "   'article_content': 'Главная\\nКак работает краулер\\nТарифы\\nБлог\\nКак работает краулер\\nТарифы\\nБлог\\nНачать бесплатно\\nСоздай прототип сайта\\nза 10 минут\\nМощный онлайн инструмент проектирования ускорит работу на этапе предпроекта на 80%\\nПопробовать\\nБесплатно и навсегда, привязывать карту не нужно\\nДизайнер\\nМенеджер\\nВладелец продукта\\nКак работает сервис Structura.app\\nПродуманная структура — основа лучшего UX\\nРассказ о сервисе за 4 минуты|\\nПри разработке сайта, важно уметь смотреть глазами пользователя. Именно поэтому начинать нужно с грамотной структуры посадочных страниц и анализа своих конкурентов.\\nПлохая проработка на этапе предпроекта приводит к большим временным и финансовым вложениям, бесконечным согласованиям и доработкам.\\nМы скомпилировали опыт всей веб-индустрии, чтобы вы могли создавать лучшие сайты!\\nПопробовать бесплатно\\nУзнать больше о нас\\nТри способа создать прототип сайта с помощью Structura.app\\nВыбирай любой 😁\\nНа основе сайта\\nПринцип работы алгоритма краулера\\nСамый быстрый способ понять как устроена ваша ниша — посмотреть как сделано у соседей 👀\\nВизуализировать структуру\\nРезультат станет доступен после регистрации, это быстро 😉\\nПримеры\\nsitemaps.org\\nstructura.app\\nПринцип работы краулера\\nБолее 50 готовых шаблонов\\nНе обязательно быть бизнес аналитиком или иметь большой опыт в разработке сайтов, чтобы продумать UX.  Мы создали библиотеку шаблонов именно для того, чтобы максимально упростить и ускорить вашу работу.\\nКаждый из шаблонов гармоничен, и оставляет простор для творчества. Digital агентство\\nВеб-студия, интегратор\\nПортфолио фрилансера\\nВизитка, резюме\\nКорпоративный сайт\\nВизитная карточка компании\\nПромо страница\\nАкция, скидка, лид-генератор\\nИнтернет магазин\\nE-commerce, маркетплейс\\nПрочие шаблоны\\nСалон красоты, автомойка, кинотеатр, школа\\nСоздать прототип из шаблона\\nДемонстрация за минуту|\\nИ с чистого листа 🎶\\nЕсли у вас уже есть представление о структуре будущего сайта, вы можете придумать прототип “с нуля”.\\nСоздайте страницы и наполните их блоками, опишите контент и добавьте комментарии.\\nМаксимальная свобода действий в интуитивно-понятном, простом и удобном интерфейсе.\\nСоздать прототип с нуля\\nПримеры проектов\\nПосмотрите, какие прототипы собрали наши пользователи\\nСоздать свою структуру\\nО нас говорят\\nТарифы\\nСервис ориентирован на работу с ноутбуков и планшетов. Подробно изучить тарифы вы можете в версии для ПК\\nГод\\nМесяц\\nПробный\\nИдеальный вариант  чтобы попробовать\\nБесплатно\\nНавсегда\\nПопробовать\\nБез привязки карты\\nБез ограничений\\nЕдиный удобный тариф\\n290 ₽/ мес\\n790 ₽\\nПодключить\\nПосмотреть тарифы\\nО нас пишут\\nТарифы\\nПринцип работы краулера\\nБлог\\nКейсы\\ninfo@structura.app\\nПомогаем работать над сайтами с 2021 года\\nРуководство пользователя\\nПолитика конфиденциальности\\nПользовательское соглашение'}],\n",
              " [{'article_title': 'Как работает краулер',\n",
              "   'article_content': 'ТарифыБлогКак работает краулерТарифыБлогНачать бесплатноВсеКейсыСтатьиТарифыПринцип работы краулераБлогКейсыinfo@structura.appПомогаем работать над сайтами с 2021 годаРуководство пользователяПолитика конфиденциальностиПользовательское соглашение'}]]"
            ]
          },
          "metadata": {},
          "execution_count": 31
        }
      ]
    },
    {
      "cell_type": "code",
      "source": [
        "# некоторые странички содержат несколько статей:\n",
        "extracted_data_all[6]"
      ],
      "metadata": {
        "id": "uPF9dkQMPKs3",
        "colab": {
          "base_uri": "https://localhost:8080/"
        },
        "outputId": "0ff9985b-fdaa-4a80-cac7-ed8b33659a17"
      },
      "execution_count": null,
      "outputs": [
        {
          "output_type": "execute_result",
          "data": {
            "text/plain": [
              "[{'article_title': 'Почему на моем сайте нет карты сайта',\n",
              "  'article_content': 'Создавать карту сайта или нет — это, на самом деле, очень спорный вопрос. Часть оптимизаторов не представляет себе жизни без карты и яростно отстаивает необходимость в ней, другие — молча делают сайты без неё. А результаты, при этом, есть и у тех, и у других. Где же правда? Еще материалы на тему сайтмапов: Зачем визуализировать сайтмапы Добавлять ли сайтмап в нижнюю часть сайта Анализ карты сайта при конкурентной разведке Как часто нужно обновлять карту сайта Сайтмап для лендинга'},\n",
              " {'article_title': 'Поисковые машины и сайтмап',\n",
              "  'article_content': 'Для начала, выложим факты на стол: Нигде, ни в одном материале, ни в одной инструкции для вебмастеров у Яндекса или Google не написано, что сайт не будет индексироваться без карты. Да, поисковики дают свои рекомендации по поводу сайтмапа, но они слишком размыты и неконкретны. Например, у Google: «Наличие файла Sitemap не гарантирует сканирование и индексацию всех страниц, ввиду того что эта процедура выполняется с помощью сложных алгоритмов». Поисковые роботы развиваются уже больше 15 лет – и наличие карты сайта, по исследованиям оптимизаторов, никак не увеличивает количество страниц в выдаче, а, иногда, даже и уменьшает. Условно, было у вас 100.000 страниц, загрузили карту сайта — осталось 80.000 страниц. В общем, роботы уже давно работают по своему, умному и развивающемуся алгоритму, и наличие сайтмапа мало что меняет. Даже на официальном сайте стандарта www.sitemaps.org написано, что карта сайта может помогать в индексации, но никак не гарантирует её. Исходя из этого — есть большое количество людей, которые просто-напросто игнорируют существование карты сайта и забыли про неё, как ранее в историю ушло понятие “keywords” в мета-тегах. Как успешно игнорировать существование sitemap Если вы решили приобщиться к секте «свидетелей отсутствия сайтмап», нужно понимать следующее: Создавайте сайт для людей, чтобы навигация была удобной, юзабилити придумали не просто так. Страницы сайта должны иметь четкую иерархию и ЧПУ URL. То есть не стоит делать ссылки вроде «сайт.ру/182.html», предпочтительнее «сайт.ру/категория/товар», тогда поисковой машине будет проще в индексации. Не плодите страницы под запросы. Объединяйте ключи, исходя из их группировки поисковиками, создавайте только необходимые страницы, те, которые будут посещать. Своевременно добавляйте страницы в AddURL вручную или с помощью скриптов. История из жизни: интернет-магазин «Ромашка» создал 100500 страниц фильтров, например, «белые ошейники для котят 2-4 месяцев». Эти страницы, в большинстве своем, имели нулевую посещаемость, что в конечном итоге гарантировало выпадение почти всего сайта из индекса ПС. Оптимизатор «Ромашка» хотел охватить низкочастотные запросы, а отхватил теневой бан. Не будьте как этот оптимизатор, создавайте только полезные страницы. Итого: если создать небольшой сайт с хорошим юзабилити — без сайтмапа можно обойтись. Однако, если вы только создали сайт — мы рекомендуем сгенерировать карту сайта и добавить ее в Яндекс.вебмастер и Гугл серч консоль, поскольку на практике это помогает поиску быстрее увидеть все страницы. Посмотреть как поисковые системы видят ваш сайтмап можно с помощью нашего инструмента. Почитать как работает краулер.'}]"
            ]
          },
          "metadata": {},
          "execution_count": 32
        }
      ]
    },
    {
      "cell_type": "markdown",
      "source": [
        "Теперь соберем все наши статьи и их названия в Langchain document, где в page_content у нас будет содержаться название статьи и сама статья, а в metadata каждого чанка будет передаваться только название статьи:"
      ],
      "metadata": {
        "id": "MR9otWgx02Z4"
      }
    },
    {
      "cell_type": "code",
      "source": [
        "# Создаем список Langchain documents\n",
        "documents = []\n",
        "\n",
        "for item in extracted_data_all:\n",
        "    # Итерируемся по каждому словарю в списке элемента\n",
        "    for dictionary in item:\n",
        "        # в page_content у нас будет содержаться название статьи и сама статья\n",
        "        page_content = dictionary['article_title'] + '\\n' + dictionary['article_content']\n",
        "        # а в metadata каждого чанка будет передаваться название статьи\n",
        "        metadata = {\n",
        "            'article_title': dictionary['article_title']\n",
        "        }\n",
        "\n",
        "        document = Document(page_content=page_content, metadata=metadata)\n",
        "        documents.append(document)"
      ],
      "metadata": {
        "id": "LSmif2LyT5nr"
      },
      "execution_count": null,
      "outputs": []
    },
    {
      "cell_type": "code",
      "source": [
        "# выводим один из получившихся документов, чтобы проверить, что все получилось правильно\n",
        "documents[7]"
      ],
      "metadata": {
        "id": "2zmSh4rPUWPA",
        "colab": {
          "base_uri": "https://localhost:8080/"
        },
        "outputId": "28faa7e9-fa4b-4160-b270-75382f58aa7f"
      },
      "execution_count": null,
      "outputs": [
        {
          "output_type": "execute_result",
          "data": {
            "text/plain": [
              "Document(page_content='Поисковые машины и сайтмап\\nДля начала, выложим факты на стол: Нигде, ни в одном материале, ни в одной инструкции для вебмастеров у Яндекса или Google не написано, что сайт не будет индексироваться без карты. Да, поисковики дают свои рекомендации по поводу сайтмапа, но они слишком размыты и неконкретны. Например, у Google: «Наличие файла Sitemap не гарантирует сканирование и индексацию всех страниц, ввиду того что эта процедура выполняется с помощью сложных алгоритмов». Поисковые роботы развиваются уже больше 15 лет – и наличие карты сайта, по исследованиям оптимизаторов, никак не увеличивает количество страниц в выдаче, а, иногда, даже и уменьшает. Условно, было у вас 100.000 страниц, загрузили карту сайта — осталось 80.000 страниц. В общем, роботы уже давно работают по своему, умному и развивающемуся алгоритму, и наличие сайтмапа мало что меняет. Даже на официальном сайте стандарта www.sitemaps.org написано, что карта сайта может помогать в индексации, но никак не гарантирует её. Исходя из этого — есть большое количество людей, которые просто-напросто игнорируют существование карты сайта и забыли про неё, как ранее в историю ушло понятие “keywords” в мета-тегах. Как успешно игнорировать существование sitemap Если вы решили приобщиться к секте «свидетелей отсутствия сайтмап», нужно понимать следующее: Создавайте сайт для людей, чтобы навигация была удобной, юзабилити придумали не просто так. Страницы сайта должны иметь четкую иерархию и ЧПУ URL. То есть не стоит делать ссылки вроде «сайт.ру/182.html», предпочтительнее «сайт.ру/категория/товар», тогда поисковой машине будет проще в индексации. Не плодите страницы под запросы. Объединяйте ключи, исходя из их группировки поисковиками, создавайте только необходимые страницы, те, которые будут посещать. Своевременно добавляйте страницы в AddURL вручную или с помощью скриптов. История из жизни: интернет-магазин «Ромашка» создал 100500 страниц фильтров, например, «белые ошейники для котят 2-4 месяцев». Эти страницы, в большинстве своем, имели нулевую посещаемость, что в конечном итоге гарантировало выпадение почти всего сайта из индекса ПС. Оптимизатор «Ромашка» хотел охватить низкочастотные запросы, а отхватил теневой бан. Не будьте как этот оптимизатор, создавайте только полезные страницы. Итого: если создать небольшой сайт с хорошим юзабилити — без сайтмапа можно обойтись. Однако, если вы только создали сайт — мы рекомендуем сгенерировать карту сайта и добавить ее в Яндекс.вебмастер и Гугл серч консоль, поскольку на практике это помогает поиску быстрее увидеть все страницы. Посмотреть как поисковые системы видят ваш сайтмап можно с помощью нашего инструмента. Почитать как работает краулер.', metadata={'article_title': 'Поисковые машины и сайтмап'})"
            ]
          },
          "metadata": {},
          "execution_count": 35
        }
      ]
    },
    {
      "cell_type": "markdown",
      "source": [
        "Нужно проверить, какой длины чанки у нас содержатся в нашей БЗ"
      ],
      "metadata": {
        "id": "pkQ5Zweh1uod"
      }
    },
    {
      "cell_type": "code",
      "source": [
        "def num_tokens_from_string(string: str, encoding_name: str) -> int:\n",
        "      \"\"\"Возвращает количество токенов в строке\"\"\"\n",
        "      encoding = tiktoken.get_encoding(encoding_name)\n",
        "      num_tokens = len(encoding.encode(string))\n",
        "      return num_tokens\n",
        "\n",
        "# Подсчет токенов для каждого фрагмента и построение графика\n",
        "fragment_token_counts = [num_tokens_from_string(fragment.page_content, \"cl100k_base\") for fragment in documents]\n",
        "plt.hist(fragment_token_counts, bins=50, alpha=0.5, label='Fragments')\n",
        "plt.title('Распределение длин чанков в токенах')\n",
        "plt.xlabel('Token Count')\n",
        "plt.ylabel('Frequency')\n",
        "plt.show()"
      ],
      "metadata": {
        "id": "EQHWwE69KJon",
        "colab": {
          "base_uri": "https://localhost:8080/",
          "height": 472
        },
        "outputId": "15cea299-62e4-43b0-96a8-434f7d1db631"
      },
      "execution_count": null,
      "outputs": [
        {
          "output_type": "display_data",
          "data": {
            "text/plain": [
              "<Figure size 640x480 with 1 Axes>"
            ],
            "image/png": "[encoded data removed]"
          },
          "metadata": {}
        }
      ]
    },
    {
      "cell_type": "markdown",
      "source": [
        "Видим, что некоторые чанки достаточно большие, нужно их разделить на более мелкие, также, чтобы при разделении чанков на более мелкие не потерялось название статьи, его мы тоже добавим."
      ],
      "metadata": {
        "id": "y6_wFAmEWXZ6"
      }
    },
    {
      "cell_type": "code",
      "source": [
        "# Создаем пустой список для хранения фрагментов\n",
        "docs_final = []\n",
        "\n",
        "# Пороговое значение для количества токенов\n",
        "threshold = 2000\n",
        "\n",
        "# Перебираем каждый фрагмент\n",
        "for fragment in documents:\n",
        "    num_tokens = num_tokens_from_string(fragment.page_content, \"cl100k_base\")\n",
        "\n",
        "    # Сохраняем название статьи из метаданных\n",
        "    article_title = fragment.metadata['article_title']\n",
        "\n",
        "    # Если фрагмент превышает пороговое значение, разбиваем его\n",
        "    if num_tokens > threshold:\n",
        "        text_splitter = RecursiveCharacterTextSplitter(chunk_size=2000)\n",
        "        text_parts = text_splitter.split_text(fragment.page_content)\n",
        "\n",
        "        for i, text_part in enumerate(text_parts):\n",
        "            # Добавляем название статьи только ко второй и последующим частям, так как в первой он уже содержится\n",
        "            if i == 0:\n",
        "                docs_final.append(Document(\n",
        "                    page_content=text_part,\n",
        "                    metadata={'article_title': article_title}\n",
        "                ))\n",
        "            else:\n",
        "                docs_final.append(Document(\n",
        "                    page_content=article_title + '\\n' + text_part,\n",
        "                    metadata={'article_title': article_title}\n",
        "                ))\n",
        "    else:\n",
        "        # Если фрагмент не превышает порог, добавляем его как есть\n",
        "        docs_final.append(fragment)"
      ],
      "metadata": {
        "id": "2rgFEemBWWKt"
      },
      "execution_count": null,
      "outputs": []
    },
    {
      "cell_type": "code",
      "source": [
        "# всего получилось чанков:\n",
        "len(docs_final)"
      ],
      "metadata": {
        "id": "1Tn6w0uiikB0",
        "colab": {
          "base_uri": "https://localhost:8080/"
        },
        "outputId": "3d4e4262-ccee-4c7b-a97c-5d7bc04aa6c8"
      },
      "execution_count": null,
      "outputs": [
        {
          "output_type": "execute_result",
          "data": {
            "text/plain": [
              "104"
            ]
          },
          "metadata": {},
          "execution_count": 38
        }
      ]
    },
    {
      "cell_type": "code",
      "source": [
        "docs_final[:2]"
      ],
      "metadata": {
        "colab": {
          "base_uri": "https://localhost:8080/"
        },
        "id": "EgvyTAHbQVmG",
        "outputId": "3f10eb01-c240-4249-ff14-606b451bc076"
      },
      "execution_count": null,
      "outputs": [
        {
          "output_type": "execute_result",
          "data": {
            "text/plain": [
              "[Document(page_content='Structura — онлайн конструктор прототипов, схем и макетов для вашего сайта\\nГлавная\\nКак работает краулер\\nТарифы\\nБлог\\nКак работает краулер\\nТарифы\\nБлог\\nНачать бесплатно\\nСоздай прототип сайта\\nза 10 минут\\nМощный онлайн инструмент проектирования ускорит работу на этапе предпроекта на 80%\\nПопробовать\\nБесплатно и навсегда, привязывать карту не нужно\\nДизайнер\\nМенеджер\\nВладелец продукта\\nКак работает сервис Structura.app\\nПродуманная структура — основа лучшего UX\\nРассказ о сервисе за 4 минуты|\\nПри разработке сайта, важно уметь смотреть глазами пользователя. Именно поэтому начинать нужно с грамотной структуры посадочных страниц и анализа своих конкурентов.\\nПлохая проработка на этапе предпроекта приводит к большим временным и финансовым вложениям, бесконечным согласованиям и доработкам.\\nМы скомпилировали опыт всей веб-индустрии, чтобы вы могли создавать лучшие сайты!\\nПопробовать бесплатно\\nУзнать больше о нас\\nТри способа создать прототип сайта с помощью Structura.app\\nВыбирай любой 😁\\nНа основе сайта\\nПринцип работы алгоритма краулера\\nСамый быстрый способ понять как устроена ваша ниша — посмотреть как сделано у соседей 👀\\nВизуализировать структуру\\nРезультат станет доступен после регистрации, это быстро 😉\\nПримеры\\nsitemaps.org\\nstructura.app\\nПринцип работы краулера\\nБолее 50 готовых шаблонов\\nНе обязательно быть бизнес аналитиком или иметь большой опыт в разработке сайтов, чтобы продумать UX.  Мы создали библиотеку шаблонов именно для того, чтобы максимально упростить и ускорить вашу работу.\\nКаждый из шаблонов гармоничен, и оставляет простор для творчества. Digital агентство\\nВеб-студия, интегратор\\nПортфолио фрилансера\\nВизитка, резюме\\nКорпоративный сайт\\nВизитная карточка компании\\nПромо страница\\nАкция, скидка, лид-генератор\\nИнтернет магазин\\nE-commerce, маркетплейс\\nПрочие шаблоны\\nСалон красоты, автомойка, кинотеатр, школа\\nСоздать прототип из шаблона\\nДемонстрация за минуту|\\nИ с чистого листа 🎶\\nЕсли у вас уже есть представление о структуре будущего сайта, вы можете придумать прототип “с нуля”.\\nСоздайте страницы и наполните их блоками, опишите контент и добавьте комментарии.\\nМаксимальная свобода действий в интуитивно-понятном, простом и удобном интерфейсе.\\nСоздать прототип с нуля\\nПримеры проектов\\nПосмотрите, какие прототипы собрали наши пользователи\\nСоздать свою структуру\\nО нас говорят\\nТарифы\\nСервис ориентирован на работу с ноутбуков и планшетов. Подробно изучить тарифы вы можете в версии для ПК\\nГод\\nМесяц\\nПробный\\nИдеальный вариант  чтобы попробовать\\nБесплатно\\nНавсегда\\nПопробовать\\nБез привязки карты\\nБез ограничений\\nЕдиный удобный тариф\\n290 ₽/ мес\\n790 ₽\\nПодключить\\nПосмотреть тарифы\\nО нас пишут\\nТарифы\\nПринцип работы краулера\\nБлог\\nКейсы\\ninfo@structura.app\\nПомогаем работать над сайтами с 2021 года\\nРуководство пользователя\\nПолитика конфиденциальности\\nПользовательское соглашение', metadata={'article_title': 'Structura — онлайн конструктор прототипов, схем и макетов для вашего сайта'}),\n",
              " Document(page_content='Как работает краулер\\nТарифыБлогКак работает краулерТарифыБлогНачать бесплатноВсеКейсыСтатьиТарифыПринцип работы краулераБлогКейсыinfo@structura.appПомогаем работать над сайтами с 2021 годаРуководство пользователяПолитика конфиденциальностиПользовательское соглашение', metadata={'article_title': 'Как работает краулер'})]"
            ]
          },
          "metadata": {},
          "execution_count": 42
        }
      ]
    },
    {
      "cell_type": "code",
      "source": [
        "# Проверяем, что больше нет чанков, превышающих 2000 токенов\n",
        "def num_tokens_from_string_2(string: str, encoding_name: str) -> int:\n",
        "      \"\"\"Возвращает количество токенов в строке\"\"\"\n",
        "      encoding = tiktoken.get_encoding(encoding_name)\n",
        "      num_tokens = len(encoding.encode(string))\n",
        "      return num_tokens\n",
        "\n",
        "# Подсчет токенов для каждого фрагмента и построение графика\n",
        "fragment_token_counts = [num_tokens_from_string_2(fragment.page_content, \"cl100k_base\") for fragment in docs_final]\n",
        "plt.hist(fragment_token_counts, bins=50, alpha=0.5, label='Fragments')\n",
        "plt.title('Распределение длин чанков в токенах')\n",
        "plt.xlabel('Token Count')\n",
        "plt.ylabel('Frequency')\n",
        "plt.show()"
      ],
      "metadata": {
        "id": "xkfO9udKjFpx",
        "colab": {
          "base_uri": "https://localhost:8080/",
          "height": 472
        },
        "outputId": "2f182142-702c-4f7f-db00-a0d2c7fee0cf"
      },
      "execution_count": null,
      "outputs": [
        {
          "output_type": "display_data",
          "data": {
            "text/plain": [
              "<Figure size 640x480 with 1 Axes>"
            ],
            "image/png": "[encoded data removed]"
          },
          "metadata": {}
        }
      ]
    },
    {
      "cell_type": "code",
      "source": [
        "# Инициализирум модель эмбеддингов\n",
        "embeddings = OpenAIEmbeddings()\n",
        "\n",
        "# Создадим индексную базу из разделенных фрагментов текста\n",
        "db = FAISS.from_documents(docs_final, embeddings)"
      ],
      "metadata": {
        "id": "1aE5FcSpKJtw"
      },
      "execution_count": null,
      "outputs": []
    },
    {
      "cell_type": "code",
      "source": [
        "# Функция для загрузки документа по ссылке из Google Drive\n",
        "def load_document_text(url: str) -> str:\n",
        "    # Извлечение идентификатора документа из URL\n",
        "    match_ = re.search('/document/d/([a-zA-Z0-9-_]+)', url)\n",
        "    if match_ is None:\n",
        "        raise ValueError('Invalid Google Docs URL')\n",
        "    doc_id = match_.group(1)\n",
        "\n",
        "    # Загружаем документ в виде обычного текста\n",
        "    response = requests.get(f'https://docs.google.com/document/d/{doc_id}/export?format=txt')\n",
        "    response.raise_for_status()\n",
        "    text = response.text\n",
        "\n",
        "    return text"
      ],
      "metadata": {
        "id": "sIoO_JA_SFWa"
      },
      "execution_count": null,
      "outputs": []
    },
    {
      "cell_type": "code",
      "source": [
        "system=load_document_text(\"https://docs.google.com/document/d/1tZ2vowvO6zRn_2s_y1rIDxKqj-ZI5wwEbcPvJ7mfG6Y/edit?usp=sharing\")"
      ],
      "metadata": {
        "id": "yLpDcqRJKWe7"
      },
      "execution_count": null,
      "outputs": []
    },
    {
      "cell_type": "code",
      "source": [
        "def answer_index(system, topic, search_index, temp=0, verbose=0) -> str:\n",
        "    \"\"\"Функция возвращает ответ модели на основе заданной темы.\"\"\"\n",
        "    # находим наиболее релевантные вопросу пользователя чанки:\n",
        "    docs = search_index.similarity_search(topic, k=3)\n",
        "    message_content = re.sub(r'\\n{2}', ' ', '\\n '.join([f'\\nОтрывок документа №{i+1}\\n=====================' + doc.page_content + '\\n' for i, doc in enumerate(docs)]))\n",
        "\n",
        "    # если параметр verbose=1, то выводим релевантные чанки\n",
        "    if verbose:\n",
        "        print('message_content :\\n', message_content)\n",
        "\n",
        "    messages = [\n",
        "        {\"role\": \"system\", \"content\": system},\n",
        "        # в user промпт пишем на английском - для экономии токенов\n",
        "        {\"role\": \"user\", \"content\": f\"Answer the user's question. Document with information for the user's answer: {message_content}\\n\\n User's question: \\n{topic}\"}\n",
        "    ]\n",
        "\n",
        "    completion = openai.ChatCompletion.create(\n",
        "        model=\"gpt-3.5-turbo\",\n",
        "        messages=messages,\n",
        "        temperature=temp\n",
        "    )\n",
        "\n",
        "    return completion.choices[0].message.content"
      ],
      "metadata": {
        "id": "tfzZJZEOKWjX"
      },
      "execution_count": null,
      "outputs": []
    },
    {
      "cell_type": "code",
      "source": [
        "topic=\"Как сделать сайт если я неумею программировать?\"                                                                          # укажите необходимое значение\n",
        "ans=answer_index(system, topic, db, temp=0, verbose=0)\n",
        "ans"
      ],
      "metadata": {
        "id": "iz6kaDkZjlOr",
        "colab": {
          "base_uri": "https://localhost:8080/",
          "height": 104
        },
        "outputId": "b37dcfa9-6e5f-466d-90cb-32d2647d8ba2"
      },
      "execution_count": null,
      "outputs": [
        {
          "output_type": "execute_result",
          "data": {
            "text/plain": [
              "'Согласно информации из документа, если вы не умеете программировать, есть несколько способов создать сайт. Один из способов - использовать неспециализированный сервис, такой как Яндекс Бизнес, Google Мой бизнес или Zoon, которые предлагают функцию создания сайта внутри своей платформы. Однако, у этих конструкторов может быть ограниченный функционал и они больше ориентированы на увеличение вашего присутствия в их экосистеме. Если у вас небольшой ассортимент товаров или услуг и вам важен трафик с карт, то этот вариант может подойти для вас. Также стоит упомянуть, что в этих сервисах обычно не требуется помощь фрилансеров, так как они предлагают простой и быстрый способ создания сайта самостоятельно.'"
            ],
            "application/vnd.google.colaboratory.intrinsic+json": {
              "type": "string"
            }
          },
          "metadata": {},
          "execution_count": 71
        }
      ]
    },
    {
      "cell_type": "code",
      "source": [
        "topic=\"Сколько сайтов я могу создать бесплатно на твоем ресурсе?\"                                                                          # укажите необходимое значение\n",
        "ans=answer_index(system, topic, db, temp=0, verbose=0)\n",
        "ans"
      ],
      "metadata": {
        "id": "nTVOgD1VkTgB",
        "colab": {
          "base_uri": "https://localhost:8080/",
          "height": 35
        },
        "outputId": "a1f1ffe1-b074-44d1-aec9-9feb3e774b69"
      },
      "execution_count": null,
      "outputs": [
        {
          "output_type": "execute_result",
          "data": {
            "text/plain": [
              "'На ресурсе Structura.App вы можете создать один сайт бесплатно.'"
            ],
            "application/vnd.google.colaboratory.intrinsic+json": {
              "type": "string"
            }
          },
          "metadata": {},
          "execution_count": 70
        }
      ]
    },
    {
      "cell_type": "code",
      "source": [
        "topic=\"Какое максимальное количество страниц может быть у одного сайта?\"                                                                          # укажите необходимое значение\n",
        "ans=answer_index(system, topic, db, temp=0, verbose=0)\n",
        "ans"
      ],
      "metadata": {
        "id": "TUaukivenstO",
        "colab": {
          "base_uri": "https://localhost:8080/",
          "height": 52
        },
        "outputId": "d6953da4-9956-4b02-82a9-4232543aeed4"
      },
      "execution_count": null,
      "outputs": [
        {
          "output_type": "execute_result",
          "data": {
            "text/plain": [
              "'Максимальное количество страниц на одном сайте зависит от различных факторов, таких как тип сайта, его цель и структура. В документе, который мне предоставили, нет конкретной информации о максимальном количестве страниц. Поэтому я не могу дать точный ответ на ваш вопрос.'"
            ],
            "application/vnd.google.colaboratory.intrinsic+json": {
              "type": "string"
            }
          },
          "metadata": {},
          "execution_count": 77
        }
      ]
    }
  ]
}