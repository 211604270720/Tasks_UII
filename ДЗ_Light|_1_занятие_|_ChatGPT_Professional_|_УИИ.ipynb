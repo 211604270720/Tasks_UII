{
  "nbformat": 4,
  "nbformat_minor": 0,
  "metadata": {
    "colab": {
      "provenance": []
    },
    "kernelspec": {
      "name": "python3",
      "display_name": "Python 3"
    },
    "language_info": {
      "name": "python"
    }
  },
  "cells": [
    {
      "cell_type": "markdown",
      "source": [
        "Напишите функцию, которая принимает ввод от пользователя и возвращает ответ от модели GPT. Ваша функция должна использовать код, представленный в материалах, и должна быть способна обрабатывать любой ввод пользователя."
      ],
      "metadata": {
        "id": "TNhVAX0oQntj"
      }
    },
    {
      "cell_type": "code",
      "source": [
        "!pip install openai"
      ],
      "metadata": {
        "id": "9Bnkz_MXSf_u"
      },
      "execution_count": null,
      "outputs": []
    },
    {
      "cell_type": "code",
      "execution_count": null,
      "metadata": {
        "id": "9O0VU_VhQSgG"
      },
      "outputs": [],
      "source": [
        "import openai\n",
        "import os\n",
        "from getpass import getpass\n",
        "import textwrap\n",
        "\n",
        "# Заводим глобальные заголовки для всех запросов в OpenAI\n",
        "openai.api_headers = {\n",
        "    'Content-Type': 'application/json; charset=UTF-8',\n",
        "    'Accept': 'application/json; charset=UTF-8'\n",
        "}\n",
        "\n",
        "# Разбиваем текст на строки заданной длины без разбиения слов.\n",
        "def w_text(text, line_length=80):\n",
        "    return '\\n'.join(textwrap.wrap(text, line_length))\n",
        "\n",
        "# Основная функция\n",
        "def chat_with_gpt(user_input):\n",
        "    openai_key = getpass(\"OpenAI API Key:\")\n",
        "    os.environ[\"OPENAI_API_KEY\"] = openai_key\n",
        "    openai.api_key = openai_key\n",
        "    result = openai.ChatCompletion.create(\n",
        "      model=\"gpt-3.5-turbo\",\n",
        "      messages=[\n",
        "          {\"role\": \"system\", \"content\": \"Ты- помощник на любые темы.\"},\n",
        "          {\"role\": \"user\", \"content\": user_input}\n",
        "      ],\n",
        "      temperature=0.5\n",
        "      )\n",
        "    message = result['choices'][0]['message']['content']\n",
        "    return message\n",
        "\n",
        "user_input = input(\"Введите ваш вопрос - \")\n",
        "message = chat_with_gpt(user_input)\n",
        "w_message = w_text(message, 80)\n",
        "print('')\n",
        "print(f\"Ответ от модели:\\n{w_message}\")"
      ]
    },
    {
      "cell_type": "code",
      "source": [],
      "metadata": {
        "id": "gpFr9xcfGsd0"
      },
      "execution_count": null,
      "outputs": []
    }
  ]
}