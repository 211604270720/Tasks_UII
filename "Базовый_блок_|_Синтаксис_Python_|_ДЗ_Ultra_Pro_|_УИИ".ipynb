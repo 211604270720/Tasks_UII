{
  "nbformat": 4,
  "nbformat_minor": 0,
  "metadata": {
    "colab": {
      "provenance": [],
      "include_colab_link": true
    },
    "kernelspec": {
      "name": "python3",
      "display_name": "Python 3"
    },
    "language_info": {
      "name": "python"
    }
  },
  "cells": [
    {
      "cell_type": "markdown",
      "metadata": {
        "id": "view-in-github",
        "colab_type": "text"
      },
      "source": [
        "<a href=\"https://colab.research.google.com/github/211604270720/Tasks_UII/blob/master/%22%D0%91%D0%B0%D0%B7%D0%BE%D0%B2%D1%8B%D0%B9_%D0%B1%D0%BB%D0%BE%D0%BA_%7C_%D0%A1%D0%B8%D0%BD%D1%82%D0%B0%D0%BA%D1%81%D0%B8%D1%81_Python_%7C_%D0%94%D0%97_Ultra_Pro_%7C_%D0%A3%D0%98%D0%98%22.ipynb\" target=\"_parent\"><img src=\"https://colab.research.google.com/assets/colab-badge.svg\" alt=\"Open In Colab\"/></a>"
      ]
    },
    {
      "cell_type": "markdown",
      "metadata": {
        "id": "39zJTivLrXFV"
      },
      "source": [
        "### Задача 1"
      ]
    },
    {
      "cell_type": "markdown",
      "metadata": {
        "id": "8YhhSW05rc1o"
      },
      "source": [
        "Вы отправляетесь в отпуск в Америку. У себя на родине вы привыкли все считать в рублях, километрах и литрах.\n",
        "\n",
        "Приехав в Америку, вы запланировали недельную поездку от Нью-Йорка до Лос-Анджелеса на машине. Весь день вы будете ехать, а ночью останавливаться в отеле.\n",
        "\n",
        "Исходые данные:\n",
        "* Расстояние: **2790** миль;\n",
        "* Стоимость аренды авто на неделю: **820** долларов;\n",
        "* Стоимость одной ночи в отеле (всего **6** ночей): **110** долларов;\n",
        "* Расход бензина: **15.8** миль на один галлон;\n",
        "* Стоимость одного галлона **3.89** доллара;\n",
        "* Курс доллара **77.4** руб.\n",
        "\n",
        "Необходимо вычислить в рублях, сколько потребуется денег, чтобы проехать этот путь на машине.\n",
        "\n",
        "При выводе на экран все значения округлите до двух знаков после запятой."
      ]
    },
    {
      "cell_type": "code",
      "metadata": {
        "id": "ye9ErHpKBhhU",
        "colab": {
          "base_uri": "https://localhost:8080/"
        },
        "outputId": "a7852aca-3d38-4320-fd85-572b1dce675b"
      },
      "source": [
        "# Ваше решение\n",
        "\n",
        "dis_mil = 2790  # Расстояние (мили)\n",
        "rent_dol = 820  # Стоимость аренды авто на неделю (доллары)\n",
        "hotel_dol = 110  # Стоимость одной ночи в отеле (доллары)\n",
        "con_mil_gal = 15.8  # Расход бензина (мили на один галлон)\n",
        "gal_dol = 3.89  # Стоимость одного галлона (доллары)\n",
        "exch_rub = 77.4  # Курс (доллар/рубль)\n",
        "nig = 6  # Количество ночей в отеле (дни)\n",
        "\n",
        "# Определяем расходы на бензин\n",
        "con_gal = dis_mil / con_mil_gal # Количество бензина в галонах\n",
        "print('Необходимо бензина в галонах', round(con_gal, 2))\n",
        "fuel_cost_dol = con_gal * gal_dol # Расходы на бензин в долларах\n",
        "print('Расходы на бензин в долларах ', round(con_gal, 2))\n",
        "\n",
        "# Вычисляем общие расходы в долларах\n",
        "tot_cost_dol = rent_dol + (hotel_dol * nig) + fuel_cost_dol\n",
        "print('Общие расходы в долларах ', round(tot_cost_dol, 2))\n",
        "\n",
        "# Получаем общие расходы в рублях\n",
        "tot_cost_rub = tot_cost_dol * exch_rub\n",
        "print('Общие расходы в рублях ', round(tot_cost_rub, 2))"
      ],
      "execution_count": null,
      "outputs": [
        {
          "output_type": "stream",
          "name": "stdout",
          "text": [
            "Необходимо бензина в галонах 176.58\n",
            "Расходы на бензин в долларах  176.58\n",
            "Общие расходы в долларах  2166.91\n",
            "Общие расходы в рублях  167718.45\n"
          ]
        }
      ]
    },
    {
      "cell_type": "markdown",
      "metadata": {
        "id": "dT9n_KJtpS-N"
      },
      "source": [
        "### Задача 2"
      ]
    },
    {
      "cell_type": "markdown",
      "metadata": {
        "id": "66eTPQcrpaxU"
      },
      "source": [
        "Вы обрабатываете данные, но при работе со списком у вас происходит ошибка. Вам нужно понять, какие элементы вашего списка не числовые (тип не **int** и не **float**).\n",
        "\n",
        "**Задание 1**. Выведите индексы всех таких элементов списка.\n",
        "\n",
        "*Пример:*\n",
        "\n",
        "для списка\n",
        "\n",
        "**[3, 124, 0.45, 'привет', {'ребята' : 2}, 31.4 , 'люди', 34, (12, 44)]**\n",
        "\n",
        "на выходе должно получиться: **3, 4, 6, 8**\n",
        "\n",
        "*Замечание*. **(12, 44)** - это не число, а кортеж из двух чисел.\n",
        "\n",
        "**Задание 2**. Выведите новый список, содержащий только числа.\n",
        "\n",
        "*Для примера выше:*\n",
        "\n",
        "**[3, 124, 0.45, 31.4, 34]**"
      ]
    },
    {
      "cell_type": "code",
      "metadata": {
        "id": "o6475F-vQntN",
        "colab": {
          "base_uri": "https://localhost:8080/"
        },
        "outputId": "23910362-80b2-4f1b-cdfe-b91ef9428c31"
      },
      "source": [
        "# Ваше решение\n",
        "lst = [3, 124, 0.45, 'привет', {'ребята' : 2}, 31.4 , 'люди', 34, (12, 44)]\n",
        "\n",
        "# Преобразуем каждый индекс в строку и объединяем их с помощью функции join()\n",
        "index_str = ', '.join(map(str, range(len(lst))))\n",
        "print(\"Ответ_1:\",index_str)\n",
        "\n",
        "# Используем функциею isinstance() для проверки типа элементов\n",
        "new_lst = [x for x in lst if isinstance(x, (int, float))]\n",
        "print(\"Ответ_2:\",new_lst)"
      ],
      "execution_count": null,
      "outputs": [
        {
          "output_type": "stream",
          "name": "stdout",
          "text": [
            "Ответ_1: 0, 1, 2, 3, 4, 5, 6, 7, 8\n",
            "Ответ_2: [3, 124, 0.45, 31.4, 34]\n"
          ]
        }
      ]
    },
    {
      "cell_type": "markdown",
      "metadata": {
        "id": "BDz6HXvPxsYs"
      },
      "source": [
        "### Задача 3"
      ]
    },
    {
      "cell_type": "markdown",
      "metadata": {
        "id": "_b21x2ryxziN"
      },
      "source": [
        "Попробуйте написать простую карточную игру.\n",
        "Играют два игрока - **player_1** и **player_2**.\n",
        "У каждого из них по **6** карт.\n",
        "\n",
        "* **player_1 = [6, 10, 7, 8, 9, 6]**\n",
        "* **player_2 = [10, 7, 9, 6, 10, 7]**\n",
        "\n",
        "Необходимо, используя операторы `for`, `if` и `elif`, сыграть одну партию.\n",
        "Игроки ходят по очереди, и тот, у кого достоинство карты больше, забирает себе карту противника. Сыгранные карты больше не используются. Достоинства карт в списке берутся по порядку, например:\n",
        "\n",
        " * первый ход: **(6, 10)**;\n",
        " * второй ход: **(10, 7)**.\n",
        "\n",
        "Побеждает тот, у кого по окончании игры на руках меньшая сумма достоинств карт.\n",
        "\n",
        "Кто победил, **player_1** или **player_2**?"
      ]
    },
    {
      "cell_type": "code",
      "metadata": {
        "id": "W2LFTkVAeDE_",
        "colab": {
          "base_uri": "https://localhost:8080/"
        },
        "outputId": "7170a25f-5729-40c6-9d03-a795e8bbbdb9"
      },
      "source": [
        "# Ваше решение\n",
        "pl_1 = [6, 10, 7, 8, 9, 6] # Карты игрока 1\n",
        "pl_2 = [10, 7, 9, 6, 10, 7] # Карты игрока 2\n",
        "\n",
        "sc_1 = sum(pl_1)  # Сумма карт у игрока 1\n",
        "sc_2 = sum(pl_2)  # Сумма карт у игрока 2\n",
        "\n",
        "print(\"Начальные карты игрока 1:\", pl_1)\n",
        "print(\"Начальные карты игрока 2:\", pl_2)\n",
        "\n",
        "# Игра\n",
        "for i in range(len(pl_1)):\n",
        "    if pl_1[i] > pl_2[i]: # Если карта игрока 1 больше карты игрока 2\n",
        "        sc_1 += pl_2[i] # Увеличиваем сумму карт игрока 1 на значение карты игрока 2\n",
        "        sc_2 -= pl_2[i] # Уменьшаем сумму карт игрока 2 на значение карты игрока 2\n",
        "        print(\"Игрок 1 забирает карту игрока 2:\", pl_2[i])\n",
        "    elif pl_1[i] < pl_2[i]: # Если карта игрока 1 меньше карты игрока 2\n",
        "        sc_1 -= pl_1[i] # Уменьшаем сумму карт игрока 1 на значение карты игрока 1\n",
        "        sc_2 += pl_1[i] # Увеличиваем сумму карт игрока 2 на значение карты игрока 1\n",
        "        print(\"Игрок 2 забирает карту игрока 1:\", pl_1[i])\n",
        "    else: # Если карты игроков равны\n",
        "        print(\"Ничья, обе карты отбрасываются:\", pl_1[i], pl_2[i])\n",
        "print(\"Игра завершена!\")\n",
        "\n",
        "# Посчет результатов игры\n",
        "if sc_1 < sc_2:\n",
        "    print(\"Игрок 1 победил!\")\n",
        "elif sc_1 > sc_2:\n",
        "    print(\"Игрок 2 победил!\")\n",
        "else:\n",
        "    print(\"Ничья!\")"
      ],
      "execution_count": null,
      "outputs": [
        {
          "output_type": "stream",
          "name": "stdout",
          "text": [
            "Начальные карты игрока 1: [6, 10, 7, 8, 9, 6]\n",
            "Начальные карты игрока 2: [10, 7, 9, 6, 10, 7]\n",
            "Игрок 2 забирает карту игрока 1: 6\n",
            "Игрок 1 забирает карту игрока 2: 7\n",
            "Игрок 2 забирает карту игрока 1: 7\n",
            "Игрок 1 забирает карту игрока 2: 6\n",
            "Игрок 2 забирает карту игрока 1: 9\n",
            "Игрок 2 забирает карту игрока 1: 6\n",
            "Игра завершена!\n",
            "Игрок 1 победил!\n"
          ]
        }
      ]
    },
    {
      "cell_type": "markdown",
      "metadata": {
        "id": "9sr2U6oz1Iqu"
      },
      "source": [
        "### Задача 4"
      ]
    },
    {
      "cell_type": "markdown",
      "metadata": {
        "id": "Cn39Srd1cRQV"
      },
      "source": [
        "Введите три слова через пробел. Преобразуйте их таким образом, чтобы все буквы стали заглавными и между буквами в каждом слове появились дефисы.\n",
        "\n",
        "Например: Вставай на лыжи --> В-С-Т-А-В-А-Й Н-А Л-Ы-Ж-И"
      ]
    },
    {
      "cell_type": "code",
      "source": [
        "words = input(\"Введите три слова через пробел: \").split()\n",
        "\n",
        "# Создаем список символов для каждого слова с добавлением дефисов\n",
        "tr_words = ['-'.join(i.upper()) for i in words]\n",
        "\n",
        "# Объединяем элементы списка в строку с пробелами между словами\n",
        "result = ' '.join(tr_words)\n",
        "\n",
        "print(result)"
      ],
      "metadata": {
        "colab": {
          "base_uri": "https://localhost:8080/"
        },
        "id": "YxNckttP2OZX",
        "outputId": "9d49e70b-8abd-4d19-b6ca-0c8e3fa86e82"
      },
      "execution_count": null,
      "outputs": [
        {
          "output_type": "stream",
          "name": "stdout",
          "text": [
            "Введите три слова через пробел: вставай на лыжи\n",
            "В-С-Т-А-В-А-Й Н-А Л-Ы-Ж-И\n"
          ]
        }
      ]
    },
    {
      "cell_type": "markdown",
      "metadata": {
        "id": "1GnNaeQ4zwt1"
      },
      "source": [
        "### Задача 5"
      ]
    },
    {
      "cell_type": "markdown",
      "metadata": {
        "id": "2oSRWT6yAblB"
      },
      "source": [
        "Есть план этажа здания. На этом этаже 4 комнаты (1, 2, 3, 4), все выходят в общий коридор. Комнаты не сообщаются между собой: чтобы перейти из одной комнаты в любую другую, нужно пройти через коридор.\n",
        "\n",
        "![image.png](data:image/png;base64,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)\n",
        "\n",
        "Создайте функцию, которая будет проверять, возможен ли переданный ей путь по комнатам. Коридор будет обозначаться буквой «H» (Hall).\n",
        "\n",
        "* Путь может начинаться или кончаться в коридоре.\n",
        "* В качестве инпута будут передаваться только цифры 1-4 и/или буква «H».\n",
        "* Комнаты не будут повторяться."
      ]
    },
    {
      "cell_type": "code",
      "metadata": {
        "id": "lAZYQA6yBLdJ",
        "colab": {
          "base_uri": "https://localhost:8080/"
        },
        "outputId": "54c217cd-6db5-4bd1-c46f-fee0e19945db"
      },
      "source": [
        "# Функция поиска пути между комнатами\n",
        "def fun(path):\n",
        "    # Опредиляем где находимся на старте в \"комнате\" или \"коредоре\"\n",
        "    start = 'room' if path[0].isdigit() else 'H'\n",
        "    for i in path:\n",
        "        if start == 'room': # Если текущее положение на старте - \"комната\"\n",
        "            if not i.isdigit():  # Если текущее положение не является \"комнатой\"\n",
        "                return False # Возвращаем False, так как после \"комнаты\"\n",
        "                             # должен идти \"коридор\"\n",
        "            start = 'H' # Переводим положение на \"коридор\",\n",
        "                        # так как после \"комнаты\" должен идти \"коридор\"\n",
        "        else: # Если текущее положение - \"коридор\"\n",
        "            if i != 'H': # Если текущее положение не является \"коридором\"\n",
        "                return False  # Возвращаем False, так как после \"коридора\"\n",
        "                              # должна идти \"комната\"\n",
        "            start = 'room' # Переводим положение на \"комнату\",\n",
        "                           # так как после \"коридора\" должна идти \"комната\"\n",
        "    return True # Если все символы соответствуют ожидаемым положения, возвращаем True\n",
        "\n",
        "print(fun(\"1H23H4\"))\n",
        "print(fun(\"H2HH4\"))\n",
        "print(fun(\"H12H34\"))\n",
        "print(fun(\"1H2H2H3\"))\n",
        "print(fun(\"H32H41H\"))"
      ],
      "execution_count": null,
      "outputs": [
        {
          "output_type": "stream",
          "name": "stdout",
          "text": [
            "False\n",
            "True\n",
            "False\n",
            "True\n",
            "False\n"
          ]
        }
      ]
    },
    {
      "cell_type": "code",
      "source": [],
      "metadata": {
        "id": "ZOlTqwDxtthm"
      },
      "execution_count": null,
      "outputs": []
    }
  ]
}