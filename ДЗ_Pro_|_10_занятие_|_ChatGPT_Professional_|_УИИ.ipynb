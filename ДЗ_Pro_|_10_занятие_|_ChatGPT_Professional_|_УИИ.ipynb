{
  "nbformat": 4,
  "nbformat_minor": 0,
  "metadata": {
    "colab": {
      "provenance": []
    },
    "kernelspec": {
      "name": "python3",
      "display_name": "Python 3"
    },
    "language_info": {
      "name": "python"
    }
  },
  "cells": [
    {
      "cell_type": "markdown",
      "source": [
        "Проведите парсинг сайта на любом **иностранном** языке по вашему выбору.\n",
        "Посмотрите на длины чанков. Выведите **околонулевые** (по длине в токенах) чанки и примите решение о том, нужны ли они в БЗ. Если они не содержат информации, избавьтесь от них.\n",
        "На основании полученных материалов сделайте нейро-консультанта, который бы отвечал на вопросы по содержимому сайта на **русском** языке. Примените методы экономии токенов (насколько возможно)."
      ],
      "metadata": {
        "id": "MsPFUfRSCIT3"
      }
    },
    {
      "cell_type": "code",
      "execution_count": null,
      "metadata": {
        "id": "n_QqsT508FVe",
        "colab": {
          "base_uri": "https://localhost:8080/"
        },
        "outputId": "64814c10-327f-4663-d15f-17c1f0d917d9"
      },
      "outputs": [
        {
          "output_type": "stream",
          "name": "stdout",
          "text": [
            "Requirement already satisfied: nest_asyncio in /usr/local/lib/python3.10/dist-packages (1.5.8)\n",
            "Requirement already satisfied: xmltodict in /usr/local/lib/python3.10/dist-packages (0.13.0)\n",
            "Requirement already satisfied: openai==0.28.0 in /usr/local/lib/python3.10/dist-packages (0.28.0)\n",
            "Requirement already satisfied: langchain==0.0.281 in /usr/local/lib/python3.10/dist-packages (0.0.281)\n",
            "Requirement already satisfied: tiktoken in /usr/local/lib/python3.10/dist-packages (0.5.1)\n",
            "Requirement already satisfied: faiss-cpu in /usr/local/lib/python3.10/dist-packages (1.7.4)\n",
            "Requirement already satisfied: lxml in /usr/local/lib/python3.10/dist-packages (4.9.3)\n",
            "Requirement already satisfied: bs4 in /usr/local/lib/python3.10/dist-packages (0.0.1)\n",
            "Requirement already satisfied: html5lib in /usr/local/lib/python3.10/dist-packages (1.1)\n",
            "Requirement already satisfied: requests>=2.20 in /usr/local/lib/python3.10/dist-packages (from openai==0.28.0) (2.31.0)\n",
            "Requirement already satisfied: tqdm in /usr/local/lib/python3.10/dist-packages (from openai==0.28.0) (4.66.1)\n",
            "Requirement already satisfied: aiohttp in /usr/local/lib/python3.10/dist-packages (from openai==0.28.0) (3.8.6)\n",
            "Requirement already satisfied: PyYAML>=5.3 in /usr/local/lib/python3.10/dist-packages (from langchain==0.0.281) (6.0.1)\n",
            "Requirement already satisfied: SQLAlchemy<3,>=1.4 in /usr/local/lib/python3.10/dist-packages (from langchain==0.0.281) (2.0.23)\n",
            "Requirement already satisfied: async-timeout<5.0.0,>=4.0.0 in /usr/local/lib/python3.10/dist-packages (from langchain==0.0.281) (4.0.3)\n",
            "Requirement already satisfied: dataclasses-json<0.6.0,>=0.5.7 in /usr/local/lib/python3.10/dist-packages (from langchain==0.0.281) (0.5.14)\n",
            "Requirement already satisfied: langsmith<0.1.0,>=0.0.21 in /usr/local/lib/python3.10/dist-packages (from langchain==0.0.281) (0.0.63)\n",
            "Requirement already satisfied: numexpr<3.0.0,>=2.8.4 in /usr/local/lib/python3.10/dist-packages (from langchain==0.0.281) (2.8.7)\n",
            "Requirement already satisfied: numpy<2,>=1 in /usr/local/lib/python3.10/dist-packages (from langchain==0.0.281) (1.23.5)\n",
            "Requirement already satisfied: pydantic<3,>=1 in /usr/local/lib/python3.10/dist-packages (from langchain==0.0.281) (1.10.13)\n",
            "Requirement already satisfied: tenacity<9.0.0,>=8.1.0 in /usr/local/lib/python3.10/dist-packages (from langchain==0.0.281) (8.2.3)\n",
            "Requirement already satisfied: regex>=2022.1.18 in /usr/local/lib/python3.10/dist-packages (from tiktoken) (2023.6.3)\n",
            "Requirement already satisfied: beautifulsoup4 in /usr/local/lib/python3.10/dist-packages (from bs4) (4.11.2)\n",
            "Requirement already satisfied: six>=1.9 in /usr/local/lib/python3.10/dist-packages (from html5lib) (1.16.0)\n",
            "Requirement already satisfied: webencodings in /usr/local/lib/python3.10/dist-packages (from html5lib) (0.5.1)\n",
            "Requirement already satisfied: attrs>=17.3.0 in /usr/local/lib/python3.10/dist-packages (from aiohttp->openai==0.28.0) (23.1.0)\n",
            "Requirement already satisfied: charset-normalizer<4.0,>=2.0 in /usr/local/lib/python3.10/dist-packages (from aiohttp->openai==0.28.0) (3.3.2)\n",
            "Requirement already satisfied: multidict<7.0,>=4.5 in /usr/local/lib/python3.10/dist-packages (from aiohttp->openai==0.28.0) (6.0.4)\n",
            "Requirement already satisfied: yarl<2.0,>=1.0 in /usr/local/lib/python3.10/dist-packages (from aiohttp->openai==0.28.0) (1.9.2)\n",
            "Requirement already satisfied: frozenlist>=1.1.1 in /usr/local/lib/python3.10/dist-packages (from aiohttp->openai==0.28.0) (1.4.0)\n",
            "Requirement already satisfied: aiosignal>=1.1.2 in /usr/local/lib/python3.10/dist-packages (from aiohttp->openai==0.28.0) (1.3.1)\n",
            "Requirement already satisfied: marshmallow<4.0.0,>=3.18.0 in /usr/local/lib/python3.10/dist-packages (from dataclasses-json<0.6.0,>=0.5.7->langchain==0.0.281) (3.20.1)\n",
            "Requirement already satisfied: typing-inspect<1,>=0.4.0 in /usr/local/lib/python3.10/dist-packages (from dataclasses-json<0.6.0,>=0.5.7->langchain==0.0.281) (0.9.0)\n",
            "Requirement already satisfied: typing-extensions>=4.2.0 in /usr/local/lib/python3.10/dist-packages (from pydantic<3,>=1->langchain==0.0.281) (4.5.0)\n",
            "Requirement already satisfied: idna<4,>=2.5 in /usr/local/lib/python3.10/dist-packages (from requests>=2.20->openai==0.28.0) (3.4)\n",
            "Requirement already satisfied: urllib3<3,>=1.21.1 in /usr/local/lib/python3.10/dist-packages (from requests>=2.20->openai==0.28.0) (2.0.7)\n",
            "Requirement already satisfied: certifi>=2017.4.17 in /usr/local/lib/python3.10/dist-packages (from requests>=2.20->openai==0.28.0) (2023.7.22)\n",
            "Requirement already satisfied: greenlet!=0.4.17 in /usr/local/lib/python3.10/dist-packages (from SQLAlchemy<3,>=1.4->langchain==0.0.281) (3.0.1)\n",
            "Requirement already satisfied: soupsieve>1.2 in /usr/local/lib/python3.10/dist-packages (from beautifulsoup4->bs4) (2.5)\n",
            "Requirement already satisfied: packaging>=17.0 in /usr/local/lib/python3.10/dist-packages (from marshmallow<4.0.0,>=3.18.0->dataclasses-json<0.6.0,>=0.5.7->langchain==0.0.281) (23.2)\n",
            "Requirement already satisfied: mypy-extensions>=0.3.0 in /usr/local/lib/python3.10/dist-packages (from typing-inspect<1,>=0.4.0->dataclasses-json<0.6.0,>=0.5.7->langchain==0.0.281) (1.0.0)\n"
          ]
        }
      ],
      "source": [
        "!pip install nest_asyncio xmltodict openai==0.28.0 langchain==0.0.281 tiktoken faiss-cpu lxml bs4 html5lib"
      ]
    },
    {
      "cell_type": "code",
      "source": [
        "import nest_asyncio\n",
        "nest_asyncio.apply()\n",
        "import xmltodict\n",
        "from langchain.document_loaders.sitemap import SitemapLoader\n",
        "import requests\n",
        "from langchain.vectorstores import FAISS\n",
        "from langchain.embeddings import OpenAIEmbeddings\n",
        "from langchain.text_splitter import RecursiveCharacterTextSplitter\n",
        "import tiktoken\n",
        "import matplotlib.pyplot as plt\n",
        "import getpass\n",
        "import os\n",
        "import openai\n",
        "from langchain.vectorstores import FAISS\n",
        "import re\n",
        "from bs4 import BeautifulSoup\n",
        "from langchain.chat_models import ChatOpenAI\n",
        "from langchain.chains import create_extraction_chain\n",
        "import pickle\n",
        "from langchain.schema import Document"
      ],
      "metadata": {
        "id": "jSTAusrsI8yd"
      },
      "execution_count": null,
      "outputs": []
    },
    {
      "cell_type": "code",
      "source": [
        "openai_key = getpass.getpass(\"OpenAI API Key:\")\n",
        "os.environ[\"OPENAI_API_KEY\"] = openai_key\n",
        "openai.api_key = openai_key"
      ],
      "metadata": {
        "colab": {
          "base_uri": "https://localhost:8080/"
        },
        "id": "mY1OXGe4Y3aB",
        "outputId": "bede2f98-01c0-4253-afec-3999fad8dda6"
      },
      "execution_count": null,
      "outputs": [
        {
          "name": "stdout",
          "output_type": "stream",
          "text": [
            "OpenAI API Key:··········\n"
          ]
        }
      ]
    },
    {
      "cell_type": "code",
      "source": [
        "# производим парсинг сайта при помощи SitemapLoader\n",
        "url = \"https://www.psycopg.org/\"\n",
        "url_site_map = f\"{url}/sitemap.xml\"\n",
        "\n",
        "sitemap_loader = SitemapLoader(web_path=url_site_map)\n",
        "url_site_map"
      ],
      "metadata": {
        "colab": {
          "base_uri": "https://localhost:8080/",
          "height": 35
        },
        "id": "6xBdFD05Y4I2",
        "outputId": "bb2b3395-81e0-40bf-f90d-065cfff03615"
      },
      "execution_count": null,
      "outputs": [
        {
          "output_type": "execute_result",
          "data": {
            "text/plain": [
              "'https://www.psycopg.org//sitemap.xml'"
            ],
            "application/vnd.google.colaboratory.intrinsic+json": {
              "type": "string"
            }
          },
          "metadata": {},
          "execution_count": 14
        }
      ]
    },
    {
      "cell_type": "code",
      "source": [
        "try:\n",
        "    # Попытка загрузить документы\n",
        "    docs = sitemap_loader.load()\n",
        "except UnicodeDecodeError as e:\n",
        "    print(\"Произошла ошибка декодирования:\", e)"
      ],
      "metadata": {
        "colab": {
          "base_uri": "https://localhost:8080/"
        },
        "id": "BR0memy9dVNK",
        "outputId": "3eaede15-cd23-4b5a-9dd7-45bc36cdfb24"
      },
      "execution_count": null,
      "outputs": [
        {
          "output_type": "stream",
          "name": "stderr",
          "text": [
            "Fetching pages: 100%|##########| 64/64 [00:02<00:00, 27.32it/s]\n"
          ]
        }
      ]
    },
    {
      "cell_type": "code",
      "source": [
        "len(docs)"
      ],
      "metadata": {
        "colab": {
          "base_uri": "https://localhost:8080/"
        },
        "id": "4w_XNimqimqn",
        "outputId": "03db2915-5223-4f6d-efe2-c204e8b7b379"
      },
      "execution_count": null,
      "outputs": [
        {
          "output_type": "execute_result",
          "data": {
            "text/plain": [
              "64"
            ]
          },
          "metadata": {},
          "execution_count": 16
        }
      ]
    },
    {
      "cell_type": "code",
      "source": [
        "llm = ChatOpenAI(temperature=0, model=\"gpt-3.5-turbo-16k-0613\")"
      ],
      "metadata": {
        "id": "W2-Uh_EDro1c"
      },
      "execution_count": null,
      "outputs": []
    },
    {
      "cell_type": "code",
      "source": [
        "#  применяем create_extraction_chain для извлечения названия статьи и ее содержимого в формате строки\n",
        "schema = {\n",
        "    \"properties\": {\n",
        "        \"article_title\": {\"type\": \"string\"},\n",
        "        \"article_content\": {\"type\": \"string\"}\n",
        "    },\n",
        "    \"required\": [\"article_title\", \"article_content\"]\n",
        "}\n",
        "\n",
        "def extract(content: str, schema: dict):\n",
        "    return create_extraction_chain(schema=schema, llm=llm).run(content)"
      ],
      "metadata": {
        "id": "4nrREA2_kFj1"
      },
      "execution_count": null,
      "outputs": []
    },
    {
      "cell_type": "code",
      "source": [
        "docs[0]"
      ],
      "metadata": {
        "colab": {
          "base_uri": "https://localhost:8080/"
        },
        "id": "fN0bYMIAcK_I",
        "outputId": "95852a33-7d90-4346-8281-9597c8c45793"
      },
      "execution_count": null,
      "outputs": [
        {
          "output_type": "execute_result",
          "data": {
            "text/plain": [
              "Document(page_content='\\n\\n\\n\\n\\n\\n\\n\\n\\n\\n\\n\\n\\nPostgreSQL driver for Python — Psycopg\\n\\n\\n\\n\\n\\n\\npsycopg\\n\\n\\n\\n\\n\\n\\n\\n\\n\\nHome\\n\\n\\nFeatures\\n\\n\\nInstall\\n\\n\\nNews\\n\\n\\nRecipes\\n\\n\\npsycopg3\\n\\n\\nSponsors\\n\\n\\n\\n\\n\\n\\n\\n\\n\\nPsycopg is the most popular PostgreSQL adapter for the Python programming\\nlanguage. Its core is a complete implementation of the Python DB API 2.0\\nspecifications. Several extensions allow access to many of the features offered\\nby PostgreSQL.\\n\\n\\n\\n    If you use Python and PostgreSQL, and you would like to support the\\n    creation of the most advanced adapter between the two systems,\\n    please consider becoming a sponsor.\\n  \\n\\n  Sponsoring this project will help achieve swift completion and\\n  ensure the maintenance of psycopg2, psycopg3 and other related\\n  projects.\\n  \\nIf you are interested in contributing to the maintenance of the project, please reach out. Thank you!\\n  \\n\\n\\n\\n\\nPsycopg is released under the terms of the GNU Lesser General Public\\nLicense, allowing use from both free and proprietary software.\\n\\nCheck the features list and comparison to see what Psycopg offers.\\nRead the Psycopg 2 or Psycopg 3 documentation.\\nInstall Psycopg!\\n\\nFor help requests and development discussions please subscribe to the mailing\\nlist psycopg@postgresql.org.\\n\\nLatest articles\\n\\nPsycopg 3.1 released\\n\\n    Posted by Daniele Varrazzo on 2022-08-30\\n    \\n      \\n      Tagged as\\n      news,\\n      release\\n\\nHello,\\nAfter several months of development, we are proud to release Psycopg 3.1!\\nPsycopg 3.1 is a gradual improvement on Psycopg 3.0, introducing new exciting\\nfeatures, redefining what can be done on the boundary between Python and\\nPostgreSQL.\\nRead more...\\n\\n\\nPsycopg 3.0 released\\n\\n    Posted by Daniele Varrazzo on 2021-10-13\\n    \\n      \\n      Tagged as\\n      news,\\n      release\\n\\nHello,\\nI am extremely excited to announce the first stable release of Psycopg 3!\\nRead more...\\n\\n\\nPsycopg 3.0 beta 1 released!\\n\\n    Posted by Daniele Varrazzo on 2021-08-30\\n    \\n      \\n      Tagged as\\n      news,\\n      release\\n\\nWe are immensely proud to release on PyPI the first beta package of Psycopg\\n3!\\nRead more...\\n\\nSee all articles...\\n\\n\\n\\n\\nPsycopg 3\\n\\n\\n\\n\\n        The Project\\n\\n\\n\\n\\n        Documentation\\n\\n\\n\\n\\n        Source code\\n\\n\\n\\n\\n        Bug tracker\\n\\n\\n\\n\\nPsycopg 2\\n\\n\\n\\n\\n        Documentation\\n\\n\\n\\n\\n        Source code\\n\\n\\n\\n\\n        Bug tracker\\n\\n\\n\\n\\nMailing List\\n\\n\\n\\n\\n        Subscribe\\n\\n\\n\\n\\n        Archives\\n\\n\\n\\n\\nTweets by psycopg\\n\\n\\n\\n\\nMastodon\\n\\n\\n\\n© Copyright 2010—2023 by Daniele Varrazzo (at gmail), The Psycopg Team.\\n\\n\\n\\n\\n\\n\\n\\n', metadata={'source': 'https://www.psycopg.org/', 'loc': 'https://www.psycopg.org/'})"
            ]
          },
          "metadata": {},
          "execution_count": 19
        }
      ]
    },
    {
      "cell_type": "code",
      "source": [
        "x = -1\n",
        "extracted_data_all = []\n",
        "err = []\n",
        "\n",
        "# Обработчик ошибок\n",
        "for i, doc in enumerate(docs):\n",
        "    if i > x:\n",
        "      content = doc.page_content\n",
        "\n",
        "      try:\n",
        "        extracted_content = extract(content=content, schema=schema)\n",
        "        extracted_data_all.append(extracted_content)\n",
        "        j = i\n",
        "        print('Обработана страница', i)\n",
        "      except:\n",
        "        print('Ошибка обработки страницы', i)\n",
        "        err.append(i)"
      ],
      "metadata": {
        "id": "QfUQMn5gAGlz",
        "colab": {
          "base_uri": "https://localhost:8080/"
        },
        "outputId": "260e951f-cac9-4601-d4da-3b15401db066"
      },
      "execution_count": null,
      "outputs": [
        {
          "output_type": "stream",
          "name": "stdout",
          "text": [
            "Обработана страница 0\n",
            "Обработана страница 1\n",
            "Обработана страница 2\n",
            "Обработана страница 3\n",
            "Обработана страница 4\n",
            "Обработана страница 5\n",
            "Обработана страница 6\n",
            "Обработана страница 7\n",
            "Обработана страница 8\n",
            "Обработана страница 9\n",
            "Обработана страница 10\n",
            "Обработана страница 11\n",
            "Обработана страница 12\n",
            "Обработана страница 13\n",
            "Обработана страница 14\n",
            "Обработана страница 15\n",
            "Обработана страница 16\n",
            "Обработана страница 17\n",
            "Обработана страница 18\n",
            "Обработана страница 19\n",
            "Обработана страница 20\n",
            "Обработана страница 21\n",
            "Обработана страница 22\n",
            "Обработана страница 23\n",
            "Обработана страница 24\n",
            "Обработана страница 25\n",
            "Обработана страница 26\n",
            "Обработана страница 27\n",
            "Обработана страница 28\n",
            "Обработана страница 29\n",
            "Обработана страница 30\n",
            "Обработана страница 31\n",
            "Обработана страница 32\n",
            "Обработана страница 33\n",
            "Обработана страница 34\n",
            "Обработана страница 35\n",
            "Обработана страница 36\n",
            "Обработана страница 37\n",
            "Обработана страница 38\n",
            "Обработана страница 39\n",
            "Обработана страница 40\n",
            "Обработана страница 41\n",
            "Обработана страница 42\n",
            "Обработана страница 43\n",
            "Обработана страница 44\n",
            "Обработана страница 45\n",
            "Обработана страница 46\n",
            "Обработана страница 47\n",
            "Обработана страница 48\n",
            "Обработана страница 49\n",
            "Обработана страница 50\n",
            "Обработана страница 51\n",
            "Обработана страница 52\n",
            "Обработана страница 53\n",
            "Обработана страница 54\n",
            "Обработана страница 55\n",
            "Обработана страница 56\n",
            "Обработана страница 57\n",
            "Обработана страница 58\n",
            "Обработана страница 59\n",
            "Обработана страница 60\n",
            "Обработана страница 61\n",
            "Обработана страница 62\n",
            "Обработана страница 63\n"
          ]
        }
      ]
    },
    {
      "cell_type": "code",
      "source": [
        "extracted_data_all[0]"
      ],
      "metadata": {
        "colab": {
          "base_uri": "https://localhost:8080/"
        },
        "id": "jcPbB60vsQzy",
        "outputId": "ef16d5f6-9746-4185-d277-fcb1b0800fb4"
      },
      "execution_count": null,
      "outputs": [
        {
          "output_type": "execute_result",
          "data": {
            "text/plain": [
              "{'article_title': 'PostgreSQL driver for Python — Psycopg',\n",
              " 'article_content': 'Psycopg is the most popular PostgreSQL adapter for the Python programming language. Its core is a complete implementation of the Python DB API 2.0 specifications. Several extensions allow access to many of the features offered by PostgreSQL. Psycopg is released under the terms of the GNU Lesser General Public License, allowing use from both free and proprietary software.'}"
            ]
          },
          "metadata": {},
          "execution_count": 55
        }
      ]
    },
    {
      "cell_type": "code",
      "source": [
        "import pickle\n",
        "from pathlib import Path\n",
        "\n",
        "# Проверяем, пуст ли список\n",
        "if not extracted_data_all:\n",
        "    print(\"Список 'extracted_data_all' пуст.\")\n",
        "else:\n",
        "    file_path = Path(\"/content/extracted_data_all.pkl\")\n",
        "\n",
        "    # Сериализуем и сохраняем список в файл\n",
        "    with open(file_path, \"wb\") as f:\n",
        "        pickle.dump(extracted_data_all, f)\n",
        "    print(f\"Файл сохранен под именем: {file_path}\")"
      ],
      "metadata": {
        "colab": {
          "base_uri": "https://localhost:8080/"
        },
        "id": "ENT2reiJOOM8",
        "outputId": "97f18d73-1f65-48bc-c53c-064027fd5757"
      },
      "execution_count": null,
      "outputs": [
        {
          "output_type": "stream",
          "name": "stdout",
          "text": [
            "Файл сохранен под именем: /content/extracted_data_all.pkl\n"
          ]
        }
      ]
    },
    {
      "cell_type": "code",
      "source": [
        "# Создаем список Langchain documents\n",
        "documents = []\n",
        "\n",
        "# Итерируемся по каждому элементу в списке extracted_data_all\n",
        "for i, element in enumerate(extracted_data_all):\n",
        "    # Если элемент является списком, проверяем, содержит ли он словари и извлекаем словарь\n",
        "    if isinstance(element, list) and len(element) == 1 and isinstance(element[0], dict):\n",
        "        dictionary = element[0]\n",
        "    elif isinstance(element, dict):  # Если элемент сам по себе является словарем, работаем с ним напрямую\n",
        "        dictionary = element\n",
        "    else:  # Если элемент не является ни списком с одним словарем, ни словарем, выводим ошибку\n",
        "        print(f\"Элемент под индексом {i} не обработан, так как не является ни списком с одним словарем, ни словарем.\")\n",
        "        continue  # Продолжаем с следующим элементом\n",
        "\n",
        "    # Проверяем, содержит ли словарь необходимые ключи\n",
        "    if 'article_title' in dictionary and 'article_content' in dictionary:\n",
        "        page_content = dictionary['article_title'] + '\\n' + dictionary['article_content']\n",
        "        metadata = {'article_title': dictionary['article_title']}\n",
        "        document = Document(page_content=page_content, metadata=metadata)\n",
        "        documents.append(document)\n",
        "    else:\n",
        "        print(f\"Словарь под индексом {i} не содержит необходимых ключей.\")\n"
      ],
      "metadata": {
        "id": "_LyufY7nSLN2"
      },
      "execution_count": null,
      "outputs": []
    },
    {
      "cell_type": "code",
      "source": [
        "documents[:2]"
      ],
      "metadata": {
        "colab": {
          "base_uri": "https://localhost:8080/"
        },
        "id": "LWfLluNBSLRM",
        "outputId": "d54e356c-7cd0-495a-ea7f-6e207342b054"
      },
      "execution_count": null,
      "outputs": [
        {
          "output_type": "execute_result",
          "data": {
            "text/plain": [
              "[Document(page_content='PostgreSQL driver for Python — Psycopg\\nPsycopg is the most popular PostgreSQL adapter for the Python programming language. Its core is a complete implementation of the Python DB API 2.0 specifications. Several extensions allow access to many of the features offered by PostgreSQL. Psycopg is released under the terms of the GNU Lesser General Public License, allowing use from both free and proprietary software.', metadata={'article_title': 'PostgreSQL driver for Python — Psycopg'}),\n",
              " Document(page_content='Latest articles — Psycopg\\nPsycopg 3.1 released\\n\\nPosted by Daniele Varrazzo on 2022-08-30\\n\\n\\nTagged as\\nnews,\\nrelease\\n\\nHello,\\nAfter several months of development, we are proud to release Psycopg 3.1!\\nPsycopg 3.1 is a gradual improvement on Psycopg 3.0, introducing new exciting\\nfeatures, redefining what can be done on the boundary between Python and\\nPostgreSQL.\\nRead more...\\n\\n\\nPsycopg 3.0 released\\n\\nPosted by Daniele Varrazzo on 2021-10-13\\n\\n\\nTagged as\\nnews,\\nrelease\\n\\nHello,\\nI am extremely excited to announce the first stable release of Psycopg 3!\\nRead more...\\n\\n\\nPsycopg 3.0 beta 1 released!\\n\\nPosted by Daniele Varrazzo on 2021-08-30\\n\\n\\nTagged as\\nnews,\\nrelease\\n\\nWe are immensely proud to release on PyPI the first beta package of Psycopg\\n3!\\nRead more...\\n\\n\\nBuilding a Django driver for Psycopg 3\\n\\nPosted by Daniele Varrazzo on 2021-08-02\\n\\n\\nTagged as\\npsycopg3,\\ndevelopment,\\nrecipe\\n\\nOne of the goals of the Psycopg 3 project is to make easy to port code\\ndeveloped from Psycopg 2. For this reason the creation of a Django backend\\n(the module you specify in the settings as your database ENGINE) was\\na project with a double goal:\\n\\nA Django driver is a way to make Psycopg 3 useful from the start, with the\\npossibility of dropping it in a project transparently and have available,\\nwhen needed the new features offered (for instance the superior COPY\\nsupport).\\nThe difficulty of introducing Psycopg 3 in the Django codebase and the type\\nof changes required are indicative of the type of problems that could be\\nfound porting other projects.\\n\\n...and it\\'s done! A few days ago, the new Psycopg 3 Django backend could\\npass the entire Django test suite!\\nRead more...\\n\\n\\nPsycopg 2.9 released\\n\\nPosted by Daniele Varrazzo on 2021-06-16\\n\\n\\nTagged as\\nnews,\\nrelease\\n\\nPsycopg 2.9 has been released!\\nThis is a relatively small release compared to previous major releases.\\nHowever the creation of the packages took a lot of effort. The previously used\\nCI system now has reduced support for free software projects - it was decided\\nthat package building should be moved to GitHub Actions.\\nPackaging has also become more complex because of the evolution of the Python\\npackaging standards and the need to support multiple architectures (Intel,\\nARM, PPC...).\\nMaintaining a project such as Psycopg requires a lot of effort. For this\\nreason, we are extremely grateful to all our sponsors who are enabling the\\nmaintenance and development of Psycopg. Thank you very much! \\nRead more...\\n\\n\\nDesigning a connection pool for psycopg3\\n\\nPosted by Daniele Varrazzo on 2021-01-17\\n\\n\\nTagged as\\npsycopg3,\\ndevelopment\\n\\nThe psycopg2 pool is a pretty simple object, little more than... a pool of\\nopen connections, and I think it falls short in several ways:\\n\\nthe top usability problem is the fact that it cannot be used as context\\nmanager;\\nif a connection is broken it is not noticed it until it is used by a client;\\nif minconn connections are already taken, a new one is created and\\ndisposed of as soon as finished using, regardless of whether other clients\\nmay need it;\\nif more than maxconn connections are requested the client will receive\\nan error.\\n\\nFor psycopg3 I would like something better. I have read around, looking\\ninto other pool implementations to figure out what a well designed connection\\npool ought to do (a very well thought one seems the Java HikariCP) and\\nthese are a few ideas I\\'d like to work on: they are here for a feedback,\\nbefore I jump into enthusiastically implementing the wrong thing...\\nRead more...\\n\\n\\nThe psycopg3 adaptation system\\n\\nPosted by Daniele Varrazzo on 2020-11-24\\n\\n\\nTagged as\\npsycopg3,\\ndevelopment,\\nnews\\n\\nThe adaptation system between Python objects and PostgreSQL types is at the\\ncore of psycopg2 and psycopg3. The flexibility of the psycopg2\\nadaptation system provides good out-of-the-box object mapping and allows\\nusers to customise it to suit any need. Do you want your decimal\\nnumbers returned as float because you need speed over pennies? Do you want\\nto map PostgreSQL Infinity dates to the 25th of December 3099? That\\'s\\ncertainly doable.\\n\\n\\nThe psycopg3 adaptation system needs some modification compared to\\npsycopg2, because psycopg3 uses the \"extended query protocol\" to send\\nquery parameters separately from the query. Together, with the differences to\\naccommodate, there is also a chance to improve a system that has been in use\\nfor several years and has shown its shortcomings together with its strengths.\\nRead more...\\n\\n\\nThe new COPY support in psycopg3\\n\\nPosted by Daniele Varrazzo on 2020-11-15\\n\\n\\nTagged as\\npsycopg3,\\ndevelopment,\\nnews\\n\\npsycopg2 allows interaction with PostgreSQL COPY commands. However\\nwhat is possible to do with them is relatively limited: the only possible\\ninteraction is with file-like objects:\\n\\nthere is no adaptation from Python objects to PostgreSQL, as there is for\\nnormal queries: data must be formatted \"manually\" by the user;\\npsycopg2 \"pulls\" data from the file: writing a system that produces data and\\npushes it into PostgreSQL is a very contrived operation, requiring to write\\na blocking file-like object;\\nthere is no support for asynchronous copy.\\n\\npsycopg3 addresses these shortcomings and makes it easy to write Python\\nprograms producing data and pushing it efficiently to the database using the\\nCOPY protocol.\\nRead more...\\n\\n\\nPsycopg 2.8.6 released\\n\\nPosted by Daniele Varrazzo on 2020-09-06\\n\\n\\nTagged as\\nnews,\\nrelease\\n\\nPsycopg 2.8.6 has been released.\\nRead more...\\n\\n\\nPsycopg 2.8.5 released\\n\\nPosted by Daniele Varrazzo on 2020-04-06\\n\\n\\nTagged as\\nnews,\\nrelease\\n\\nPsycopg 2.8.5 has been released.\\nThis release adds support for AIX and brings a few bug fixes.\\nRead more...', metadata={'article_title': 'Latest articles — Psycopg'})]"
            ]
          },
          "metadata": {},
          "execution_count": 44
        }
      ]
    },
    {
      "cell_type": "code",
      "source": [
        "def num_tokens_from_string(string: str, encoding_name: str) -> int:\n",
        "      \"\"\"Возвращает количество токенов в строке\"\"\"\n",
        "      encoding = tiktoken.get_encoding(encoding_name)\n",
        "      num_tokens = len(encoding.encode(string))\n",
        "      return num_tokens\n",
        "\n",
        "# Подсчет токенов для каждого фрагмента и построение графика\n",
        "fragment_token_counts = [num_tokens_from_string(fragment.page_content, \"cl100k_base\") for fragment in documents]\n",
        "plt.hist(fragment_token_counts, bins=50, alpha=0.5, label='Fragments')\n",
        "plt.title('Распределение длин чанков в токенах')\n",
        "plt.xlabel('Token Count')\n",
        "plt.ylabel('Frequency')\n",
        "plt.show()"
      ],
      "metadata": {
        "id": "qq8XFUZcsQ8k",
        "colab": {
          "base_uri": "https://localhost:8080/",
          "height": 472
        },
        "outputId": "54e30dd9-1cf9-4b3b-d95e-0a07fdeb92cb"
      },
      "execution_count": null,
      "outputs": [
        {
          "output_type": "display_data",
          "data": {
            "text/plain": [
              "<Figure size 640x480 with 1 Axes>"
            ],
            "image/png": "[encoded data removed]"
          },
          "metadata": {}
        }
      ]
    },
    {
      "cell_type": "code",
      "source": [
        "# Создаем пустой список для хранения фрагментов\n",
        "docs_final = []\n",
        "\n",
        "# Пороговое значение для количества токенов\n",
        "threshold = 2000\n",
        "\n",
        "# Перебираем каждый фрагмент\n",
        "for fragment in documents:\n",
        "    num_tokens = num_tokens_from_string(fragment.page_content, \"cl100k_base\")\n",
        "\n",
        "    # Сохраняем название статьи из метаданных\n",
        "    article_title = fragment.metadata['article_title']\n",
        "\n",
        "    # Если фрагмент превышает пороговое значение, разбиваем его\n",
        "    if num_tokens > threshold:\n",
        "        text_splitter = RecursiveCharacterTextSplitter(chunk_size=2000)\n",
        "        text_parts = text_splitter.split_text(fragment.page_content)\n",
        "\n",
        "        for i, text_part in enumerate(text_parts):\n",
        "            # Добавляем название статьи только ко второй и последующим частям, так как в первой он уже содержится\n",
        "            if i == 0:\n",
        "                docs_final.append(Document(\n",
        "                    page_content=text_part,\n",
        "                    metadata={'article_title': article_title}\n",
        "                ))\n",
        "            else:\n",
        "                docs_final.append(Document(\n",
        "                    page_content=article_title + '\\n' + text_part,\n",
        "                    metadata={'article_title': article_title}\n",
        "                ))\n",
        "    else:\n",
        "        # Если фрагмент не превышает порог, добавляем его как есть\n",
        "        docs_final.append(fragment)"
      ],
      "metadata": {
        "id": "QDMtvVaWsm9M"
      },
      "execution_count": null,
      "outputs": []
    },
    {
      "cell_type": "code",
      "source": [
        "# всего получилось чанков:\n",
        "len(docs_final)"
      ],
      "metadata": {
        "id": "M8kcIMD4s6Im",
        "colab": {
          "base_uri": "https://localhost:8080/"
        },
        "outputId": "32be511a-6c25-4e35-f952-106c3f758035"
      },
      "execution_count": null,
      "outputs": [
        {
          "output_type": "execute_result",
          "data": {
            "text/plain": [
              "78"
            ]
          },
          "metadata": {},
          "execution_count": 47
        }
      ]
    },
    {
      "cell_type": "code",
      "source": [
        "docs_final[:2]"
      ],
      "metadata": {
        "id": "tXnEJxGgs7BP",
        "colab": {
          "base_uri": "https://localhost:8080/"
        },
        "outputId": "9dd3068e-e0df-47ac-f778-3bd04195fb8f"
      },
      "execution_count": null,
      "outputs": [
        {
          "output_type": "execute_result",
          "data": {
            "text/plain": [
              "[Document(page_content='PostgreSQL driver for Python — Psycopg\\nPsycopg is the most popular PostgreSQL adapter for the Python programming language. Its core is a complete implementation of the Python DB API 2.0 specifications. Several extensions allow access to many of the features offered by PostgreSQL. Psycopg is released under the terms of the GNU Lesser General Public License, allowing use from both free and proprietary software.', metadata={'article_title': 'PostgreSQL driver for Python — Psycopg'}),\n",
              " Document(page_content='Latest articles — Psycopg\\nPsycopg 3.1 released\\n\\nPosted by Daniele Varrazzo on 2022-08-30\\n\\n\\nTagged as\\nnews,\\nrelease\\n\\nHello,\\nAfter several months of development, we are proud to release Psycopg 3.1!\\nPsycopg 3.1 is a gradual improvement on Psycopg 3.0, introducing new exciting\\nfeatures, redefining what can be done on the boundary between Python and\\nPostgreSQL.\\nRead more...\\n\\n\\nPsycopg 3.0 released\\n\\nPosted by Daniele Varrazzo on 2021-10-13\\n\\n\\nTagged as\\nnews,\\nrelease\\n\\nHello,\\nI am extremely excited to announce the first stable release of Psycopg 3!\\nRead more...\\n\\n\\nPsycopg 3.0 beta 1 released!\\n\\nPosted by Daniele Varrazzo on 2021-08-30\\n\\n\\nTagged as\\nnews,\\nrelease\\n\\nWe are immensely proud to release on PyPI the first beta package of Psycopg\\n3!\\nRead more...\\n\\n\\nBuilding a Django driver for Psycopg 3\\n\\nPosted by Daniele Varrazzo on 2021-08-02\\n\\n\\nTagged as\\npsycopg3,\\ndevelopment,\\nrecipe\\n\\nOne of the goals of the Psycopg 3 project is to make easy to port code\\ndeveloped from Psycopg 2. For this reason the creation of a Django backend\\n(the module you specify in the settings as your database ENGINE) was\\na project with a double goal:\\n\\nA Django driver is a way to make Psycopg 3 useful from the start, with the\\npossibility of dropping it in a project transparently and have available,\\nwhen needed the new features offered (for instance the superior COPY\\nsupport).\\nThe difficulty of introducing Psycopg 3 in the Django codebase and the type\\nof changes required are indicative of the type of problems that could be\\nfound porting other projects.\\n\\n...and it\\'s done! A few days ago, the new Psycopg 3 Django backend could\\npass the entire Django test suite!\\nRead more...\\n\\n\\nPsycopg 2.9 released\\n\\nPosted by Daniele Varrazzo on 2021-06-16\\n\\n\\nTagged as\\nnews,\\nrelease\\n\\nPsycopg 2.9 has been released!\\nThis is a relatively small release compared to previous major releases.\\nHowever the creation of the packages took a lot of effort. The previously used\\nCI system now has reduced support for free software projects - it was decided\\nthat package building should be moved to GitHub Actions.\\nPackaging has also become more complex because of the evolution of the Python\\npackaging standards and the need to support multiple architectures (Intel,\\nARM, PPC...).\\nMaintaining a project such as Psycopg requires a lot of effort. For this\\nreason, we are extremely grateful to all our sponsors who are enabling the\\nmaintenance and development of Psycopg. Thank you very much! \\nRead more...\\n\\n\\nDesigning a connection pool for psycopg3\\n\\nPosted by Daniele Varrazzo on 2021-01-17\\n\\n\\nTagged as\\npsycopg3,\\ndevelopment\\n\\nThe psycopg2 pool is a pretty simple object, little more than... a pool of\\nopen connections, and I think it falls short in several ways:\\n\\nthe top usability problem is the fact that it cannot be used as context\\nmanager;\\nif a connection is broken it is not noticed it until it is used by a client;\\nif minconn connections are already taken, a new one is created and\\ndisposed of as soon as finished using, regardless of whether other clients\\nmay need it;\\nif more than maxconn connections are requested the client will receive\\nan error.\\n\\nFor psycopg3 I would like something better. I have read around, looking\\ninto other pool implementations to figure out what a well designed connection\\npool ought to do (a very well thought one seems the Java HikariCP) and\\nthese are a few ideas I\\'d like to work on: they are here for a feedback,\\nbefore I jump into enthusiastically implementing the wrong thing...\\nRead more...\\n\\n\\nThe psycopg3 adaptation system\\n\\nPosted by Daniele Varrazzo on 2020-11-24\\n\\n\\nTagged as\\npsycopg3,\\ndevelopment,\\nnews\\n\\nThe adaptation system between Python objects and PostgreSQL types is at the\\ncore of psycopg2 and psycopg3. The flexibility of the psycopg2\\nadaptation system provides good out-of-the-box object mapping and allows\\nusers to customise it to suit any need. Do you want your decimal\\nnumbers returned as float because you need speed over pennies? Do you want\\nto map PostgreSQL Infinity dates to the 25th of December 3099? That\\'s\\ncertainly doable.\\n\\n\\nThe psycopg3 adaptation system needs some modification compared to\\npsycopg2, because psycopg3 uses the \"extended query protocol\" to send\\nquery parameters separately from the query. Together, with the differences to\\naccommodate, there is also a chance to improve a system that has been in use\\nfor several years and has shown its shortcomings together with its strengths.\\nRead more...\\n\\n\\nThe new COPY support in psycopg3\\n\\nPosted by Daniele Varrazzo on 2020-11-15\\n\\n\\nTagged as\\npsycopg3,\\ndevelopment,\\nnews\\n\\npsycopg2 allows interaction with PostgreSQL COPY commands. However\\nwhat is possible to do with them is relatively limited: the only possible\\ninteraction is with file-like objects:\\n\\nthere is no adaptation from Python objects to PostgreSQL, as there is for\\nnormal queries: data must be formatted \"manually\" by the user;\\npsycopg2 \"pulls\" data from the file: writing a system that produces data and\\npushes it into PostgreSQL is a very contrived operation, requiring to write\\na blocking file-like object;\\nthere is no support for asynchronous copy.\\n\\npsycopg3 addresses these shortcomings and makes it easy to write Python\\nprograms producing data and pushing it efficiently to the database using the\\nCOPY protocol.\\nRead more...\\n\\n\\nPsycopg 2.8.6 released\\n\\nPosted by Daniele Varrazzo on 2020-09-06\\n\\n\\nTagged as\\nnews,\\nrelease\\n\\nPsycopg 2.8.6 has been released.\\nRead more...\\n\\n\\nPsycopg 2.8.5 released\\n\\nPosted by Daniele Varrazzo on 2020-04-06\\n\\n\\nTagged as\\nnews,\\nrelease\\n\\nPsycopg 2.8.5 has been released.\\nThis release adds support for AIX and brings a few bug fixes.\\nRead more...', metadata={'article_title': 'Latest articles — Psycopg'})]"
            ]
          },
          "metadata": {},
          "execution_count": 48
        }
      ]
    },
    {
      "cell_type": "code",
      "source": [
        "# Проверяем, что больше нет чанков, превышающих 2000 токенов\n",
        "def num_tokens_from_string_2(string: str, encoding_name: str) -> int:\n",
        "      \"\"\"Возвращает количество токенов в строке\"\"\"\n",
        "      encoding = tiktoken.get_encoding(encoding_name)\n",
        "      num_tokens = len(encoding.encode(string))\n",
        "      return num_tokens\n",
        "\n",
        "# Подсчет токенов для каждого фрагмента и построение графика\n",
        "fragment_token_counts = [num_tokens_from_string_2(fragment.page_content, \"cl100k_base\") for fragment in docs_final]\n",
        "plt.hist(fragment_token_counts, bins=50, alpha=0.5, label='Fragments')\n",
        "plt.title('Распределение длин чанков в токенах')\n",
        "plt.xlabel('Token Count')\n",
        "plt.ylabel('Frequency')\n",
        "plt.show()"
      ],
      "metadata": {
        "id": "_4IYO1zys8jo",
        "colab": {
          "base_uri": "https://localhost:8080/",
          "height": 472
        },
        "outputId": "19d1643a-2b3a-406f-cfdb-3845e51cb049"
      },
      "execution_count": null,
      "outputs": [
        {
          "output_type": "display_data",
          "data": {
            "text/plain": [
              "<Figure size 640x480 with 1 Axes>"
            ],
            "image/png": "[encoded data removed]"
          },
          "metadata": {}
        }
      ]
    },
    {
      "cell_type": "code",
      "source": [
        "# Инициализирум модель эмбеддингов\n",
        "embeddings = OpenAIEmbeddings()\n",
        "\n",
        "# Создадим индексную базу из разделенных фрагментов текста\n",
        "db = FAISS.from_documents(docs_final, embeddings)"
      ],
      "metadata": {
        "id": "0i_BGzjas8mM"
      },
      "execution_count": null,
      "outputs": []
    },
    {
      "cell_type": "code",
      "source": [
        "# Функция для загрузки документа по ссылке из Google Drive\n",
        "def load_document_text(url: str) -> str:\n",
        "    # Извлекаем идентификатор документа из URL\n",
        "    match_ = re.search('/document/d/([a-zA-Z0-9-_]+)', url)\n",
        "    if match_ is None:\n",
        "        raise ValueError('Invalid Google Docs URL')\n",
        "    doc_id = match_.group(1)\n",
        "\n",
        "    # Загружаем документ в виде обычного текста\n",
        "    response = requests.get(f'https://docs.google.com/document/d/{doc_id}/export?format=txt')\n",
        "    response.raise_for_status()\n",
        "    text = response.text\n",
        "\n",
        "    return text"
      ],
      "metadata": {
        "id": "2kRWvn__s8oh"
      },
      "execution_count": null,
      "outputs": []
    },
    {
      "cell_type": "code",
      "source": [
        "system=load_document_text(\"https://docs.google.com/document/d/1PPVzFV4qu_-CouF0gLr4H73_A0-WPylRIskrfdUDm_E/edit?usp=sharing\")"
      ],
      "metadata": {
        "id": "U9qOCrRqtHrF"
      },
      "execution_count": null,
      "outputs": []
    },
    {
      "cell_type": "code",
      "source": [
        "def answer_index(system, topic, search_index, temp=0, verbose=0) -> str:\n",
        "    \"\"\"Функция возвращает ответ модели на основе заданной темы.\"\"\"\n",
        "    # находим наиболее релевантные вопросу пользователя чанки:\n",
        "    docs = search_index.similarity_search(topic, k=3)\n",
        "    message_content = re.sub(r'\\n{2}', ' ', '\\n '.join([f'\\nОтрывок документа №{i+1}\\n=====================' + doc.page_content + '\\n' for i, doc in enumerate(docs)]))\n",
        "\n",
        "    # если параметр verbose=1, то выводим релевантные чанки\n",
        "    if verbose:\n",
        "        print('message_content :\\n', message_content)\n",
        "\n",
        "    messages = [\n",
        "        {\"role\": \"system\", \"content\": system},\n",
        "        # в user промпт тоже пишем на английском - для экономии токенов\n",
        "        {\"role\": \"user\", \"content\": f\"Answer the user's question. Document with information for the user's answer: {message_content}\\n\\n User's question: \\n{topic}\"}\n",
        "    ]\n",
        "\n",
        "    completion = openai.ChatCompletion.create(\n",
        "        model=\"gpt-3.5-turbo\",\n",
        "        messages=messages,\n",
        "        temperature=temp\n",
        "    )\n",
        "\n",
        "    return completion.choices[0].message.content"
      ],
      "metadata": {
        "id": "CyYrFCqptSz4"
      },
      "execution_count": null,
      "outputs": []
    },
    {
      "cell_type": "code",
      "source": [
        "topic=\"Что такое psycopg?\"                                                                          # укажите необходимое значение\n",
        "ans=answer_index(system, topic, db, temp=0, verbose=0)\n",
        "ans"
      ],
      "metadata": {
        "id": "GgDlQfHAtS28",
        "colab": {
          "base_uri": "https://localhost:8080/",
          "height": 87
        },
        "outputId": "d773ba1a-7967-4bd1-950d-dc06817b6672"
      },
      "execution_count": null,
      "outputs": [
        {
          "output_type": "execute_result",
          "data": {
            "text/plain": [
              "'Psycopg - это самый популярный адаптер PostgreSQL для языка программирования Python. Он представляет собой обертку над библиотекой libpq, официальной клиентской библиотекой PostgreSQL. Psycopg полностью соответствует спецификациям Python DB API 2.0 и предоставляет доступ к многим возможностям, предлагаемым PostgreSQL. Psycopg выпущен под лицензией GNU Lesser General Public License, что позволяет использовать его как в свободном, так и в проприетарном программном обеспечении.'"
            ],
            "application/vnd.google.colaboratory.intrinsic+json": {
              "type": "string"
            }
          },
          "metadata": {},
          "execution_count": 61
        }
      ]
    }
  ]
}