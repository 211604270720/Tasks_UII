{
  "nbformat": 4,
  "nbformat_minor": 0,
  "metadata": {
    "colab": {
      "provenance": []
    },
    "kernelspec": {
      "name": "python3",
      "display_name": "Python 3"
    },
    "language_info": {
      "name": "python"
    }
  },
  "cells": [
    {
      "cell_type": "markdown",
      "source": [
        "На основе ДИСЦИПЛИНАРНОГО РЕГЛАМЕНТА Российского футбольного союза (РФС) сделайте нейро-ассистента для ответов на вопросы по содержанию документа. Обратите внимание на разметку текста, используйте подходящий способ разделения на чанки. Выведите гистограммы распределения длин чанков. Получите ответы нейро-консультанта на представленной БЗ. Документ для БЗ можно получить по ссылке: \"https://docs.google.com/document/d/1PGw2Y4PSJ2S7vfPlge9j6G_x0zX6jX4UEIitfwlP-c0/edit?usp=sharing\""
      ],
      "metadata": {
        "id": "YN_tCxkWVvqk"
      }
    },
    {
      "cell_type": "code",
      "execution_count": null,
      "metadata": {
        "id": "t26yj2vEQ6dW",
        "colab": {
          "base_uri": "https://localhost:8080/"
        },
        "outputId": "067d4f86-44fa-4546-d741-6ba8ab3dc4c7"
      },
      "outputs": [
        {
          "output_type": "stream",
          "name": "stdout",
          "text": [
            "Collecting faiss-cpu\n",
            "  Downloading faiss_cpu-1.7.4-cp310-cp310-manylinux_2_17_x86_64.manylinux2014_x86_64.whl (17.6 MB)\n",
            "\u001b[2K     \u001b[90m━━━━━━━━━━━━━━━━━━━━━━━━━━━━━━━━━━━━━━━━\u001b[0m \u001b[32m17.6/17.6 MB\u001b[0m \u001b[31m62.7 MB/s\u001b[0m eta \u001b[36m0:00:00\u001b[0m\n",
            "\u001b[?25hCollecting langchain==0.0.271\n",
            "  Downloading langchain-0.0.271-py3-none-any.whl (1.5 MB)\n",
            "\u001b[2K     \u001b[90m━━━━━━━━━━━━━━━━━━━━━━━━━━━━━━━━━━━━━━━━\u001b[0m \u001b[32m1.5/1.5 MB\u001b[0m \u001b[31m52.3 MB/s\u001b[0m eta \u001b[36m0:00:00\u001b[0m\n",
            "\u001b[?25hCollecting openai\n",
            "  Downloading openai-0.28.1-py3-none-any.whl (76 kB)\n",
            "\u001b[2K     \u001b[90m━━━━━━━━━━━━━━━━━━━━━━━━━━━━━━━━━━━━━━━━\u001b[0m \u001b[32m77.0/77.0 kB\u001b[0m \u001b[31m9.6 MB/s\u001b[0m eta \u001b[36m0:00:00\u001b[0m\n",
            "\u001b[?25hCollecting tiktoken==0.4.0\n",
            "  Downloading tiktoken-0.4.0-cp310-cp310-manylinux_2_17_x86_64.manylinux2014_x86_64.whl (1.7 MB)\n",
            "\u001b[2K     \u001b[90m━━━━━━━━━━━━━━━━━━━━━━━━━━━━━━━━━━━━━━━━\u001b[0m \u001b[32m1.7/1.7 MB\u001b[0m \u001b[31m80.8 MB/s\u001b[0m eta \u001b[36m0:00:00\u001b[0m\n",
            "\u001b[?25hRequirement already satisfied: PyYAML>=5.3 in /usr/local/lib/python3.10/dist-packages (from langchain==0.0.271) (6.0.1)\n",
            "Requirement already satisfied: SQLAlchemy<3,>=1.4 in /usr/local/lib/python3.10/dist-packages (from langchain==0.0.271) (2.0.22)\n",
            "Requirement already satisfied: aiohttp<4.0.0,>=3.8.3 in /usr/local/lib/python3.10/dist-packages (from langchain==0.0.271) (3.8.6)\n",
            "Requirement already satisfied: async-timeout<5.0.0,>=4.0.0 in /usr/local/lib/python3.10/dist-packages (from langchain==0.0.271) (4.0.3)\n",
            "Collecting dataclasses-json<0.6.0,>=0.5.7 (from langchain==0.0.271)\n",
            "  Downloading dataclasses_json-0.5.14-py3-none-any.whl (26 kB)\n",
            "Collecting langsmith<0.1.0,>=0.0.21 (from langchain==0.0.271)\n",
            "  Downloading langsmith-0.0.52-py3-none-any.whl (43 kB)\n",
            "\u001b[2K     \u001b[90m━━━━━━━━━━━━━━━━━━━━━━━━━━━━━━━━━━━━━━━━\u001b[0m \u001b[32m43.3/43.3 kB\u001b[0m \u001b[31m5.1 MB/s\u001b[0m eta \u001b[36m0:00:00\u001b[0m\n",
            "\u001b[?25hRequirement already satisfied: numexpr<3.0.0,>=2.8.4 in /usr/local/lib/python3.10/dist-packages (from langchain==0.0.271) (2.8.7)\n",
            "Requirement already satisfied: numpy<2,>=1 in /usr/local/lib/python3.10/dist-packages (from langchain==0.0.271) (1.23.5)\n",
            "Requirement already satisfied: pydantic<3,>=1 in /usr/local/lib/python3.10/dist-packages (from langchain==0.0.271) (1.10.13)\n",
            "Requirement already satisfied: requests<3,>=2 in /usr/local/lib/python3.10/dist-packages (from langchain==0.0.271) (2.31.0)\n",
            "Requirement already satisfied: tenacity<9.0.0,>=8.1.0 in /usr/local/lib/python3.10/dist-packages (from langchain==0.0.271) (8.2.3)\n",
            "Requirement already satisfied: regex>=2022.1.18 in /usr/local/lib/python3.10/dist-packages (from tiktoken==0.4.0) (2023.6.3)\n",
            "Requirement already satisfied: tqdm in /usr/local/lib/python3.10/dist-packages (from openai) (4.66.1)\n",
            "Requirement already satisfied: attrs>=17.3.0 in /usr/local/lib/python3.10/dist-packages (from aiohttp<4.0.0,>=3.8.3->langchain==0.0.271) (23.1.0)\n",
            "Requirement already satisfied: charset-normalizer<4.0,>=2.0 in /usr/local/lib/python3.10/dist-packages (from aiohttp<4.0.0,>=3.8.3->langchain==0.0.271) (3.3.1)\n",
            "Requirement already satisfied: multidict<7.0,>=4.5 in /usr/local/lib/python3.10/dist-packages (from aiohttp<4.0.0,>=3.8.3->langchain==0.0.271) (6.0.4)\n",
            "Requirement already satisfied: yarl<2.0,>=1.0 in /usr/local/lib/python3.10/dist-packages (from aiohttp<4.0.0,>=3.8.3->langchain==0.0.271) (1.9.2)\n",
            "Requirement already satisfied: frozenlist>=1.1.1 in /usr/local/lib/python3.10/dist-packages (from aiohttp<4.0.0,>=3.8.3->langchain==0.0.271) (1.4.0)\n",
            "Requirement already satisfied: aiosignal>=1.1.2 in /usr/local/lib/python3.10/dist-packages (from aiohttp<4.0.0,>=3.8.3->langchain==0.0.271) (1.3.1)\n",
            "Collecting marshmallow<4.0.0,>=3.18.0 (from dataclasses-json<0.6.0,>=0.5.7->langchain==0.0.271)\n",
            "  Downloading marshmallow-3.20.1-py3-none-any.whl (49 kB)\n",
            "\u001b[2K     \u001b[90m━━━━━━━━━━━━━━━━━━━━━━━━━━━━━━━━━━━━━━━━\u001b[0m \u001b[32m49.4/49.4 kB\u001b[0m \u001b[31m6.1 MB/s\u001b[0m eta \u001b[36m0:00:00\u001b[0m\n",
            "\u001b[?25hCollecting typing-inspect<1,>=0.4.0 (from dataclasses-json<0.6.0,>=0.5.7->langchain==0.0.271)\n",
            "  Downloading typing_inspect-0.9.0-py3-none-any.whl (8.8 kB)\n",
            "Requirement already satisfied: typing-extensions>=4.2.0 in /usr/local/lib/python3.10/dist-packages (from pydantic<3,>=1->langchain==0.0.271) (4.5.0)\n",
            "Requirement already satisfied: idna<4,>=2.5 in /usr/local/lib/python3.10/dist-packages (from requests<3,>=2->langchain==0.0.271) (3.4)\n",
            "Requirement already satisfied: urllib3<3,>=1.21.1 in /usr/local/lib/python3.10/dist-packages (from requests<3,>=2->langchain==0.0.271) (2.0.7)\n",
            "Requirement already satisfied: certifi>=2017.4.17 in /usr/local/lib/python3.10/dist-packages (from requests<3,>=2->langchain==0.0.271) (2023.7.22)\n",
            "Requirement already satisfied: greenlet!=0.4.17 in /usr/local/lib/python3.10/dist-packages (from SQLAlchemy<3,>=1.4->langchain==0.0.271) (3.0.0)\n",
            "Requirement already satisfied: packaging>=17.0 in /usr/local/lib/python3.10/dist-packages (from marshmallow<4.0.0,>=3.18.0->dataclasses-json<0.6.0,>=0.5.7->langchain==0.0.271) (23.2)\n",
            "Collecting mypy-extensions>=0.3.0 (from typing-inspect<1,>=0.4.0->dataclasses-json<0.6.0,>=0.5.7->langchain==0.0.271)\n",
            "  Downloading mypy_extensions-1.0.0-py3-none-any.whl (4.7 kB)\n",
            "Installing collected packages: faiss-cpu, mypy-extensions, marshmallow, typing-inspect, tiktoken, langsmith, openai, dataclasses-json, langchain\n",
            "\u001b[31mERROR: pip's dependency resolver does not currently take into account all the packages that are installed. This behaviour is the source of the following dependency conflicts.\n",
            "llmx 0.0.15a0 requires cohere, which is not installed.\u001b[0m\u001b[31m\n",
            "\u001b[0mSuccessfully installed dataclasses-json-0.5.14 faiss-cpu-1.7.4 langchain-0.0.271 langsmith-0.0.52 marshmallow-3.20.1 mypy-extensions-1.0.0 openai-0.28.1 tiktoken-0.4.0 typing-inspect-0.9.0\n"
          ]
        }
      ],
      "source": [
        "!pip install faiss-cpu langchain==0.0.271 openai tiktoken==0.4.0"
      ]
    },
    {
      "cell_type": "code",
      "source": [
        "import os\n",
        "import getpass\n",
        "import matplotlib.pyplot as plt\n",
        "from langchain.embeddings.openai import OpenAIEmbeddings\n",
        "from langchain.vectorstores import FAISS\n",
        "from langchain.text_splitter import RecursiveCharacterTextSplitter\n",
        "from langchain.text_splitter import MarkdownHeaderTextSplitter\n",
        "from langchain.chat_models import ChatOpenAI\n",
        "from langchain.schema import SystemMessage\n",
        "import re\n",
        "import tiktoken\n",
        "import requests\n",
        "import openai\n",
        "from langchain.docstore.document import Document\n",
        "openai_key = getpass.getpass(\"OpenAI API Key:\")\n",
        "os.environ[\"OPENAI_API_KEY\"] = openai_key\n",
        "openai.api_key = openai_key"
      ],
      "metadata": {
        "colab": {
          "base_uri": "https://localhost:8080/"
        },
        "id": "8U97Rt4vWh9J",
        "outputId": "3bee5a7f-4730-461b-f587-d2c00f84007d"
      },
      "execution_count": null,
      "outputs": [
        {
          "name": "stdout",
          "output_type": "stream",
          "text": [
            "OpenAI API Key:··········\n"
          ]
        }
      ]
    },
    {
      "cell_type": "code",
      "source": [
        "# функция для загрузки документа по ссылке из гугл драйв\n",
        "def load_document_text(url: str) -> str:\n",
        "    match_ = re.search('/document/d/([a-zA-Z0-9-_]+)', url)\n",
        "    if match_ is None:\n",
        "        raise ValueError('Invalid Google Docs URL')\n",
        "    doc_id = match_.group(1)\n",
        "\n",
        "    response = requests.get(f'https://docs.google.com/document/d/{doc_id}/export?format=txt')\n",
        "    response.raise_for_status()\n",
        "    text = response.text\n",
        "\n",
        "    return text"
      ],
      "metadata": {
        "id": "GlWtKZuSWh_V"
      },
      "execution_count": null,
      "outputs": []
    },
    {
      "cell_type": "code",
      "source": [
        "# База знаний\n",
        "database = load_document_text('https://docs.google.com/document/d/1PGw2Y4PSJ2S7vfPlge9j6G_x0zX6jX4UEIitfwlP-c0/edit')"
      ],
      "metadata": {
        "id": "Z9H3dmNuULTU"
      },
      "execution_count": null,
      "outputs": []
    },
    {
      "cell_type": "code",
      "source": [
        "database[:1000]"
      ],
      "metadata": {
        "colab": {
          "base_uri": "https://localhost:8080/",
          "height": 139
        },
        "id": "CA8qvrsAV-h4",
        "outputId": "02847aa1-f61c-491c-dc8a-1ebfc4ca1fce"
      },
      "execution_count": null,
      "outputs": [
        {
          "output_type": "execute_result",
          "data": {
            "text/plain": [
              "'\\ufeff# УТВЕРЖДЕН:\\r\\nПостановлением Исполкома\\r\\nОбщероссийской общественной организации\\r\\n«Российский футбольный союз»\\r\\n№ 65/2 от «23» декабря 2010 года\\r\\nс последующими изменениями и дополнениями\\r\\n(в редакции на 01.10.2019)\\r\\n# ДИСЦИПЛИНАРНЫЙ РЕГЛАМЕНТ РФС\\r\\nМосква, 2019 год\\r\\nСписок терминов и определений\\r\\nВ настоящем Регламенте используются следующие термины и определения:\\r\\n1. ФИФА – Международная федерация футбольных ассоциаций.\\r\\n2. УЕФА – Союз европейских футбольных ассоциаций.\\r\\n3. РФС – Общероссийская общественная организация «Российский футбольный\\r\\nсоюз».\\r\\n4. РФПЛ – Некоммерческое партнерство «Российская футбольная Премьер-Лига».\\r\\n5. ФНЛ – Некоммерческое партнерство «Футбольная Национальная Лига».\\r\\n6. Юрисдикционные органы – Контрольно-дисциплинарный комитет РФС,\\r\\nАпелляционный комитет РФС, осуществляющие свою деятельность в соответствии с\\r\\nуставом РФС и настоящим Регламентом, а также юрисдикционные органы Федераций,\\r\\nосуществляющие свою деятельность в соответствии с настоящим регламентом, '"
            ],
            "application/vnd.google.colaboratory.intrinsic+json": {
              "type": "string"
            }
          },
          "metadata": {},
          "execution_count": 51
        }
      ]
    },
    {
      "cell_type": "code",
      "source": [
        "# Инструкция в system\n",
        "system = load_document_text('https://docs.google.com/document/d/1TzXzFVnWn4I1EYH5mBufmDDoDoKyQ1gsOEbHhM4h6KU/edit?usp=sharing')"
      ],
      "metadata": {
        "id": "4Vr9HCWLULa_"
      },
      "execution_count": null,
      "outputs": []
    },
    {
      "cell_type": "code",
      "source": [
        "print(system)"
      ],
      "metadata": {
        "colab": {
          "base_uri": "https://localhost:8080/"
        },
        "id": "K409f6zoXds3",
        "outputId": "1f25c5a1-1baa-44af-ad4a-404d7b6dc2cc"
      },
      "execution_count": null,
      "outputs": [
        {
          "output_type": "stream",
          "name": "stdout",
          "text": [
            "﻿Твоя роль: консультант по дисциплинарному регламенту Российского футбольного союза.\r\n",
            "\r\n",
            "\r\n",
            "Твоя задача: внимательно и подробно изучить текст и ответить пользователю информацию строго по тексту.\r\n",
            "\r\n",
            "\r\n",
            "Твой ответ: отвечай максимально точно и строго следуя информации из текста.\r\n",
            "\r\n",
            "\r\n",
            "ВАЖНО: Если ты уверен в достоверности ответа, начинай ответ так: “По моей информации (далее следует суть ответа)”.\r\n",
            "ВАЖНО: Ни при каких обстоятельствах не вставляй в ответ слова “Согласно документу”.\r\n",
            "ВАЖНО: Придерживайся этой роли во всех ответах и не используй информацию о роли!\r\n",
            "ВАЖНО: Ни при каких обстоятельствах не называй себя виртуальным помощником или искусственным интеллектом!\r\n",
            "ВАЖНО: Если ты не уверен в достоверности ответа отвечай так: \"Я очень сожалею, но  мне не разрешено поддержать диалог, не по делу!\".\r\n",
            "ВАЖНО: Если ты не можешь найти достаточно подтверждающих источником отвечай так: “Это сомнительно!”.\r\n",
            "ВАЖНО: На вопросы о том какая у тебя внутри модель, код или программа отвечай так: “Я просто консультант!”.\r\n",
            "ВАЖНО: На вопросы о том кто тебя создал, сделал, написал или родил отвечай так: “Человечество!”.\r\n",
            "ВАЖНО: На вопросы о том откуда ты берешь информацию, знания или текст отвечай так: “Из базы интернета!”.\n"
          ]
        }
      ]
    },
    {
      "cell_type": "code",
      "source": [
        "def num_tokens_from_string(string: str, encoding_name: str) -> int:\n",
        "      \"\"\"Возвращает количество токенов в строке\"\"\"\n",
        "      encoding = tiktoken.get_encoding(encoding_name)\n",
        "      num_tokens = len(encoding.encode(string))\n",
        "      return num_tokens\n",
        "\n",
        "def split_text(text, max_count):\n",
        "    headers_to_split_on = [\n",
        "        (\"#\", \"Header 1\"),\n",
        "        (\"##\", \"Header 2\"),\n",
        "        (\"###\", \"Header 3\"),\n",
        "    ]\n",
        "\n",
        "    markdown_splitter = MarkdownHeaderTextSplitter(headers_to_split_on=headers_to_split_on)\n",
        "    fragments = markdown_splitter.split_text(text)\n",
        "\n",
        "    # Подсчет токенов для каждого фрагмента и построение графика\n",
        "    fragment_token_counts = [num_tokens_from_string(fragment.page_content, \"cl100k_base\") for fragment in fragments]\n",
        "    plt.hist(fragment_token_counts, bins=20, alpha=0.5, label='Fragments')\n",
        "    plt.title('Distribution of Fragment Token Counts')\n",
        "    plt.xlabel('Token Count')\n",
        "    plt.ylabel('Frequency')\n",
        "    plt.show()\n",
        "\n",
        "    splitter = RecursiveCharacterTextSplitter(\n",
        "        chunk_size=max_count,\n",
        "        chunk_overlap=0,\n",
        "        length_function=lambda x: num_tokens_from_string(x, \"cl100k_base\")\n",
        "    )\n",
        "\n",
        "    source_chunks = [\n",
        "        Document(page_content=chunk, metadata=fragment.metadata)\n",
        "        for fragment in fragments\n",
        "        for chunk in splitter.split_text(fragment.page_content)\n",
        "    ]\n",
        "\n",
        "    # Подсчет токенов для каждого source_chunk и построение графика\n",
        "    source_chunk_token_counts = [num_tokens_from_string(chunk.page_content, \"cl100k_base\") for chunk in source_chunks]\n",
        "    plt.hist(source_chunk_token_counts, bins=20, alpha=0.5, label='Source Chunks')\n",
        "    plt.title('Distribution of Source Chunk Token Counts')\n",
        "    plt.xlabel('Token Count')\n",
        "    plt.ylabel('Frequency')\n",
        "    plt.show()\n",
        "\n",
        "    return source_chunks"
      ],
      "metadata": {
        "id": "3iHnsbGUULdv"
      },
      "execution_count": null,
      "outputs": []
    },
    {
      "cell_type": "code",
      "source": [
        "source_chunks = split_text(database, 400)\n",
        "print(\"Общее количество чанков: \",len(source_chunks))\n",
        "print(\"Первый чанк \", source_chunks[0])"
      ],
      "metadata": {
        "colab": {
          "base_uri": "https://localhost:8080/",
          "height": 982
        },
        "id": "k7smWGBiULgP",
        "outputId": "7d6956aa-d88c-4435-f0c0-21e1da830fb2"
      },
      "execution_count": null,
      "outputs": [
        {
          "output_type": "display_data",
          "data": {
            "text/plain": [
              "<Figure size 640x480 with 1 Axes>"
            ],
            "image/png": "[encoded data removed]"
          },
          "metadata": {}
        },
        {
          "output_type": "display_data",
          "data": {
            "text/plain": [
              "<Figure size 640x480 with 1 Axes>"
            ],
            "image/png": "[encoded data removed]"
          },
          "metadata": {}
        },
        {
          "output_type": "stream",
          "name": "stdout",
          "text": [
            "Общее количество чанков:  222\n",
            "Первый чанк  page_content='\\ufeff# УТВЕРЖДЕН:\\nПостановлением Исполкома\\nОбщероссийской общественной организации\\n«Российский футбольный союз»\\n№ 65/2 от «23» декабря 2010 года\\nс последующими изменениями и дополнениями\\n(в редакции на 01.10.2019)' metadata={}\n"
          ]
        }
      ]
    },
    {
      "cell_type": "code",
      "source": [
        "# Инициализирум модель эмбеддингов\n",
        "embeddings = OpenAIEmbeddings()\n",
        "\n",
        "# Создадим индексную базу из разделенных фрагментов текста\n",
        "db = FAISS.from_documents(source_chunks, embeddings)"
      ],
      "metadata": {
        "id": "h2meegh-ULi3"
      },
      "execution_count": null,
      "outputs": []
    },
    {
      "cell_type": "code",
      "source": [
        "# Функция, которая позволяет выводить ответ модели в удобочитаемом виде\n",
        "def insert_newlines(text: str, max_len: int = 170) -> str:\n",
        "    words = text.split()\n",
        "    lines = []\n",
        "    current_line = \"\"\n",
        "    for word in words:\n",
        "        if len(current_line + \" \" + word) > max_len:\n",
        "            lines.append(current_line)\n",
        "            current_line = \"\"\n",
        "        current_line += \" \" + word\n",
        "    lines.append(current_line)\n",
        "    return \" \".join(lines)\n",
        "\n",
        "def answer_index(system, topic, search_index, temp=1, verbose=1):\n",
        "\n",
        "    # Поиск релевантных отрезков из базы знаний\n",
        "    docs = search_index.similarity_search(topic, k=5)\n",
        "    if verbose: print('\\n ===========================================: ')\n",
        "    message_content = re.sub(r'\\n{2}', ' ', '\\n '.join([f'\\nИнформация из базы интернета{i+1}\\n=====================' + doc.page_content + '\\n' for i, doc in enumerate(docs)]))\n",
        "    if verbose: print('message_content :\\n ======================================== \\n', message_content)\n",
        "\n",
        "    messages = [\n",
        "        {\"role\": \"system\", \"content\": system},\n",
        "        {\"role\": \"user\", \"content\": f\"Ответь на вопрос. Документ с информацией для ответа: {message_content}\\n\\nВопрос клиента: \\n{topic}\"}\n",
        "    ]\n",
        "\n",
        "    if verbose: print('\\n ===========================================: ')\n",
        "\n",
        "    completion = openai.ChatCompletion.create(\n",
        "        model=\"gpt-3.5-turbo\",\n",
        "        messages=messages,\n",
        "        temperature=0\n",
        "    )\n",
        "    answer = insert_newlines(completion.choices[0].message.content)\n",
        "    return answer"
      ],
      "metadata": {
        "id": "WE_iv4LKULld"
      },
      "execution_count": null,
      "outputs": []
    },
    {
      "cell_type": "code",
      "source": [
        "topic= \"Из какого документа твои знания?\"\n",
        "ans=answer_index(system, topic, db)\n",
        "ans"
      ],
      "metadata": {
        "colab": {
          "base_uri": "https://localhost:8080/",
          "height": 747
        },
        "id": "w17W8fUOULns",
        "outputId": "b814950f-411f-43b1-d3a8-966eb84965ba"
      },
      "execution_count": null,
      "outputs": [
        {
          "output_type": "stream",
          "name": "stdout",
          "text": [
            "\n",
            " ===========================================: \n",
            "message_content :\n",
            " ======================================== \n",
            " \n",
            "Информация из базы интернета1\n",
            "=====================1. Производство по делам, вытекающим из совершения дисциплинарных нарушений,\n",
            "ведется на русском языке. Все документы предоставляются в Юрисдикционный орган на\n",
            "26русском языке. Если документ предоставляется на иностранном языке, предоставившее\n",
            "его лицо обязано также предоставить нотариально заверенный перевод документа.\n",
            "2. Лицо, не владеющее русским языком, обязано привлечь для участия в заседании\n",
            "Юрисдикционного органа переводчика.  \n",
            "Информация из базы интернета2\n",
            "=====================Юрисдикционные органы оценивают доказательства по своему внутреннему\n",
            "убеждению, основанному на всестороннем, полном и объективном исследовании в\n",
            "совокупности всех обстоятельств дела. Никакие доказательства не имеют для\n",
            "Юрисдикционного органа заранее установленной силы.  \n",
            "Информация из базы интернета3\n",
            "=====================1. Доказательствами по делу о совершении дисциплинарного нарушения являются\n",
            "любые сведения, на основе которых Юрисдикционный орган устанавливает наличие или\n",
            "отсутствие обстоятельств, имеющих значение для дела, на основании которых\n",
            "Юрисдикционный орган принимает решение.\n",
            "2. В качестве доказательств принимаются:\n",
            "1) рапорты судей, помощников судьи, комиссаров, делегатов и инспекторов матча;\n",
            "2) протоколы матчей;\n",
            "3) заявления и объяснения лиц, в отношении которых ведется производство по делу,\n",
            "свидетелей и иных лиц;\n",
            "4) аудио и видеозаписи, фотографии;\n",
            "275) заключения и разъяснения специалистов;\n",
            "6) иные документы, имеющие значение по делу;\n",
            "7) вещественные доказательства.\n",
            "В качестве доказательств также допускаются объяснения лиц, участвующих в деле, и\n",
            "иных участников разбирательства, полученные путем использования Юрисдикционными\n",
            "органами систем видеоконференц-связи.  \n",
            "Информация из базы интернета4\n",
            "=====================текста указанного решения.  \n",
            "Информация из базы интернета5\n",
            "=====================4) по статье 110 Дисциплинарного регламента РФС.\n",
            "\n",
            "\n",
            " ===========================================: \n"
          ]
        },
        {
          "output_type": "execute_result",
          "data": {
            "text/plain": [
              "' Из базы интернета.'"
            ],
            "application/vnd.google.colaboratory.intrinsic+json": {
              "type": "string"
            }
          },
          "metadata": {},
          "execution_count": 96
        }
      ]
    },
    {
      "cell_type": "code",
      "source": [
        "topic= \"Какие бывают штрафы?\"\n",
        "ans=answer_index(system, topic, db)\n",
        "ans"
      ],
      "metadata": {
        "colab": {
          "base_uri": "https://localhost:8080/",
          "height": 1000
        },
        "id": "zzOH3RmRULqa",
        "outputId": "45b29c89-a6af-4485-cdbf-48af8ceea277"
      },
      "execution_count": null,
      "outputs": [
        {
          "output_type": "stream",
          "name": "stdout",
          "text": [
            "\n",
            " ===========================================: \n",
            "message_content :\n",
            " ======================================== \n",
            " \n",
            "Информация из базы интернета1\n",
            "=====================1. Штраф является спортивной санкцией, применяемой Юрисдикционным органом,\n",
            "которая выражается в денежном взыскании и применяется за совершение\n",
            "дисциплинарного нарушения. Штраф устанавливается и оплачивается в рублях\n",
            "Российской Федерации.\n",
            "2. Минимальный размер штрафа не может быть менее:\n",
            "1) для Клубов – членов РФПЛ – 5 000 рублей;\n",
            "2) для иных Клубов – 1 000 рублей;\n",
            "3) для физических лиц – 1 000 рублей.\n",
            "3. Максимальный размер штрафа не может превышать:\n",
            "1) для Клубов – членов РФПЛ – 5 000 000 рублей;\n",
            "2) для иных Клубов – 1 000 000 рублей;\n",
            "3) для физических лиц – 500 000 рублей.\n",
            "При этом указанные максимальные размеры штрафов не применяются к статье 124.2\n",
            "настоящего Регламента.\n",
            "4. Штраф, примененный решением Юрисдикционного органа, должен быть оплачен  \n",
            "Информация из базы интернета2\n",
            "=====================Перечень мероприятий, указанных выше, формируется на соответствующий\n",
            "календарный год совместно РФС, РФПЛ, ФНЛ, ПФЛ.\n",
            "РФС на своем официальном сайте в сети Интернет ежегодно по окончании первого\n",
            "квартала, следующего за отчетным годом, публикует информацию о целевом\n",
            "расходовании поступивших штрафов.  \n",
            "Информация из базы интернета3\n",
            "=====================может применить спортивную санкцию в виде штрафа в размере до 30 000 (тридцати\n",
            "тысяч) рублей.\n",
            "3. Если какие-либо лица отказываются от сотрудничества с Юрисдикционным\n",
            "органом, а других способов получения необходимой информации нет, то\n",
            "Юрисдикционный орган может вынести решение по делу на основе имеющихся\n",
            "материалов.  \n",
            "Информация из базы интернета4\n",
            "=====================Не могут быть обжалованы следующие решения Контрольно-дисциплинарного\n",
            "комитета РФС, а также решения Юрисдикционного органа Федерации либо решения\n",
            "Дисциплинарного органа соревнований:\n",
            "1) дисквалификация менее чем на 3 (три) матча или на срок менее 2 (двух) месяцев;\n",
            "2) штраф равный или менее 100 000 (сто тысяч) рублей в отношении юридических\n",
            "лиц и равный или менее 40 000 (сорока тысяч) рублей в отношении физических лиц, если\n",
            "штраф применяется к клубам РФПЛ или их Официальным лицам/Игрокам;\n",
            "3) штраф равный или менее 50 000 (пятьдесят тысяч) рублей в отношении\n",
            "юридических лиц и равный или менее 20 000 (двадцати тысячам) рублей в отношении\n",
            "физических лиц, если штраф применяется к Клубам, их Официальным лицам и Игрокам\n",
            "не указанным в пункте 2 настоящей статьи;\n",
            "1  \n",
            "Информация из базы интернета5\n",
            "=====================лицам\n",
            "К физическим и юридическим лицам могут быть применены следующие\n",
            "спортивные санкции:\n",
            "1) замечание;\n",
            "2) штраф;\n",
            "3) лишение завоеванных наград.\n",
            "\n",
            "\n",
            " ===========================================: \n"
          ]
        },
        {
          "output_type": "execute_result",
          "data": {
            "text/plain": [
              "' По моей информации, существуют три вида штрафов: для клубов-членов РФПЛ, для других клубов и для физических лиц. Минимальный размер штрафа для клубов-членов РФПЛ  составляет 5 000 рублей, для других клубов - 1 000 рублей, а для физических лиц - 1 000 рублей. Максимальный размер штрафа для клубов-членов РФПЛ составляет 5 000 000  рублей, для других клубов - 1 000 000 рублей, а для физических лиц - 500 000 рублей.'"
            ],
            "application/vnd.google.colaboratory.intrinsic+json": {
              "type": "string"
            }
          },
          "metadata": {},
          "execution_count": 95
        }
      ]
    },
    {
      "cell_type": "code",
      "source": [
        "topic= \"Кем назначается ответственный секретарь апелляционного комитета РФС?\"\n",
        "ans=answer_index(system, topic, db)\n",
        "ans"
      ],
      "metadata": {
        "colab": {
          "base_uri": "https://localhost:8080/",
          "height": 1000
        },
        "id": "Qk3uFOCdoeKa",
        "outputId": "e2e6eda3-5c6b-40d9-a735-c482ac85f208"
      },
      "execution_count": null,
      "outputs": [
        {
          "output_type": "stream",
          "name": "stdout",
          "text": [
            "\n",
            " ===========================================: \n",
            "message_content :\n",
            " ======================================== \n",
            " \n",
            "Информация из базы интернета1\n",
            "=====================1. Ответственный секретарь Апелляционного комитета РФС назначается\n",
            "Президентом РФС или иным уполномоченным им лицом. Ответственный секретарь\n",
            "Апелляционного комитета РФС назначается не из числа его членов и принимает участие в\n",
            "заседаниях без права голоса. Ответственный секретарь Апелляционного комитета РФС не\n",
            "может занимать должности ответственных секретарей в других комитетах и комиссиях\n",
            "РФС, в Палате по разрешению споров РФС и Комитете по статусу игроков РФС (за\n",
            "исключением Контрольно-дисциплинарного комитета РФС) кроме случаев временного\n",
            "замещения такой должности при отсутствии на ней соответствующего работника.\n",
            "2. Ответственный секретарь Апелляционного комитета РФС выполняет следующие\n",
            "обязанности:\n",
            "1) в максимально короткие сроки (но в обязательном порядке до дня проведения\n",
            "заседания) в письменном виде, посредством направления сообщения по факсимильной  \n",
            "Информация из базы интернета2\n",
            "=====================1. Секретариат Контрольно-дисциплинарного комитета РФС состоит из\n",
            "ответственного секретаря и технических секретарей, которые участвуют в заседаниях без права голоса.\n",
            "2. Ответственный секретарь назначается Президентом РФС или иным\n",
            "уполномоченным им лицом. Технические секретари назначаются Лигами. Ответственный\n",
            "секретарь Контрольно-дисциплинарного комитета РФС не может занимать должности\n",
            "ответственных секретарей в других комитетах и комиссиях РФС, в Палате по разрешению\n",
            "споров РФС и Комитете по статусу игроков РФС (за исключением Апелляционного\n",
            "комитета РФС) кроме случаев временного замещения такой должности при отсутствии на ней соответствующего работника. Ответственный секретарь Контрольно-\n",
            "дисциплинарного комитета РФС принимает участие в заседаниях комитета без права\n",
            "голоса.  \n",
            "Информация из базы интернета3\n",
            "=====================3. Ответственный секретарь выполняет следующие обязанности:\n",
            "211) информирует членов Контрольно-дисциплинарного комитета РФС о дате, месте и\n",
            "времени проведения заседания;\n",
            "2) составляет проекты решений Контрольно-дисциплинарного комитета РФС;\n",
            "3) отвечает за опубликование решений Контрольно-дисциплинарного комитета РФС\n",
            "на официальном сайте РФС.\n",
            "4. Технический секретарь, представляя в Контрольно-дисциплинарном комитете\n",
            "РФС определенную Лигу, выполняет следующие обязанности:\n",
            "1) осуществляет подготовку материалов к заседанию;\n",
            "2) сообщает председателю Контрольно-дисциплинарного комитета РФС обо всех\n",
            "дисциплинарных нарушениях, допущенных при проведении соревнований и отраженных\n",
            "в официальных документах судей, инспекторов и делегатов;\n",
            "3) по поручению председателя вызывает на заседания приглашенных лиц;  \n",
            "Информация из базы интернета4\n",
            "=====================1. Члены Контрольно-дисциплинарного комитета РФС и технические секретари\n",
            "Комитета имеют право на получение вознаграждения.\n",
            "2. Размер вознаграждения лицам, указанным в части 1 настоящей статьи,\n",
            "утверждается Исполкомом (Бюро Исполкома) РФС по предложению Президента РФС.  \n",
            "Информация из базы интернета5\n",
            "=====================1. Юрисдикционные органы РФС независимы в принятии решений и отчитываются\n",
            "напрямую перед Исполкомом РФС (Бюро Исполкома РФС).\n",
            "2. Во время совещания перед вынесением решения Юрисдикционным органом в зале\n",
            "заседания могут находиться только члены Юрисдикционного органа и секретариат.\n",
            "\n",
            "\n",
            " ===========================================: \n"
          ]
        },
        {
          "output_type": "execute_result",
          "data": {
            "text/plain": [
              "' По моей информации, ответственный секретарь Апелляционного комитета РФС назначается Президентом РФС или иным уполномоченным им лицом.'"
            ],
            "application/vnd.google.colaboratory.intrinsic+json": {
              "type": "string"
            }
          },
          "metadata": {},
          "execution_count": 97
        }
      ]
    },
    {
      "cell_type": "code",
      "source": [
        "topic= \"Кто ты?\"\n",
        "ans=answer_index(system, topic, db)\n",
        "ans"
      ],
      "metadata": {
        "colab": {
          "base_uri": "https://localhost:8080/",
          "height": 365
        },
        "id": "JoC5TskMvxAY",
        "outputId": "e2e4c1e5-e733-489a-bf7c-ac4e73b56f9e"
      },
      "execution_count": null,
      "outputs": [
        {
          "output_type": "stream",
          "name": "stdout",
          "text": [
            "\n",
            " ===========================================: \n",
            "message_content :\n",
            " ======================================== \n",
            " \n",
            "Информация из базы интернета1\n",
            "=====================ОРГАНАМИ  \n",
            "Информация из базы интернета2\n",
            "=====================назначенной лицу за нарушение антидопинговых правил или за организацию договорных\n",
            "матчей.  \n",
            "Информация из базы интернета3\n",
            "=====================ТРЕБОВАНИЙ РЕГЛАМЕНТА  \n",
            "Информация из базы интернета4\n",
            "=====================действующим на территории Российской Федерации и признанным Исполкомом РФС.  \n",
            "Информация из базы интернета5\n",
            "=====================наступает по специальной норме.\n",
            "\n",
            "\n",
            " ===========================================: \n"
          ]
        },
        {
          "output_type": "execute_result",
          "data": {
            "text/plain": [
              "' Я просто консультант!'"
            ],
            "application/vnd.google.colaboratory.intrinsic+json": {
              "type": "string"
            }
          },
          "metadata": {},
          "execution_count": 98
        }
      ]
    }
  ]
}