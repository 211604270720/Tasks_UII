{
  "nbformat": 4,
  "nbformat_minor": 0,
  "metadata": {
    "colab": {
      "provenance": []
    },
    "kernelspec": {
      "display_name": "Python 3",
      "name": "python3"
    },
    "language_info": {
      "name": "python"
    }
  },
  "cells": [
    {
      "cell_type": "markdown",
      "metadata": {
        "id": "39zJTivLrXFV"
      },
      "source": [
        "### Задача 1"
      ]
    },
    {
      "cell_type": "markdown",
      "metadata": {
        "id": "8YhhSW05rc1o"
      },
      "source": [
        "Напишите программу, которая просит пользователя ввести произвольную цифру от 1 до 9, а затем выводит таблицу умножения для введенного числа.\n",
        "\n",
        "Добавьте проверку введенной пользователем информации:\n",
        "* данные должны быть целочисленного типа\n",
        "* число должно находиться в диапазоне от 1 до 9"
      ]
    },
    {
      "cell_type": "code",
      "metadata": {
        "id": "ye9ErHpKBhhU",
        "colab": {
          "base_uri": "https://localhost:8080/"
        },
        "outputId": "ae81e5b6-0ec4-4f52-b071-b2ada53a9574"
      },
      "source": [
        "# Ваше решение\n",
        "# Программа для вывода таблицы умножения для введенного числа от 1 до 9\n",
        "\n",
        "def cal_num():\n",
        "    while True:\n",
        "        try:\n",
        "            # Запрос на ввод числа от пользователя\n",
        "            user_input = input(\"Введите цифру от 1 до 9: \")\n",
        "\n",
        "            # Преобразование введенной строки в целое число\n",
        "            number = int(user_input)\n",
        "\n",
        "            # Проверка, что число находится в диапазоне от 1 до 9\n",
        "            if 1 <= number <= 9:\n",
        "                break  # Выход из цикла, если все условия выполнены\n",
        "            else:\n",
        "                print(\"Число должно быть в диапазоне от 1 до 9.\")\n",
        "        except ValueError:  # Обработка исключения, если введено не целое число\n",
        "            print(\"Пожалуйста, введите целое число.\")\n",
        "\n",
        "    print(f\"Таблица умножения для числа {number}:\")\n",
        "    for i in range(1, 11):\n",
        "        print(f\"{number} x {i} = {number * i}\")\n",
        "\n",
        "cal_num()"
      ],
      "execution_count": null,
      "outputs": [
        {
          "output_type": "stream",
          "name": "stdout",
          "text": [
            "Введите цифру от 1 до 9: 5\n",
            "Таблица умножения для числа 5:\n",
            "5 x 1 = 5\n",
            "5 x 2 = 10\n",
            "5 x 3 = 15\n",
            "5 x 4 = 20\n",
            "5 x 5 = 25\n",
            "5 x 6 = 30\n",
            "5 x 7 = 35\n",
            "5 x 8 = 40\n",
            "5 x 9 = 45\n",
            "5 x 10 = 50\n"
          ]
        }
      ]
    },
    {
      "cell_type": "markdown",
      "metadata": {
        "id": "dT9n_KJtpS-N"
      },
      "source": [
        "### Задача 2"
      ]
    },
    {
      "cell_type": "markdown",
      "metadata": {
        "id": "OTSU9QTLhdqe"
      },
      "source": [
        "Напишите программу, которая ищет все числа в интервале от 300 до 430 включительно, делящиеся на 11, но не делящиеся на 5. Выведите на экран все найденные числа."
      ]
    },
    {
      "cell_type": "code",
      "metadata": {
        "id": "lFWrMa8Uh9dc",
        "colab": {
          "base_uri": "https://localhost:8080/"
        },
        "outputId": "842520d3-04b6-4fb3-88da-c71dff6c5000"
      },
      "source": [
        "# Ваше решение\n",
        "\n",
        "# Поиск чисел в интервале от 300 до 430, которые делятся на 11, но не делятся на 5\n",
        "number = [num for num in range(300, 431) if num % 11 == 0 and num % 5 != 0]\n",
        "number"
      ],
      "execution_count": null,
      "outputs": [
        {
          "output_type": "execute_result",
          "data": {
            "text/plain": [
              "[308, 319, 341, 352, 363, 374, 396, 407, 418, 429]"
            ]
          },
          "metadata": {},
          "execution_count": 16
        }
      ]
    },
    {
      "cell_type": "markdown",
      "metadata": {
        "id": "BDz6HXvPxsYs"
      },
      "source": [
        "### Задача 3"
      ]
    },
    {
      "cell_type": "markdown",
      "metadata": {
        "id": "_b21x2ryxziN"
      },
      "source": [
        "Напишите функцию, которая принимает один параметр (год) и определяет, является ли этот год високосным.\n",
        "\n",
        "Напомним, что ***високосными*** годами считаются те, порядковый номер которых либо кратен **4**, но при этом не кратен **100**, либо кратен **400** (например, 2000-й год являлся високосным, а 2100-й будет не високосным годом).\n",
        "\n",
        "Программа должна корректно работать на числах **1900 ≤ n ≤ 3000**.\n",
        "\n",
        "Функция должна вывести на экран \"Високосный\" в случае, если год является високосным и \"Обычный\" в противном случае."
      ]
    },
    {
      "cell_type": "code",
      "source": [
        "# Ваше решение\n",
        "\n",
        "# Функция для определения високосного года\n",
        "\n",
        "def vis_year(year):\n",
        "    if 1900 <= year <= 3000:\n",
        "        # Проверка кратности 4, но не 100, или кратности 400\n",
        "        if (year % 4 == 0 and year % 100 != 0) or (year % 400 == 0):\n",
        "            return f\"{year} - Високосный год\"\n",
        "        else:\n",
        "            return f\"{year} - Обычный год\"\n",
        "    else:\n",
        "        return f\"{year} - Год должен находиться в диапазоне 1900 ≤ n ≤ 3000\"\n",
        "\n",
        "print(vis_year(2000))\n",
        "print(vis_year(2100))\n",
        "print(vis_year(2024))\n",
        "print(vis_year(2025))\n",
        "print(vis_year(1899))\n",
        "print(vis_year(3034))\n",
        "print(vis_year(2300))\n",
        "print(vis_year(2456))\n",
        "print(vis_year(1900))"
      ],
      "metadata": {
        "colab": {
          "base_uri": "https://localhost:8080/"
        },
        "id": "OH7OGv-iEe8Z",
        "outputId": "4efd8757-43d0-4c79-a93f-68ea2d6a596a"
      },
      "execution_count": null,
      "outputs": [
        {
          "output_type": "stream",
          "name": "stdout",
          "text": [
            "2000 - Високосный год\n",
            "2100 - Обычный год\n",
            "2024 - Високосный год\n",
            "2025 - Обычный год\n",
            "1899 - Год должен находиться в диапазоне 1900 ≤ n ≤ 3000\n",
            "3034 - Год должен находиться в диапазоне 1900 ≤ n ≤ 3000\n",
            "2300 - Обычный год\n",
            "2456 - Високосный год\n",
            "1900 - Обычный год\n"
          ]
        }
      ]
    },
    {
      "cell_type": "markdown",
      "metadata": {
        "id": "9sr2U6oz1Iqu"
      },
      "source": [
        "### Задача 4"
      ]
    },
    {
      "cell_type": "markdown",
      "metadata": {
        "id": "fHMBDh-ahdrz"
      },
      "source": [
        "Создайте словарь (dict) c ключами, соответствующими числам от 1 до 10 включительно и значениями, соответствующими квадратам ключей."
      ]
    },
    {
      "cell_type": "code",
      "metadata": {
        "id": "qpzOKGoXgzwQ",
        "colab": {
          "base_uri": "https://localhost:8080/"
        },
        "outputId": "2fc0a0e8-64f7-444e-d3ca-9485ee14dbd7"
      },
      "source": [
        "# Ваше решение\n",
        "\n",
        "# Создаем словарь с ключами от 1 до 10 и значениями, равными квадратам ключей\n",
        "\n",
        "dict_1 = {x: x ** 2 for x in range(1, 11)}\n",
        "\n",
        "dict_1"
      ],
      "execution_count": null,
      "outputs": [
        {
          "output_type": "execute_result",
          "data": {
            "text/plain": [
              "{1: 1, 2: 4, 3: 9, 4: 16, 5: 25, 6: 36, 7: 49, 8: 64, 9: 81, 10: 100}"
            ]
          },
          "metadata": {},
          "execution_count": 14
        }
      ]
    },
    {
      "cell_type": "markdown",
      "metadata": {
        "id": "1GnNaeQ4zwt1"
      },
      "source": [
        "### Задача 5"
      ]
    },
    {
      "cell_type": "markdown",
      "metadata": {
        "id": "Rz5_LNzlr7GR"
      },
      "source": [
        "Напишите функцию простейшего калькулятора. Пользователь вводит число **a**, число **b** и вид арифметической операции над ними. Функция возвращает результат вычисления."
      ]
    },
    {
      "cell_type": "code",
      "metadata": {
        "id": "DD8u-nSnl41M",
        "colab": {
          "base_uri": "https://localhost:8080/"
        },
        "outputId": "ce82a42f-28fc-4a59-a124-04f9cd300585"
      },
      "source": [
        "# Ваше решение\n",
        "\n",
        "# Простой калькулятор\n",
        "\n",
        "def cal(a, b, oper):\n",
        "    if oper == '+':\n",
        "        return a + b\n",
        "    elif oper == '-':\n",
        "        return a - b\n",
        "    elif oper == '*':\n",
        "        return a * b\n",
        "    elif oper == '/':\n",
        "        if b == 0:\n",
        "            return \"Деление на ноль невозможно\"\n",
        "        else:\n",
        "            return a / b\n",
        "    else:\n",
        "        return \"Неизвестная операция\"\n",
        "\n",
        "print(cal(5, 2, '+'))\n",
        "print(cal(6, 3, '-'))\n",
        "print(cal(5, 7, '*'))\n",
        "print(cal(3, 5, '/'))\n",
        "print(cal(7, 0, '/'))\n",
        "print(cal(3, 5, '^'))"
      ],
      "execution_count": null,
      "outputs": [
        {
          "output_type": "stream",
          "name": "stdout",
          "text": [
            "7\n",
            "3\n",
            "35\n",
            "0.6\n",
            "Деление на ноль невозможно\n",
            "Неизвестная операция\n"
          ]
        }
      ]
    }
  ]
}